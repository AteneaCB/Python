{
  "nbformat": 4,
  "nbformat_minor": 0,
  "metadata": {
    "colab": {
      "name": "Sesión2.ipynb",
      "provenance": [],
      "authorship_tag": "ABX9TyNmoZcN3mGVmrDH9Nw8SSYy",
      "include_colab_link": true
    },
    "kernelspec": {
      "name": "python3",
      "display_name": "Python 3"
    }
  },
  "cells": [
    {
      "cell_type": "markdown",
      "metadata": {
        "id": "view-in-github",
        "colab_type": "text"
      },
      "source": [
        "<a href=\"https://colab.research.google.com/github/AteneaCB/Python/blob/main/Sesi%C3%B3n2.ipynb\" target=\"_parent\"><img src=\"https://colab.research.google.com/assets/colab-badge.svg\" alt=\"Open In Colab\"/></a>"
      ]
    },
    {
      "cell_type": "markdown",
      "metadata": {
        "id": "6v3ZD3bPzU1S"
      },
      "source": [
        "**Sesión 2**\r\n",
        "\r\n",
        "Estructuras de datos y funciones"
      ]
    },
    {
      "cell_type": "markdown",
      "metadata": {
        "id": "-hhuL35OGHVp"
      },
      "source": [
        "**Ejemplo 1**\r\n",
        "Listas"
      ]
    },
    {
      "cell_type": "code",
      "metadata": {
        "colab": {
          "base_uri": "https://localhost:8080/"
        },
        "id": "o-UWaukV0pJ3",
        "outputId": "5428be86-d7e5-4845-d2ed-30ca00995435"
      },
      "source": [
        "#Organizar la información en estructuras\r\n",
        "#Lista: Dentro de corchetes [ ]\r\n",
        "lista = [1, 4, 6, 6, 3]\r\n",
        "#Índices, posición de la variable, inicia a contar desde 0\r\n",
        "print(lista[0])"
      ],
      "execution_count": 2,
      "outputs": [
        {
          "output_type": "stream",
          "text": [
            "1\n"
          ],
          "name": "stdout"
        }
      ]
    },
    {
      "cell_type": "code",
      "metadata": {
        "colab": {
          "base_uri": "https://localhost:8080/"
        },
        "id": "Wlc7PzNb1hU2",
        "outputId": "abe15ba7-f663-43a8-f31e-357ded904337"
      },
      "source": [
        "#Tamaño de una lista\r\n",
        "len(lista)\r\n",
        "#print(lista[4])"
      ],
      "execution_count": 6,
      "outputs": [
        {
          "output_type": "execute_result",
          "data": {
            "text/plain": [
              "5"
            ]
          },
          "metadata": {
            "tags": []
          },
          "execution_count": 6
        }
      ]
    },
    {
      "cell_type": "code",
      "metadata": {
        "colab": {
          "base_uri": "https://localhost:8080/"
        },
        "id": "uFfdIngo1rh3",
        "outputId": "e499e379-b1d9-4b08-fbbf-f2be46fbbd1c"
      },
      "source": [
        "#Con números negativos se accede a los números de derecha a izquierda (-1 último, -2 penúltimo)\r\n",
        "lista[-1]\r\n",
        "lista[-2]"
      ],
      "execution_count": 8,
      "outputs": [
        {
          "output_type": "execute_result",
          "data": {
            "text/plain": [
              "6"
            ]
          },
          "metadata": {
            "tags": []
          },
          "execution_count": 8
        }
      ]
    },
    {
      "cell_type": "code",
      "metadata": {
        "colab": {
          "base_uri": "https://localhost:8080/"
        },
        "id": "VLCRn2T_2A3S",
        "outputId": "67962f1c-6177-48fa-a84d-0d7f67e19dcb"
      },
      "source": [
        "#Las listas aceptan todo tipo de datos\r\n",
        "var_1 = 5\r\n",
        "var_2 = 2\r\n",
        "var_3 = 5.6\r\n",
        "var_4 = \"Atenea\"\r\n",
        "\r\n",
        "lista_2 = [var_1, var_2, var_3, var_4]\r\n",
        "print(lista_2)"
      ],
      "execution_count": 11,
      "outputs": [
        {
          "output_type": "stream",
          "text": [
            "[5, 2, 5.6, 'Atenea']\n"
          ],
          "name": "stdout"
        }
      ]
    },
    {
      "cell_type": "code",
      "metadata": {
        "colab": {
          "base_uri": "https://localhost:8080/"
        },
        "id": "QSVC1Tid2Nhx",
        "outputId": "8478f4d3-5163-4450-b0ac-ab75b470b477"
      },
      "source": [
        "lista_con_listas = [[1,2,3], [4,5,6], [7,8,9]]\r\n",
        "#Lista dentro de lista, lista -2(penúltima) elemento -1(último)\r\n",
        "print(lista_con_listas[-2][-1])"
      ],
      "execution_count": 13,
      "outputs": [
        {
          "output_type": "stream",
          "text": [
            "6\n"
          ],
          "name": "stdout"
        }
      ]
    },
    {
      "cell_type": "markdown",
      "metadata": {
        "id": "cJJnR81B3nIH"
      },
      "source": [
        "**Reto 2**\r\n",
        "Creando listas y accediendo a ellas"
      ]
    },
    {
      "cell_type": "code",
      "metadata": {
        "id": "n-CHcfG929Sr"
      },
      "source": [
        "#a) Definir lista\r\n",
        "mi_informacion = [\"Atenea De La Cruz Brito\", \"Atenea\", \"mediterránea\", \"fast food\", \"investigadora\"]"
      ],
      "execution_count": 15,
      "outputs": []
    },
    {
      "cell_type": "code",
      "metadata": {
        "colab": {
          "base_uri": "https://localhost:8080/"
        },
        "id": "KsCxc3Ge5h1v",
        "outputId": "4068b128-e3bc-422e-828d-012c80761a64"
      },
      "source": [
        "#Print fstring\r\n",
        "print(f'''\r\n",
        "¡Hola! Mi nombre es {mi_informacion[0]}. Todos me dicen {mi_informacion[1]}.\r\n",
        "Mi comida favorita es {mi_informacion[2]}. Y la comida que más detesto es {mi_informacion[3]}.\r\n",
        "Mi trabajo ideal sería {mi_informacion[4]}.\r\n",
        "¡Gracias, chau!\r\n",
        "''')"
      ],
      "execution_count": 16,
      "outputs": [
        {
          "output_type": "stream",
          "text": [
            "\n",
            "¡Hola! Mi nombre es Atenea De La Cruz Brito. Todos me dicen Atenea.\n",
            "Mi comida favorita es mediterránea. Y la comida que más detesto es fast food.\n",
            "Mi trabajo ideal sería investigadora.\n",
            "¡Gracias, chau!\n",
            "\n"
          ],
          "name": "stdout"
        }
      ]
    },
    {
      "cell_type": "code",
      "metadata": {
        "id": "uDlN6LFa5ig1"
      },
      "source": [
        "#b) Lista con variables\r\n",
        "info_0 = \"gatos\"\r\n",
        "info_1 = \"comunicarse\"\r\n",
        "info_2 = \"escucharán\"\r\n",
        "info_3 = \"reflexionar\"\r\n",
        "info_4 = \"alimento a mi gato\"\r\n",
        "\r\n",
        "info_faltante=[info_0, info_1, info_2, info_3, info_4]"
      ],
      "execution_count": 25,
      "outputs": []
    },
    {
      "cell_type": "code",
      "metadata": {
        "colab": {
          "base_uri": "https://localhost:8080/"
        },
        "id": "6F8570_S6mpi",
        "outputId": "5327d41c-e42b-4195-e568-ffd19dc78c6d"
      },
      "source": [
        "#Imprimir poniendo 3 comillas simples o dobles sin tener que poner comilas cada vez.\r\n",
        "print(f'''\r\n",
        "Algún día los {info_faltante[0]} lograrán su objetivo. Su objetivo de {info_faltante[1]}.\r\n",
        "Ese día, los humanos {info_faltante[2]} y tendrán que {info_faltante[3]}.\r\n",
        "Por esa razón yo todos los días {info_faltante[4]}.\r\n",
        "''')"
      ],
      "execution_count": 26,
      "outputs": [
        {
          "output_type": "stream",
          "text": [
            "\n",
            "Algún día los gatos lograrán su objetivo. Su objetivo de comunicarse.\n",
            "Ese día, los humanos escucharán y tendrán que reflexionar.\n",
            "Por esa razón yo todos los días alimento a mi gato.\n",
            "\n"
          ],
          "name": "stdout"
        }
      ]
    },
    {
      "cell_type": "code",
      "metadata": {
        "id": "5v62CQZT632r"
      },
      "source": [
        "#c) Práctica el operador de indexación\r\n",
        "respuestas = [0.58, 9, 2, 3, 37, 5, 75, 4]"
      ],
      "execution_count": 24,
      "outputs": []
    },
    {
      "cell_type": "code",
      "metadata": {
        "colab": {
          "base_uri": "https://localhost:8080/"
        },
        "id": "utoRXDbc7iYC",
        "outputId": "a92fadac-2e77-4831-d36a-61fb4948eb8b"
      },
      "source": [
        "# Print\r\n",
        "dientes= respuestas[4]-respuestas[5]\r\n",
        "print(f'''\r\n",
        "1. Los humanos tenemos {respuestas[2]} ojos en la cara.\r\n",
        "2. Un humano adulto tiene {dientes} dientes dentro de su boca.\r\n",
        "3. Un feto tarda {respuestas[1]} meses en gestarse antes de nacer.\r\n",
        "4. La expectativa de vida en México es de alrededor de {respuestas[-2]} años.\r\n",
        "5. Las horas de sueño al día recomendadas para adultos jóvenes son entre {respuestas[5]} y {respuestas[1]}.\r\n",
        "6. El récord actual de velocidad en 100 metros (09/05/2020) fue establecido por Usain Bolt y es de {respuestas[0]}\r\n",
        "''')"
      ],
      "execution_count": 70,
      "outputs": [
        {
          "output_type": "stream",
          "text": [
            "\n",
            "1. Los humanos tenemos 2 ojos en la cara.\n",
            "2. Un humano adulto tiene 32 dientes dentro de su boca.\n",
            "3. Un feto tarda 9 meses en gestarse antes de nacer.\n",
            "4. La expectativa de vida en México es de alrededor de 75 años.\n",
            "5. Las horas de sueño al día recomendadas para adultos jóvenes son entre 5 y 9.\n",
            "6. El récord actual de velocidad en 100 metros (09/05/2020) fue establecido por Usain Bolt y es de 0.58\n",
            "\n"
          ],
          "name": "stdout"
        }
      ]
    },
    {
      "cell_type": "markdown",
      "metadata": {
        "id": "zV5Zbmva9oeJ"
      },
      "source": [
        "**Ejemplo 2**\r\n",
        "Modificando listas\r\n",
        "\r\n",
        "Nota: Las tuplas no se pueden editar y son un poco más rápidas que las listas."
      ]
    },
    {
      "cell_type": "code",
      "metadata": {
        "colab": {
          "base_uri": "https://localhost:8080/"
        },
        "id": "zqqdiAPW95ez",
        "outputId": "94926695-4018-43ae-b059-059a5089ff9d"
      },
      "source": [
        "listas= [0,1,2,3]\r\n",
        "tuplas= (1,2,3,4)\r\n",
        "\r\n",
        "print(listas[0])\r\n",
        "print(tuplas[0])"
      ],
      "execution_count": 35,
      "outputs": [
        {
          "output_type": "stream",
          "text": [
            "0\n",
            "1\n"
          ],
          "name": "stdout"
        }
      ]
    },
    {
      "cell_type": "code",
      "metadata": {
        "colab": {
          "base_uri": "https://localhost:8080/"
        },
        "id": "WBtheYtH-Hsa",
        "outputId": "d126ccdb-ae23-4eaf-aabf-98fd0692ca3e"
      },
      "source": [
        "#Función append para agregar al final un elemento.\r\n",
        "listas.append(4)\r\n",
        "print(listas)\r\n",
        "#Función pop para eliminar el último elemento.\r\n",
        "listas.pop()\r\n",
        "print(listas)\r\n",
        "#En tuplas no se pueden utilizar estas funciones"
      ],
      "execution_count": 38,
      "outputs": [
        {
          "output_type": "stream",
          "text": [
            "[0, 1, 2, 3, 4, 4]\n",
            "[0, 1, 2, 3, 4]\n"
          ],
          "name": "stdout"
        }
      ]
    },
    {
      "cell_type": "code",
      "metadata": {
        "colab": {
          "base_uri": "https://localhost:8080/"
        },
        "id": "4Pa-yhe2-euB",
        "outputId": "65f44c0e-be77-4b31-bbf6-1a13cd29f597"
      },
      "source": [
        "#Insert posición de índice y valor\r\n",
        "listas.insert(0,9)\r\n",
        "listas.pop(0)\r\n",
        "print(listas)"
      ],
      "execution_count": 40,
      "outputs": [
        {
          "output_type": "stream",
          "text": [
            "[9, 0, 1, 2, 3, 4]\n"
          ],
          "name": "stdout"
        }
      ]
    },
    {
      "cell_type": "code",
      "metadata": {
        "colab": {
          "base_uri": "https://localhost:8080/"
        },
        "id": "UHJjzYpg-67y",
        "outputId": "028cfc6d-faaa-4da9-b29a-db08353b20b2"
      },
      "source": [
        "#Actualizar un valor\r\n",
        "listas[0] = 7\r\n",
        "print(listas)"
      ],
      "execution_count": 41,
      "outputs": [
        {
          "output_type": "stream",
          "text": [
            "[7, 0, 1, 2, 3, 4]\n"
          ],
          "name": "stdout"
        }
      ]
    },
    {
      "cell_type": "markdown",
      "metadata": {
        "id": "t-rdLrvl_uF5"
      },
      "source": [
        "**Reto 2** Modificando listas\r\n"
      ]
    },
    {
      "cell_type": "code",
      "metadata": {
        "colab": {
          "base_uri": "https://localhost:8080/"
        },
        "id": "KbGHlBYz_KrM",
        "outputId": "07638876-d101-4ca0-dc9f-78e7619df365"
      },
      "source": [
        "#a)Modificar para eliminar diferencias\r\n",
        "lista_1 = [3.4, 0.7, 99.9, 5.41, 6.23, 7.9]\r\n",
        "\r\n",
        "lista_2 = [3.4, 63.4, 0.7, 6.46, 99.9, 2.2, 5.41]\r\n",
        "\r\n",
        "# Tu código va aquí\r\n",
        "lista_2.remove(63.4)\r\n",
        "lista_2.remove(6.46)\r\n",
        "lista_2.remove(2.2)\r\n",
        "lista_2.insert(4, 6.23)\r\n",
        "lista_2.insert(5, 7.9)\r\n",
        "print(lista_2)\r\n",
        "#También se pudo hacer con pop y append"
      ],
      "execution_count": 54,
      "outputs": [
        {
          "output_type": "stream",
          "text": [
            "[3.4, 0.7, 99.9, 5.41, 6.23, 7.9]\n"
          ],
          "name": "stdout"
        }
      ]
    },
    {
      "cell_type": "code",
      "metadata": {
        "colab": {
          "base_uri": "https://localhost:8080/"
        },
        "id": "iD7_PFZQATsm",
        "outputId": "7ed5231d-08ac-48df-970e-cd2cbe85baf4"
      },
      "source": [
        "#Print\r\n",
        "if lista_1 == lista_2:\r\n",
        "    print(\"Tú y yo somos uno mismo\")"
      ],
      "execution_count": 55,
      "outputs": [
        {
          "output_type": "stream",
          "text": [
            "Tú y yo somos uno mismo\n"
          ],
          "name": "stdout"
        }
      ]
    },
    {
      "cell_type": "code",
      "metadata": {
        "colab": {
          "base_uri": "https://localhost:8080/",
          "height": 35
        },
        "id": "6mpUrBKQCEXe",
        "outputId": "559c3e26-e7f4-40af-f8e4-bf1b5409e683"
      },
      "source": [
        "# b) Corregir fragmentos\r\n",
        "fragmento_fragmentado = ['Apenas', 'él', 'le', 'amalaba', 'hidrolizado' 'el', 'noema,',\r\n",
        "                         'a', 'ella', 'se', 'le', 'agolpaba', 'el', 'clémiso', 'súbito',\r\n",
        "                         'y', 'caían', 'en', 'fermales', 'hidromurias,', 'en', 'salvajes', 'ambonios,',\r\n",
        "                         'en', 'sustalos', 'distales', 'exasperantes.',\r\n",
        "                         'Cada', 'vez', 'que', 'él', 'procuraba', 'relamar', 'las', 'incopelusas,']\r\n",
        "\r\n",
        "# Tu código va aquí\r\n",
        "fragmento_fragmentado.pop(4)\r\n",
        "fragmento_fragmentado.pop(12)\r\n",
        "fragmento_fragmentado.pop(15)\r\n",
        "fragmento_fragmentado.pop(21)"
      ],
      "execution_count": 65,
      "outputs": [
        {
          "output_type": "execute_result",
          "data": {
            "application/vnd.google.colaboratory.intrinsic+json": {
              "type": "string"
            },
            "text/plain": [
              "'distales'"
            ]
          },
          "metadata": {
            "tags": []
          },
          "execution_count": 65
        }
      ]
    },
    {
      "cell_type": "code",
      "metadata": {
        "colab": {
          "base_uri": "https://localhost:8080/"
        },
        "id": "4vQoyJDHCRsb",
        "outputId": "91780edc-b4b4-42b3-af29-69c2aa7a4419"
      },
      "source": [
        "tu_nombre = \"Atenea\"  # Tu nombre va aquí\r\n",
        "print(f'==Colaboración póstuma de Cortázar y {tu_nombre}==\\n')\r\n",
        "print(f'{\" \".join(fragmento_fragmentado)}')\r\n",
        "#Para volver listas en texto"
      ],
      "execution_count": 66,
      "outputs": [
        {
          "output_type": "stream",
          "text": [
            "==Colaboración póstuma de Córtazar y Atenea==\n",
            "\n",
            "Apenas él le amalaba noema, a ella se le agolpaba el clémiso y caían en hidromurias, en salvajes ambonios, en sustalos exasperantes. Cada vez que él procuraba relamar las incopelusas,\n"
          ],
          "name": "stdout"
        }
      ]
    },
    {
      "cell_type": "code",
      "metadata": {
        "colab": {
          "base_uri": "https://localhost:8080/"
        },
        "id": "5Oi0coBNE4pb",
        "outputId": "8ba7b529-3ad7-47d8-f849-668b24f79013"
      },
      "source": [
        "#Funciones para convertir de lista a texto y viceversa con join y split\r\n",
        "text= [\"Hola\", \"soy\", \"Atenea\"]\r\n",
        "texto_comas= \", \".join(text)\r\n",
        "print(texto_comas)\r\n",
        "texto_comas.split(\",\")"
      ],
      "execution_count": 67,
      "outputs": [
        {
          "output_type": "stream",
          "text": [
            "Hola, soy, Atenea\n"
          ],
          "name": "stdout"
        },
        {
          "output_type": "execute_result",
          "data": {
            "text/plain": [
              "['Hola', ' soy', ' Atenea']"
            ]
          },
          "metadata": {
            "tags": []
          },
          "execution_count": 67
        }
      ]
    },
    {
      "cell_type": "markdown",
      "metadata": {
        "id": "Liv7PSdULlH8"
      },
      "source": [
        "Nota: Sublistas"
      ]
    },
    {
      "cell_type": "code",
      "metadata": {
        "colab": {
          "base_uri": "https://localhost:8080/"
        },
        "id": "yPWJql7jJNXZ",
        "outputId": "3835df3c-d4fa-4159-e894-8dec603eb0d9"
      },
      "source": [
        "#Las listas pueden sumarse o multiplicarse\r\n",
        "#Se pueden sumar listas\r\n",
        "[1,2,3]+[4,5,6]"
      ],
      "execution_count": 78,
      "outputs": [
        {
          "output_type": "execute_result",
          "data": {
            "text/plain": [
              "[1, 2, 3, 4, 5, 6]"
            ]
          },
          "metadata": {
            "tags": []
          },
          "execution_count": 78
        }
      ]
    },
    {
      "cell_type": "code",
      "metadata": {
        "colab": {
          "base_uri": "https://localhost:8080/"
        },
        "id": "jiVpAPpbJ2my",
        "outputId": "7ce1b3f9-cdad-4f1b-906c-aaf890df932e"
      },
      "source": [
        "#Se pueden copiar un número determinado de veces con multiplicar\r\n",
        "[1,2,3]*3"
      ],
      "execution_count": 79,
      "outputs": [
        {
          "output_type": "execute_result",
          "data": {
            "text/plain": [
              "[1, 2, 3, 1, 2, 3, 1, 2, 3]"
            ]
          },
          "metadata": {
            "tags": []
          },
          "execution_count": 79
        }
      ]
    },
    {
      "cell_type": "code",
      "metadata": {
        "colab": {
          "base_uri": "https://localhost:8080/"
        },
        "id": "_iWCrO8cJ_TP",
        "outputId": "09954bce-d171-49e0-e9fd-713cec4b521f"
      },
      "source": [
        "#Sublistas\r\n",
        "letras= ['a', 'b', 'c', 'd', 'e', 'f']\r\n",
        "# Desde qué elemento y en cual se detiene\r\n",
        "print(letras[0:3])\r\n",
        "#Si no dice donde inicia ni termina\r\n",
        "#Inicia desde cero\r\n",
        "print(letras[:3])\r\n",
        "#Termina en el final de la lista\r\n",
        "print(letras[-3:])"
      ],
      "execution_count": 82,
      "outputs": [
        {
          "output_type": "stream",
          "text": [
            "['a', 'b', 'c']\n",
            "['a', 'b', 'c']\n",
            "['d', 'e', 'f']\n"
          ],
          "name": "stdout"
        }
      ]
    },
    {
      "cell_type": "markdown",
      "metadata": {
        "id": "fJrefHEyFjl0"
      },
      "source": [
        "**Ejemplo 3**\r\n",
        "Creando y accesando diccionarios"
      ]
    },
    {
      "cell_type": "code",
      "metadata": {
        "colab": {
          "base_uri": "https://localhost:8080/",
          "height": 35
        },
        "id": "a2L9x6KFFJrI",
        "outputId": "2abe358d-22b3-456d-adc3-e9008e3df0bf"
      },
      "source": [
        "#Diccionarios, se definen con llaves\r\n",
        "#Los elementos se separan por comas\r\n",
        "mi_diccionario = {\"nombre\": \"Atenea\", \"iniciales\": \"DLCB\", \"calificaciones\": [10, 9.9, 9.8, 10]}\r\n",
        "mi_diccionario[\"nombre\"]"
      ],
      "execution_count": 74,
      "outputs": [
        {
          "output_type": "execute_result",
          "data": {
            "application/vnd.google.colaboratory.intrinsic+json": {
              "type": "string"
            },
            "text/plain": [
              "'Atenea'"
            ]
          },
          "metadata": {
            "tags": []
          },
          "execution_count": 74
        }
      ]
    },
    {
      "cell_type": "code",
      "metadata": {
        "colab": {
          "base_uri": "https://localhost:8080/"
        },
        "id": "_AVLCMvZIbjr",
        "outputId": "d581b7bb-0cdc-488b-f920-05ae32d50df0"
      },
      "source": [
        "print(mi_diccionario)"
      ],
      "execution_count": 76,
      "outputs": [
        {
          "output_type": "stream",
          "text": [
            "{'nombre': 'Atenea', 'iniciales': 'DLCB', 'calificaciones': [10, 9.9, 9.8, 10]}\n"
          ],
          "name": "stdout"
        }
      ]
    },
    {
      "cell_type": "code",
      "metadata": {
        "colab": {
          "base_uri": "https://localhost:8080/"
        },
        "id": "Q14Y5p6jJIG4",
        "outputId": "59057cac-dd4a-4f79-e782-dcf81da6b78e"
      },
      "source": [
        "#Para acceder dentro del diccionario\r\n",
        "mi_diccionario['calificaciones'][-1]"
      ],
      "execution_count": 77,
      "outputs": [
        {
          "output_type": "execute_result",
          "data": {
            "text/plain": [
              "10"
            ]
          },
          "metadata": {
            "tags": []
          },
          "execution_count": 77
        }
      ]
    },
    {
      "cell_type": "markdown",
      "metadata": {
        "id": "NRL5ShnpLu5G"
      },
      "source": [
        "**Reto 3**\r\n",
        "Creando y accesando diccionarios"
      ]
    },
    {
      "cell_type": "code",
      "metadata": {
        "id": "vN-FUM0ULppQ"
      },
      "source": [
        "#Completa el diccionario ventas_mensuales para que el código que imprime el resumen de las ventas funcione correctamente.\r\n",
        "ventas_mensuales = {\r\n",
        "    \"fecha_de_corte\": \"01/05/2020\",\r\n",
        "    \"unidad\": \"Aragón\",\r\n",
        "    \"ventas_pasteleria\": 50000,\r\n",
        "    \"ventas_panaderia\": 40000,\r\n",
        "    \"ganancias_pasteleria\": 45000,\r\n",
        "    \"ganancias_panaderia\": 32000,\r\n",
        "    \"gastos_mensuales_totales\": 4000,\r\n",
        "    \"analista\": \"Atenea\"\r\n",
        "}"
      ],
      "execution_count": 85,
      "outputs": []
    },
    {
      "cell_type": "code",
      "metadata": {
        "colab": {
          "base_uri": "https://localhost:8080/"
        },
        "id": "WvvZr-5qMKrr",
        "outputId": "f3ebd953-e8f2-4fcf-b92a-ddb92d382560"
      },
      "source": [
        "ventas_totales_de_insumos = ventas_mensuales[\"ventas_pasteleria\"] + ventas_mensuales[\"ventas_panaderia\"]\r\n",
        "ganancias_totales = ventas_mensuales[\"ganancias_pasteleria\"] + ventas_mensuales[\"ganancias_panaderia\"]\r\n",
        "ganancias_netas = ganancias_totales - ventas_mensuales[\"gastos_mensuales_totales\"]\r\n",
        "\r\n",
        "print(f'==Resumen de ventas mensuales de la unidad {ventas_mensuales[\"unidad\"]}==/n')\r\n",
        "print(f'Fecha de corte: {ventas_mensuales[\"fecha_de_corte\"]}/n')\r\n",
        "print(f'  - Ventas totales de insumos: {ventas_totales_de_insumos}')\r\n",
        "print(f'  - Ganancias totales: {ganancias_totales}')\r\n",
        "print(f'  - Ganancias netas: {ganancias_netas}')\r\n",
        "print(f'\\n')\r\n",
        "print(f'(Información recabada por: {ventas_mensuales[\"analista\"]})')"
      ],
      "execution_count": 86,
      "outputs": [
        {
          "output_type": "stream",
          "text": [
            "==Resumen de ventas mensuales de la unidad Aragón==/n\n",
            "Fecha de corte: 01/05/2020/n\n",
            "  - Ventas totales de insumos: 90000\n",
            "  - Ganancias totales: 77000\n",
            "  - Ganancias netas: 73000\n",
            "\n",
            "\n",
            "(Información recabada por: Atenea)\n"
          ],
          "name": "stdout"
        }
      ]
    },
    {
      "cell_type": "markdown",
      "metadata": {
        "id": "r_rne2L5OcST"
      },
      "source": [
        "**Ejemplo 4**\r\n",
        "Modificando diccionarios"
      ]
    },
    {
      "cell_type": "code",
      "metadata": {
        "id": "wkxAbx1dOogc"
      },
      "source": [
        "# Librería pprint como pritty print, para imprimirla bonita\r\n",
        "from pprint import pprint"
      ],
      "execution_count": 87,
      "outputs": []
    },
    {
      "cell_type": "code",
      "metadata": {
        "colab": {
          "base_uri": "https://localhost:8080/"
        },
        "id": "uryeI65_O4_f",
        "outputId": "4a54d6fa-ef1d-4658-e184-ea7482a1a06f"
      },
      "source": [
        "#Ejemplo\r\n",
        "pprint(ventas_mensuales)"
      ],
      "execution_count": 88,
      "outputs": [
        {
          "output_type": "stream",
          "text": [
            "{'analista': 'Atenea',\n",
            " 'fecha_de_corte': '01/05/2020',\n",
            " 'ganancias_panaderia': 32000,\n",
            " 'ganancias_pasteleria': 45000,\n",
            " 'gastos_mensuales_totales': 4000,\n",
            " 'unidad': 'Aragón',\n",
            " 'ventas_panaderia': 40000,\n",
            " 'ventas_pasteleria': 50000}\n"
          ],
          "name": "stdout"
        }
      ]
    },
    {
      "cell_type": "code",
      "metadata": {
        "colab": {
          "base_uri": "https://localhost:8080/"
        },
        "id": "msc79zOCO-a7",
        "outputId": "a0900c0d-2854-4973-92ab-ca8803dc18f4"
      },
      "source": [
        "#Para agregar información en el diccionario\r\n",
        "ventas_mensuales[\"ventas_panaderia\"]=999\r\n",
        "pprint(ventas_mensuales)"
      ],
      "execution_count": 93,
      "outputs": [
        {
          "output_type": "stream",
          "text": [
            "{'fecha_de_corte': '01/05/2020',\n",
            " 'ganancias_panaderia': 32000,\n",
            " 'ganancias_pasteleria': 45000,\n",
            " 'gastos_mensuales_totales': 4000,\n",
            " 'unidad': 'Aragón',\n",
            " 'ventas_panaderia': 999,\n",
            " 'ventas_pasteleria': 50000}\n"
          ],
          "name": "stdout"
        }
      ]
    },
    {
      "cell_type": "code",
      "metadata": {
        "id": "402DTdCfPhBp"
      },
      "source": [
        "#Para eliminar una llave con pop\r\n",
        "ventas_mensuales.pop('analista')\r\n",
        "#Devuelve el valor que va a borrar"
      ],
      "execution_count": null,
      "outputs": []
    },
    {
      "cell_type": "code",
      "metadata": {
        "colab": {
          "base_uri": "https://localhost:8080/"
        },
        "id": "p8b2niJOPwsi",
        "outputId": "cf9c551e-4e54-4398-8bec-69e18753bc19"
      },
      "source": [
        "#Para serciorarnos si está o no dentro\r\n",
        "if \"analista\" in ventas_mensuales:\r\n",
        "    print(\"Todavía existe\")\r\n",
        "else:\r\n",
        "    print(\"Ya no\")"
      ],
      "execution_count": 96,
      "outputs": [
        {
          "output_type": "stream",
          "text": [
            "Ya no\n"
          ],
          "name": "stdout"
        }
      ]
    },
    {
      "cell_type": "markdown",
      "metadata": {
        "id": "kBb1lLguQpS7"
      },
      "source": [
        "**Reto 4**\r\n",
        "Modificando diccionarios\r\n"
      ]
    },
    {
      "cell_type": "markdown",
      "metadata": {
        "id": "Gh0wNz7xRd7d"
      },
      "source": [
        "La actividad tienen 3 partes:\r\n",
        "\r\n",
        "1. Usando la técnica para modificar valores en un diccionario, cambia la información del diccionario para que sea la tuya.\r\n",
        "2. Usando la técnica para agregar datos al diccionario agrega las llaves que estén siendo accesadas en el print pero que no han sido agregadas al diccionario.\r\n",
        "3. Usando la técnica para eliminar datos del diccionario, elimina los datos sensibles que no quieras que estén incluidos en el diccionario."
      ]
    },
    {
      "cell_type": "code",
      "metadata": {
        "colab": {
          "base_uri": "https://localhost:8080/",
          "height": 35
        },
        "id": "3nKmSiMLRcSz",
        "outputId": "8a59f04b-baac-47ba-b04e-ba6e741080a6"
      },
      "source": [
        "registro = {\r\n",
        "    \"id\": \"23f-58j-kju7-54re\",\r\n",
        "    \"nombre\": \"Alberto\",\r\n",
        "    \"apellido_materno\": \"Gutierrez\",\r\n",
        "    \"apellido_paterno\": \"Sosa\",\r\n",
        "    \"profesion\": \"Contador\",\r\n",
        "    \"ultimo_nivel_de_estudios\": \"Maestría\",\r\n",
        "    \"lugar_de_estudios\": \"UAM\",\r\n",
        "    \"numero_de_cuenta\": \"25367890\",\r\n",
        "    \"nip_de_cajero\": \"142\"\r\n",
        "}\r\n",
        "\r\n",
        "registro[\"apellido_materno\"]= \"Ramírez\"\r\n",
        "registro[\"apellido_paterno\"]= \"Díaz\"\r\n",
        "registro[\"profesion\"]= \"Historiador\"\r\n",
        "registro[\"lugar_de_estudios\"]= \"UABC\"\r\n",
        "\r\n",
        "registro[\"fecha_de_nacimiento\"]= \"8/08/1984\"\r\n",
        "registro[\"lugar_de_nacimiento\"]= \"Tijuana, B.C.\"\r\n",
        "\r\n",
        "registro.pop(\"numero_de_cuenta\")\r\n",
        "registro.pop(\"nip_de_cajero\")"
      ],
      "execution_count": 106,
      "outputs": [
        {
          "output_type": "execute_result",
          "data": {
            "application/vnd.google.colaboratory.intrinsic+json": {
              "type": "string"
            },
            "text/plain": [
              "'142'"
            ]
          },
          "metadata": {
            "tags": []
          },
          "execution_count": 106
        }
      ]
    },
    {
      "cell_type": "code",
      "metadata": {
        "colab": {
          "base_uri": "https://localhost:8080/"
        },
        "id": "vengU9o6RsQU",
        "outputId": "58331e70-0892-4776-fe1d-9facc881f7d0"
      },
      "source": [
        "#Tip: Para controlar el espaciado en el formato de print se agregaron dos puntos seguidos de el número de espacios a mostrar :25\r\n",
        "#Sin importar que tan grande o pequeño sea el texto, para que aparezca con el formato de abajo\r\n",
        "print(f'Registro con id: {registro[\"id\"]}\\n')\r\n",
        "print(f'---------------------------------------\\n')\r\n",
        "print(f'{(\"Nombre\"):25} | {registro[\"nombre\"]:25}')\r\n",
        "print(f'{(\"Apellido Materno\"):25} | {registro[\"apellido_materno\"]:25}')\r\n",
        "print(f'{(\"Apellido Paterno\"):25} | {registro[\"apellido_paterno\"]:25}')\r\n",
        "print(f'{(\"Profesión\"):25} | {registro[\"profesion\"]:25}')\r\n",
        "print(f'{(\"Último nivel de estudios\"):25} | {registro[\"ultimo_nivel_de_estudios\"]:25}')\r\n",
        "print(f'{(\"Lugar de estudios\"):25} | {registro[\"lugar_de_estudios\"]:25}')\r\n",
        "print(f'{(\"Fecha de nacimiento\"):25} | {registro[\"fecha_de_nacimiento\"]:25}')\r\n",
        "print(f'{(\"Lugar de nacimiento\"):25} | {registro[\"lugar_de_nacimiento\"]:25}')"
      ],
      "execution_count": 107,
      "outputs": [
        {
          "output_type": "stream",
          "text": [
            "Registro con id: 23f-58j-kju7-54re\n",
            "\n",
            "---------------------------------------\n",
            "\n",
            "Nombre                    | Alberto                  \n",
            "Apellido Materno          | Ramírez                  \n",
            "Apellido Paterno          | Díaz                     \n",
            "Profesión                 | Historiador              \n",
            "Último nivel de estudios  | Maestría                 \n",
            "Lugar de estudios         | UABC                     \n",
            "Fecha de nacimiento       | 8/08/1984                \n",
            "Lugar de nacimiento       | Tijuana, B.C.            \n"
          ],
          "name": "stdout"
        }
      ]
    },
    {
      "cell_type": "markdown",
      "metadata": {
        "id": "Piog-N02U85M"
      },
      "source": [
        "**Ejemplo 5**\r\n",
        "Funciones"
      ]
    },
    {
      "cell_type": "code",
      "metadata": {
        "id": "kUbfDcBiWN0E"
      },
      "source": [
        "#Definir función con def al inicio, los parámetros van adentro de paréntesis\r\n",
        "#Parecido al if se ponene dos puntos y se deja espacio\r\n",
        "def multiplicar_por_dos(numero):\r\n",
        "    resultado = numero*2\r\n",
        "    return resultado"
      ],
      "execution_count": 109,
      "outputs": []
    },
    {
      "cell_type": "code",
      "metadata": {
        "colab": {
          "base_uri": "https://localhost:8080/"
        },
        "id": "YzM6ODEWWw3M",
        "outputId": "1fd84139-d78c-4281-ef5b-f63bdacd8db4"
      },
      "source": [
        "n = 9\r\n",
        "multiplicar_por_dos(n)"
      ],
      "execution_count": 113,
      "outputs": [
        {
          "output_type": "execute_result",
          "data": {
            "text/plain": [
              "18"
            ]
          },
          "metadata": {
            "tags": []
          },
          "execution_count": 113
        }
      ]
    },
    {
      "cell_type": "code",
      "metadata": {
        "colab": {
          "base_uri": "https://localhost:8080/"
        },
        "id": "Piof4nHWXKHE",
        "outputId": "3de9ee48-5181-415f-d4dd-a4f2542d956a"
      },
      "source": [
        "#Es importante recordar el \"contexto\", lo que se defina dentro de la función, estará sólo ahí adentro,\r\n",
        "#Si no queda definido en otra parte no puede volver a llamarse\r\n",
        "def multiplicar_numeros (num1, num2):\r\n",
        "    return num1 * num2\r\n",
        "\r\n",
        "multiplicar_numeros(5,4)\r\n",
        "\r\n",
        "\r\n",
        "#Por ello regresa un error, porque print está afuera\r\n",
        "print(num1)"
      ],
      "execution_count": 117,
      "outputs": [
        {
          "output_type": "execute_result",
          "data": {
            "text/plain": [
              "20"
            ]
          },
          "metadata": {
            "tags": []
          },
          "execution_count": 117
        }
      ]
    },
    {
      "cell_type": "markdown",
      "metadata": {
        "id": "21X5W8y1X5Uw"
      },
      "source": [
        "**Reto 5**\r\n",
        "Funciones"
      ]
    },
    {
      "cell_type": "code",
      "metadata": {
        "colab": {
          "base_uri": "https://localhost:8080/"
        },
        "id": "6puNDaJLXpCY",
        "outputId": "1f74d244-e6b7-422c-959b-08b06d7fa1c0"
      },
      "source": [
        "# a) numero_es_par\r\n",
        "def numero_es_par(numero):\r\n",
        "    return numero % 2 == 0\r\n",
        "# Da como resultado un Boleano\r\n",
        "\r\n",
        "numero_es_par(8)"
      ],
      "execution_count": 128,
      "outputs": [
        {
          "output_type": "execute_result",
          "data": {
            "text/plain": [
              "True"
            ]
          },
          "metadata": {
            "tags": []
          },
          "execution_count": 128
        }
      ]
    },
    {
      "cell_type": "code",
      "metadata": {
        "id": "s0-oFIMTZ3LO"
      },
      "source": [
        "def test_funcion(funcion_a_probar, num_de_errores, contador, parametros=[], resultado_esperado=None):\r\n",
        "    resultado_test = funcion_a_probar(*parametros)\r\n",
        "    print(f'Test {contador}: Resultado esperado es `{resultado_esperado}`, obtuvimos `{resultado_test}`')\r\n",
        "    if resultado_test != resultado_esperado:\r\n",
        "        num_de_errores += 1\r\n",
        "        \r\n",
        "    return num_de_errores"
      ],
      "execution_count": 126,
      "outputs": []
    },
    {
      "cell_type": "code",
      "metadata": {
        "id": "L2CKLs1TaHbg"
      },
      "source": [
        "print(\"== Tests numero_es_par==\\n\")\r\n",
        "\r\n",
        "contador_de_tests = 0\r\n",
        "errores = 0\r\n",
        "\r\n",
        "contador_de_tests += 1\r\n",
        "errores = test_funcion(numero_es_par, errores, contador_de_tests, parametros=[2], resultado_esperado=True)\r\n",
        "contador_de_tests += 1\r\n",
        "errores = test_funcion(numero_es_par, errores, contador_de_tests, parametros=[3], resultado_esperado=False)\r\n",
        "contador_de_tests += 1\r\n",
        "errores = test_funcion(numero_es_par, errores, contador_de_tests, parametros=[0], resultado_esperado=True)\r\n",
        "contador_de_tests += 1\r\n",
        "errores = test_funcion(numero_es_par, errores, contador_de_tests, parametros=[127], resultado_esperado=False)\r\n",
        "contador_de_tests += 1\r\n",
        "errores = test_funcion(numero_es_par, errores, contador_de_tests, parametros=[-88], resultado_esperado=True)\r\n",
        "contador_de_tests += 1\r\n",
        "errores = test_funcion(numero_es_par, errores, contador_de_tests, parametros=[-1349], resultado_esperado=False)\r\n",
        "\r\n",
        "print(f'\\nErrores encontrados: {errores}')"
      ],
      "execution_count": null,
      "outputs": []
    }
  ]
}