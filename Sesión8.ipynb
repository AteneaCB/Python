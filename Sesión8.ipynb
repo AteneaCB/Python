{
  "nbformat": 4,
  "nbformat_minor": 0,
  "metadata": {
    "colab": {
      "name": "Sesión8.ipynb",
      "provenance": [],
      "collapsed_sections": [],
      "authorship_tag": "ABX9TyMujVSjVcyFaWH2sV1VKN8i",
      "include_colab_link": true
    },
    "kernelspec": {
      "name": "python3",
      "display_name": "Python 3"
    }
  },
  "cells": [
    {
      "cell_type": "markdown",
      "metadata": {
        "id": "view-in-github",
        "colab_type": "text"
      },
      "source": [
        "<a href=\"https://colab.research.google.com/github/AteneaCB/Python/blob/main/Sesi%C3%B3n8.ipynb\" target=\"_parent\"><img src=\"https://colab.research.google.com/assets/colab-badge.svg\" alt=\"Open In Colab\"/></a>"
      ]
    },
    {
      "cell_type": "markdown",
      "metadata": {
        "id": "0wp3zg_l3Q9E"
      },
      "source": [
        "**Sesión 8**\r\n",
        "Módulo 3. Python\r\n",
        "\r\n",
        "Jueves 4 de marzo de 2021"
      ]
    },
    {
      "cell_type": "markdown",
      "metadata": {
        "id": "wcS7bK5H62Zu"
      },
      "source": [
        "**Ejemplo 1**\r\n",
        "Conectándose a una base de datos remota\r\n",
        "\r\n",
        "- Usar `mysql-connector-python` para conectarse a una base de datos remota"
      ]
    },
    {
      "cell_type": "code",
      "metadata": {
        "colab": {
          "base_uri": "https://localhost:8080/"
        },
        "id": "lQF6CmJt3Fay",
        "outputId": "1f0e352a-175b-44fd-e277-3bc5521916a9"
      },
      "source": [
        "!pip install mysql-connector-python"
      ],
      "execution_count": 7,
      "outputs": [
        {
          "output_type": "stream",
          "text": [
            "Collecting mysql-connector-python\n",
            "\u001b[?25l  Downloading https://files.pythonhosted.org/packages/de/f7/b783b60a3bd8aea348990c60fb0b3ed2f843c6f40ad29e37a89a5d50d7a3/mysql_connector_python-8.0.23-cp37-cp37m-manylinux1_x86_64.whl (18.0MB)\n",
            "\u001b[K     |████████████████████████████████| 18.1MB 240kB/s \n",
            "\u001b[?25hRequirement already satisfied: protobuf>=3.0.0 in /usr/local/lib/python3.7/dist-packages (from mysql-connector-python) (3.12.4)\n",
            "Requirement already satisfied: setuptools in /usr/local/lib/python3.7/dist-packages (from protobuf>=3.0.0->mysql-connector-python) (54.0.0)\n",
            "Requirement already satisfied: six>=1.9 in /usr/local/lib/python3.7/dist-packages (from protobuf>=3.0.0->mysql-connector-python) (1.15.0)\n",
            "Installing collected packages: mysql-connector-python\n",
            "Successfully installed mysql-connector-python-8.0.23\n"
          ],
          "name": "stdout"
        }
      ]
    },
    {
      "cell_type": "code",
      "metadata": {
        "id": "Dk0fPWip6y_h"
      },
      "source": [
        "import mysql.connector"
      ],
      "execution_count": 8,
      "outputs": []
    },
    {
      "cell_type": "code",
      "metadata": {
        "id": "SQW6dKkr8Q9W"
      },
      "source": [
        "#Conexión\r\n",
        "cnx = mysql.connector.connect(\r\n",
        "    host = \"ec2-34-214-107-20.us-west-2.compute.amazonaws.com\",\r\n",
        "    port = 3306,\r\n",
        "    user = \" \", #eliminado\r\n",
        "    password = \" \", #eliminado\r\n",
        "    database = \"movielens\"\r\n",
        ")\r\n",
        "# IMPORTANTE: Al \"publicar\" la libreta, quitar esta información de acceso. Check!"
      ],
      "execution_count": null,
      "outputs": []
    },
    {
      "cell_type": "code",
      "metadata": {
        "id": "UfPFeeMy9TEa"
      },
      "source": [
        "#Cursor: Donde se escriben los comandos de MySQL\r\n",
        "cursor = cnx.cursor()"
      ],
      "execution_count": 11,
      "outputs": []
    },
    {
      "cell_type": "code",
      "metadata": {
        "id": "52fsIleB9dfj"
      },
      "source": [
        "#Comando para ejecutar\r\n",
        "cursor.execute(\"SHOW TABLES\")"
      ],
      "execution_count": 19,
      "outputs": []
    },
    {
      "cell_type": "code",
      "metadata": {
        "id": "8XG2X5wU93Gb"
      },
      "source": [
        "result = cursor.fetchall()"
      ],
      "execution_count": 20,
      "outputs": []
    },
    {
      "cell_type": "code",
      "metadata": {
        "colab": {
          "base_uri": "https://localhost:8080/"
        },
        "id": "mnA1Zs--97n0",
        "outputId": "4f00f553-de8d-4ead-9c60-a1eacdf5719d"
      },
      "source": [
        "#Ver qué trae result\r\n",
        "result"
      ],
      "execution_count": 21,
      "outputs": [
        {
          "output_type": "execute_result",
          "data": {
            "text/plain": [
              "[('age_ranges',), ('movies',), ('occupations',), ('ratings',), ('users',)]"
            ]
          },
          "metadata": {
            "tags": []
          },
          "execution_count": 21
        }
      ]
    },
    {
      "cell_type": "code",
      "metadata": {
        "colab": {
          "base_uri": "https://localhost:8080/"
        },
        "id": "tTvlx2vK-xeH",
        "outputId": "67d34566-a6c7-4103-b905-cb6367449892"
      },
      "source": [
        "#Ejemplo de tupla con coma adentro del paréntesis cuando tiene un sólo elemento\r\n",
        "type ( (5,))"
      ],
      "execution_count": 25,
      "outputs": [
        {
          "output_type": "execute_result",
          "data": {
            "text/plain": [
              "tuple"
            ]
          },
          "metadata": {
            "tags": []
          },
          "execution_count": 25
        }
      ]
    },
    {
      "cell_type": "code",
      "metadata": {
        "colab": {
          "base_uri": "https://localhost:8080/"
        },
        "id": "TcGty6QY_vIu",
        "outputId": "6c4989d7-e35d-4ef1-9289-ad31e15c08f7"
      },
      "source": [
        "#Cerrar la conexión\r\n",
        "cursor.close()"
      ],
      "execution_count": 26,
      "outputs": [
        {
          "output_type": "execute_result",
          "data": {
            "text/plain": [
              "True"
            ]
          },
          "metadata": {
            "tags": []
          },
          "execution_count": 26
        }
      ]
    },
    {
      "cell_type": "markdown",
      "metadata": {
        "id": "I6XydtzBBCZ9"
      },
      "source": [
        "Ejemplo 2\r\n"
      ]
    },
    {
      "cell_type": "code",
      "metadata": {
        "id": "i8ZXMDQ2Aajm"
      },
      "source": [
        "cnx = mysql.connector.connect(\r\n",
        "    host = \"ec2-34-214-107-20.us-west-2.compute.amazonaws.com\",\r\n",
        "    port = 3306,\r\n",
        "    user = \"data\",\r\n",
        "    password = \"khQ9--mp6LWq97iA\",\r\n",
        "    database = \"movielens\"\r\n",
        ")"
      ],
      "execution_count": 27,
      "outputs": []
    },
    {
      "cell_type": "code",
      "metadata": {
        "id": "jEr8U3eVBHSH"
      },
      "source": [
        "cursor = cnx.cursor()"
      ],
      "execution_count": 29,
      "outputs": []
    },
    {
      "cell_type": "code",
      "metadata": {
        "id": "F1bYQ9yrBSks"
      },
      "source": [
        "cursor.execute(\"SELECT * FROM users\")"
      ],
      "execution_count": 30,
      "outputs": []
    },
    {
      "cell_type": "code",
      "metadata": {
        "id": "vp8ZlGfpBXmi"
      },
      "source": [
        "result= cursor.fetchall()"
      ],
      "execution_count": 31,
      "outputs": []
    },
    {
      "cell_type": "code",
      "metadata": {
        "colab": {
          "base_uri": "https://localhost:8080/"
        },
        "id": "H_19scxgBcBm",
        "outputId": "396ecba0-b8a5-4364-9c3e-32de0cb46343"
      },
      "source": [
        "result[0]\r\n",
        "# user_id, gender, age, occupation, zip"
      ],
      "execution_count": 32,
      "outputs": [
        {
          "output_type": "execute_result",
          "data": {
            "text/plain": [
              "(1, '\"', 1, 10, '\"48067\"')"
            ]
          },
          "metadata": {
            "tags": []
          },
          "execution_count": 32
        }
      ]
    },
    {
      "cell_type": "code",
      "metadata": {
        "id": "1LE8hJsbBuar"
      },
      "source": [
        "import pandas as pd"
      ],
      "execution_count": 4,
      "outputs": []
    },
    {
      "cell_type": "code",
      "metadata": {
        "id": "tx4sNvOXByPP"
      },
      "source": [
        "df = pd.DataFrame(result, columns=['user_id', 'gender', 'age', 'occupation', 'zip'])"
      ],
      "execution_count": 36,
      "outputs": []
    },
    {
      "cell_type": "code",
      "metadata": {
        "colab": {
          "base_uri": "https://localhost:8080/"
        },
        "id": "Xl09AYekCE1H",
        "outputId": "ade3d2fd-a17d-491a-9373-054f2dc9c3d7"
      },
      "source": [
        "df.dtypes"
      ],
      "execution_count": 37,
      "outputs": [
        {
          "output_type": "execute_result",
          "data": {
            "text/plain": [
              "user_id        int64\n",
              "gender        object\n",
              "age            int64\n",
              "occupation     int64\n",
              "zip           object\n",
              "dtype: object"
            ]
          },
          "metadata": {
            "tags": []
          },
          "execution_count": 37
        }
      ]
    },
    {
      "cell_type": "code",
      "metadata": {
        "colab": {
          "base_uri": "https://localhost:8080/",
          "height": 195
        },
        "id": "M4bQNEWoCJ7G",
        "outputId": "720b7292-a870-44f5-9e97-30f80dd9811a"
      },
      "source": [
        "df.head()"
      ],
      "execution_count": 38,
      "outputs": [
        {
          "output_type": "execute_result",
          "data": {
            "text/html": [
              "<div>\n",
              "<style scoped>\n",
              "    .dataframe tbody tr th:only-of-type {\n",
              "        vertical-align: middle;\n",
              "    }\n",
              "\n",
              "    .dataframe tbody tr th {\n",
              "        vertical-align: top;\n",
              "    }\n",
              "\n",
              "    .dataframe thead th {\n",
              "        text-align: right;\n",
              "    }\n",
              "</style>\n",
              "<table border=\"1\" class=\"dataframe\">\n",
              "  <thead>\n",
              "    <tr style=\"text-align: right;\">\n",
              "      <th></th>\n",
              "      <th>user_id</th>\n",
              "      <th>gender</th>\n",
              "      <th>age</th>\n",
              "      <th>occupation</th>\n",
              "      <th>zip</th>\n",
              "    </tr>\n",
              "  </thead>\n",
              "  <tbody>\n",
              "    <tr>\n",
              "      <th>0</th>\n",
              "      <td>1</td>\n",
              "      <td>\"</td>\n",
              "      <td>1</td>\n",
              "      <td>10</td>\n",
              "      <td>\"48067\"</td>\n",
              "    </tr>\n",
              "    <tr>\n",
              "      <th>1</th>\n",
              "      <td>2</td>\n",
              "      <td>\"</td>\n",
              "      <td>56</td>\n",
              "      <td>16</td>\n",
              "      <td>\"70072\"</td>\n",
              "    </tr>\n",
              "    <tr>\n",
              "      <th>2</th>\n",
              "      <td>3</td>\n",
              "      <td>\"</td>\n",
              "      <td>25</td>\n",
              "      <td>15</td>\n",
              "      <td>\"55117\"</td>\n",
              "    </tr>\n",
              "    <tr>\n",
              "      <th>3</th>\n",
              "      <td>4</td>\n",
              "      <td>\"</td>\n",
              "      <td>45</td>\n",
              "      <td>7</td>\n",
              "      <td>\"02460\"</td>\n",
              "    </tr>\n",
              "    <tr>\n",
              "      <th>4</th>\n",
              "      <td>5</td>\n",
              "      <td>\"</td>\n",
              "      <td>25</td>\n",
              "      <td>20</td>\n",
              "      <td>\"55455\"</td>\n",
              "    </tr>\n",
              "  </tbody>\n",
              "</table>\n",
              "</div>"
            ],
            "text/plain": [
              "   user_id gender  age  occupation      zip\n",
              "0        1      \"    1          10  \"48067\"\n",
              "1        2      \"   56          16  \"70072\"\n",
              "2        3      \"   25          15  \"55117\"\n",
              "3        4      \"   45           7  \"02460\"\n",
              "4        5      \"   25          20  \"55455\""
            ]
          },
          "metadata": {
            "tags": []
          },
          "execution_count": 38
        }
      ]
    },
    {
      "cell_type": "code",
      "metadata": {
        "id": "U4isMOomCOdx"
      },
      "source": [
        "# Cambiar índice usando user_id y desechar índice anterior\r\n",
        "df = df.set_index('user_id', drop=True)"
      ],
      "execution_count": 39,
      "outputs": []
    },
    {
      "cell_type": "code",
      "metadata": {
        "colab": {
          "base_uri": "https://localhost:8080/",
          "height": 225
        },
        "id": "RFU5viVyCdIE",
        "outputId": "1e163fc2-353d-46ae-9e05-1d1bae98b40b"
      },
      "source": [
        "df.head()"
      ],
      "execution_count": 40,
      "outputs": [
        {
          "output_type": "execute_result",
          "data": {
            "text/html": [
              "<div>\n",
              "<style scoped>\n",
              "    .dataframe tbody tr th:only-of-type {\n",
              "        vertical-align: middle;\n",
              "    }\n",
              "\n",
              "    .dataframe tbody tr th {\n",
              "        vertical-align: top;\n",
              "    }\n",
              "\n",
              "    .dataframe thead th {\n",
              "        text-align: right;\n",
              "    }\n",
              "</style>\n",
              "<table border=\"1\" class=\"dataframe\">\n",
              "  <thead>\n",
              "    <tr style=\"text-align: right;\">\n",
              "      <th></th>\n",
              "      <th>gender</th>\n",
              "      <th>age</th>\n",
              "      <th>occupation</th>\n",
              "      <th>zip</th>\n",
              "    </tr>\n",
              "    <tr>\n",
              "      <th>user_id</th>\n",
              "      <th></th>\n",
              "      <th></th>\n",
              "      <th></th>\n",
              "      <th></th>\n",
              "    </tr>\n",
              "  </thead>\n",
              "  <tbody>\n",
              "    <tr>\n",
              "      <th>1</th>\n",
              "      <td>\"</td>\n",
              "      <td>1</td>\n",
              "      <td>10</td>\n",
              "      <td>\"48067\"</td>\n",
              "    </tr>\n",
              "    <tr>\n",
              "      <th>2</th>\n",
              "      <td>\"</td>\n",
              "      <td>56</td>\n",
              "      <td>16</td>\n",
              "      <td>\"70072\"</td>\n",
              "    </tr>\n",
              "    <tr>\n",
              "      <th>3</th>\n",
              "      <td>\"</td>\n",
              "      <td>25</td>\n",
              "      <td>15</td>\n",
              "      <td>\"55117\"</td>\n",
              "    </tr>\n",
              "    <tr>\n",
              "      <th>4</th>\n",
              "      <td>\"</td>\n",
              "      <td>45</td>\n",
              "      <td>7</td>\n",
              "      <td>\"02460\"</td>\n",
              "    </tr>\n",
              "    <tr>\n",
              "      <th>5</th>\n",
              "      <td>\"</td>\n",
              "      <td>25</td>\n",
              "      <td>20</td>\n",
              "      <td>\"55455\"</td>\n",
              "    </tr>\n",
              "  </tbody>\n",
              "</table>\n",
              "</div>"
            ],
            "text/plain": [
              "        gender  age  occupation      zip\n",
              "user_id                                 \n",
              "1            \"    1          10  \"48067\"\n",
              "2            \"   56          16  \"70072\"\n",
              "3            \"   25          15  \"55117\"\n",
              "4            \"   45           7  \"02460\"\n",
              "5            \"   25          20  \"55455\""
            ]
          },
          "metadata": {
            "tags": []
          },
          "execution_count": 40
        }
      ]
    },
    {
      "cell_type": "code",
      "metadata": {
        "id": "04RyQW9pCiDh"
      },
      "source": [
        "#Guardad en csv\r\n",
        "df.to_csv(\"movies_user.csv\")"
      ],
      "execution_count": 47,
      "outputs": []
    },
    {
      "cell_type": "code",
      "metadata": {
        "id": "jGQkPB-aCyIf"
      },
      "source": [
        ""
      ],
      "execution_count": null,
      "outputs": []
    },
    {
      "cell_type": "markdown",
      "metadata": {
        "id": "gg9g5wpADzct"
      },
      "source": [
        "**Reto 2**\r\n",
        "Convertir tablas a DataFrames\r\n",
        "\r\n",
        "1. Vuelve a establecer la conexión a la base de datos\r\n",
        "2. Usando el comando SELECT * FROM nombre_de_tabla, realiza consultas a cada una de las 5 tablas que existen en la base de datos.\r\n",
        "3. Crea un DataFrame por cada tabla que obtuviste. Para asignarle los nombres de las columnas correctamente, revisa el archivo Readme.md donde está contenida toda esa información.\r\n",
        "4. Asegúrate de que el índice sea adecuado en cada DataFrame. En los casos en los que haya datos redundantes, convierte una de las columnas en índice.\r\n",
        "5. Si lo deseas ordena las columnas de la manera en la que mejor te parezca.\r\n",
        "6. Guarda tus DataFrames en formato .csv para utilizarlos en los siguientes Retos."
      ]
    },
    {
      "cell_type": "code",
      "metadata": {
        "id": "lzFt_qU3GC3v"
      },
      "source": [
        "cnx = mysql.connector.connect(\r\n",
        "    host = \"ec2-34-214-107-20.us-west-2.compute.amazonaws.com\",\r\n",
        "    port = 3306,\r\n",
        "    user = \"data\",\r\n",
        "    password = \"khQ9--mp6LWq97iA\",\r\n",
        "    database = \"movielens\"\r\n",
        ")"
      ],
      "execution_count": 51,
      "outputs": []
    },
    {
      "cell_type": "code",
      "metadata": {
        "id": "EzbCunw2GeHi"
      },
      "source": [
        "cursor = cnx.cursor()"
      ],
      "execution_count": 52,
      "outputs": []
    },
    {
      "cell_type": "code",
      "metadata": {
        "colab": {
          "base_uri": "https://localhost:8080/"
        },
        "id": "gHjevWvGETue",
        "outputId": "86c8a935-ae75-4f6c-ae0c-1133a5bc3f1a"
      },
      "source": [
        "# age_ranges\r\n",
        "cursor.execute(\"SELECT * FROM age_ranges\")\r\n",
        "resultado = cursor.fetchall()\r\n",
        "resultado[0]"
      ],
      "execution_count": 55,
      "outputs": [
        {
          "output_type": "execute_result",
          "data": {
            "text/plain": [
              "(1, '\"Under 18\"')"
            ]
          },
          "metadata": {
            "tags": []
          },
          "execution_count": 55
        }
      ]
    },
    {
      "cell_type": "code",
      "metadata": {
        "id": "JT0o-s_KFabM"
      },
      "source": [
        "df = pd.DataFrame(resultado, columns=['AgeID', 'AgeRange'])"
      ],
      "execution_count": 57,
      "outputs": []
    },
    {
      "cell_type": "code",
      "metadata": {
        "colab": {
          "base_uri": "https://localhost:8080/",
          "height": 195
        },
        "id": "j8VVU517Gtuk",
        "outputId": "0abee833-85be-4f94-d976-6fb6f4ef385f"
      },
      "source": [
        "df.head()"
      ],
      "execution_count": 58,
      "outputs": [
        {
          "output_type": "execute_result",
          "data": {
            "text/html": [
              "<div>\n",
              "<style scoped>\n",
              "    .dataframe tbody tr th:only-of-type {\n",
              "        vertical-align: middle;\n",
              "    }\n",
              "\n",
              "    .dataframe tbody tr th {\n",
              "        vertical-align: top;\n",
              "    }\n",
              "\n",
              "    .dataframe thead th {\n",
              "        text-align: right;\n",
              "    }\n",
              "</style>\n",
              "<table border=\"1\" class=\"dataframe\">\n",
              "  <thead>\n",
              "    <tr style=\"text-align: right;\">\n",
              "      <th></th>\n",
              "      <th>AgeID</th>\n",
              "      <th>AgeRange</th>\n",
              "    </tr>\n",
              "  </thead>\n",
              "  <tbody>\n",
              "    <tr>\n",
              "      <th>0</th>\n",
              "      <td>1</td>\n",
              "      <td>\"Under 18\"</td>\n",
              "    </tr>\n",
              "    <tr>\n",
              "      <th>1</th>\n",
              "      <td>18</td>\n",
              "      <td>\"18-24\"</td>\n",
              "    </tr>\n",
              "    <tr>\n",
              "      <th>2</th>\n",
              "      <td>25</td>\n",
              "      <td>\"25-34\"</td>\n",
              "    </tr>\n",
              "    <tr>\n",
              "      <th>3</th>\n",
              "      <td>35</td>\n",
              "      <td>\"35-44\"</td>\n",
              "    </tr>\n",
              "    <tr>\n",
              "      <th>4</th>\n",
              "      <td>45</td>\n",
              "      <td>\"45-49\"</td>\n",
              "    </tr>\n",
              "  </tbody>\n",
              "</table>\n",
              "</div>"
            ],
            "text/plain": [
              "   AgeID    AgeRange\n",
              "0      1  \"Under 18\"\n",
              "1     18     \"18-24\"\n",
              "2     25     \"25-34\"\n",
              "3     35     \"35-44\"\n",
              "4     45     \"45-49\""
            ]
          },
          "metadata": {
            "tags": []
          },
          "execution_count": 58
        }
      ]
    },
    {
      "cell_type": "code",
      "metadata": {
        "id": "0Fq_5gOhHd8p"
      },
      "source": [
        "#Guardad en csv\r\n",
        "df.to_csv(\"movies_age_ranges.csv\")"
      ],
      "execution_count": 59,
      "outputs": []
    },
    {
      "cell_type": "code",
      "metadata": {
        "colab": {
          "base_uri": "https://localhost:8080/"
        },
        "id": "9k1cQRONHftN",
        "outputId": "020f0fca-638e-4b15-c73c-4ddb47fdeec9"
      },
      "source": [
        "# movies\r\n",
        "cursor.execute(\"SELECT * FROM movies\")\r\n",
        "resultado = cursor.fetchall()\r\n",
        "resultado[0]"
      ],
      "execution_count": 60,
      "outputs": [
        {
          "output_type": "execute_result",
          "data": {
            "text/plain": [
              "(1, '\"Toy Story (1995)\"', '\"Animation|Children\\'s|Comedy\"')"
            ]
          },
          "metadata": {
            "tags": []
          },
          "execution_count": 60
        }
      ]
    },
    {
      "cell_type": "code",
      "metadata": {
        "colab": {
          "base_uri": "https://localhost:8080/",
          "height": 195
        },
        "id": "p133WHuMHw1V",
        "outputId": "3c0c60fe-061f-404f-9f63-72f68b4c80e1"
      },
      "source": [
        "df = pd.DataFrame(resultado, columns=['MovieID', 'Title', 'Genres'])\r\n",
        "df.head()"
      ],
      "execution_count": 62,
      "outputs": [
        {
          "output_type": "execute_result",
          "data": {
            "text/html": [
              "<div>\n",
              "<style scoped>\n",
              "    .dataframe tbody tr th:only-of-type {\n",
              "        vertical-align: middle;\n",
              "    }\n",
              "\n",
              "    .dataframe tbody tr th {\n",
              "        vertical-align: top;\n",
              "    }\n",
              "\n",
              "    .dataframe thead th {\n",
              "        text-align: right;\n",
              "    }\n",
              "</style>\n",
              "<table border=\"1\" class=\"dataframe\">\n",
              "  <thead>\n",
              "    <tr style=\"text-align: right;\">\n",
              "      <th></th>\n",
              "      <th>MovieID</th>\n",
              "      <th>Title</th>\n",
              "      <th>Genres</th>\n",
              "    </tr>\n",
              "  </thead>\n",
              "  <tbody>\n",
              "    <tr>\n",
              "      <th>0</th>\n",
              "      <td>1</td>\n",
              "      <td>\"Toy Story (1995)\"</td>\n",
              "      <td>\"Animation|Children's|Comedy\"</td>\n",
              "    </tr>\n",
              "    <tr>\n",
              "      <th>1</th>\n",
              "      <td>2</td>\n",
              "      <td>\"Jumanji (1995)\"</td>\n",
              "      <td>\"Adventure|Children's|Fantasy\"</td>\n",
              "    </tr>\n",
              "    <tr>\n",
              "      <th>2</th>\n",
              "      <td>3</td>\n",
              "      <td>\"Grumpier Old Men (1995)\"</td>\n",
              "      <td>\"Comedy|Romance\"</td>\n",
              "    </tr>\n",
              "    <tr>\n",
              "      <th>3</th>\n",
              "      <td>4</td>\n",
              "      <td>\"Waiting to Exhale (1995)\"</td>\n",
              "      <td>\"Comedy|Drama\"</td>\n",
              "    </tr>\n",
              "    <tr>\n",
              "      <th>4</th>\n",
              "      <td>5</td>\n",
              "      <td>\"Father of the Bride Part II (1995)\"</td>\n",
              "      <td>\"Comedy\"</td>\n",
              "    </tr>\n",
              "  </tbody>\n",
              "</table>\n",
              "</div>"
            ],
            "text/plain": [
              "   MovieID  ...                          Genres\n",
              "0        1  ...   \"Animation|Children's|Comedy\"\n",
              "1        2  ...  \"Adventure|Children's|Fantasy\"\n",
              "2        3  ...                \"Comedy|Romance\"\n",
              "3        4  ...                  \"Comedy|Drama\"\n",
              "4        5  ...                        \"Comedy\"\n",
              "\n",
              "[5 rows x 3 columns]"
            ]
          },
          "metadata": {
            "tags": []
          },
          "execution_count": 62
        }
      ]
    },
    {
      "cell_type": "code",
      "metadata": {
        "colab": {
          "base_uri": "https://localhost:8080/",
          "height": 225
        },
        "id": "_Lnd8Da2If5m",
        "outputId": "818479a8-ff39-4ca7-c0ae-d5affc1f4e21"
      },
      "source": [
        "# Cambiar índice usando MovieID y desechar índice anterior\r\n",
        "df = df.set_index('MovieID', drop=True)\r\n",
        "df.head()"
      ],
      "execution_count": 63,
      "outputs": [
        {
          "output_type": "execute_result",
          "data": {
            "text/html": [
              "<div>\n",
              "<style scoped>\n",
              "    .dataframe tbody tr th:only-of-type {\n",
              "        vertical-align: middle;\n",
              "    }\n",
              "\n",
              "    .dataframe tbody tr th {\n",
              "        vertical-align: top;\n",
              "    }\n",
              "\n",
              "    .dataframe thead th {\n",
              "        text-align: right;\n",
              "    }\n",
              "</style>\n",
              "<table border=\"1\" class=\"dataframe\">\n",
              "  <thead>\n",
              "    <tr style=\"text-align: right;\">\n",
              "      <th></th>\n",
              "      <th>Title</th>\n",
              "      <th>Genres</th>\n",
              "    </tr>\n",
              "    <tr>\n",
              "      <th>MovieID</th>\n",
              "      <th></th>\n",
              "      <th></th>\n",
              "    </tr>\n",
              "  </thead>\n",
              "  <tbody>\n",
              "    <tr>\n",
              "      <th>1</th>\n",
              "      <td>\"Toy Story (1995)\"</td>\n",
              "      <td>\"Animation|Children's|Comedy\"</td>\n",
              "    </tr>\n",
              "    <tr>\n",
              "      <th>2</th>\n",
              "      <td>\"Jumanji (1995)\"</td>\n",
              "      <td>\"Adventure|Children's|Fantasy\"</td>\n",
              "    </tr>\n",
              "    <tr>\n",
              "      <th>3</th>\n",
              "      <td>\"Grumpier Old Men (1995)\"</td>\n",
              "      <td>\"Comedy|Romance\"</td>\n",
              "    </tr>\n",
              "    <tr>\n",
              "      <th>4</th>\n",
              "      <td>\"Waiting to Exhale (1995)\"</td>\n",
              "      <td>\"Comedy|Drama\"</td>\n",
              "    </tr>\n",
              "    <tr>\n",
              "      <th>5</th>\n",
              "      <td>\"Father of the Bride Part II (1995)\"</td>\n",
              "      <td>\"Comedy\"</td>\n",
              "    </tr>\n",
              "  </tbody>\n",
              "</table>\n",
              "</div>"
            ],
            "text/plain": [
              "                                        Title                          Genres\n",
              "MovieID                                                                      \n",
              "1                          \"Toy Story (1995)\"   \"Animation|Children's|Comedy\"\n",
              "2                            \"Jumanji (1995)\"  \"Adventure|Children's|Fantasy\"\n",
              "3                   \"Grumpier Old Men (1995)\"                \"Comedy|Romance\"\n",
              "4                  \"Waiting to Exhale (1995)\"                  \"Comedy|Drama\"\n",
              "5        \"Father of the Bride Part II (1995)\"                        \"Comedy\""
            ]
          },
          "metadata": {
            "tags": []
          },
          "execution_count": 63
        }
      ]
    },
    {
      "cell_type": "code",
      "metadata": {
        "id": "HqJdZ9emIou2"
      },
      "source": [
        "#Guardad en csv\r\n",
        "df.to_csv(\"movies_movies.csv\", sep='$')"
      ],
      "execution_count": 64,
      "outputs": []
    },
    {
      "cell_type": "code",
      "metadata": {
        "colab": {
          "base_uri": "https://localhost:8080/"
        },
        "id": "nN76KdLPIIQE",
        "outputId": "3ba22d72-a4d5-4ff5-b981-99c118304732"
      },
      "source": [
        "# ocupations\r\n",
        "cursor.execute(\"SELECT * FROM occupations\")\r\n",
        "resultado = cursor.fetchall()\r\n",
        "resultado[0]"
      ],
      "execution_count": 65,
      "outputs": [
        {
          "output_type": "execute_result",
          "data": {
            "text/plain": [
              "(0, '\"other or not specified\"')"
            ]
          },
          "metadata": {
            "tags": []
          },
          "execution_count": 65
        }
      ]
    },
    {
      "cell_type": "code",
      "metadata": {
        "colab": {
          "base_uri": "https://localhost:8080/",
          "height": 195
        },
        "id": "ffLtmkY4JGBA",
        "outputId": "26c29a84-20fc-4c26-b8ec-a8e77fe4ef6a"
      },
      "source": [
        "df = pd.DataFrame(resultado, columns=['OccupationID', 'Description'])\r\n",
        "df.head()"
      ],
      "execution_count": 66,
      "outputs": [
        {
          "output_type": "execute_result",
          "data": {
            "text/html": [
              "<div>\n",
              "<style scoped>\n",
              "    .dataframe tbody tr th:only-of-type {\n",
              "        vertical-align: middle;\n",
              "    }\n",
              "\n",
              "    .dataframe tbody tr th {\n",
              "        vertical-align: top;\n",
              "    }\n",
              "\n",
              "    .dataframe thead th {\n",
              "        text-align: right;\n",
              "    }\n",
              "</style>\n",
              "<table border=\"1\" class=\"dataframe\">\n",
              "  <thead>\n",
              "    <tr style=\"text-align: right;\">\n",
              "      <th></th>\n",
              "      <th>OccupationID</th>\n",
              "      <th>Description</th>\n",
              "    </tr>\n",
              "  </thead>\n",
              "  <tbody>\n",
              "    <tr>\n",
              "      <th>0</th>\n",
              "      <td>0</td>\n",
              "      <td>\"other or not specified\"</td>\n",
              "    </tr>\n",
              "    <tr>\n",
              "      <th>1</th>\n",
              "      <td>1</td>\n",
              "      <td>\"academic/educator\"</td>\n",
              "    </tr>\n",
              "    <tr>\n",
              "      <th>2</th>\n",
              "      <td>2</td>\n",
              "      <td>\"artist\"</td>\n",
              "    </tr>\n",
              "    <tr>\n",
              "      <th>3</th>\n",
              "      <td>3</td>\n",
              "      <td>\"clerical/admin\"</td>\n",
              "    </tr>\n",
              "    <tr>\n",
              "      <th>4</th>\n",
              "      <td>4</td>\n",
              "      <td>\"college/grad student\"</td>\n",
              "    </tr>\n",
              "  </tbody>\n",
              "</table>\n",
              "</div>"
            ],
            "text/plain": [
              "   OccupationID               Description\n",
              "0             0  \"other or not specified\"\n",
              "1             1       \"academic/educator\"\n",
              "2             2                  \"artist\"\n",
              "3             3          \"clerical/admin\"\n",
              "4             4    \"college/grad student\""
            ]
          },
          "metadata": {
            "tags": []
          },
          "execution_count": 66
        }
      ]
    },
    {
      "cell_type": "code",
      "metadata": {
        "colab": {
          "base_uri": "https://localhost:8080/",
          "height": 225
        },
        "id": "xgpRr2sVJSLI",
        "outputId": "df3778e0-af74-4adb-e717-4ed27c88c096"
      },
      "source": [
        "# Cambiar índice usando OccupationID y desechar índice anterior\r\n",
        "df = df.set_index('OccupationID', drop=True)\r\n",
        "df.head()"
      ],
      "execution_count": 67,
      "outputs": [
        {
          "output_type": "execute_result",
          "data": {
            "text/html": [
              "<div>\n",
              "<style scoped>\n",
              "    .dataframe tbody tr th:only-of-type {\n",
              "        vertical-align: middle;\n",
              "    }\n",
              "\n",
              "    .dataframe tbody tr th {\n",
              "        vertical-align: top;\n",
              "    }\n",
              "\n",
              "    .dataframe thead th {\n",
              "        text-align: right;\n",
              "    }\n",
              "</style>\n",
              "<table border=\"1\" class=\"dataframe\">\n",
              "  <thead>\n",
              "    <tr style=\"text-align: right;\">\n",
              "      <th></th>\n",
              "      <th>Description</th>\n",
              "    </tr>\n",
              "    <tr>\n",
              "      <th>OccupationID</th>\n",
              "      <th></th>\n",
              "    </tr>\n",
              "  </thead>\n",
              "  <tbody>\n",
              "    <tr>\n",
              "      <th>0</th>\n",
              "      <td>\"other or not specified\"</td>\n",
              "    </tr>\n",
              "    <tr>\n",
              "      <th>1</th>\n",
              "      <td>\"academic/educator\"</td>\n",
              "    </tr>\n",
              "    <tr>\n",
              "      <th>2</th>\n",
              "      <td>\"artist\"</td>\n",
              "    </tr>\n",
              "    <tr>\n",
              "      <th>3</th>\n",
              "      <td>\"clerical/admin\"</td>\n",
              "    </tr>\n",
              "    <tr>\n",
              "      <th>4</th>\n",
              "      <td>\"college/grad student\"</td>\n",
              "    </tr>\n",
              "  </tbody>\n",
              "</table>\n",
              "</div>"
            ],
            "text/plain": [
              "                           Description\n",
              "OccupationID                          \n",
              "0             \"other or not specified\"\n",
              "1                  \"academic/educator\"\n",
              "2                             \"artist\"\n",
              "3                     \"clerical/admin\"\n",
              "4               \"college/grad student\""
            ]
          },
          "metadata": {
            "tags": []
          },
          "execution_count": 67
        }
      ]
    },
    {
      "cell_type": "code",
      "metadata": {
        "id": "T_XjbgHPJgl-"
      },
      "source": [
        "#Guardad en csv\r\n",
        "df.to_csv(\"movies_occupation.csv\", sep='$')"
      ],
      "execution_count": 68,
      "outputs": []
    },
    {
      "cell_type": "code",
      "metadata": {
        "colab": {
          "base_uri": "https://localhost:8080/"
        },
        "id": "XLQP8CxLIK10",
        "outputId": "2291f756-fb50-4b33-b73f-d068605a7b07"
      },
      "source": [
        "# ratings\r\n",
        "cursor.execute(\"SELECT * FROM ratings\")\r\n",
        "resultado = cursor.fetchall()\r\n",
        "resultado[0]"
      ],
      "execution_count": 69,
      "outputs": [
        {
          "output_type": "execute_result",
          "data": {
            "text/plain": [
              "(1, 1193, 5, 978300760)"
            ]
          },
          "metadata": {
            "tags": []
          },
          "execution_count": 69
        }
      ]
    },
    {
      "cell_type": "code",
      "metadata": {
        "colab": {
          "base_uri": "https://localhost:8080/",
          "height": 195
        },
        "id": "_bj79BLrJzxM",
        "outputId": "0fd09d00-d48a-49fd-df38-c00815048dd7"
      },
      "source": [
        "df = pd.DataFrame(resultado, columns=['UserID', 'MovieID', 'Rating', 'Timestamp'])\r\n",
        "df.head()"
      ],
      "execution_count": 70,
      "outputs": [
        {
          "output_type": "execute_result",
          "data": {
            "text/html": [
              "<div>\n",
              "<style scoped>\n",
              "    .dataframe tbody tr th:only-of-type {\n",
              "        vertical-align: middle;\n",
              "    }\n",
              "\n",
              "    .dataframe tbody tr th {\n",
              "        vertical-align: top;\n",
              "    }\n",
              "\n",
              "    .dataframe thead th {\n",
              "        text-align: right;\n",
              "    }\n",
              "</style>\n",
              "<table border=\"1\" class=\"dataframe\">\n",
              "  <thead>\n",
              "    <tr style=\"text-align: right;\">\n",
              "      <th></th>\n",
              "      <th>UserID</th>\n",
              "      <th>MovieID</th>\n",
              "      <th>Rating</th>\n",
              "      <th>Timestamp</th>\n",
              "    </tr>\n",
              "  </thead>\n",
              "  <tbody>\n",
              "    <tr>\n",
              "      <th>0</th>\n",
              "      <td>1</td>\n",
              "      <td>1193</td>\n",
              "      <td>5</td>\n",
              "      <td>978300760</td>\n",
              "    </tr>\n",
              "    <tr>\n",
              "      <th>1</th>\n",
              "      <td>1</td>\n",
              "      <td>661</td>\n",
              "      <td>3</td>\n",
              "      <td>978302109</td>\n",
              "    </tr>\n",
              "    <tr>\n",
              "      <th>2</th>\n",
              "      <td>1</td>\n",
              "      <td>914</td>\n",
              "      <td>3</td>\n",
              "      <td>978301968</td>\n",
              "    </tr>\n",
              "    <tr>\n",
              "      <th>3</th>\n",
              "      <td>1</td>\n",
              "      <td>3408</td>\n",
              "      <td>4</td>\n",
              "      <td>978300275</td>\n",
              "    </tr>\n",
              "    <tr>\n",
              "      <th>4</th>\n",
              "      <td>1</td>\n",
              "      <td>2355</td>\n",
              "      <td>5</td>\n",
              "      <td>978824291</td>\n",
              "    </tr>\n",
              "  </tbody>\n",
              "</table>\n",
              "</div>"
            ],
            "text/plain": [
              "   UserID  MovieID  Rating  Timestamp\n",
              "0       1     1193       5  978300760\n",
              "1       1      661       3  978302109\n",
              "2       1      914       3  978301968\n",
              "3       1     3408       4  978300275\n",
              "4       1     2355       5  978824291"
            ]
          },
          "metadata": {
            "tags": []
          },
          "execution_count": 70
        }
      ]
    },
    {
      "cell_type": "code",
      "metadata": {
        "id": "6ZCPsaf9EY_3"
      },
      "source": [
        "#Guardad en csv\r\n",
        "df.to_csv(\"movies_ratings.csv\")"
      ],
      "execution_count": 71,
      "outputs": []
    },
    {
      "cell_type": "code",
      "metadata": {
        "colab": {
          "base_uri": "https://localhost:8080/"
        },
        "id": "jky4jBBBKpN7",
        "outputId": "e719ef61-a1fd-43b3-eb84-9796bce8d614"
      },
      "source": [
        "#Cerrar la conexión\r\n",
        "cursor.close()"
      ],
      "execution_count": 72,
      "outputs": [
        {
          "output_type": "execute_result",
          "data": {
            "text/plain": [
              "True"
            ]
          },
          "metadata": {
            "tags": []
          },
          "execution_count": 72
        }
      ]
    },
    {
      "cell_type": "markdown",
      "metadata": {
        "id": "5_WEPA2dKHBP"
      },
      "source": [
        "**Ejemplo 3**\r\n",
        "Merge\r\n",
        "\r\n",
        "- Tomar una base de datos segmentada y unirla usando el método `merge`"
      ]
    },
    {
      "cell_type": "code",
      "metadata": {
        "id": "jEuGmtxeLVKi"
      },
      "source": [
        "#Cargar csv modificados\r\n",
        "users = pd.read_csv(\"https://raw.githubusercontent.com/beduExpert/Procesamiento-de-Datos-con-Python-Santander/cf3658c29dff13597642aaf8123b309f305e63bf/Datasets/MovieLens/users-raw.csv\")\r\n",
        "occupations = pd.read_csv(\"https://raw.githubusercontent.com/beduExpert/Procesamiento-de-Datos-con-Python-Santander/cf3658c29dff13597642aaf8123b309f305e63bf/Datasets/MovieLens/occupations-raw.csv\")"
      ],
      "execution_count": 73,
      "outputs": []
    },
    {
      "cell_type": "code",
      "metadata": {
        "colab": {
          "base_uri": "https://localhost:8080/",
          "height": 195
        },
        "id": "cgTzFGJmSK_V",
        "outputId": "2f7fc115-434d-40fd-e189-a453b3dbe95c"
      },
      "source": [
        "users.head()"
      ],
      "execution_count": 76,
      "outputs": [
        {
          "output_type": "execute_result",
          "data": {
            "text/html": [
              "<div>\n",
              "<style scoped>\n",
              "    .dataframe tbody tr th:only-of-type {\n",
              "        vertical-align: middle;\n",
              "    }\n",
              "\n",
              "    .dataframe tbody tr th {\n",
              "        vertical-align: top;\n",
              "    }\n",
              "\n",
              "    .dataframe thead th {\n",
              "        text-align: right;\n",
              "    }\n",
              "</style>\n",
              "<table border=\"1\" class=\"dataframe\">\n",
              "  <thead>\n",
              "    <tr style=\"text-align: right;\">\n",
              "      <th></th>\n",
              "      <th>user_id</th>\n",
              "      <th>gender</th>\n",
              "      <th>age</th>\n",
              "      <th>occupation</th>\n",
              "      <th>cp</th>\n",
              "    </tr>\n",
              "  </thead>\n",
              "  <tbody>\n",
              "    <tr>\n",
              "      <th>0</th>\n",
              "      <td>1</td>\n",
              "      <td>F</td>\n",
              "      <td>1</td>\n",
              "      <td>10</td>\n",
              "      <td>48067</td>\n",
              "    </tr>\n",
              "    <tr>\n",
              "      <th>1</th>\n",
              "      <td>2</td>\n",
              "      <td>M</td>\n",
              "      <td>56</td>\n",
              "      <td>16</td>\n",
              "      <td>70072</td>\n",
              "    </tr>\n",
              "    <tr>\n",
              "      <th>2</th>\n",
              "      <td>3</td>\n",
              "      <td>M</td>\n",
              "      <td>25</td>\n",
              "      <td>15</td>\n",
              "      <td>55117</td>\n",
              "    </tr>\n",
              "    <tr>\n",
              "      <th>3</th>\n",
              "      <td>4</td>\n",
              "      <td>M</td>\n",
              "      <td>45</td>\n",
              "      <td>7</td>\n",
              "      <td>02460</td>\n",
              "    </tr>\n",
              "    <tr>\n",
              "      <th>4</th>\n",
              "      <td>5</td>\n",
              "      <td>M</td>\n",
              "      <td>25</td>\n",
              "      <td>20</td>\n",
              "      <td>55455</td>\n",
              "    </tr>\n",
              "  </tbody>\n",
              "</table>\n",
              "</div>"
            ],
            "text/plain": [
              "   user_id gender  age  occupation     cp\n",
              "0        1      F    1          10  48067\n",
              "1        2      M   56          16  70072\n",
              "2        3      M   25          15  55117\n",
              "3        4      M   45           7  02460\n",
              "4        5      M   25          20  55455"
            ]
          },
          "metadata": {
            "tags": []
          },
          "execution_count": 76
        }
      ]
    },
    {
      "cell_type": "code",
      "metadata": {
        "colab": {
          "base_uri": "https://localhost:8080/",
          "height": 195
        },
        "id": "pJTF2rSRSQHA",
        "outputId": "881d66e8-3f5c-4aed-fe81-9a4ec5d2ef1b"
      },
      "source": [
        "occupations.head()"
      ],
      "execution_count": 77,
      "outputs": [
        {
          "output_type": "execute_result",
          "data": {
            "text/html": [
              "<div>\n",
              "<style scoped>\n",
              "    .dataframe tbody tr th:only-of-type {\n",
              "        vertical-align: middle;\n",
              "    }\n",
              "\n",
              "    .dataframe tbody tr th {\n",
              "        vertical-align: top;\n",
              "    }\n",
              "\n",
              "    .dataframe thead th {\n",
              "        text-align: right;\n",
              "    }\n",
              "</style>\n",
              "<table border=\"1\" class=\"dataframe\">\n",
              "  <thead>\n",
              "    <tr style=\"text-align: right;\">\n",
              "      <th></th>\n",
              "      <th>occupation_id</th>\n",
              "      <th>description</th>\n",
              "    </tr>\n",
              "  </thead>\n",
              "  <tbody>\n",
              "    <tr>\n",
              "      <th>0</th>\n",
              "      <td>0</td>\n",
              "      <td>other or not specified</td>\n",
              "    </tr>\n",
              "    <tr>\n",
              "      <th>1</th>\n",
              "      <td>1</td>\n",
              "      <td>academic/educator</td>\n",
              "    </tr>\n",
              "    <tr>\n",
              "      <th>2</th>\n",
              "      <td>2</td>\n",
              "      <td>artist</td>\n",
              "    </tr>\n",
              "    <tr>\n",
              "      <th>3</th>\n",
              "      <td>3</td>\n",
              "      <td>clerical/admin</td>\n",
              "    </tr>\n",
              "    <tr>\n",
              "      <th>4</th>\n",
              "      <td>4</td>\n",
              "      <td>college/grad student</td>\n",
              "    </tr>\n",
              "  </tbody>\n",
              "</table>\n",
              "</div>"
            ],
            "text/plain": [
              "   occupation_id             description\n",
              "0              0  other or not specified\n",
              "1              1       academic/educator\n",
              "2              2                  artist\n",
              "3              3          clerical/admin\n",
              "4              4    college/grad student"
            ]
          },
          "metadata": {
            "tags": []
          },
          "execution_count": 77
        }
      ]
    },
    {
      "cell_type": "code",
      "metadata": {
        "colab": {
          "base_uri": "https://localhost:8080/",
          "height": 195
        },
        "id": "3AI0R2rBSTWW",
        "outputId": "d8020a80-5548-4b69-8492-bd3af0be3429"
      },
      "source": [
        "#Merge, recordar que en Pandas el default es un \"left join\"\r\n",
        "#Utilizamos left_on para indicar cual columna utilizar para unir a la izquierda y right_on para la tabla derecha,\r\n",
        "#Pero en este caso usamos right_index porque usaremos el índice de la tabla derecha\r\n",
        "users_occupation = pd.merge(users, occupations, left_on='occupation', right_index=True)\r\n",
        "users_occupation.head()"
      ],
      "execution_count": 78,
      "outputs": [
        {
          "output_type": "execute_result",
          "data": {
            "text/html": [
              "<div>\n",
              "<style scoped>\n",
              "    .dataframe tbody tr th:only-of-type {\n",
              "        vertical-align: middle;\n",
              "    }\n",
              "\n",
              "    .dataframe tbody tr th {\n",
              "        vertical-align: top;\n",
              "    }\n",
              "\n",
              "    .dataframe thead th {\n",
              "        text-align: right;\n",
              "    }\n",
              "</style>\n",
              "<table border=\"1\" class=\"dataframe\">\n",
              "  <thead>\n",
              "    <tr style=\"text-align: right;\">\n",
              "      <th></th>\n",
              "      <th>user_id</th>\n",
              "      <th>gender</th>\n",
              "      <th>age</th>\n",
              "      <th>occupation</th>\n",
              "      <th>cp</th>\n",
              "      <th>occupation_id</th>\n",
              "      <th>description</th>\n",
              "    </tr>\n",
              "  </thead>\n",
              "  <tbody>\n",
              "    <tr>\n",
              "      <th>0</th>\n",
              "      <td>1</td>\n",
              "      <td>F</td>\n",
              "      <td>1</td>\n",
              "      <td>10</td>\n",
              "      <td>48067</td>\n",
              "      <td>10</td>\n",
              "      <td>K-12 student</td>\n",
              "    </tr>\n",
              "    <tr>\n",
              "      <th>18</th>\n",
              "      <td>19</td>\n",
              "      <td>M</td>\n",
              "      <td>1</td>\n",
              "      <td>10</td>\n",
              "      <td>48073</td>\n",
              "      <td>10</td>\n",
              "      <td>K-12 student</td>\n",
              "    </tr>\n",
              "    <tr>\n",
              "      <th>50</th>\n",
              "      <td>51</td>\n",
              "      <td>F</td>\n",
              "      <td>1</td>\n",
              "      <td>10</td>\n",
              "      <td>10562</td>\n",
              "      <td>10</td>\n",
              "      <td>K-12 student</td>\n",
              "    </tr>\n",
              "    <tr>\n",
              "      <th>74</th>\n",
              "      <td>75</td>\n",
              "      <td>F</td>\n",
              "      <td>1</td>\n",
              "      <td>10</td>\n",
              "      <td>01748</td>\n",
              "      <td>10</td>\n",
              "      <td>K-12 student</td>\n",
              "    </tr>\n",
              "    <tr>\n",
              "      <th>85</th>\n",
              "      <td>86</td>\n",
              "      <td>F</td>\n",
              "      <td>1</td>\n",
              "      <td>10</td>\n",
              "      <td>54467</td>\n",
              "      <td>10</td>\n",
              "      <td>K-12 student</td>\n",
              "    </tr>\n",
              "  </tbody>\n",
              "</table>\n",
              "</div>"
            ],
            "text/plain": [
              "    user_id gender  age  occupation     cp  occupation_id   description\n",
              "0         1      F    1          10  48067             10  K-12 student\n",
              "18       19      M    1          10  48073             10  K-12 student\n",
              "50       51      F    1          10  10562             10  K-12 student\n",
              "74       75      F    1          10  01748             10  K-12 student\n",
              "85       86      F    1          10  54467             10  K-12 student"
            ]
          },
          "metadata": {
            "tags": []
          },
          "execution_count": 78
        }
      ]
    },
    {
      "cell_type": "code",
      "metadata": {
        "id": "jG0P3KntTLKX"
      },
      "source": [
        "#Cambiar nombre de columna\r\n",
        "users_occupation = users_occupation.rename(columns={'description': 'occupation_description'})"
      ],
      "execution_count": 79,
      "outputs": []
    },
    {
      "cell_type": "code",
      "metadata": {
        "id": "ZwC-KfiQU-yL"
      },
      "source": [
        "#Cambiar nombre columna\r\n",
        "users_occupation = users_occupation.rename(columns={'age': 'age_id'})"
      ],
      "execution_count": 82,
      "outputs": []
    },
    {
      "cell_type": "code",
      "metadata": {
        "colab": {
          "base_uri": "https://localhost:8080/",
          "height": 195
        },
        "id": "37Ft-9p-TiDY",
        "outputId": "81c3577d-d348-4fca-b06b-aaf53a420807"
      },
      "source": [
        "#La información de columnas occupation y occupation_id se repite\r\n",
        "#Se puede usar drop o del\r\n",
        "del users_occupation['occupation']\r\n",
        "del users_occupation['occupation_id']\r\n",
        "users_occupation.head()"
      ],
      "execution_count": 80,
      "outputs": [
        {
          "output_type": "execute_result",
          "data": {
            "text/html": [
              "<div>\n",
              "<style scoped>\n",
              "    .dataframe tbody tr th:only-of-type {\n",
              "        vertical-align: middle;\n",
              "    }\n",
              "\n",
              "    .dataframe tbody tr th {\n",
              "        vertical-align: top;\n",
              "    }\n",
              "\n",
              "    .dataframe thead th {\n",
              "        text-align: right;\n",
              "    }\n",
              "</style>\n",
              "<table border=\"1\" class=\"dataframe\">\n",
              "  <thead>\n",
              "    <tr style=\"text-align: right;\">\n",
              "      <th></th>\n",
              "      <th>user_id</th>\n",
              "      <th>gender</th>\n",
              "      <th>age</th>\n",
              "      <th>cp</th>\n",
              "      <th>occupation_description</th>\n",
              "    </tr>\n",
              "  </thead>\n",
              "  <tbody>\n",
              "    <tr>\n",
              "      <th>0</th>\n",
              "      <td>1</td>\n",
              "      <td>F</td>\n",
              "      <td>1</td>\n",
              "      <td>48067</td>\n",
              "      <td>K-12 student</td>\n",
              "    </tr>\n",
              "    <tr>\n",
              "      <th>18</th>\n",
              "      <td>19</td>\n",
              "      <td>M</td>\n",
              "      <td>1</td>\n",
              "      <td>48073</td>\n",
              "      <td>K-12 student</td>\n",
              "    </tr>\n",
              "    <tr>\n",
              "      <th>50</th>\n",
              "      <td>51</td>\n",
              "      <td>F</td>\n",
              "      <td>1</td>\n",
              "      <td>10562</td>\n",
              "      <td>K-12 student</td>\n",
              "    </tr>\n",
              "    <tr>\n",
              "      <th>74</th>\n",
              "      <td>75</td>\n",
              "      <td>F</td>\n",
              "      <td>1</td>\n",
              "      <td>01748</td>\n",
              "      <td>K-12 student</td>\n",
              "    </tr>\n",
              "    <tr>\n",
              "      <th>85</th>\n",
              "      <td>86</td>\n",
              "      <td>F</td>\n",
              "      <td>1</td>\n",
              "      <td>54467</td>\n",
              "      <td>K-12 student</td>\n",
              "    </tr>\n",
              "  </tbody>\n",
              "</table>\n",
              "</div>"
            ],
            "text/plain": [
              "    user_id gender  age     cp occupation_description\n",
              "0         1      F    1  48067           K-12 student\n",
              "18       19      M    1  48073           K-12 student\n",
              "50       51      F    1  10562           K-12 student\n",
              "74       75      F    1  01748           K-12 student\n",
              "85       86      F    1  54467           K-12 student"
            ]
          },
          "metadata": {
            "tags": []
          },
          "execution_count": 80
        }
      ]
    },
    {
      "cell_type": "code",
      "metadata": {
        "colab": {
          "base_uri": "https://localhost:8080/",
          "height": 195
        },
        "id": "8fK3iKgfUCeX",
        "outputId": "c5fb0c82-5007-441b-e1bb-e2ea1a88e2c1"
      },
      "source": [
        "#Ver columnas ordenadas or user_id\r\n",
        "users_occupation.sort_values('user_id').head()"
      ],
      "execution_count": 83,
      "outputs": [
        {
          "output_type": "execute_result",
          "data": {
            "text/html": [
              "<div>\n",
              "<style scoped>\n",
              "    .dataframe tbody tr th:only-of-type {\n",
              "        vertical-align: middle;\n",
              "    }\n",
              "\n",
              "    .dataframe tbody tr th {\n",
              "        vertical-align: top;\n",
              "    }\n",
              "\n",
              "    .dataframe thead th {\n",
              "        text-align: right;\n",
              "    }\n",
              "</style>\n",
              "<table border=\"1\" class=\"dataframe\">\n",
              "  <thead>\n",
              "    <tr style=\"text-align: right;\">\n",
              "      <th></th>\n",
              "      <th>user_id</th>\n",
              "      <th>gender</th>\n",
              "      <th>age_id</th>\n",
              "      <th>cp</th>\n",
              "      <th>occupation_description</th>\n",
              "    </tr>\n",
              "  </thead>\n",
              "  <tbody>\n",
              "    <tr>\n",
              "      <th>0</th>\n",
              "      <td>1</td>\n",
              "      <td>F</td>\n",
              "      <td>1</td>\n",
              "      <td>48067</td>\n",
              "      <td>K-12 student</td>\n",
              "    </tr>\n",
              "    <tr>\n",
              "      <th>1</th>\n",
              "      <td>2</td>\n",
              "      <td>M</td>\n",
              "      <td>56</td>\n",
              "      <td>70072</td>\n",
              "      <td>self-employed</td>\n",
              "    </tr>\n",
              "    <tr>\n",
              "      <th>2</th>\n",
              "      <td>3</td>\n",
              "      <td>M</td>\n",
              "      <td>25</td>\n",
              "      <td>55117</td>\n",
              "      <td>scientist</td>\n",
              "    </tr>\n",
              "    <tr>\n",
              "      <th>3</th>\n",
              "      <td>4</td>\n",
              "      <td>M</td>\n",
              "      <td>45</td>\n",
              "      <td>02460</td>\n",
              "      <td>executive/managerial</td>\n",
              "    </tr>\n",
              "    <tr>\n",
              "      <th>4</th>\n",
              "      <td>5</td>\n",
              "      <td>M</td>\n",
              "      <td>25</td>\n",
              "      <td>55455</td>\n",
              "      <td>writer</td>\n",
              "    </tr>\n",
              "  </tbody>\n",
              "</table>\n",
              "</div>"
            ],
            "text/plain": [
              "   user_id gender  age_id     cp occupation_description\n",
              "0        1      F       1  48067           K-12 student\n",
              "1        2      M      56  70072          self-employed\n",
              "2        3      M      25  55117              scientist\n",
              "3        4      M      45  02460   executive/managerial\n",
              "4        5      M      25  55455                 writer"
            ]
          },
          "metadata": {
            "tags": []
          },
          "execution_count": 83
        }
      ]
    },
    {
      "cell_type": "markdown",
      "metadata": {
        "id": "XHKAAwWhVv0D"
      },
      "source": [
        "**Ejemplo 4**\r\n",
        "Agrupando datos con groupby\r\n",
        "\r\n",
        "- Aprender a usar `grouby` para segmentar nuestros conjuntos de datos y aplicar funciones agregadoras a cada segmento."
      ]
    },
    {
      "cell_type": "code",
      "metadata": {
        "colab": {
          "base_uri": "https://localhost:8080/"
        },
        "id": "ONZSfKGMVyG1",
        "outputId": "f7fd3205-e780-47f3-8bcf-d413abd95464"
      },
      "source": [
        "#Agrupar por género y acupación\r\n",
        "users_occupation.groupby('gender')['occupation_description'].value_counts()"
      ],
      "execution_count": 88,
      "outputs": [
        {
          "output_type": "execute_result",
          "data": {
            "text/plain": [
              "gender  occupation_description\n",
              "F       college/grad student      234\n",
              "        other or not specified    232\n",
              "        academic/educator         209\n",
              "        executive/managerial      139\n",
              "        doctor/health care        102\n",
              "        clerical/admin            100\n",
              "        artist                     91\n",
              "        homemaker                  89\n",
              "        sales/marketing            79\n",
              "        writer                     78\n",
              "        K-12 student               66\n",
              "        technician/engineer        52\n",
              "        self-employed              51\n",
              "        programmer                 50\n",
              "        retired                    34\n",
              "        customer service           31\n",
              "        scientist                  28\n",
              "        lawyer                     22\n",
              "        unemployed                 15\n",
              "        tradesman/craftsman         4\n",
              "        farmer                      3\n",
              "M       executive/managerial      540\n",
              "        college/grad student      525\n",
              "        other or not specified    479\n",
              "        technician/engineer       450\n",
              "        programmer                338\n",
              "        academic/educator         319\n",
              "        sales/marketing           223\n",
              "        writer                    203\n",
              "        self-employed             190\n",
              "        artist                    176\n",
              "        doctor/health care        134\n",
              "        K-12 student              129\n",
              "        scientist                 116\n",
              "        retired                   108\n",
              "        lawyer                    107\n",
              "        customer service           81\n",
              "        clerical/admin             73\n",
              "        tradesman/craftsman        66\n",
              "        unemployed                 57\n",
              "        farmer                     14\n",
              "        homemaker                   3\n",
              "Name: occupation_description, dtype: int64"
            ]
          },
          "metadata": {
            "tags": []
          },
          "execution_count": 88
        }
      ]
    },
    {
      "cell_type": "code",
      "metadata": {
        "id": "ni42nqdqWUd4"
      },
      "source": [
        "#Agrupar por género, edad y ocupación\r\n",
        "group_results = users_occupation.groupby(['gender','age_id'])['occupation_description'].value_counts()"
      ],
      "execution_count": 91,
      "outputs": []
    },
    {
      "cell_type": "code",
      "metadata": {
        "colab": {
          "base_uri": "https://localhost:8080/"
        },
        "id": "fyF8vhHdWyYe",
        "outputId": "05951bae-caf5-4d81-da0c-bad65f60c3ad"
      },
      "source": [
        "group_results.loc[('F', 18)]"
      ],
      "execution_count": 92,
      "outputs": [
        {
          "output_type": "execute_result",
          "data": {
            "text/plain": [
              "occupation_description\n",
              "college/grad student      163\n",
              "other or not specified     32\n",
              "academic/educator          18\n",
              "sales/marketing            15\n",
              "writer                     14\n",
              "artist                      9\n",
              "clerical/admin              9\n",
              "technician/engineer         6\n",
              "unemployed                  6\n",
              "customer service            5\n",
              "homemaker                   5\n",
              "K-12 student                3\n",
              "doctor/health care          3\n",
              "executive/managerial        3\n",
              "programmer                  3\n",
              "self-employed               2\n",
              "lawyer                      1\n",
              "scientist                   1\n",
              "Name: occupation_description, dtype: int64"
            ]
          },
          "metadata": {
            "tags": []
          },
          "execution_count": 92
        }
      ]
    },
    {
      "cell_type": "code",
      "metadata": {
        "colab": {
          "base_uri": "https://localhost:8080/"
        },
        "id": "3sCgq_O9XATM",
        "outputId": "7594300f-37c2-4b3d-bf05-9eced950468a"
      },
      "source": [
        "#Agregaciones para hacer cálculos\r\n",
        "group_results.agg(pd.Series.median)"
      ],
      "execution_count": 95,
      "outputs": [
        {
          "output_type": "execute_result",
          "data": {
            "text/plain": [
              "11.0"
            ]
          },
          "metadata": {
            "tags": []
          },
          "execution_count": 95
        }
      ]
    },
    {
      "cell_type": "code",
      "metadata": {
        "colab": {
          "base_uri": "https://localhost:8080/",
          "height": 136
        },
        "id": "CVqmEPFtXeGm",
        "outputId": "b9b5af38-c4bb-4474-e2a6-e71370c65cd4"
      },
      "source": [
        "#Para agrupar y ver la moda\r\n",
        "users_occupation.groupby('gender')[['age_id', 'occupation_description']].agg(pd.Series.mode)"
      ],
      "execution_count": 94,
      "outputs": [
        {
          "output_type": "execute_result",
          "data": {
            "text/html": [
              "<div>\n",
              "<style scoped>\n",
              "    .dataframe tbody tr th:only-of-type {\n",
              "        vertical-align: middle;\n",
              "    }\n",
              "\n",
              "    .dataframe tbody tr th {\n",
              "        vertical-align: top;\n",
              "    }\n",
              "\n",
              "    .dataframe thead th {\n",
              "        text-align: right;\n",
              "    }\n",
              "</style>\n",
              "<table border=\"1\" class=\"dataframe\">\n",
              "  <thead>\n",
              "    <tr style=\"text-align: right;\">\n",
              "      <th></th>\n",
              "      <th>age_id</th>\n",
              "      <th>occupation_description</th>\n",
              "    </tr>\n",
              "    <tr>\n",
              "      <th>gender</th>\n",
              "      <th></th>\n",
              "      <th></th>\n",
              "    </tr>\n",
              "  </thead>\n",
              "  <tbody>\n",
              "    <tr>\n",
              "      <th>F</th>\n",
              "      <td>25</td>\n",
              "      <td>college/grad student</td>\n",
              "    </tr>\n",
              "    <tr>\n",
              "      <th>M</th>\n",
              "      <td>25</td>\n",
              "      <td>executive/managerial</td>\n",
              "    </tr>\n",
              "  </tbody>\n",
              "</table>\n",
              "</div>"
            ],
            "text/plain": [
              "        age_id occupation_description\n",
              "gender                               \n",
              "F           25   college/grad student\n",
              "M           25   executive/managerial"
            ]
          },
          "metadata": {
            "tags": []
          },
          "execution_count": 94
        }
      ]
    },
    {
      "cell_type": "markdown",
      "metadata": {
        "id": "T56w4-gZYHd6"
      },
      "source": [
        "**Retos 4, 5 y 6**\r\n",
        "\r\n",
        "**Reto 4**\r\n",
        "\r\n",
        "**a) Las 50 películas con mejor rating**\r\n",
        "Vamos a hacer una visualización muy sencilla de las 50 películas que tienen mejor rating en nuestro dataset. Tu Reto consiste en seguir los siguientes pasos:\r\n",
        "\r\n",
        "1. Lee los archivos movies y ratings.\r\n",
        "2. Agrupa ratings por id de película y computa el promedio de rating para cada película\r\n",
        "3. Crea un nuevo DataFrame que sólo contenga las 50 películas con mejor promedio de ratings\r\n",
        "4. Agrega al DataFrame anterior los nombres de las películas usando la tabla movies.\r\n",
        "5. Al final tendrás un DataFrame con los nombres de las 50 películas con mejor rating ('title') y el promedio de sus ratings ('rating'). Asigna este resultado a la variable las_mejores_50."
      ]
    },
    {
      "cell_type": "code",
      "metadata": {
        "id": "BQXk21OwaqBT"
      },
      "source": [
        "movie = pd.read_csv(\"https://raw.githubusercontent.com/beduExpert/Procesamiento-de-Datos-con-Python-Santander/master/Datasets/MovieLens/movies-separated_by_money-raw.csv\", sep='$')\r\n",
        "rating = pd.read_csv(\"https://raw.githubusercontent.com/beduExpert/Procesamiento-de-Datos-con-Python-Santander/master/Datasets/MovieLens/ratings-raw.csv\")"
      ],
      "execution_count": 11,
      "outputs": []
    },
    {
      "cell_type": "code",
      "metadata": {
        "colab": {
          "base_uri": "https://localhost:8080/",
          "height": 195
        },
        "id": "b9u_eCyWdway",
        "outputId": "4270104f-feb2-4e45-b87c-9dfcbc34087b"
      },
      "source": [
        "movie.head()"
      ],
      "execution_count": 12,
      "outputs": [
        {
          "output_type": "execute_result",
          "data": {
            "text/html": [
              "<div>\n",
              "<style scoped>\n",
              "    .dataframe tbody tr th:only-of-type {\n",
              "        vertical-align: middle;\n",
              "    }\n",
              "\n",
              "    .dataframe tbody tr th {\n",
              "        vertical-align: top;\n",
              "    }\n",
              "\n",
              "    .dataframe thead th {\n",
              "        text-align: right;\n",
              "    }\n",
              "</style>\n",
              "<table border=\"1\" class=\"dataframe\">\n",
              "  <thead>\n",
              "    <tr style=\"text-align: right;\">\n",
              "      <th></th>\n",
              "      <th>movie_id</th>\n",
              "      <th>title</th>\n",
              "      <th>genres</th>\n",
              "    </tr>\n",
              "  </thead>\n",
              "  <tbody>\n",
              "    <tr>\n",
              "      <th>0</th>\n",
              "      <td>1</td>\n",
              "      <td>Toy Story (1995)</td>\n",
              "      <td>Animation|Children's|Comedy</td>\n",
              "    </tr>\n",
              "    <tr>\n",
              "      <th>1</th>\n",
              "      <td>2</td>\n",
              "      <td>Jumanji (1995)</td>\n",
              "      <td>Adventure|Children's|Fantasy</td>\n",
              "    </tr>\n",
              "    <tr>\n",
              "      <th>2</th>\n",
              "      <td>3</td>\n",
              "      <td>Grumpier Old Men (1995)</td>\n",
              "      <td>Comedy|Romance</td>\n",
              "    </tr>\n",
              "    <tr>\n",
              "      <th>3</th>\n",
              "      <td>4</td>\n",
              "      <td>Waiting to Exhale (1995)</td>\n",
              "      <td>Comedy|Drama</td>\n",
              "    </tr>\n",
              "    <tr>\n",
              "      <th>4</th>\n",
              "      <td>5</td>\n",
              "      <td>Father of the Bride Part II (1995)</td>\n",
              "      <td>Comedy</td>\n",
              "    </tr>\n",
              "  </tbody>\n",
              "</table>\n",
              "</div>"
            ],
            "text/plain": [
              "   movie_id                               title                        genres\n",
              "0         1                    Toy Story (1995)   Animation|Children's|Comedy\n",
              "1         2                      Jumanji (1995)  Adventure|Children's|Fantasy\n",
              "2         3             Grumpier Old Men (1995)                Comedy|Romance\n",
              "3         4            Waiting to Exhale (1995)                  Comedy|Drama\n",
              "4         5  Father of the Bride Part II (1995)                        Comedy"
            ]
          },
          "metadata": {
            "tags": []
          },
          "execution_count": 12
        }
      ]
    },
    {
      "cell_type": "code",
      "metadata": {
        "colab": {
          "base_uri": "https://localhost:8080/",
          "height": 195
        },
        "id": "5ElDT63ydsYm",
        "outputId": "a06a3ded-2ffe-4283-f936-369fc124a5cc"
      },
      "source": [
        "rating.head()"
      ],
      "execution_count": 13,
      "outputs": [
        {
          "output_type": "execute_result",
          "data": {
            "text/html": [
              "<div>\n",
              "<style scoped>\n",
              "    .dataframe tbody tr th:only-of-type {\n",
              "        vertical-align: middle;\n",
              "    }\n",
              "\n",
              "    .dataframe tbody tr th {\n",
              "        vertical-align: top;\n",
              "    }\n",
              "\n",
              "    .dataframe thead th {\n",
              "        text-align: right;\n",
              "    }\n",
              "</style>\n",
              "<table border=\"1\" class=\"dataframe\">\n",
              "  <thead>\n",
              "    <tr style=\"text-align: right;\">\n",
              "      <th></th>\n",
              "      <th>user_id</th>\n",
              "      <th>movie_id</th>\n",
              "      <th>rating</th>\n",
              "      <th>timestamp</th>\n",
              "    </tr>\n",
              "  </thead>\n",
              "  <tbody>\n",
              "    <tr>\n",
              "      <th>0</th>\n",
              "      <td>1</td>\n",
              "      <td>1193</td>\n",
              "      <td>5</td>\n",
              "      <td>978300760</td>\n",
              "    </tr>\n",
              "    <tr>\n",
              "      <th>1</th>\n",
              "      <td>1</td>\n",
              "      <td>661</td>\n",
              "      <td>3</td>\n",
              "      <td>978302109</td>\n",
              "    </tr>\n",
              "    <tr>\n",
              "      <th>2</th>\n",
              "      <td>1</td>\n",
              "      <td>914</td>\n",
              "      <td>3</td>\n",
              "      <td>978301968</td>\n",
              "    </tr>\n",
              "    <tr>\n",
              "      <th>3</th>\n",
              "      <td>1</td>\n",
              "      <td>3408</td>\n",
              "      <td>4</td>\n",
              "      <td>978300275</td>\n",
              "    </tr>\n",
              "    <tr>\n",
              "      <th>4</th>\n",
              "      <td>1</td>\n",
              "      <td>2355</td>\n",
              "      <td>5</td>\n",
              "      <td>978824291</td>\n",
              "    </tr>\n",
              "  </tbody>\n",
              "</table>\n",
              "</div>"
            ],
            "text/plain": [
              "   user_id  movie_id  rating  timestamp\n",
              "0        1      1193       5  978300760\n",
              "1        1       661       3  978302109\n",
              "2        1       914       3  978301968\n",
              "3        1      3408       4  978300275\n",
              "4        1      2355       5  978824291"
            ]
          },
          "metadata": {
            "tags": []
          },
          "execution_count": 13
        }
      ]
    },
    {
      "cell_type": "code",
      "metadata": {
        "colab": {
          "base_uri": "https://localhost:8080/",
          "height": 195
        },
        "id": "s9qlTeVMb7kt",
        "outputId": "3791bfe9-e04e-4843-95ad-47c671f5552b"
      },
      "source": [
        "#Merge\r\n",
        "rating_movie = pd.merge(rating, movie, left_on='movie_id', right_on='movie_id')\r\n",
        "rating_movie.head()"
      ],
      "execution_count": 15,
      "outputs": [
        {
          "output_type": "execute_result",
          "data": {
            "text/html": [
              "<div>\n",
              "<style scoped>\n",
              "    .dataframe tbody tr th:only-of-type {\n",
              "        vertical-align: middle;\n",
              "    }\n",
              "\n",
              "    .dataframe tbody tr th {\n",
              "        vertical-align: top;\n",
              "    }\n",
              "\n",
              "    .dataframe thead th {\n",
              "        text-align: right;\n",
              "    }\n",
              "</style>\n",
              "<table border=\"1\" class=\"dataframe\">\n",
              "  <thead>\n",
              "    <tr style=\"text-align: right;\">\n",
              "      <th></th>\n",
              "      <th>user_id</th>\n",
              "      <th>movie_id</th>\n",
              "      <th>rating</th>\n",
              "      <th>timestamp</th>\n",
              "      <th>title</th>\n",
              "      <th>genres</th>\n",
              "    </tr>\n",
              "  </thead>\n",
              "  <tbody>\n",
              "    <tr>\n",
              "      <th>0</th>\n",
              "      <td>1</td>\n",
              "      <td>1193</td>\n",
              "      <td>5</td>\n",
              "      <td>978300760</td>\n",
              "      <td>One Flew Over the Cuckoo's Nest (1975)</td>\n",
              "      <td>Drama</td>\n",
              "    </tr>\n",
              "    <tr>\n",
              "      <th>1</th>\n",
              "      <td>2</td>\n",
              "      <td>1193</td>\n",
              "      <td>5</td>\n",
              "      <td>978298413</td>\n",
              "      <td>One Flew Over the Cuckoo's Nest (1975)</td>\n",
              "      <td>Drama</td>\n",
              "    </tr>\n",
              "    <tr>\n",
              "      <th>2</th>\n",
              "      <td>12</td>\n",
              "      <td>1193</td>\n",
              "      <td>4</td>\n",
              "      <td>978220179</td>\n",
              "      <td>One Flew Over the Cuckoo's Nest (1975)</td>\n",
              "      <td>Drama</td>\n",
              "    </tr>\n",
              "    <tr>\n",
              "      <th>3</th>\n",
              "      <td>15</td>\n",
              "      <td>1193</td>\n",
              "      <td>4</td>\n",
              "      <td>978199279</td>\n",
              "      <td>One Flew Over the Cuckoo's Nest (1975)</td>\n",
              "      <td>Drama</td>\n",
              "    </tr>\n",
              "    <tr>\n",
              "      <th>4</th>\n",
              "      <td>17</td>\n",
              "      <td>1193</td>\n",
              "      <td>5</td>\n",
              "      <td>978158471</td>\n",
              "      <td>One Flew Over the Cuckoo's Nest (1975)</td>\n",
              "      <td>Drama</td>\n",
              "    </tr>\n",
              "  </tbody>\n",
              "</table>\n",
              "</div>"
            ],
            "text/plain": [
              "   user_id  movie_id  ...                                   title  genres\n",
              "0        1      1193  ...  One Flew Over the Cuckoo's Nest (1975)   Drama\n",
              "1        2      1193  ...  One Flew Over the Cuckoo's Nest (1975)   Drama\n",
              "2       12      1193  ...  One Flew Over the Cuckoo's Nest (1975)   Drama\n",
              "3       15      1193  ...  One Flew Over the Cuckoo's Nest (1975)   Drama\n",
              "4       17      1193  ...  One Flew Over the Cuckoo's Nest (1975)   Drama\n",
              "\n",
              "[5 rows x 6 columns]"
            ]
          },
          "metadata": {
            "tags": []
          },
          "execution_count": 15
        }
      ]
    },
    {
      "cell_type": "code",
      "metadata": {
        "colab": {
          "base_uri": "https://localhost:8080/",
          "height": 195
        },
        "id": "0RuVV1dkeV0e",
        "outputId": "7c589f4f-3b8f-4ba4-834e-b0291e0d1f16"
      },
      "source": [
        "#del rating_movie['Unnamed: 0']\r\n",
        "#rating_movie.head()"
      ],
      "execution_count": 106,
      "outputs": [
        {
          "output_type": "execute_result",
          "data": {
            "text/html": [
              "<div>\n",
              "<style scoped>\n",
              "    .dataframe tbody tr th:only-of-type {\n",
              "        vertical-align: middle;\n",
              "    }\n",
              "\n",
              "    .dataframe tbody tr th {\n",
              "        vertical-align: top;\n",
              "    }\n",
              "\n",
              "    .dataframe thead th {\n",
              "        text-align: right;\n",
              "    }\n",
              "</style>\n",
              "<table border=\"1\" class=\"dataframe\">\n",
              "  <thead>\n",
              "    <tr style=\"text-align: right;\">\n",
              "      <th></th>\n",
              "      <th>UserID</th>\n",
              "      <th>MovieID</th>\n",
              "      <th>Rating</th>\n",
              "      <th>Timestamp</th>\n",
              "      <th>Title</th>\n",
              "      <th>Genres</th>\n",
              "    </tr>\n",
              "  </thead>\n",
              "  <tbody>\n",
              "    <tr>\n",
              "      <th>0</th>\n",
              "      <td>1</td>\n",
              "      <td>1193</td>\n",
              "      <td>5</td>\n",
              "      <td>978300760</td>\n",
              "      <td>\"One Flew Over the Cuckoo's Nest (1975)\"</td>\n",
              "      <td>\"Drama\"</td>\n",
              "    </tr>\n",
              "    <tr>\n",
              "      <th>1</th>\n",
              "      <td>2</td>\n",
              "      <td>1193</td>\n",
              "      <td>5</td>\n",
              "      <td>978298413</td>\n",
              "      <td>\"One Flew Over the Cuckoo's Nest (1975)\"</td>\n",
              "      <td>\"Drama\"</td>\n",
              "    </tr>\n",
              "    <tr>\n",
              "      <th>2</th>\n",
              "      <td>12</td>\n",
              "      <td>1193</td>\n",
              "      <td>4</td>\n",
              "      <td>978220179</td>\n",
              "      <td>\"One Flew Over the Cuckoo's Nest (1975)\"</td>\n",
              "      <td>\"Drama\"</td>\n",
              "    </tr>\n",
              "    <tr>\n",
              "      <th>3</th>\n",
              "      <td>15</td>\n",
              "      <td>1193</td>\n",
              "      <td>4</td>\n",
              "      <td>978199279</td>\n",
              "      <td>\"One Flew Over the Cuckoo's Nest (1975)\"</td>\n",
              "      <td>\"Drama\"</td>\n",
              "    </tr>\n",
              "    <tr>\n",
              "      <th>4</th>\n",
              "      <td>17</td>\n",
              "      <td>1193</td>\n",
              "      <td>5</td>\n",
              "      <td>978158471</td>\n",
              "      <td>\"One Flew Over the Cuckoo's Nest (1975)\"</td>\n",
              "      <td>\"Drama\"</td>\n",
              "    </tr>\n",
              "  </tbody>\n",
              "</table>\n",
              "</div>"
            ],
            "text/plain": [
              "   UserID  MovieID  ...                                     Title   Genres\n",
              "0       1     1193  ...  \"One Flew Over the Cuckoo's Nest (1975)\"  \"Drama\"\n",
              "1       2     1193  ...  \"One Flew Over the Cuckoo's Nest (1975)\"  \"Drama\"\n",
              "2      12     1193  ...  \"One Flew Over the Cuckoo's Nest (1975)\"  \"Drama\"\n",
              "3      15     1193  ...  \"One Flew Over the Cuckoo's Nest (1975)\"  \"Drama\"\n",
              "4      17     1193  ...  \"One Flew Over the Cuckoo's Nest (1975)\"  \"Drama\"\n",
              "\n",
              "[5 rows x 6 columns]"
            ]
          },
          "metadata": {
            "tags": []
          },
          "execution_count": 106
        }
      ]
    },
    {
      "cell_type": "code",
      "metadata": {
        "colab": {
          "base_uri": "https://localhost:8080/",
          "height": 402
        },
        "id": "yHtpOO3agALG",
        "outputId": "ededbbc7-186c-434a-a070-e6d78a2f8db1"
      },
      "source": [
        "rating_movie.sort_values('rating', ascending=False)"
      ],
      "execution_count": 16,
      "outputs": [
        {
          "output_type": "execute_result",
          "data": {
            "text/html": [
              "<div>\n",
              "<style scoped>\n",
              "    .dataframe tbody tr th:only-of-type {\n",
              "        vertical-align: middle;\n",
              "    }\n",
              "\n",
              "    .dataframe tbody tr th {\n",
              "        vertical-align: top;\n",
              "    }\n",
              "\n",
              "    .dataframe thead th {\n",
              "        text-align: right;\n",
              "    }\n",
              "</style>\n",
              "<table border=\"1\" class=\"dataframe\">\n",
              "  <thead>\n",
              "    <tr style=\"text-align: right;\">\n",
              "      <th></th>\n",
              "      <th>user_id</th>\n",
              "      <th>movie_id</th>\n",
              "      <th>rating</th>\n",
              "      <th>timestamp</th>\n",
              "      <th>title</th>\n",
              "      <th>genres</th>\n",
              "    </tr>\n",
              "  </thead>\n",
              "  <tbody>\n",
              "    <tr>\n",
              "      <th>0</th>\n",
              "      <td>1</td>\n",
              "      <td>1193</td>\n",
              "      <td>5</td>\n",
              "      <td>978300760</td>\n",
              "      <td>One Flew Over the Cuckoo's Nest (1975)</td>\n",
              "      <td>Drama</td>\n",
              "    </tr>\n",
              "    <tr>\n",
              "      <th>233790</th>\n",
              "      <td>5359</td>\n",
              "      <td>2770</td>\n",
              "      <td>5</td>\n",
              "      <td>960602665</td>\n",
              "      <td>Bowfinger (1999)</td>\n",
              "      <td>Comedy</td>\n",
              "    </tr>\n",
              "    <tr>\n",
              "      <th>233813</th>\n",
              "      <td>5483</td>\n",
              "      <td>2770</td>\n",
              "      <td>5</td>\n",
              "      <td>959888512</td>\n",
              "      <td>Bowfinger (1999)</td>\n",
              "      <td>Comedy</td>\n",
              "    </tr>\n",
              "    <tr>\n",
              "      <th>669842</th>\n",
              "      <td>1680</td>\n",
              "      <td>3635</td>\n",
              "      <td>5</td>\n",
              "      <td>974713614</td>\n",
              "      <td>Spy Who Loved Me, The (1977)</td>\n",
              "      <td>Action</td>\n",
              "    </tr>\n",
              "    <tr>\n",
              "      <th>669852</th>\n",
              "      <td>1812</td>\n",
              "      <td>3635</td>\n",
              "      <td>5</td>\n",
              "      <td>974706848</td>\n",
              "      <td>Spy Who Loved Me, The (1977)</td>\n",
              "      <td>Action</td>\n",
              "    </tr>\n",
              "    <tr>\n",
              "      <th>...</th>\n",
              "      <td>...</td>\n",
              "      <td>...</td>\n",
              "      <td>...</td>\n",
              "      <td>...</td>\n",
              "      <td>...</td>\n",
              "      <td>...</td>\n",
              "    </tr>\n",
              "    <tr>\n",
              "      <th>463178</th>\n",
              "      <td>3393</td>\n",
              "      <td>2091</td>\n",
              "      <td>1</td>\n",
              "      <td>967499060</td>\n",
              "      <td>Return from Witch Mountain (1978)</td>\n",
              "      <td>Children's|Sci-Fi</td>\n",
              "    </tr>\n",
              "    <tr>\n",
              "      <th>259704</th>\n",
              "      <td>2930</td>\n",
              "      <td>2716</td>\n",
              "      <td>1</td>\n",
              "      <td>971538200</td>\n",
              "      <td>Ghostbusters (1984)</td>\n",
              "      <td>Comedy|Horror</td>\n",
              "    </tr>\n",
              "    <tr>\n",
              "      <th>463176</th>\n",
              "      <td>3320</td>\n",
              "      <td>2091</td>\n",
              "      <td>1</td>\n",
              "      <td>969219178</td>\n",
              "      <td>Return from Witch Mountain (1978)</td>\n",
              "      <td>Children's|Sci-Fi</td>\n",
              "    </tr>\n",
              "    <tr>\n",
              "      <th>773532</th>\n",
              "      <td>2106</td>\n",
              "      <td>267</td>\n",
              "      <td>1</td>\n",
              "      <td>975736248</td>\n",
              "      <td>Major Payne (1994)</td>\n",
              "      <td>Comedy</td>\n",
              "    </tr>\n",
              "    <tr>\n",
              "      <th>207330</th>\n",
              "      <td>3961</td>\n",
              "      <td>2617</td>\n",
              "      <td>1</td>\n",
              "      <td>967227560</td>\n",
              "      <td>Mummy, The (1999)</td>\n",
              "      <td>Action|Adventure|Horror|Thriller</td>\n",
              "    </tr>\n",
              "  </tbody>\n",
              "</table>\n",
              "<p>1000172 rows × 6 columns</p>\n",
              "</div>"
            ],
            "text/plain": [
              "        user_id  ...                            genres\n",
              "0             1  ...                             Drama\n",
              "233790     5359  ...                            Comedy\n",
              "233813     5483  ...                            Comedy\n",
              "669842     1680  ...                            Action\n",
              "669852     1812  ...                            Action\n",
              "...         ...  ...                               ...\n",
              "463178     3393  ...                 Children's|Sci-Fi\n",
              "259704     2930  ...                     Comedy|Horror\n",
              "463176     3320  ...                 Children's|Sci-Fi\n",
              "773532     2106  ...                            Comedy\n",
              "207330     3961  ...  Action|Adventure|Horror|Thriller\n",
              "\n",
              "[1000172 rows x 6 columns]"
            ]
          },
          "metadata": {
            "tags": []
          },
          "execution_count": 16
        }
      ]
    },
    {
      "cell_type": "code",
      "metadata": {
        "id": "x09jA5tJYg1E"
      },
      "source": [
        "las_mejores_50 = rating_movie.sort_values('rating', ascending=False).head(50)"
      ],
      "execution_count": 17,
      "outputs": []
    },
    {
      "cell_type": "code",
      "metadata": {
        "colab": {
          "base_uri": "https://localhost:8080/",
          "height": 195
        },
        "id": "q4XgHbvmhvro",
        "outputId": "64a44966-dbbe-445f-dc6a-2898bc891a02"
      },
      "source": [
        "las_mejores_50.head()"
      ],
      "execution_count": 18,
      "outputs": [
        {
          "output_type": "execute_result",
          "data": {
            "text/html": [
              "<div>\n",
              "<style scoped>\n",
              "    .dataframe tbody tr th:only-of-type {\n",
              "        vertical-align: middle;\n",
              "    }\n",
              "\n",
              "    .dataframe tbody tr th {\n",
              "        vertical-align: top;\n",
              "    }\n",
              "\n",
              "    .dataframe thead th {\n",
              "        text-align: right;\n",
              "    }\n",
              "</style>\n",
              "<table border=\"1\" class=\"dataframe\">\n",
              "  <thead>\n",
              "    <tr style=\"text-align: right;\">\n",
              "      <th></th>\n",
              "      <th>user_id</th>\n",
              "      <th>movie_id</th>\n",
              "      <th>rating</th>\n",
              "      <th>timestamp</th>\n",
              "      <th>title</th>\n",
              "      <th>genres</th>\n",
              "    </tr>\n",
              "  </thead>\n",
              "  <tbody>\n",
              "    <tr>\n",
              "      <th>0</th>\n",
              "      <td>1</td>\n",
              "      <td>1193</td>\n",
              "      <td>5</td>\n",
              "      <td>978300760</td>\n",
              "      <td>One Flew Over the Cuckoo's Nest (1975)</td>\n",
              "      <td>Drama</td>\n",
              "    </tr>\n",
              "    <tr>\n",
              "      <th>233790</th>\n",
              "      <td>5359</td>\n",
              "      <td>2770</td>\n",
              "      <td>5</td>\n",
              "      <td>960602665</td>\n",
              "      <td>Bowfinger (1999)</td>\n",
              "      <td>Comedy</td>\n",
              "    </tr>\n",
              "    <tr>\n",
              "      <th>233813</th>\n",
              "      <td>5483</td>\n",
              "      <td>2770</td>\n",
              "      <td>5</td>\n",
              "      <td>959888512</td>\n",
              "      <td>Bowfinger (1999)</td>\n",
              "      <td>Comedy</td>\n",
              "    </tr>\n",
              "    <tr>\n",
              "      <th>669842</th>\n",
              "      <td>1680</td>\n",
              "      <td>3635</td>\n",
              "      <td>5</td>\n",
              "      <td>974713614</td>\n",
              "      <td>Spy Who Loved Me, The (1977)</td>\n",
              "      <td>Action</td>\n",
              "    </tr>\n",
              "    <tr>\n",
              "      <th>669852</th>\n",
              "      <td>1812</td>\n",
              "      <td>3635</td>\n",
              "      <td>5</td>\n",
              "      <td>974706848</td>\n",
              "      <td>Spy Who Loved Me, The (1977)</td>\n",
              "      <td>Action</td>\n",
              "    </tr>\n",
              "  </tbody>\n",
              "</table>\n",
              "</div>"
            ],
            "text/plain": [
              "        user_id  movie_id  ...                                   title  genres\n",
              "0             1      1193  ...  One Flew Over the Cuckoo's Nest (1975)   Drama\n",
              "233790     5359      2770  ...                        Bowfinger (1999)  Comedy\n",
              "233813     5483      2770  ...                        Bowfinger (1999)  Comedy\n",
              "669842     1680      3635  ...            Spy Who Loved Me, The (1977)  Action\n",
              "669852     1812      3635  ...            Spy Who Loved Me, The (1977)  Action\n",
              "\n",
              "[5 rows x 6 columns]"
            ]
          },
          "metadata": {
            "tags": []
          },
          "execution_count": 18
        }
      ]
    },
    {
      "cell_type": "code",
      "metadata": {
        "colab": {
          "base_uri": "https://localhost:8080/",
          "height": 431
        },
        "id": "WCC2Cjddez7J",
        "outputId": "bc268504-f910-4c67-e76f-87a59c66cf36"
      },
      "source": [
        "rating_movie.groupby('movie_id')[['movie_id', 'rating']].agg(pd.Series.mean)"
      ],
      "execution_count": 19,
      "outputs": [
        {
          "output_type": "execute_result",
          "data": {
            "text/html": [
              "<div>\n",
              "<style scoped>\n",
              "    .dataframe tbody tr th:only-of-type {\n",
              "        vertical-align: middle;\n",
              "    }\n",
              "\n",
              "    .dataframe tbody tr th {\n",
              "        vertical-align: top;\n",
              "    }\n",
              "\n",
              "    .dataframe thead th {\n",
              "        text-align: right;\n",
              "    }\n",
              "</style>\n",
              "<table border=\"1\" class=\"dataframe\">\n",
              "  <thead>\n",
              "    <tr style=\"text-align: right;\">\n",
              "      <th></th>\n",
              "      <th>movie_id</th>\n",
              "      <th>rating</th>\n",
              "    </tr>\n",
              "    <tr>\n",
              "      <th>movie_id</th>\n",
              "      <th></th>\n",
              "      <th></th>\n",
              "    </tr>\n",
              "  </thead>\n",
              "  <tbody>\n",
              "    <tr>\n",
              "      <th>1</th>\n",
              "      <td>1</td>\n",
              "      <td>4.146846</td>\n",
              "    </tr>\n",
              "    <tr>\n",
              "      <th>2</th>\n",
              "      <td>2</td>\n",
              "      <td>3.201141</td>\n",
              "    </tr>\n",
              "    <tr>\n",
              "      <th>3</th>\n",
              "      <td>3</td>\n",
              "      <td>3.016736</td>\n",
              "    </tr>\n",
              "    <tr>\n",
              "      <th>4</th>\n",
              "      <td>4</td>\n",
              "      <td>2.729412</td>\n",
              "    </tr>\n",
              "    <tr>\n",
              "      <th>5</th>\n",
              "      <td>5</td>\n",
              "      <td>3.006757</td>\n",
              "    </tr>\n",
              "    <tr>\n",
              "      <th>...</th>\n",
              "      <td>...</td>\n",
              "      <td>...</td>\n",
              "    </tr>\n",
              "    <tr>\n",
              "      <th>3948</th>\n",
              "      <td>3948</td>\n",
              "      <td>3.635731</td>\n",
              "    </tr>\n",
              "    <tr>\n",
              "      <th>3949</th>\n",
              "      <td>3949</td>\n",
              "      <td>4.115132</td>\n",
              "    </tr>\n",
              "    <tr>\n",
              "      <th>3950</th>\n",
              "      <td>3950</td>\n",
              "      <td>3.666667</td>\n",
              "    </tr>\n",
              "    <tr>\n",
              "      <th>3951</th>\n",
              "      <td>3951</td>\n",
              "      <td>3.900000</td>\n",
              "    </tr>\n",
              "    <tr>\n",
              "      <th>3952</th>\n",
              "      <td>3952</td>\n",
              "      <td>3.780928</td>\n",
              "    </tr>\n",
              "  </tbody>\n",
              "</table>\n",
              "<p>3705 rows × 2 columns</p>\n",
              "</div>"
            ],
            "text/plain": [
              "          movie_id    rating\n",
              "movie_id                    \n",
              "1                1  4.146846\n",
              "2                2  3.201141\n",
              "3                3  3.016736\n",
              "4                4  2.729412\n",
              "5                5  3.006757\n",
              "...            ...       ...\n",
              "3948          3948  3.635731\n",
              "3949          3949  4.115132\n",
              "3950          3950  3.666667\n",
              "3951          3951  3.900000\n",
              "3952          3952  3.780928\n",
              "\n",
              "[3705 rows x 2 columns]"
            ]
          },
          "metadata": {
            "tags": []
          },
          "execution_count": 19
        }
      ]
    },
    {
      "cell_type": "code",
      "metadata": {
        "colab": {
          "base_uri": "https://localhost:8080/",
          "height": 404
        },
        "id": "j32Dl8AhYhKo",
        "outputId": "ebec2fbc-92d7-4858-ca3c-ec1b976bac31"
      },
      "source": [
        "# Pega aquí la función de verificación\r\n",
        "def plotting_best_50(las_mejores_50):\r\n",
        "    import seaborn as sns\r\n",
        "    import matplotlib.pyplot as plt\r\n",
        "    \r\n",
        "    fig, ax = plt.subplots(figsize=(10, 5))\r\n",
        "    ax.set_title('Top 50 Movies with Best Ratings')\r\n",
        "    splot = sns.barplot(las_mejores_50['rating'], las_mejores_50['title'], ax=ax)\r\n",
        "    ax.set(xlabel='Rating', ylabel='Movie Title')\r\n",
        "\r\n",
        "plotting_best_50(las_mejores_50)"
      ],
      "execution_count": 21,
      "outputs": [
        {
          "output_type": "stream",
          "text": [
            "/usr/local/lib/python3.7/dist-packages/seaborn/_decorators.py:43: FutureWarning: Pass the following variables as keyword args: x, y. From version 0.12, the only valid positional argument will be `data`, and passing other arguments without an explicit keyword will result in an error or misinterpretation.\n",
            "  FutureWarning\n"
          ],
          "name": "stderr"
        },
        {
          "output_type": "display_data",
          "data": {
            "image/png": "[encoded data removed]",
            "text/plain": [
              "<Figure size 720x360 with 1 Axes>"
            ]
          },
          "metadata": {
            "tags": [],
            "needs_background": "light"
          }
        }
      ]
    },
    {
      "cell_type": "markdown",
      "metadata": {
        "id": "KKhyTJ_kYb_z"
      },
      "source": [
        "**Reto 5**\r\n",
        "a) Creando un box plot de distribución de ratings\r\n",
        "\r\n",
        "Vamos a ver cómo están distribuidos los ratings de las películas más valoradas de nuestro dataset. La siguiente es una lista de las películas que tienen más de 2500 valoraciones en nuestro dataset:\r\n",
        "\r\n",
        "[2858, 260, 1196, 1210, 480, 2028, 589, 2571, 1270, 593, 1580, 1198, 608]\r\n",
        "\r\n",
        "Realiza los siguientes pasos:\r\n",
        "1. Lee tus archivos ratings y movies.\r\n",
        "2. Obtén una lista con los ids de las películas con más de 2500 valoraciones.2. 3. Debe ser igual a la lista de arriba.\r\n",
        "4. Crea una función que tome una lista de ids y un id y regrese True si el id se encuentra en la lista (puedes usar el operador in de Python).\r\n",
        "5. Usa apply para aplicar esa función a la columna ratings['movie_id'] y obtener un filtro.\r\n",
        "6. Usa tu filtro para filtrar el DataFrame ratings y quedarte solamente con las entradas de las películas que fueron valoradas más de 2500 veces.\r\n",
        "7. Usando merge agrega los nombres de las películas a tu DataFrame ratings. \r\n",
        "8. Asigna el resultado a la variable ratings_filtrados_con_nombre."
      ]
    },
    {
      "cell_type": "code",
      "metadata": {
        "id": "XSI7nP9DcJlQ"
      },
      "source": [
        "conteo_ratings = rating_movie['movie_id'].value_counts()\r\n",
        "filtro_mayor_2500_veces = conteo_ratings > 2500\r\n",
        "conteo_mayor_2500_veces = conteo_ratings[filtro_mayor_2500_veces]\r\n",
        "ids_mayor_2500_veces = conteo_mayor_2500_veces.index"
      ],
      "execution_count": 27,
      "outputs": []
    },
    {
      "cell_type": "code",
      "metadata": {
        "id": "FCtjle7IztN4"
      },
      "source": [
        "#Función\r\n",
        "def id_en_lista_ids_mayor_2500_veces(lista_ids, id_):\r\n",
        "    return id_ in lista_ids\r\n",
        "\r\n",
        "filtro_ratings = rating['movie_id'].apply(lambda x: id_en_lista_ids_mayor_2500_veces(ids_mayor_2500_veces, x))\r\n",
        "ratings_filtrados = rating[filtro_ratings]\r\n",
        "ratings_filtrados_con_nombre = pd.merge(ratings_filtrados, movie['title'], left_on='movie_id', right_index=True)"
      ],
      "execution_count": 49,
      "outputs": []
    },
    {
      "cell_type": "code",
      "metadata": {
        "colab": {
          "base_uri": "https://localhost:8080/",
          "height": 836
        },
        "id": "7OeoDSDRZRo2",
        "outputId": "ec1be7f2-675b-437f-8754-a6599fd97194"
      },
      "source": [
        "# Pega aquí la función de verificación\r\n",
        "def visualizar_boxplots(ratings_filtrados_con_nombre):\r\n",
        "    import seaborn as sns\r\n",
        "    import matplotlib.pyplot as plt\r\n",
        "\r\n",
        "    fig, ax = plt.subplots(figsize=(10, 10))\r\n",
        "    ax.set_title('Distribución de Ratings de las películas con más de 2500 valoraciones')\r\n",
        "    plot = sns.boxplot(ratings_filtrados_con_nombre['title'], ratings_filtrados_con_nombre['rating'], ax=ax)\r\n",
        "    ax.set(xlabel=None, ylabel='Rating')\r\n",
        "    plot.set_xticklabels(plot.get_xticklabels(), rotation=90)\r\n",
        "\r\n",
        "visualizar_boxplots(ratings_filtrados_con_nombre)"
      ],
      "execution_count": 50,
      "outputs": [
        {
          "output_type": "stream",
          "text": [
            "/usr/local/lib/python3.7/dist-packages/seaborn/_decorators.py:43: FutureWarning: Pass the following variables as keyword args: x, y. From version 0.12, the only valid positional argument will be `data`, and passing other arguments without an explicit keyword will result in an error or misinterpretation.\n",
            "  FutureWarning\n"
          ],
          "name": "stderr"
        },
        {
          "output_type": "display_data",
          "data": {
            "image/png": "[encoded data removed]",
            "text/plain": [
              "<Figure size 720x720 with 1 Axes>"
            ]
          },
          "metadata": {
            "tags": [],
            "needs_background": "light"
          }
        }
      ]
    },
    {
      "cell_type": "markdown",
      "metadata": {
        "id": "ksGzn5DyZSF-"
      },
      "source": [
        "**Reto 6**\r\n",
        "Lo que los científicos aman\r\n",
        "\r\n",
        "En este Reto vamos a obtener una lista de las películas que fueron mejor evaluadas por científicos para saber cuáles son sus favoritas. Vamos a realizar los siguientes pasos:\r\n",
        "\r\n",
        "1. Lee los archivos para movies, ratings y users.\r\n",
        "1. Agrega solamente la columna occupation al DataFrame ratings, para tener la información de las ocupaciones de los usuarios que realizaron los ratings.\r\n",
        "1. Filtra tu tabla ratings para quedarte solamente con los ratings hechos por científicos.\r\n",
        "1. Agrega solamente la columna title de la tabla movies a la tabla ratings para tener la información de los nombres de las películas que fueron evaluadas por científicos.\r\n",
        "1. Filtra tu DataFrame para quedarte solamente con las películas que fueron evaluadas más de 50 veces.\r\n",
        "1. Realiza una agrupación por película y computa el promedio de los ratings de cada película.\r\n",
        "1. Ordena la Serie resultante descendentemente y asígnala a la variable mean_of_scientists_ratings_sorted."
      ]
    },
    {
      "cell_type": "code",
      "metadata": {
        "id": "7gqpTDzX3UHR"
      },
      "source": [
        "# DataFrames \"movie\" y \"rating\" ya están cargados, cargar sólo \"user\"\r\n",
        "users = pd.read_csv(\"https://raw.githubusercontent.com/beduExpert/Procesamiento-de-Datos-con-Python-Santander/master/Datasets/MovieLens/users-full.csv\")"
      ],
      "execution_count": 52,
      "outputs": []
    },
    {
      "cell_type": "code",
      "metadata": {
        "colab": {
          "base_uri": "https://localhost:8080/",
          "height": 195
        },
        "id": "Shol_SzT4A7K",
        "outputId": "9ed7ef34-6546-4657-8b58-17ab18b6dc36"
      },
      "source": [
        "#Merge\r\n",
        "ratings_occupation = pd.merge(rating, users['occupation'], left_on='user_id', right_index=True)\r\n",
        "only_scientist = ratings_occupation[ratings_occupation['occupation'] == 'scientist']\r\n",
        "only_scientist_movie_title = pd.merge(only_scientist, movie['title'], left_on='movie_id', right_index=True)\r\n",
        "only_scientist_movie_title.head()"
      ],
      "execution_count": 53,
      "outputs": [
        {
          "output_type": "execute_result",
          "data": {
            "text/html": [
              "<div>\n",
              "<style scoped>\n",
              "    .dataframe tbody tr th:only-of-type {\n",
              "        vertical-align: middle;\n",
              "    }\n",
              "\n",
              "    .dataframe tbody tr th {\n",
              "        vertical-align: top;\n",
              "    }\n",
              "\n",
              "    .dataframe thead th {\n",
              "        text-align: right;\n",
              "    }\n",
              "</style>\n",
              "<table border=\"1\" class=\"dataframe\">\n",
              "  <thead>\n",
              "    <tr style=\"text-align: right;\">\n",
              "      <th></th>\n",
              "      <th>user_id</th>\n",
              "      <th>movie_id</th>\n",
              "      <th>rating</th>\n",
              "      <th>timestamp</th>\n",
              "      <th>occupation</th>\n",
              "      <th>title</th>\n",
              "    </tr>\n",
              "  </thead>\n",
              "  <tbody>\n",
              "    <tr>\n",
              "      <th>53</th>\n",
              "      <td>2</td>\n",
              "      <td>1357</td>\n",
              "      <td>5</td>\n",
              "      <td>978298709</td>\n",
              "      <td>scientist</td>\n",
              "      <td>Young Guns (1988)</td>\n",
              "    </tr>\n",
              "    <tr>\n",
              "      <th>26976</th>\n",
              "      <td>192</td>\n",
              "      <td>1357</td>\n",
              "      <td>5</td>\n",
              "      <td>977028571</td>\n",
              "      <td>scientist</td>\n",
              "      <td>Young Guns (1988)</td>\n",
              "    </tr>\n",
              "    <tr>\n",
              "      <th>143888</th>\n",
              "      <td>928</td>\n",
              "      <td>1357</td>\n",
              "      <td>5</td>\n",
              "      <td>975194960</td>\n",
              "      <td>scientist</td>\n",
              "      <td>Young Guns (1988)</td>\n",
              "    </tr>\n",
              "    <tr>\n",
              "      <th>185332</th>\n",
              "      <td>1150</td>\n",
              "      <td>1357</td>\n",
              "      <td>3</td>\n",
              "      <td>974874113</td>\n",
              "      <td>scientist</td>\n",
              "      <td>Young Guns (1988)</td>\n",
              "    </tr>\n",
              "    <tr>\n",
              "      <th>201577</th>\n",
              "      <td>1242</td>\n",
              "      <td>1357</td>\n",
              "      <td>4</td>\n",
              "      <td>974908339</td>\n",
              "      <td>scientist</td>\n",
              "      <td>Young Guns (1988)</td>\n",
              "    </tr>\n",
              "  </tbody>\n",
              "</table>\n",
              "</div>"
            ],
            "text/plain": [
              "        user_id  movie_id  rating  timestamp occupation              title\n",
              "53            2      1357       5  978298709  scientist  Young Guns (1988)\n",
              "26976       192      1357       5  977028571  scientist  Young Guns (1988)\n",
              "143888      928      1357       5  975194960  scientist  Young Guns (1988)\n",
              "185332     1150      1357       3  974874113  scientist  Young Guns (1988)\n",
              "201577     1242      1357       4  974908339  scientist  Young Guns (1988)"
            ]
          },
          "metadata": {
            "tags": []
          },
          "execution_count": 53
        }
      ]
    },
    {
      "cell_type": "code",
      "metadata": {
        "id": "3Qbn3ueU6Mzb"
      },
      "source": [
        "#Filtro\r\n",
        "filtro_mayor_50_veces = only_scientist_movie_title['title'].value_counts() > 50\r\n",
        "titulos_mayor_50_veces = only_scientist_movie_title['title'].value_counts()[filtro_mayor_50_veces].index"
      ],
      "execution_count": 55,
      "outputs": []
    },
    {
      "cell_type": "code",
      "metadata": {
        "id": "STJhj68o6nb6"
      },
      "source": [
        "#Función\r\n",
        "def titulo_en_lista(lista_titulos, title):\r\n",
        "    return title in lista_titulos"
      ],
      "execution_count": 56,
      "outputs": []
    },
    {
      "cell_type": "code",
      "metadata": {
        "id": "DjcAokLX8SNp"
      },
      "source": [
        "mas_rankeadas = only_scientist_movie_title[only_scientist_movie_title['title'].apply(lambda x: titulo_en_lista(titulos_mayor_50_veces, x))]\r\n",
        "promedio_scientist_ratings = mas_rankeadas.groupby('title')['rating'].mean()\r\n",
        "mean_of_scientists_ratings_sorted = promedio_scientist_ratings.sort_values(ascending=False)"
      ],
      "execution_count": 59,
      "outputs": []
    },
    {
      "cell_type": "code",
      "metadata": {
        "colab": {
          "base_uri": "https://localhost:8080/",
          "height": 674
        },
        "id": "wOd7SLeP3aOW",
        "outputId": "c2205a23-95ea-47a8-d09c-b7b47b0362e9"
      },
      "source": [
        "# Pega aquí la función de verificación \r\n",
        "def visualizar_lista(mean_of_scientists_ratings_sorted):\r\n",
        "    import matplotlib.pyplot as plt\r\n",
        "    import seaborn as sns\r\n",
        "\r\n",
        "    fig, ax = plt.subplots(figsize=(10, 10))\r\n",
        "    ax.set_title('Ratings promedio de las películas más evaluadas por científicos')\r\n",
        "    sns.barplot(mean_of_scientists_ratings_sorted, mean_of_scientists_ratings_sorted.index, ax=ax)\r\n",
        "    ax.set(ylabel='Título', xlabel='Rating Promedio')\r\n",
        "\r\n",
        "visualizar_lista(mean_of_scientists_ratings_sorted)"
      ],
      "execution_count": 60,
      "outputs": [
        {
          "output_type": "stream",
          "text": [
            "/usr/local/lib/python3.7/dist-packages/seaborn/_decorators.py:43: FutureWarning: Pass the following variables as keyword args: x, y. From version 0.12, the only valid positional argument will be `data`, and passing other arguments without an explicit keyword will result in an error or misinterpretation.\n",
            "  FutureWarning\n"
          ],
          "name": "stderr"
        },
        {
          "output_type": "display_data",
          "data": {
            "image/png": "[encoded data removed]",
            "text/plain": [
              "<Figure size 720x720 with 1 Axes>"
            ]
          },
          "metadata": {
            "tags": [],
            "needs_background": "light"
          }
        }
      ]
    }
  ]
}