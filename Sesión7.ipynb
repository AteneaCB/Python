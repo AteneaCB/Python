{
  "nbformat": 4,
  "nbformat_minor": 0,
  "metadata": {
    "colab": {
      "name": "Sesión7.ipynb",
      "provenance": [],
      "collapsed_sections": [],
      "authorship_tag": "ABX9TyM3Z7zEoOEolKHvBxqiVyFu",
      "include_colab_link": true
    },
    "kernelspec": {
      "name": "python3",
      "display_name": "Python 3"
    }
  },
  "cells": [
    {
      "cell_type": "markdown",
      "metadata": {
        "id": "view-in-github",
        "colab_type": "text"
      },
      "source": [
        "<a href=\"https://colab.research.google.com/github/AteneaCB/Python/blob/main/Sesi%C3%B3n7.ipynb\" target=\"_parent\"><img src=\"https://colab.research.google.com/assets/colab-badge.svg\" alt=\"Open In Colab\"/></a>"
      ]
    },
    {
      "cell_type": "markdown",
      "metadata": {
        "id": "5NY3xTRIzl32"
      },
      "source": [
        "**Sesión 7**\r\n",
        "Transformación, filtración y ordenamiento de datos\r\n",
        "\r\n",
        "- Hacer casting de tipos de datos.\r\n",
        "- Manipular strings usando el módulo str.\r\n",
        "- Aplicar funciones custom a un DataFrame.\r\n",
        "- Aplicar filtros a nuestros datos.\r\n",
        "- Ordenar nuestro dataset por columnas."
      ]
    },
    {
      "cell_type": "markdown",
      "metadata": {
        "id": "zjS4_JJRzteJ"
      },
      "source": [
        "**Ejercicio 1**\r\n",
        "Casting"
      ]
    },
    {
      "cell_type": "code",
      "metadata": {
        "id": "GzdYXMqYmIEZ"
      },
      "source": [
        "#Librerías\r\n",
        "import pandas as pd"
      ],
      "execution_count": 15,
      "outputs": []
    },
    {
      "cell_type": "code",
      "metadata": {
        "colab": {
          "base_uri": "https://localhost:8080/",
          "height": 534
        },
        "id": "Ic4CJXLa4c45",
        "outputId": "9f9a111f-3ef4-4d40-8022-eb5eceae9be1"
      },
      "source": [
        "df = pd.read_csv('https://raw.githubusercontent.com/beduExpert/Procesamiento-de-Datos-con-Python-Santander/master/Datasets/new_york_times_bestsellers-dirty.csv', index_col=0)\r\n",
        "\r\n",
        "df.head()"
      ],
      "execution_count": 16,
      "outputs": [
        {
          "output_type": "execute_result",
          "data": {
            "text/html": [
              "<div>\n",
              "<style scoped>\n",
              "    .dataframe tbody tr th:only-of-type {\n",
              "        vertical-align: middle;\n",
              "    }\n",
              "\n",
              "    .dataframe tbody tr th {\n",
              "        vertical-align: top;\n",
              "    }\n",
              "\n",
              "    .dataframe thead th {\n",
              "        text-align: right;\n",
              "    }\n",
              "</style>\n",
              "<table border=\"1\" class=\"dataframe\">\n",
              "  <thead>\n",
              "    <tr style=\"text-align: right;\">\n",
              "      <th></th>\n",
              "      <th>amazon_product_url</th>\n",
              "      <th>author</th>\n",
              "      <th>description</th>\n",
              "      <th>publisher</th>\n",
              "      <th>title</th>\n",
              "      <th>oid</th>\n",
              "      <th>bestsellers_date.numberLong</th>\n",
              "      <th>published_date.numberLong</th>\n",
              "      <th>rank.numberInt</th>\n",
              "      <th>rank_last_week.numberInt</th>\n",
              "      <th>weeks_on_list.numberInt</th>\n",
              "      <th>price.numberDouble</th>\n",
              "    </tr>\n",
              "  </thead>\n",
              "  <tbody>\n",
              "    <tr>\n",
              "      <th>0</th>\n",
              "      <td>http://www.amazon.com/The-Host-Novel-Stephenie...</td>\n",
              "      <td>Stephenie Meyer</td>\n",
              "      <td>Descr: Aliens have taken control of the minds ...</td>\n",
              "      <td>Little, Brown</td>\n",
              "      <td>THE HOST</td>\n",
              "      <td>5b4aa4ead3089013507db18c</td>\n",
              "      <td>2008-05-24 00:00:00</td>\n",
              "      <td>1212883200000</td>\n",
              "      <td>2</td>\n",
              "      <td>1</td>\n",
              "      <td>3</td>\n",
              "      <td>25.99</td>\n",
              "    </tr>\n",
              "    <tr>\n",
              "      <th>1</th>\n",
              "      <td>http://www.amazon.com/Love-Youre-With-Emily-Gi...</td>\n",
              "      <td>Emily Giffin</td>\n",
              "      <td>Descr: A woman's happy marriage is shaken when...</td>\n",
              "      <td>St. Martin's</td>\n",
              "      <td>LOVE THE ONE YOU'RE WITH</td>\n",
              "      <td>5b4aa4ead3089013507db18d</td>\n",
              "      <td>2008-05-24 00:00:00</td>\n",
              "      <td>1212883200000</td>\n",
              "      <td>3</td>\n",
              "      <td>2</td>\n",
              "      <td>2</td>\n",
              "      <td>24.95</td>\n",
              "    </tr>\n",
              "    <tr>\n",
              "      <th>2</th>\n",
              "      <td>http://www.amazon.com/The-Front-Garano-Patrici...</td>\n",
              "      <td>Patricia Cornwell</td>\n",
              "      <td>Descr: A Massachusetts state investigator and ...</td>\n",
              "      <td>Putnam</td>\n",
              "      <td>THE FRONT</td>\n",
              "      <td>5b4aa4ead3089013507db18e</td>\n",
              "      <td>2008-05-24 00:00:00</td>\n",
              "      <td>1212883200000</td>\n",
              "      <td>4</td>\n",
              "      <td>0</td>\n",
              "      <td>1</td>\n",
              "      <td>22.95</td>\n",
              "    </tr>\n",
              "    <tr>\n",
              "      <th>3</th>\n",
              "      <td>http://www.amazon.com/Snuff-Chuck-Palahniuk/dp...</td>\n",
              "      <td>Chuck Palahniuk</td>\n",
              "      <td>Descr: An aging porn queens aims to cap her ca...</td>\n",
              "      <td>Doubleday</td>\n",
              "      <td>SNUFF</td>\n",
              "      <td>5b4aa4ead3089013507db18f</td>\n",
              "      <td>2008-05-24 00:00:00</td>\n",
              "      <td>1212883200000</td>\n",
              "      <td>5</td>\n",
              "      <td>0</td>\n",
              "      <td>1</td>\n",
              "      <td>24.95</td>\n",
              "    </tr>\n",
              "    <tr>\n",
              "      <th>5</th>\n",
              "      <td>http://www.amazon.com/Phantom-Prey-John-Sandfo...</td>\n",
              "      <td>John Sandford</td>\n",
              "      <td>Descr: The Minneapolis detective Lucas Davenpo...</td>\n",
              "      <td>Putnam</td>\n",
              "      <td>PHANTOM PREY</td>\n",
              "      <td>5b4aa4ead3089013507db191</td>\n",
              "      <td>2008-05-24 00:00:00</td>\n",
              "      <td>1212883200000</td>\n",
              "      <td>7</td>\n",
              "      <td>4</td>\n",
              "      <td>3</td>\n",
              "      <td>26.95</td>\n",
              "    </tr>\n",
              "  </tbody>\n",
              "</table>\n",
              "</div>"
            ],
            "text/plain": [
              "                                  amazon_product_url  ... price.numberDouble\n",
              "0  http://www.amazon.com/The-Host-Novel-Stephenie...  ...              25.99\n",
              "1  http://www.amazon.com/Love-Youre-With-Emily-Gi...  ...              24.95\n",
              "2  http://www.amazon.com/The-Front-Garano-Patrici...  ...              22.95\n",
              "3  http://www.amazon.com/Snuff-Chuck-Palahniuk/dp...  ...              24.95\n",
              "5  http://www.amazon.com/Phantom-Prey-John-Sandfo...  ...              26.95\n",
              "\n",
              "[5 rows x 12 columns]"
            ]
          },
          "metadata": {
            "tags": []
          },
          "execution_count": 16
        }
      ]
    },
    {
      "cell_type": "code",
      "metadata": {
        "id": "cYefM7GK5Mqn"
      },
      "source": [
        "# Usar el método astype para pasarle a nuestro DataFrame un diccionario de conversión.\r\n",
        "# Convertir nuestras dos columnas de fechas usando un diccionario de conversión.\r\n",
        "#El tipo de dato que usamos para manejar fechas es el llamado datetime. \r\n",
        "#Este tipo de dato nos permite manipular fechas y horarios muy eficientemente.\r\n",
        "diccionario_de_conversion = {\r\n",
        "    'bestsellers_date.numberLong': 'datetime64[ns]',\r\n",
        "    'published_date.numberLong': 'datetime64[ns]'\r\n",
        "}"
      ],
      "execution_count": 17,
      "outputs": []
    },
    {
      "cell_type": "code",
      "metadata": {
        "colab": {
          "base_uri": "https://localhost:8080/",
          "height": 534
        },
        "id": "O6-DMXO76Qv9",
        "outputId": "734f0912-4b8b-42b9-d4ab-c1f57789ef73"
      },
      "source": [
        "temp = df.astype(diccionario_de_conversion)\r\n",
        "\r\n",
        "temp.head()"
      ],
      "execution_count": 18,
      "outputs": [
        {
          "output_type": "execute_result",
          "data": {
            "text/html": [
              "<div>\n",
              "<style scoped>\n",
              "    .dataframe tbody tr th:only-of-type {\n",
              "        vertical-align: middle;\n",
              "    }\n",
              "\n",
              "    .dataframe tbody tr th {\n",
              "        vertical-align: top;\n",
              "    }\n",
              "\n",
              "    .dataframe thead th {\n",
              "        text-align: right;\n",
              "    }\n",
              "</style>\n",
              "<table border=\"1\" class=\"dataframe\">\n",
              "  <thead>\n",
              "    <tr style=\"text-align: right;\">\n",
              "      <th></th>\n",
              "      <th>amazon_product_url</th>\n",
              "      <th>author</th>\n",
              "      <th>description</th>\n",
              "      <th>publisher</th>\n",
              "      <th>title</th>\n",
              "      <th>oid</th>\n",
              "      <th>bestsellers_date.numberLong</th>\n",
              "      <th>published_date.numberLong</th>\n",
              "      <th>rank.numberInt</th>\n",
              "      <th>rank_last_week.numberInt</th>\n",
              "      <th>weeks_on_list.numberInt</th>\n",
              "      <th>price.numberDouble</th>\n",
              "    </tr>\n",
              "  </thead>\n",
              "  <tbody>\n",
              "    <tr>\n",
              "      <th>0</th>\n",
              "      <td>http://www.amazon.com/The-Host-Novel-Stephenie...</td>\n",
              "      <td>Stephenie Meyer</td>\n",
              "      <td>Descr: Aliens have taken control of the minds ...</td>\n",
              "      <td>Little, Brown</td>\n",
              "      <td>THE HOST</td>\n",
              "      <td>5b4aa4ead3089013507db18c</td>\n",
              "      <td>2008-05-24</td>\n",
              "      <td>1970-01-01 00:20:12.883200</td>\n",
              "      <td>2</td>\n",
              "      <td>1</td>\n",
              "      <td>3</td>\n",
              "      <td>25.99</td>\n",
              "    </tr>\n",
              "    <tr>\n",
              "      <th>1</th>\n",
              "      <td>http://www.amazon.com/Love-Youre-With-Emily-Gi...</td>\n",
              "      <td>Emily Giffin</td>\n",
              "      <td>Descr: A woman's happy marriage is shaken when...</td>\n",
              "      <td>St. Martin's</td>\n",
              "      <td>LOVE THE ONE YOU'RE WITH</td>\n",
              "      <td>5b4aa4ead3089013507db18d</td>\n",
              "      <td>2008-05-24</td>\n",
              "      <td>1970-01-01 00:20:12.883200</td>\n",
              "      <td>3</td>\n",
              "      <td>2</td>\n",
              "      <td>2</td>\n",
              "      <td>24.95</td>\n",
              "    </tr>\n",
              "    <tr>\n",
              "      <th>2</th>\n",
              "      <td>http://www.amazon.com/The-Front-Garano-Patrici...</td>\n",
              "      <td>Patricia Cornwell</td>\n",
              "      <td>Descr: A Massachusetts state investigator and ...</td>\n",
              "      <td>Putnam</td>\n",
              "      <td>THE FRONT</td>\n",
              "      <td>5b4aa4ead3089013507db18e</td>\n",
              "      <td>2008-05-24</td>\n",
              "      <td>1970-01-01 00:20:12.883200</td>\n",
              "      <td>4</td>\n",
              "      <td>0</td>\n",
              "      <td>1</td>\n",
              "      <td>22.95</td>\n",
              "    </tr>\n",
              "    <tr>\n",
              "      <th>3</th>\n",
              "      <td>http://www.amazon.com/Snuff-Chuck-Palahniuk/dp...</td>\n",
              "      <td>Chuck Palahniuk</td>\n",
              "      <td>Descr: An aging porn queens aims to cap her ca...</td>\n",
              "      <td>Doubleday</td>\n",
              "      <td>SNUFF</td>\n",
              "      <td>5b4aa4ead3089013507db18f</td>\n",
              "      <td>2008-05-24</td>\n",
              "      <td>1970-01-01 00:20:12.883200</td>\n",
              "      <td>5</td>\n",
              "      <td>0</td>\n",
              "      <td>1</td>\n",
              "      <td>24.95</td>\n",
              "    </tr>\n",
              "    <tr>\n",
              "      <th>5</th>\n",
              "      <td>http://www.amazon.com/Phantom-Prey-John-Sandfo...</td>\n",
              "      <td>John Sandford</td>\n",
              "      <td>Descr: The Minneapolis detective Lucas Davenpo...</td>\n",
              "      <td>Putnam</td>\n",
              "      <td>PHANTOM PREY</td>\n",
              "      <td>5b4aa4ead3089013507db191</td>\n",
              "      <td>2008-05-24</td>\n",
              "      <td>1970-01-01 00:20:12.883200</td>\n",
              "      <td>7</td>\n",
              "      <td>4</td>\n",
              "      <td>3</td>\n",
              "      <td>26.95</td>\n",
              "    </tr>\n",
              "  </tbody>\n",
              "</table>\n",
              "</div>"
            ],
            "text/plain": [
              "                                  amazon_product_url  ... price.numberDouble\n",
              "0  http://www.amazon.com/The-Host-Novel-Stephenie...  ...              25.99\n",
              "1  http://www.amazon.com/Love-Youre-With-Emily-Gi...  ...              24.95\n",
              "2  http://www.amazon.com/The-Front-Garano-Patrici...  ...              22.95\n",
              "3  http://www.amazon.com/Snuff-Chuck-Palahniuk/dp...  ...              24.95\n",
              "5  http://www.amazon.com/Phantom-Prey-John-Sandfo...  ...              26.95\n",
              "\n",
              "[5 rows x 12 columns]"
            ]
          },
          "metadata": {
            "tags": []
          },
          "execution_count": 18
        }
      ]
    },
    {
      "cell_type": "code",
      "metadata": {
        "colab": {
          "base_uri": "https://localhost:8080/"
        },
        "id": "Mv1gV1zN6Skf",
        "outputId": "69801683-0a61-4bb6-b254-00b65b169fb8"
      },
      "source": [
        "temp.dtypes"
      ],
      "execution_count": 19,
      "outputs": [
        {
          "output_type": "execute_result",
          "data": {
            "text/plain": [
              "amazon_product_url                     object\n",
              "author                                 object\n",
              "description                            object\n",
              "publisher                              object\n",
              "title                                  object\n",
              "oid                                    object\n",
              "bestsellers_date.numberLong    datetime64[ns]\n",
              "published_date.numberLong      datetime64[ns]\n",
              "rank.numberInt                         object\n",
              "rank_last_week.numberInt                int64\n",
              "weeks_on_list.numberInt                 int64\n",
              "price.numberDouble                    float64\n",
              "dtype: object"
            ]
          },
          "metadata": {
            "tags": []
          },
          "execution_count": 19
        }
      ]
    },
    {
      "cell_type": "code",
      "metadata": {
        "colab": {
          "base_uri": "https://localhost:8080/"
        },
        "id": "f5kEWeql6Xo3",
        "outputId": "b763a743-a80c-4464-f0b8-aace65e5c341"
      },
      "source": [
        "# Usar el método pd.to_datetime para convertir published_date:\r\n",
        "\r\n",
        "pd.to_datetime(df['published_date.numberLong'], unit='ms')"
      ],
      "execution_count": 20,
      "outputs": [
        {
          "output_type": "execute_result",
          "data": {
            "text/plain": [
              "0      2008-06-08\n",
              "1      2008-06-08\n",
              "2      2008-06-08\n",
              "3      2008-06-08\n",
              "5      2008-06-08\n",
              "          ...    \n",
              "3027   2013-05-05\n",
              "3028   2013-05-05\n",
              "3029   2013-05-05\n",
              "3030   2013-05-05\n",
              "3031   2013-05-05\n",
              "Name: published_date.numberLong, Length: 2266, dtype: datetime64[ns]"
            ]
          },
          "metadata": {
            "tags": []
          },
          "execution_count": 20
        }
      ]
    },
    {
      "cell_type": "code",
      "metadata": {
        "colab": {
          "base_uri": "https://localhost:8080/",
          "height": 387
        },
        "id": "Q_-3ic-v6gog",
        "outputId": "8c842de8-f9fe-40c3-be74-642458b85cfc"
      },
      "source": [
        "#convertir rank.numberInt usando astype:\r\n",
        "\r\n",
        "df['rank.numberInt'].astype(int)\r\n",
        "#Nota: Respuesta manda error, es la idea del ejercicio"
      ],
      "execution_count": 21,
      "outputs": [
        {
          "output_type": "error",
          "ename": "ValueError",
          "evalue": "ignored",
          "traceback": [
            "\u001b[0;31m---------------------------------------------------------------------------\u001b[0m",
            "\u001b[0;31mValueError\u001b[0m                                Traceback (most recent call last)",
            "\u001b[0;32m<ipython-input-21-1b40cdacab47>\u001b[0m in \u001b[0;36m<module>\u001b[0;34m()\u001b[0m\n\u001b[1;32m      1\u001b[0m \u001b[0;31m#convertir rank.numberInt usando astype:\u001b[0m\u001b[0;34m\u001b[0m\u001b[0;34m\u001b[0m\u001b[0;34m\u001b[0m\u001b[0m\n\u001b[1;32m      2\u001b[0m \u001b[0;34m\u001b[0m\u001b[0m\n\u001b[0;32m----> 3\u001b[0;31m \u001b[0mdf\u001b[0m\u001b[0;34m[\u001b[0m\u001b[0;34m'rank.numberInt'\u001b[0m\u001b[0;34m]\u001b[0m\u001b[0;34m.\u001b[0m\u001b[0mastype\u001b[0m\u001b[0;34m(\u001b[0m\u001b[0mint\u001b[0m\u001b[0;34m)\u001b[0m\u001b[0;34m\u001b[0m\u001b[0;34m\u001b[0m\u001b[0m\n\u001b[0m\u001b[1;32m      4\u001b[0m \u001b[0;31m#Nota: Respuesta manda error\u001b[0m\u001b[0;34m\u001b[0m\u001b[0;34m\u001b[0m\u001b[0;34m\u001b[0m\u001b[0m\n",
            "\u001b[0;32m/usr/local/lib/python3.7/dist-packages/pandas/core/generic.py\u001b[0m in \u001b[0;36mastype\u001b[0;34m(self, dtype, copy, errors)\u001b[0m\n\u001b[1;32m   5546\u001b[0m         \u001b[0;32melse\u001b[0m\u001b[0;34m:\u001b[0m\u001b[0;34m\u001b[0m\u001b[0;34m\u001b[0m\u001b[0m\n\u001b[1;32m   5547\u001b[0m             \u001b[0;31m# else, only a single dtype is given\u001b[0m\u001b[0;34m\u001b[0m\u001b[0;34m\u001b[0m\u001b[0;34m\u001b[0m\u001b[0m\n\u001b[0;32m-> 5548\u001b[0;31m             \u001b[0mnew_data\u001b[0m \u001b[0;34m=\u001b[0m \u001b[0mself\u001b[0m\u001b[0;34m.\u001b[0m\u001b[0m_mgr\u001b[0m\u001b[0;34m.\u001b[0m\u001b[0mastype\u001b[0m\u001b[0;34m(\u001b[0m\u001b[0mdtype\u001b[0m\u001b[0;34m=\u001b[0m\u001b[0mdtype\u001b[0m\u001b[0;34m,\u001b[0m \u001b[0mcopy\u001b[0m\u001b[0;34m=\u001b[0m\u001b[0mcopy\u001b[0m\u001b[0;34m,\u001b[0m \u001b[0merrors\u001b[0m\u001b[0;34m=\u001b[0m\u001b[0merrors\u001b[0m\u001b[0;34m,\u001b[0m\u001b[0;34m)\u001b[0m\u001b[0;34m\u001b[0m\u001b[0;34m\u001b[0m\u001b[0m\n\u001b[0m\u001b[1;32m   5549\u001b[0m             \u001b[0;32mreturn\u001b[0m \u001b[0mself\u001b[0m\u001b[0;34m.\u001b[0m\u001b[0m_constructor\u001b[0m\u001b[0;34m(\u001b[0m\u001b[0mnew_data\u001b[0m\u001b[0;34m)\u001b[0m\u001b[0;34m.\u001b[0m\u001b[0m__finalize__\u001b[0m\u001b[0;34m(\u001b[0m\u001b[0mself\u001b[0m\u001b[0;34m,\u001b[0m \u001b[0mmethod\u001b[0m\u001b[0;34m=\u001b[0m\u001b[0;34m\"astype\"\u001b[0m\u001b[0;34m)\u001b[0m\u001b[0;34m\u001b[0m\u001b[0;34m\u001b[0m\u001b[0m\n\u001b[1;32m   5550\u001b[0m \u001b[0;34m\u001b[0m\u001b[0m\n",
            "\u001b[0;32m/usr/local/lib/python3.7/dist-packages/pandas/core/internals/managers.py\u001b[0m in \u001b[0;36mastype\u001b[0;34m(self, dtype, copy, errors)\u001b[0m\n\u001b[1;32m    602\u001b[0m         \u001b[0mself\u001b[0m\u001b[0;34m,\u001b[0m \u001b[0mdtype\u001b[0m\u001b[0;34m,\u001b[0m \u001b[0mcopy\u001b[0m\u001b[0;34m:\u001b[0m \u001b[0mbool\u001b[0m \u001b[0;34m=\u001b[0m \u001b[0;32mFalse\u001b[0m\u001b[0;34m,\u001b[0m \u001b[0merrors\u001b[0m\u001b[0;34m:\u001b[0m \u001b[0mstr\u001b[0m \u001b[0;34m=\u001b[0m \u001b[0;34m\"raise\"\u001b[0m\u001b[0;34m\u001b[0m\u001b[0;34m\u001b[0m\u001b[0m\n\u001b[1;32m    603\u001b[0m     ) -> \"BlockManager\":\n\u001b[0;32m--> 604\u001b[0;31m         \u001b[0;32mreturn\u001b[0m \u001b[0mself\u001b[0m\u001b[0;34m.\u001b[0m\u001b[0mapply\u001b[0m\u001b[0;34m(\u001b[0m\u001b[0;34m\"astype\"\u001b[0m\u001b[0;34m,\u001b[0m \u001b[0mdtype\u001b[0m\u001b[0;34m=\u001b[0m\u001b[0mdtype\u001b[0m\u001b[0;34m,\u001b[0m \u001b[0mcopy\u001b[0m\u001b[0;34m=\u001b[0m\u001b[0mcopy\u001b[0m\u001b[0;34m,\u001b[0m \u001b[0merrors\u001b[0m\u001b[0;34m=\u001b[0m\u001b[0merrors\u001b[0m\u001b[0;34m)\u001b[0m\u001b[0;34m\u001b[0m\u001b[0;34m\u001b[0m\u001b[0m\n\u001b[0m\u001b[1;32m    605\u001b[0m \u001b[0;34m\u001b[0m\u001b[0m\n\u001b[1;32m    606\u001b[0m     def convert(\n",
            "\u001b[0;32m/usr/local/lib/python3.7/dist-packages/pandas/core/internals/managers.py\u001b[0m in \u001b[0;36mapply\u001b[0;34m(self, f, align_keys, **kwargs)\u001b[0m\n\u001b[1;32m    407\u001b[0m                 \u001b[0mapplied\u001b[0m \u001b[0;34m=\u001b[0m \u001b[0mb\u001b[0m\u001b[0;34m.\u001b[0m\u001b[0mapply\u001b[0m\u001b[0;34m(\u001b[0m\u001b[0mf\u001b[0m\u001b[0;34m,\u001b[0m \u001b[0;34m**\u001b[0m\u001b[0mkwargs\u001b[0m\u001b[0;34m)\u001b[0m\u001b[0;34m\u001b[0m\u001b[0;34m\u001b[0m\u001b[0m\n\u001b[1;32m    408\u001b[0m             \u001b[0;32melse\u001b[0m\u001b[0;34m:\u001b[0m\u001b[0;34m\u001b[0m\u001b[0;34m\u001b[0m\u001b[0m\n\u001b[0;32m--> 409\u001b[0;31m                 \u001b[0mapplied\u001b[0m \u001b[0;34m=\u001b[0m \u001b[0mgetattr\u001b[0m\u001b[0;34m(\u001b[0m\u001b[0mb\u001b[0m\u001b[0;34m,\u001b[0m \u001b[0mf\u001b[0m\u001b[0;34m)\u001b[0m\u001b[0;34m(\u001b[0m\u001b[0;34m**\u001b[0m\u001b[0mkwargs\u001b[0m\u001b[0;34m)\u001b[0m\u001b[0;34m\u001b[0m\u001b[0;34m\u001b[0m\u001b[0m\n\u001b[0m\u001b[1;32m    410\u001b[0m             \u001b[0mresult_blocks\u001b[0m \u001b[0;34m=\u001b[0m \u001b[0m_extend_blocks\u001b[0m\u001b[0;34m(\u001b[0m\u001b[0mapplied\u001b[0m\u001b[0;34m,\u001b[0m \u001b[0mresult_blocks\u001b[0m\u001b[0;34m)\u001b[0m\u001b[0;34m\u001b[0m\u001b[0;34m\u001b[0m\u001b[0m\n\u001b[1;32m    411\u001b[0m \u001b[0;34m\u001b[0m\u001b[0m\n",
            "\u001b[0;32m/usr/local/lib/python3.7/dist-packages/pandas/core/internals/blocks.py\u001b[0m in \u001b[0;36mastype\u001b[0;34m(self, dtype, copy, errors)\u001b[0m\n\u001b[1;32m    593\u001b[0m             \u001b[0mvals1d\u001b[0m \u001b[0;34m=\u001b[0m \u001b[0mvalues\u001b[0m\u001b[0;34m.\u001b[0m\u001b[0mravel\u001b[0m\u001b[0;34m(\u001b[0m\u001b[0;34m)\u001b[0m\u001b[0;34m\u001b[0m\u001b[0;34m\u001b[0m\u001b[0m\n\u001b[1;32m    594\u001b[0m             \u001b[0;32mtry\u001b[0m\u001b[0;34m:\u001b[0m\u001b[0;34m\u001b[0m\u001b[0;34m\u001b[0m\u001b[0m\n\u001b[0;32m--> 595\u001b[0;31m                 \u001b[0mvalues\u001b[0m \u001b[0;34m=\u001b[0m \u001b[0mastype_nansafe\u001b[0m\u001b[0;34m(\u001b[0m\u001b[0mvals1d\u001b[0m\u001b[0;34m,\u001b[0m \u001b[0mdtype\u001b[0m\u001b[0;34m,\u001b[0m \u001b[0mcopy\u001b[0m\u001b[0;34m=\u001b[0m\u001b[0;32mTrue\u001b[0m\u001b[0;34m)\u001b[0m\u001b[0;34m\u001b[0m\u001b[0;34m\u001b[0m\u001b[0m\n\u001b[0m\u001b[1;32m    596\u001b[0m             \u001b[0;32mexcept\u001b[0m \u001b[0;34m(\u001b[0m\u001b[0mValueError\u001b[0m\u001b[0;34m,\u001b[0m \u001b[0mTypeError\u001b[0m\u001b[0;34m)\u001b[0m\u001b[0;34m:\u001b[0m\u001b[0;34m\u001b[0m\u001b[0;34m\u001b[0m\u001b[0m\n\u001b[1;32m    597\u001b[0m                 \u001b[0;31m# e.g. astype_nansafe can fail on object-dtype of strings\u001b[0m\u001b[0;34m\u001b[0m\u001b[0;34m\u001b[0m\u001b[0;34m\u001b[0m\u001b[0m\n",
            "\u001b[0;32m/usr/local/lib/python3.7/dist-packages/pandas/core/dtypes/cast.py\u001b[0m in \u001b[0;36mastype_nansafe\u001b[0;34m(arr, dtype, copy, skipna)\u001b[0m\n\u001b[1;32m    972\u001b[0m         \u001b[0;31m# work around NumPy brokenness, #1987\u001b[0m\u001b[0;34m\u001b[0m\u001b[0;34m\u001b[0m\u001b[0;34m\u001b[0m\u001b[0m\n\u001b[1;32m    973\u001b[0m         \u001b[0;32mif\u001b[0m \u001b[0mnp\u001b[0m\u001b[0;34m.\u001b[0m\u001b[0missubdtype\u001b[0m\u001b[0;34m(\u001b[0m\u001b[0mdtype\u001b[0m\u001b[0;34m.\u001b[0m\u001b[0mtype\u001b[0m\u001b[0;34m,\u001b[0m \u001b[0mnp\u001b[0m\u001b[0;34m.\u001b[0m\u001b[0minteger\u001b[0m\u001b[0;34m)\u001b[0m\u001b[0;34m:\u001b[0m\u001b[0;34m\u001b[0m\u001b[0;34m\u001b[0m\u001b[0m\n\u001b[0;32m--> 974\u001b[0;31m             \u001b[0;32mreturn\u001b[0m \u001b[0mlib\u001b[0m\u001b[0;34m.\u001b[0m\u001b[0mastype_intsafe\u001b[0m\u001b[0;34m(\u001b[0m\u001b[0marr\u001b[0m\u001b[0;34m.\u001b[0m\u001b[0mravel\u001b[0m\u001b[0;34m(\u001b[0m\u001b[0;34m)\u001b[0m\u001b[0;34m,\u001b[0m \u001b[0mdtype\u001b[0m\u001b[0;34m)\u001b[0m\u001b[0;34m.\u001b[0m\u001b[0mreshape\u001b[0m\u001b[0;34m(\u001b[0m\u001b[0marr\u001b[0m\u001b[0;34m.\u001b[0m\u001b[0mshape\u001b[0m\u001b[0;34m)\u001b[0m\u001b[0;34m\u001b[0m\u001b[0;34m\u001b[0m\u001b[0m\n\u001b[0m\u001b[1;32m    975\u001b[0m \u001b[0;34m\u001b[0m\u001b[0m\n\u001b[1;32m    976\u001b[0m         \u001b[0;31m# if we have a datetime/timedelta array of objects\u001b[0m\u001b[0;34m\u001b[0m\u001b[0;34m\u001b[0m\u001b[0;34m\u001b[0m\u001b[0m\n",
            "\u001b[0;32mpandas/_libs/lib.pyx\u001b[0m in \u001b[0;36mpandas._libs.lib.astype_intsafe\u001b[0;34m()\u001b[0m\n",
            "\u001b[0;31mValueError\u001b[0m: invalid literal for int() with base 10: 'No Rank'"
          ]
        }
      ]
    },
    {
      "cell_type": "code",
      "metadata": {
        "colab": {
          "base_uri": "https://localhost:8080/"
        },
        "id": "qZFxIGki6vfh",
        "outputId": "71bdb05b-9d2d-4dcf-abf4-1570cebb9169"
      },
      "source": [
        "# Hay valores tipo string, no pueden ser convertidos a int. \r\n",
        "#Para esto usamos el método to_numeric, permite indicar que cuando un error sea encontrado, debe de ser sustituido por un NaN:\r\n",
        "\r\n",
        "pd.to_numeric(df['rank.numberInt'], errors='coerce')"
      ],
      "execution_count": 22,
      "outputs": [
        {
          "output_type": "execute_result",
          "data": {
            "text/plain": [
              "0        2.0\n",
              "1        3.0\n",
              "2        4.0\n",
              "3        5.0\n",
              "5        7.0\n",
              "        ... \n",
              "3027     8.0\n",
              "3028     9.0\n",
              "3029    11.0\n",
              "3030    13.0\n",
              "3031    14.0\n",
              "Name: rank.numberInt, Length: 2266, dtype: float64"
            ]
          },
          "metadata": {
            "tags": []
          },
          "execution_count": 22
        }
      ]
    },
    {
      "cell_type": "code",
      "metadata": {
        "id": "N_qDcnwM66hO"
      },
      "source": [
        "# Reasignar el resultado al DataFrame original:\r\n",
        "\r\n",
        "df['rank.numberInt'] = pd.to_numeric(df['rank.numberInt'], errors='coerce')"
      ],
      "execution_count": 23,
      "outputs": []
    },
    {
      "cell_type": "code",
      "metadata": {
        "colab": {
          "base_uri": "https://localhost:8080/"
        },
        "id": "6JUQj4k97Hfg",
        "outputId": "904c265c-1ec6-4ab2-ca8b-e949915108ea"
      },
      "source": [
        "# Para convertirlo a tipo int podemos eliminar los NaNs y luego usar astype:\r\n",
        "\r\n",
        "df = df.dropna(axis=0).copy()\r\n",
        "\r\n",
        "df['rank.numberInt'] = df['rank.numberInt'].astype(int)\r\n",
        "df.dtypes"
      ],
      "execution_count": 24,
      "outputs": [
        {
          "output_type": "execute_result",
          "data": {
            "text/plain": [
              "amazon_product_url              object\n",
              "author                          object\n",
              "description                     object\n",
              "publisher                       object\n",
              "title                           object\n",
              "oid                             object\n",
              "bestsellers_date.numberLong     object\n",
              "published_date.numberLong        int64\n",
              "rank.numberInt                   int64\n",
              "rank_last_week.numberInt         int64\n",
              "weeks_on_list.numberInt          int64\n",
              "price.numberDouble             float64\n",
              "dtype: object"
            ]
          },
          "metadata": {
            "tags": []
          },
          "execution_count": 24
        }
      ]
    },
    {
      "cell_type": "markdown",
      "metadata": {
        "id": "NS-W_aWV4MCw"
      },
      "source": [
        "**Reto 1**\r\n",
        "Casting\r\n",
        "\r\n",
        "1. Lee el dataset y crea un DataFrame con él.\r\n",
        "1. Realiza una pequeña exploración para familiarizarte con él.\r\n",
        "1. Convierte la columna relative_velocity.kilometers_per_hour de object a float64.\r\n",
        "1. Convierte la columna close_approach_date a tipo de dato datetime64[ms] usando el método astype y un diccionario de conversión.\r\n",
        "1. Convierte la columna epoch_date_close_approach a tipo de dato datetime64[ms] usando el método to_datetime.\r\n",
        "1. Asigna el DataFrame resultante a la variable df_reto_1.\r\n",
        "1. Guarda tu resultado en un archivo .csv."
      ]
    },
    {
      "cell_type": "code",
      "metadata": {
        "id": "uJRAsujj8WLA"
      },
      "source": [
        "# Archivo NASA modificado\r\n",
        "df_reto_1 = pd.read_csv('https://raw.githubusercontent.com/beduExpert/Procesamiento-de-Datos-con-Python-Santander/master/Datasets/near_earth_objects-jan_feb_1995-dirty.csv', index_col=0)"
      ],
      "execution_count": 25,
      "outputs": []
    },
    {
      "cell_type": "code",
      "metadata": {
        "colab": {
          "base_uri": "https://localhost:8080/"
        },
        "id": "yjdsR2okD6qB",
        "outputId": "48e327ad-c78e-4d26-f153-8f3b742ccee9"
      },
      "source": [
        "df_reto_1.columns"
      ],
      "execution_count": 26,
      "outputs": [
        {
          "output_type": "execute_result",
          "data": {
            "text/plain": [
              "Index(['id_name', 'is_potentially_hazardous_asteroid',\n",
              "       'estimated_diameter.meters.estimated_diameter_min',\n",
              "       'estimated_diameter.meters.estimated_diameter_max',\n",
              "       'close_approach_date', 'epoch_date_close_approach', 'orbiting_body',\n",
              "       'relative_velocity.kilometers_per_second',\n",
              "       'relative_velocity.kilometers_per_hour', 'orbit_class_description'],\n",
              "      dtype='object')"
            ]
          },
          "metadata": {
            "tags": []
          },
          "execution_count": 26
        }
      ]
    },
    {
      "cell_type": "code",
      "metadata": {
        "colab": {
          "base_uri": "https://localhost:8080/"
        },
        "id": "DMnc45cH74Cn",
        "outputId": "471b7268-f0dd-4ac3-ce9b-5c0037014d94"
      },
      "source": [
        "# Código\r\n",
        "df_reto_1['relative_velocity.kilometers_per_hour'] = pd.to_numeric(df_reto_1['relative_velocity.kilometers_per_hour'], errors='coerce')\r\n",
        "df_reto_1['relative_velocity.kilometers_per_hour'] = df_reto_1['relative_velocity.kilometers_per_hour'].astype(float)\r\n",
        "\r\n",
        "diccionario_de_conversion = {\r\n",
        "    'close_approach_date':'datetime64[ms]',\r\n",
        "}\r\n",
        "\r\n",
        "df_reto_1 = df_reto_1.astype(diccionario_de_conversion)\r\n",
        "df_reto_1['epoch_date_close_approach'] = pd.to_datetime(df_reto_1['epoch_date_close_approach'], unit='ms')\r\n",
        "df_reto_1.dtypes"
      ],
      "execution_count": 30,
      "outputs": [
        {
          "output_type": "execute_result",
          "data": {
            "text/plain": [
              "id_name                                                     object\n",
              "is_potentially_hazardous_asteroid                             bool\n",
              "estimated_diameter.meters.estimated_diameter_min           float64\n",
              "estimated_diameter.meters.estimated_diameter_max           float64\n",
              "close_approach_date                                 datetime64[ns]\n",
              "epoch_date_close_approach                           datetime64[ns]\n",
              "orbiting_body                                               object\n",
              "relative_velocity.kilometers_per_second                    float64\n",
              "relative_velocity.kilometers_per_hour                      float64\n",
              "orbit_class_description                                     object\n",
              "dtype: object"
            ]
          },
          "metadata": {
            "tags": []
          },
          "execution_count": 30
        }
      ]
    },
    {
      "cell_type": "code",
      "metadata": {
        "colab": {
          "base_uri": "https://localhost:8080/"
        },
        "id": "KdFbY9it79Du",
        "outputId": "13d74715-a5e4-4c7e-a1d0-5af29b6da1a5"
      },
      "source": [
        "# Pega aquí la función de verificación\r\n",
        "def checar_conversiones(df_reto_1):\r\n",
        "    \r\n",
        "    import pandas as pd\r\n",
        "    import pandas.api.types as ptypes\r\n",
        "    \r\n",
        "    assert ptypes.is_float_dtype(df_reto_1['relative_velocity.kilometers_per_hour']), 'Cuidado... La columna `relative_velocity.kilometers_per_hour` no es de tipo `float64`'\r\n",
        "    assert ptypes.is_datetime64_any_dtype(df_reto_1['close_approach_date']), 'Cuidado... La columna `close_approach_date` no es de tipo `datetime64[ns]`'\r\n",
        "    assert ptypes.is_datetime64_any_dtype(df_reto_1['epoch_date_close_approach']), 'Cuidado... La columna `epoch_date_close_approach` no es de tipo `datetime64[ns]'\r\n",
        "    \r\n",
        "    print(f'¡Éxito! ¡Todas tus conversiones fueron realizadas adecuadamente!')\r\n",
        "\r\n",
        "\r\n",
        "checar_conversiones(df_reto_1)"
      ],
      "execution_count": 31,
      "outputs": [
        {
          "output_type": "stream",
          "text": [
            "¡Éxito! ¡Todas tus conversiones fueron realizadas adecuadamente!\n"
          ],
          "name": "stdout"
        }
      ]
    },
    {
      "cell_type": "markdown",
      "metadata": {
        "id": "BHG4hJxiKQIE"
      },
      "source": [
        "**Ejemplo 2**\r\n",
        "Manipulación de `strings`\r\n",
        "\r\n",
        "- Aprender a usar `replace`, `strip`, `title`, `upper`, `lower` y `split` para transformar datos tipo `string``"
      ]
    },
    {
      "cell_type": "code",
      "metadata": {
        "colab": {
          "base_uri": "https://localhost:8080/"
        },
        "id": "60cVnJ5ZKgKu",
        "outputId": "fedd397d-3c56-4a5b-f098-a5d511a136e7"
      },
      "source": [
        "#DB amazon\r\n",
        "df['description'].str.replace('Descr:', '')"
      ],
      "execution_count": 39,
      "outputs": [
        {
          "output_type": "execute_result",
          "data": {
            "text/plain": [
              "0        Aliens have taken control of the minds and bo...\n",
              "1        A woman's happy marriage is shaken when she e...\n",
              "2        A Massachusetts state investigator and his te...\n",
              "3        An aging porn queens aims to cap her career b...\n",
              "5        The Minneapolis detective Lucas Davenport inv...\n",
              "                              ...                        \n",
              "3027     The New York lawyer Stone Barrington discover...\n",
              "3028     Jake Fisher discovers that neither the woman ...\n",
              "3029     Six friends meet in the 1970s at a summer art...\n",
              "3030     Bernie Gunther, the Berlin cop, is sent to Sm...\n",
              "3031     A New Hampshire baker finds herself in the mi...\n",
              "Name: description, Length: 2046, dtype: object"
            ]
          },
          "metadata": {
            "tags": []
          },
          "execution_count": 39
        }
      ]
    },
    {
      "cell_type": "code",
      "metadata": {
        "id": "8G5shMU5KrIl"
      },
      "source": [
        "# Columna description que tiene un 'Descr:' al inicio de cada texto. \r\n",
        "#Si queremos remover ese texto podemos usar el método replace de la propiedad str de esa Serie:\r\n",
        "df['description'] = df['description'].str.replace('Descr:', '')"
      ],
      "execution_count": 40,
      "outputs": []
    },
    {
      "cell_type": "code",
      "metadata": {
        "colab": {
          "base_uri": "https://localhost:8080/",
          "height": 35
        },
        "id": "v3L8X45gKyGg",
        "outputId": "49d0af3f-f41f-4b1c-d79d-e2946c6a2f0d"
      },
      "source": [
        "df.loc[0, 'description']"
      ],
      "execution_count": 41,
      "outputs": [
        {
          "output_type": "execute_result",
          "data": {
            "application/vnd.google.colaboratory.intrinsic+json": {
              "type": "string"
            },
            "text/plain": [
              "' Aliens have taken control of the minds and bodies of most humans, but one woman won’t surrender.     '"
            ]
          },
          "metadata": {
            "tags": []
          },
          "execution_count": 41
        }
      ]
    },
    {
      "cell_type": "code",
      "metadata": {
        "colab": {
          "base_uri": "https://localhost:8080/"
        },
        "id": "Fnf8r4iPK5hE",
        "outputId": "67a5e15d-763f-4a88-b854-80b07525b7e9"
      },
      "source": [
        "# También tenemos espacios vacíos al principio y final de nuestras strings.\r\n",
        "#Vamos a removerlos usando strip:\r\n",
        "\r\n",
        "df['description'].str.strip()"
      ],
      "execution_count": 42,
      "outputs": [
        {
          "output_type": "execute_result",
          "data": {
            "text/plain": [
              "0       Aliens have taken control of the minds and bod...\n",
              "1       A woman's happy marriage is shaken when she en...\n",
              "2       A Massachusetts state investigator and his tea...\n",
              "3       An aging porn queens aims to cap her career by...\n",
              "5       The Minneapolis detective Lucas Davenport inve...\n",
              "                              ...                        \n",
              "3027    The New York lawyer Stone Barrington discovers...\n",
              "3028    Jake Fisher discovers that neither the woman h...\n",
              "3029    Six friends meet in the 1970s at a summer arts...\n",
              "3030    Bernie Gunther, the Berlin cop, is sent to Smo...\n",
              "3031    A New Hampshire baker finds herself in the mid...\n",
              "Name: description, Length: 2046, dtype: object"
            ]
          },
          "metadata": {
            "tags": []
          },
          "execution_count": 42
        }
      ]
    },
    {
      "cell_type": "code",
      "metadata": {
        "colab": {
          "base_uri": "https://localhost:8080/",
          "height": 35
        },
        "id": "4gVasFcbLBfZ",
        "outputId": "5cbf0df6-0fd3-4701-a5bf-217e15447882"
      },
      "source": [
        "df['description'] = df['description'].str.strip()\r\n",
        "df.loc[0, 'description']"
      ],
      "execution_count": 44,
      "outputs": [
        {
          "output_type": "execute_result",
          "data": {
            "application/vnd.google.colaboratory.intrinsic+json": {
              "type": "string"
            },
            "text/plain": [
              "'Aliens have taken control of the minds and bodies of most humans, but one woman won’t surrender.'"
            ]
          },
          "metadata": {
            "tags": []
          },
          "execution_count": 44
        }
      ]
    },
    {
      "cell_type": "code",
      "metadata": {
        "colab": {
          "base_uri": "https://localhost:8080/"
        },
        "id": "eB1cWIUtLCsn",
        "outputId": "9c482985-cefb-459d-ec10-a9b8a69e51d9"
      },
      "source": [
        "# Columna 'title', cuyos textos están en mayúsculas. \r\n",
        "#Usar algunos métodos para modificar el patrón de mayúsculas y minúsculas:\r\n",
        "df['title'].str.lower()"
      ],
      "execution_count": 45,
      "outputs": [
        {
          "output_type": "execute_result",
          "data": {
            "text/plain": [
              "0                       the host\n",
              "1       love the one you're with\n",
              "2                      the front\n",
              "3                          snuff\n",
              "5                   phantom prey\n",
              "                  ...           \n",
              "3027     unintended consequences\n",
              "3028                   six years\n",
              "3029            the interestings\n",
              "3030        a man without breath\n",
              "3031             the storyteller\n",
              "Name: title, Length: 2046, dtype: object"
            ]
          },
          "metadata": {
            "tags": []
          },
          "execution_count": 45
        }
      ]
    },
    {
      "cell_type": "code",
      "metadata": {
        "colab": {
          "base_uri": "https://localhost:8080/"
        },
        "id": "KDjnJrtzLS9r",
        "outputId": "3f6f77a3-1045-407a-f577-1bdf72151885"
      },
      "source": [
        "df['title'].str.title()"
      ],
      "execution_count": 46,
      "outputs": [
        {
          "output_type": "execute_result",
          "data": {
            "text/plain": [
              "0                       The Host\n",
              "1       Love The One You'Re With\n",
              "2                      The Front\n",
              "3                          Snuff\n",
              "5                   Phantom Prey\n",
              "                  ...           \n",
              "3027     Unintended Consequences\n",
              "3028                   Six Years\n",
              "3029            The Interestings\n",
              "3030        A Man Without Breath\n",
              "3031             The Storyteller\n",
              "Name: title, Length: 2046, dtype: object"
            ]
          },
          "metadata": {
            "tags": []
          },
          "execution_count": 46
        }
      ]
    },
    {
      "cell_type": "code",
      "metadata": {
        "id": "eUSwb0A2LVvn"
      },
      "source": [
        "#Después de verificar que está mejor, guardarlo\r\n",
        "df['title'] = df['title'].str.title()"
      ],
      "execution_count": 48,
      "outputs": []
    },
    {
      "cell_type": "code",
      "metadata": {
        "colab": {
          "base_uri": "https://localhost:8080/"
        },
        "id": "W40Yy0eMLhap",
        "outputId": "1830c977-71aa-4523-a081-16915ff2a9f9"
      },
      "source": [
        "#Separar nuestra columna author en dos columnas author_first_name y author_last_name.\r\n",
        "#Eso lo podemos hacer con el método split:\r\n",
        "\r\n",
        "df['author'].str.split(' ')"
      ],
      "execution_count": 49,
      "outputs": [
        {
          "output_type": "execute_result",
          "data": {
            "text/plain": [
              "0         [Stephenie, Meyer]\n",
              "1            [Emily, Giffin]\n",
              "2       [Patricia, Cornwell]\n",
              "3         [Chuck, Palahniuk]\n",
              "5           [John, Sandford]\n",
              "                ...         \n",
              "3027         [Stuart, Woods]\n",
              "3028         [Harlan, Coben]\n",
              "3029         [Meg, Wolitzer]\n",
              "3030          [Philip, Kerr]\n",
              "3031         [Jodi, Picoult]\n",
              "Name: author, Length: 2046, dtype: object"
            ]
          },
          "metadata": {
            "tags": []
          },
          "execution_count": 49
        }
      ]
    },
    {
      "cell_type": "code",
      "metadata": {
        "colab": {
          "base_uri": "https://localhost:8080/",
          "height": 402
        },
        "id": "irAHNWoCLmvc",
        "outputId": "add70010-9192-4545-caf4-b5e3833d41af"
      },
      "source": [
        "#Convertirlo en 2 columnas\r\n",
        "df['author'].str.split(' ', expand=True)"
      ],
      "execution_count": 50,
      "outputs": [
        {
          "output_type": "execute_result",
          "data": {
            "text/html": [
              "<div>\n",
              "<style scoped>\n",
              "    .dataframe tbody tr th:only-of-type {\n",
              "        vertical-align: middle;\n",
              "    }\n",
              "\n",
              "    .dataframe tbody tr th {\n",
              "        vertical-align: top;\n",
              "    }\n",
              "\n",
              "    .dataframe thead th {\n",
              "        text-align: right;\n",
              "    }\n",
              "</style>\n",
              "<table border=\"1\" class=\"dataframe\">\n",
              "  <thead>\n",
              "    <tr style=\"text-align: right;\">\n",
              "      <th></th>\n",
              "      <th>0</th>\n",
              "      <th>1</th>\n",
              "    </tr>\n",
              "  </thead>\n",
              "  <tbody>\n",
              "    <tr>\n",
              "      <th>0</th>\n",
              "      <td>Stephenie</td>\n",
              "      <td>Meyer</td>\n",
              "    </tr>\n",
              "    <tr>\n",
              "      <th>1</th>\n",
              "      <td>Emily</td>\n",
              "      <td>Giffin</td>\n",
              "    </tr>\n",
              "    <tr>\n",
              "      <th>2</th>\n",
              "      <td>Patricia</td>\n",
              "      <td>Cornwell</td>\n",
              "    </tr>\n",
              "    <tr>\n",
              "      <th>3</th>\n",
              "      <td>Chuck</td>\n",
              "      <td>Palahniuk</td>\n",
              "    </tr>\n",
              "    <tr>\n",
              "      <th>5</th>\n",
              "      <td>John</td>\n",
              "      <td>Sandford</td>\n",
              "    </tr>\n",
              "    <tr>\n",
              "      <th>...</th>\n",
              "      <td>...</td>\n",
              "      <td>...</td>\n",
              "    </tr>\n",
              "    <tr>\n",
              "      <th>3027</th>\n",
              "      <td>Stuart</td>\n",
              "      <td>Woods</td>\n",
              "    </tr>\n",
              "    <tr>\n",
              "      <th>3028</th>\n",
              "      <td>Harlan</td>\n",
              "      <td>Coben</td>\n",
              "    </tr>\n",
              "    <tr>\n",
              "      <th>3029</th>\n",
              "      <td>Meg</td>\n",
              "      <td>Wolitzer</td>\n",
              "    </tr>\n",
              "    <tr>\n",
              "      <th>3030</th>\n",
              "      <td>Philip</td>\n",
              "      <td>Kerr</td>\n",
              "    </tr>\n",
              "    <tr>\n",
              "      <th>3031</th>\n",
              "      <td>Jodi</td>\n",
              "      <td>Picoult</td>\n",
              "    </tr>\n",
              "  </tbody>\n",
              "</table>\n",
              "<p>2046 rows × 2 columns</p>\n",
              "</div>"
            ],
            "text/plain": [
              "              0          1\n",
              "0     Stephenie      Meyer\n",
              "1         Emily     Giffin\n",
              "2      Patricia   Cornwell\n",
              "3         Chuck  Palahniuk\n",
              "5          John   Sandford\n",
              "...         ...        ...\n",
              "3027     Stuart      Woods\n",
              "3028     Harlan      Coben\n",
              "3029        Meg   Wolitzer\n",
              "3030     Philip       Kerr\n",
              "3031       Jodi    Picoult\n",
              "\n",
              "[2046 rows x 2 columns]"
            ]
          },
          "metadata": {
            "tags": []
          },
          "execution_count": 50
        }
      ]
    },
    {
      "cell_type": "code",
      "metadata": {
        "colab": {
          "base_uri": "https://localhost:8080/",
          "height": 534
        },
        "id": "V4eDe2I9LtiD",
        "outputId": "e8cf286b-43f3-4421-ced2-2678e2a9c6db"
      },
      "source": [
        "df[['author_first_name', 'author_last_name']] = df['author'].str.split(' ', expand=True)\r\n",
        "\r\n",
        "df.head()"
      ],
      "execution_count": 51,
      "outputs": [
        {
          "output_type": "execute_result",
          "data": {
            "text/html": [
              "<div>\n",
              "<style scoped>\n",
              "    .dataframe tbody tr th:only-of-type {\n",
              "        vertical-align: middle;\n",
              "    }\n",
              "\n",
              "    .dataframe tbody tr th {\n",
              "        vertical-align: top;\n",
              "    }\n",
              "\n",
              "    .dataframe thead th {\n",
              "        text-align: right;\n",
              "    }\n",
              "</style>\n",
              "<table border=\"1\" class=\"dataframe\">\n",
              "  <thead>\n",
              "    <tr style=\"text-align: right;\">\n",
              "      <th></th>\n",
              "      <th>amazon_product_url</th>\n",
              "      <th>author</th>\n",
              "      <th>description</th>\n",
              "      <th>publisher</th>\n",
              "      <th>title</th>\n",
              "      <th>oid</th>\n",
              "      <th>bestsellers_date.numberLong</th>\n",
              "      <th>published_date.numberLong</th>\n",
              "      <th>rank.numberInt</th>\n",
              "      <th>rank_last_week.numberInt</th>\n",
              "      <th>weeks_on_list.numberInt</th>\n",
              "      <th>price.numberDouble</th>\n",
              "      <th>author_first_name</th>\n",
              "      <th>author_last_name</th>\n",
              "    </tr>\n",
              "  </thead>\n",
              "  <tbody>\n",
              "    <tr>\n",
              "      <th>0</th>\n",
              "      <td>http://www.amazon.com/The-Host-Novel-Stephenie...</td>\n",
              "      <td>Stephenie Meyer</td>\n",
              "      <td>Aliens have taken control of the minds and bod...</td>\n",
              "      <td>Little, Brown</td>\n",
              "      <td>The Host</td>\n",
              "      <td>5b4aa4ead3089013507db18c</td>\n",
              "      <td>2008-05-24 00:00:00</td>\n",
              "      <td>1212883200000</td>\n",
              "      <td>2</td>\n",
              "      <td>1</td>\n",
              "      <td>3</td>\n",
              "      <td>25.99</td>\n",
              "      <td>Stephenie</td>\n",
              "      <td>Meyer</td>\n",
              "    </tr>\n",
              "    <tr>\n",
              "      <th>1</th>\n",
              "      <td>http://www.amazon.com/Love-Youre-With-Emily-Gi...</td>\n",
              "      <td>Emily Giffin</td>\n",
              "      <td>A woman's happy marriage is shaken when she en...</td>\n",
              "      <td>St. Martin's</td>\n",
              "      <td>Love The One You'Re With</td>\n",
              "      <td>5b4aa4ead3089013507db18d</td>\n",
              "      <td>2008-05-24 00:00:00</td>\n",
              "      <td>1212883200000</td>\n",
              "      <td>3</td>\n",
              "      <td>2</td>\n",
              "      <td>2</td>\n",
              "      <td>24.95</td>\n",
              "      <td>Emily</td>\n",
              "      <td>Giffin</td>\n",
              "    </tr>\n",
              "    <tr>\n",
              "      <th>2</th>\n",
              "      <td>http://www.amazon.com/The-Front-Garano-Patrici...</td>\n",
              "      <td>Patricia Cornwell</td>\n",
              "      <td>A Massachusetts state investigator and his tea...</td>\n",
              "      <td>Putnam</td>\n",
              "      <td>The Front</td>\n",
              "      <td>5b4aa4ead3089013507db18e</td>\n",
              "      <td>2008-05-24 00:00:00</td>\n",
              "      <td>1212883200000</td>\n",
              "      <td>4</td>\n",
              "      <td>0</td>\n",
              "      <td>1</td>\n",
              "      <td>22.95</td>\n",
              "      <td>Patricia</td>\n",
              "      <td>Cornwell</td>\n",
              "    </tr>\n",
              "    <tr>\n",
              "      <th>3</th>\n",
              "      <td>http://www.amazon.com/Snuff-Chuck-Palahniuk/dp...</td>\n",
              "      <td>Chuck Palahniuk</td>\n",
              "      <td>An aging porn queens aims to cap her career by...</td>\n",
              "      <td>Doubleday</td>\n",
              "      <td>Snuff</td>\n",
              "      <td>5b4aa4ead3089013507db18f</td>\n",
              "      <td>2008-05-24 00:00:00</td>\n",
              "      <td>1212883200000</td>\n",
              "      <td>5</td>\n",
              "      <td>0</td>\n",
              "      <td>1</td>\n",
              "      <td>24.95</td>\n",
              "      <td>Chuck</td>\n",
              "      <td>Palahniuk</td>\n",
              "    </tr>\n",
              "    <tr>\n",
              "      <th>5</th>\n",
              "      <td>http://www.amazon.com/Phantom-Prey-John-Sandfo...</td>\n",
              "      <td>John Sandford</td>\n",
              "      <td>The Minneapolis detective Lucas Davenport inve...</td>\n",
              "      <td>Putnam</td>\n",
              "      <td>Phantom Prey</td>\n",
              "      <td>5b4aa4ead3089013507db191</td>\n",
              "      <td>2008-05-24 00:00:00</td>\n",
              "      <td>1212883200000</td>\n",
              "      <td>7</td>\n",
              "      <td>4</td>\n",
              "      <td>3</td>\n",
              "      <td>26.95</td>\n",
              "      <td>John</td>\n",
              "      <td>Sandford</td>\n",
              "    </tr>\n",
              "  </tbody>\n",
              "</table>\n",
              "</div>"
            ],
            "text/plain": [
              "                                  amazon_product_url  ... author_last_name\n",
              "0  http://www.amazon.com/The-Host-Novel-Stephenie...  ...            Meyer\n",
              "1  http://www.amazon.com/Love-Youre-With-Emily-Gi...  ...           Giffin\n",
              "2  http://www.amazon.com/The-Front-Garano-Patrici...  ...         Cornwell\n",
              "3  http://www.amazon.com/Snuff-Chuck-Palahniuk/dp...  ...        Palahniuk\n",
              "5  http://www.amazon.com/Phantom-Prey-John-Sandfo...  ...         Sandford\n",
              "\n",
              "[5 rows x 14 columns]"
            ]
          },
          "metadata": {
            "tags": []
          },
          "execution_count": 51
        }
      ]
    },
    {
      "cell_type": "markdown",
      "metadata": {
        "id": "Pot2CQZ_3fnt"
      },
      "source": [
        "**Cadenas**\r\n",
        "Funciones que conienen las cadenas\r\n",
        "\r\n",
        "1. Replace\r\n",
        "2. Strip\r\n",
        "3. Lower & Upper & Title\r\n",
        "4. Split & Join"
      ]
    },
    {
      "cell_type": "markdown",
      "metadata": {
        "id": "iieQXBy83umG"
      },
      "source": [
        "**Reto 2**\r\n",
        "Manipulación de string\r\n",
        "\r\n",
        "- Practicar manipular `strings` usando métodos como `split`, `title`, `strip, etc.\r\n",
        "\r\n",
        "1. Reemplaza los guiones en las strings de la columna orbit_class_description por espacios.\r\n",
        "1. Elimina los espacios vacíos al principio y final de las strings de la misma columna.\r\n",
        "1. Hay una columna llamada id_name que contiene el 'id' y el nombre de cada objeto separados por un guión. Separa estos datos en dos columnas llamadas id y name.\r\n",
        "1. Haz que las strings de la columna orbiting_body empiecen con mayúscula.\r\n",
        "1. Asigna el DataFrame resultante a la variable df_reto_2.\r\n",
        "1. Guarda tu resultado en un archivo .csv."
      ]
    },
    {
      "cell_type": "code",
      "metadata": {
        "colab": {
          "base_uri": "https://localhost:8080/"
        },
        "id": "Kej_xg9J31-g",
        "outputId": "5dda005d-588a-4510-f22e-3631f0643590"
      },
      "source": [
        "df_reto_2 = df_reto_1\r\n",
        "df_reto_2.columns"
      ],
      "execution_count": 72,
      "outputs": [
        {
          "output_type": "execute_result",
          "data": {
            "text/plain": [
              "Index(['id_name', 'is_potentially_hazardous_asteroid',\n",
              "       'estimated_diameter.meters.estimated_diameter_min',\n",
              "       'estimated_diameter.meters.estimated_diameter_max',\n",
              "       'close_approach_date', 'epoch_date_close_approach', 'orbiting_body',\n",
              "       'relative_velocity.kilometers_per_second',\n",
              "       'relative_velocity.kilometers_per_hour', 'orbit_class_description'],\n",
              "      dtype='object')"
            ]
          },
          "metadata": {
            "tags": []
          },
          "execution_count": 72
        }
      ]
    },
    {
      "cell_type": "code",
      "metadata": {
        "colab": {
          "base_uri": "https://localhost:8080/"
        },
        "id": "PiMZ5h7VFt8V",
        "outputId": "1010dbd1-6448-4411-8589-1c033fbb9b3b"
      },
      "source": [
        "#1. replace\r\n",
        "df_reto_2['orbit_class_description'] = df_reto_2['orbit_class_description'].str.replace(\"-\", \" \")\r\n",
        "#2. strip\r\n",
        "df_reto_2['orbit_class_description'] = df_reto_2['orbit_class_description'].str.strip()\r\n",
        "#3. split\r\n",
        "df_reto_2[['id', 'name']] = df_reto_2['id_name'].str.split(\"-\", expand=True)\r\n",
        "#4. title\r\n",
        "df_reto_2['orbiting_body'] = df_reto_2['orbiting_body'].str.title()\r\n",
        "df_reto_2.columns"
      ],
      "execution_count": 74,
      "outputs": [
        {
          "output_type": "execute_result",
          "data": {
            "text/plain": [
              "Index(['id_name', 'is_potentially_hazardous_asteroid',\n",
              "       'estimated_diameter.meters.estimated_diameter_min',\n",
              "       'estimated_diameter.meters.estimated_diameter_max',\n",
              "       'close_approach_date', 'epoch_date_close_approach', 'orbiting_body',\n",
              "       'relative_velocity.kilometers_per_second',\n",
              "       'relative_velocity.kilometers_per_hour', 'orbit_class_description',\n",
              "       'id', 'name'],\n",
              "      dtype='object')"
            ]
          },
          "metadata": {
            "tags": []
          },
          "execution_count": 74
        }
      ]
    },
    {
      "cell_type": "code",
      "metadata": {
        "id": "sEP6vSAi9vEi"
      },
      "source": [
        "#6. Guardar to_csv\r\n",
        "df_reto_2.to_csv('reto_2.csv')"
      ],
      "execution_count": 75,
      "outputs": []
    },
    {
      "cell_type": "markdown",
      "metadata": {
        "id": "kdjb8HxIAwvT"
      },
      "source": [
        "**Ejemplo 3**\r\n",
        "Map\r\n",
        "\r\n",
        "- Usar `map` para convertir datos usando un `diccionario` o una `función`\r\n",
        "1. Diccionario\r\n",
        "2. Función"
      ]
    },
    {
      "cell_type": "code",
      "metadata": {
        "colab": {
          "base_uri": "https://localhost:8080/"
        },
        "id": "wAGVymFuBJYF",
        "outputId": "ff9359c5-50b7-4bcb-e5e4-6d3a2388dc0c"
      },
      "source": [
        "int_letra = {\r\n",
        "    '1': 'a',\r\n",
        "    '2': 'b',\r\n",
        "    '3': 'c',\r\n",
        "    '4': 'd',\r\n",
        "    '5': 'e',\r\n",
        "    '6': 'f',\r\n",
        "    '7': 'g'\r\n",
        "}\r\n",
        "\r\n",
        "df['rank.numberInt'].map(int_letra).head()"
      ],
      "execution_count": 77,
      "outputs": [
        {
          "output_type": "execute_result",
          "data": {
            "text/plain": [
              "0    NaN\n",
              "1    NaN\n",
              "2    NaN\n",
              "3    NaN\n",
              "5    NaN\n",
              "Name: rank.numberInt, dtype: object"
            ]
          },
          "metadata": {
            "tags": []
          },
          "execution_count": 77
        }
      ]
    },
    {
      "cell_type": "code",
      "metadata": {
        "colab": {
          "base_uri": "https://localhost:8080/"
        },
        "id": "awSP3jtECJoL",
        "outputId": "152dc782-62d4-4078-ba0b-16b2b0a202a0"
      },
      "source": [
        "def double_to_usd(value):\r\n",
        "  return f'$(value) USD'\r\n",
        "\r\n",
        "df['price.numberDouble'].map(double_to_usd)"
      ],
      "execution_count": 78,
      "outputs": [
        {
          "output_type": "execute_result",
          "data": {
            "text/plain": [
              "0       $(value) USD\n",
              "1       $(value) USD\n",
              "2       $(value) USD\n",
              "3       $(value) USD\n",
              "5       $(value) USD\n",
              "            ...     \n",
              "3027    $(value) USD\n",
              "3028    $(value) USD\n",
              "3029    $(value) USD\n",
              "3030    $(value) USD\n",
              "3031    $(value) USD\n",
              "Name: price.numberDouble, Length: 2046, dtype: object"
            ]
          },
          "metadata": {
            "tags": []
          },
          "execution_count": 78
        }
      ]
    },
    {
      "cell_type": "markdown",
      "metadata": {
        "id": "FcQfi71xC5j4"
      },
      "source": [
        "**Reto 3**\r\n",
        "Map\r\n",
        "\r\n",
        "a) Boleanos numéricos\r\n",
        "\r\n",
        "1. La columna is_potentially_hazardous_asteroid tiene valores booleanos. Crea un diccionario de mapeo donde hagas un correspondencia de cada valor booleano con su equivalente numérico y transforma esa columna.\r\n",
        "2. Usa una función para mapear la columna relative_velocity.kilometers_per_hour a una nueva columna llamada relative_velocity.kilometers_per_minute, que contenga la velocidad del objeto en kilómetros por minuto.\r\n",
        "3. Guarda tu DataFrame resultante en la variable df_reto_3.\r\n",
        "4. Guarda tu resultado en un archivo .csv."
      ]
    },
    {
      "cell_type": "code",
      "metadata": {
        "id": "G_huMAF7DIsn"
      },
      "source": [
        "df_reto_3 = df_reto_2"
      ],
      "execution_count": 81,
      "outputs": []
    },
    {
      "cell_type": "code",
      "metadata": {
        "id": "YnrsMH23L5R9"
      },
      "source": [
        "true_false = {\r\n",
        "    True: 1,\r\n",
        "    False: 0\r\n",
        "}\r\n",
        "\r\n",
        "df_reto_3['is_potentially_hazardous_asteroid'] = df_reto_3['is_potentially_hazardous_asteroid'].map(true_false)"
      ],
      "execution_count": 82,
      "outputs": []
    },
    {
      "cell_type": "code",
      "metadata": {
        "id": "KnLrzeeape2t"
      },
      "source": [
        "def horas_minutos(valor):\r\n",
        "    return valor / 60\r\n",
        "\r\n",
        "df_reto_3['relative_velocity.kilometers_per_minute'] = df_reto_3['relative_velocity.kilometers_per_hour'].map(horas_minutos)"
      ],
      "execution_count": 83,
      "outputs": []
    },
    {
      "cell_type": "code",
      "metadata": {
        "colab": {
          "base_uri": "https://localhost:8080/"
        },
        "id": "aG9EjdazDLjZ",
        "outputId": "b3c35896-166c-4916-fa96-19291ec22def"
      },
      "source": [
        "# Pega aquí la función de verificación\r\n",
        "def revisar_resultados(df_reto_3):\r\n",
        "    \r\n",
        "    import pandas as np\r\n",
        "    import pandas.api.types as pdtypes\r\n",
        "    \r\n",
        "    assert pdtypes.is_int64_dtype(df_reto_3['is_potentially_hazardous_asteroid']), 'La columna \"is_potentially_hazardous_asteroid\" no ha sido transformada a tipo numerico'\r\n",
        "    assert len(df_reto_3['is_potentially_hazardous_asteroid'].unique()) == 2, 'Hubo un error con la correspondencia de valores booleanos a numéricos. Hay más de dos valores posibles en la columna resultante'\r\n",
        "    assert df_reto_3['relative_velocity.kilometers_per_minute'].equals(df_reto_3['relative_velocity.kilometers_per_hour'] / 60), 'La conversión de kilometros por hora a kilómetros por minuto no fue realizada correctamente'\r\n",
        "    \r\n",
        "    print(f'Todos los procesos fueron realizados exitosamente!')\r\n",
        "\r\n",
        "revisar_resultados(df_reto_3)"
      ],
      "execution_count": 84,
      "outputs": [
        {
          "output_type": "stream",
          "text": [
            "Todos los procesos fueron realizados exitosamente!\n"
          ],
          "name": "stdout"
        }
      ]
    },
    {
      "cell_type": "markdown",
      "metadata": {
        "id": "3A06Nsi5GcrQ"
      },
      "source": [
        "**Ejemplo 4**\r\n",
        "Apply\r\n",
        "\r\n",
        "- Usar `apply` para aplicar funciones a `Series` y `DataFrames`"
      ]
    },
    {
      "cell_type": "code",
      "metadata": {
        "id": "sOklFDEUGl97"
      },
      "source": [
        "import numpy as np"
      ],
      "execution_count": 85,
      "outputs": []
    },
    {
      "cell_type": "code",
      "metadata": {
        "id": "UIUvrgUfHKbG"
      },
      "source": [
        "#Crear DataFrame\r\n",
        "tacos = {\r\n",
        "    'Atenea': [2,11],\r\n",
        "    'Alberto': [5,20],\r\n",
        "    'Mary': [3,10],\r\n",
        "    'Bárbara':[5,13],\r\n",
        "    'Selene': [4,15]\r\n",
        "}\r\n",
        "\r\n",
        "df_tacos = pd.DataFrame.from_dict(tacos)"
      ],
      "execution_count": 86,
      "outputs": []
    },
    {
      "cell_type": "code",
      "metadata": {
        "colab": {
          "base_uri": "https://localhost:8080/"
        },
        "id": "n-4-RyhuIRNL",
        "outputId": "70bcfebd-2b04-4afe-beb5-32206403f83d"
      },
      "source": [
        "def promedio(valores):\r\n",
        "    return sum(valores)/len(valores)\r\n",
        "\r\n",
        "df_tacos.apply(promedio, axis=1)"
      ],
      "execution_count": 87,
      "outputs": [
        {
          "output_type": "execute_result",
          "data": {
            "text/plain": [
              "0     3.8\n",
              "1    13.8\n",
              "dtype: float64"
            ]
          },
          "metadata": {
            "tags": []
          },
          "execution_count": 87
        }
      ]
    },
    {
      "cell_type": "markdown",
      "metadata": {
        "id": "zTgH9RB6Jklk"
      },
      "source": [
        "**Reto 4**\r\n",
        "Apply\r\n",
        "\r\n",
        "- Practicar el uso del método `apply` para obtener columnas nuevas a partir de columnas existentes\r\n",
        "\r\n",
        "1. Crea una función que reciba un valor (en este caso el diámetro en metros de un objeto espacial) y regrese la proporción de ese valor en comparación con el diámetro de la Tierra. El diámetro de la Tierra es de 12,742 km. Así que el diámetro de un objeto que mida 10000 metros corresponde a un valor de 0.00078 en proporción al diámetro de la Tierra.\r\n",
        "1. Usa la columna 'estimated_diameter.meters.estimated_diameter_max', aplícale la función usando apply y crea una nueva columna llamada proportion_of_max_diameter_to_earth.\r\n",
        "1. Asigna el resultado a la variable df_reto_4.\r\n",
        "1. Guarda tu conjunto de datos en un archivo .csv."
      ]
    },
    {
      "cell_type": "code",
      "metadata": {
        "id": "YiVZ-8GpIhBL"
      },
      "source": [
        "#Código\r\n",
        "df_reto_4 = df_reto_3\r\n",
        "def proportion_of_max_diameter_to_earth(value):\r\n",
        "    diameter_of_earth_in_meters = 12742000\r\n",
        "    return value['estimated_diameter.meters.estimated_diameter_max'] / diameter_of_earth_in_meters\r\n",
        "\r\n",
        "df_reto_4['proportion_of_max_diameter_to_earth'] = df_reto_4.apply(proportion_of_max_diameter_to_earth, axis=1)"
      ],
      "execution_count": 93,
      "outputs": []
    },
    {
      "cell_type": "code",
      "metadata": {
        "colab": {
          "base_uri": "https://localhost:8080/"
        },
        "id": "_uOaL5GVKHrz",
        "outputId": "b3caec86-9ed1-470d-bcb7-ba6615a4d230"
      },
      "source": [
        "#Verificación\r\n",
        "def revisar_aplicacion(df_reto_4):\r\n",
        "    \r\n",
        "    assert 'proportion_of_max_diameter_to_earth' in df_reto_4, 'No existe una columna llamada \"proportion_of_max_diameter_to_earth\" en el DataFrame'\r\n",
        "    assert df_reto_4['proportion_of_max_diameter_to_earth'].equals(df_reto_4['estimated_diameter.meters.estimated_diameter_max'] / 12742000), 'La transformacion no fue realizada adecuadamente'\r\n",
        "    \r\n",
        "    print(f'La transformación y creación de una nueva columna fue realizada exitosamente!')\r\n",
        "\r\n",
        "revisar_aplicacion(df_reto_4)"
      ],
      "execution_count": 96,
      "outputs": [
        {
          "output_type": "stream",
          "text": [
            "La transformación y creación de una nueva columna fue realizada exitosamente!\n"
          ],
          "name": "stdout"
        }
      ]
    },
    {
      "cell_type": "markdown",
      "metadata": {
        "id": "wHqfnqMYMngX"
      },
      "source": [
        "**Ejemplo 5**\r\n",
        "Filtros y ordenamientos\r\n",
        "\r\n",
        "- Aprender cómo funcionan los filtros\r\n",
        "- Aplicar varios filtros para verlos en acción"
      ]
    },
    {
      "cell_type": "code",
      "metadata": {
        "colab": {
          "base_uri": "https://localhost:8080/"
        },
        "id": "KB6L_tW-My1O",
        "outputId": "50423758-b88a-4046-b34f-a2d787dfc2c2"
      },
      "source": [
        "#Digamos que queremos todas los records donde el nombre del autor empiece con 'R'.\r\n",
        "#Primero, usamos operadores de comparación (o en este caso, el método str.startswith) para obtener nuestro filtro:\r\n",
        "\r\n",
        "df['author'].str.startswith('R')"
      ],
      "execution_count": 52,
      "outputs": [
        {
          "output_type": "execute_result",
          "data": {
            "text/plain": [
              "0       False\n",
              "1       False\n",
              "2       False\n",
              "3       False\n",
              "5       False\n",
              "        ...  \n",
              "3027    False\n",
              "3028    False\n",
              "3029    False\n",
              "3030    False\n",
              "3031    False\n",
              "Name: author, Length: 2046, dtype: bool"
            ]
          },
          "metadata": {
            "tags": []
          },
          "execution_count": 52
        }
      ]
    },
    {
      "cell_type": "code",
      "metadata": {
        "colab": {
          "base_uri": "https://localhost:8080/",
          "height": 551
        },
        "id": "83I-eV8yNBt5",
        "outputId": "ba47f9fc-7e25-4ab5-8e73-d9830cfd01a1"
      },
      "source": [
        "#Aplicar filtro para acceder a lo True dentro del df\r\n",
        "df[df['author'].str.startswith('R')].head()"
      ],
      "execution_count": 54,
      "outputs": [
        {
          "output_type": "execute_result",
          "data": {
            "text/html": [
              "<div>\n",
              "<style scoped>\n",
              "    .dataframe tbody tr th:only-of-type {\n",
              "        vertical-align: middle;\n",
              "    }\n",
              "\n",
              "    .dataframe tbody tr th {\n",
              "        vertical-align: top;\n",
              "    }\n",
              "\n",
              "    .dataframe thead th {\n",
              "        text-align: right;\n",
              "    }\n",
              "</style>\n",
              "<table border=\"1\" class=\"dataframe\">\n",
              "  <thead>\n",
              "    <tr style=\"text-align: right;\">\n",
              "      <th></th>\n",
              "      <th>amazon_product_url</th>\n",
              "      <th>author</th>\n",
              "      <th>description</th>\n",
              "      <th>publisher</th>\n",
              "      <th>title</th>\n",
              "      <th>oid</th>\n",
              "      <th>bestsellers_date.numberLong</th>\n",
              "      <th>published_date.numberLong</th>\n",
              "      <th>rank.numberInt</th>\n",
              "      <th>rank_last_week.numberInt</th>\n",
              "      <th>weeks_on_list.numberInt</th>\n",
              "      <th>price.numberDouble</th>\n",
              "      <th>author_first_name</th>\n",
              "      <th>author_last_name</th>\n",
              "    </tr>\n",
              "  </thead>\n",
              "  <tbody>\n",
              "    <tr>\n",
              "      <th>79</th>\n",
              "      <td>http://www.amazon.com/Chasing-Darkness-Elvis-N...</td>\n",
              "      <td>Robert Crais</td>\n",
              "      <td>he Los Angeles private eye Elvis Cole responsi...</td>\n",
              "      <td>Simon &amp; Schuster</td>\n",
              "      <td>Chasing Darkness</td>\n",
              "      <td>5b4aa4ead3089013507db209</td>\n",
              "      <td>2008-07-05 00:00:00</td>\n",
              "      <td>1216512000000</td>\n",
              "      <td>7</td>\n",
              "      <td>0</td>\n",
              "      <td>1</td>\n",
              "      <td>25.95</td>\n",
              "      <td>Robert</td>\n",
              "      <td>Crais</td>\n",
              "    </tr>\n",
              "    <tr>\n",
              "      <th>94</th>\n",
              "      <td>http://www.amazon.com/Chasing-Darkness-Elvis-N...</td>\n",
              "      <td>Robert Crais</td>\n",
              "      <td>Is the Los Angeles private eye Elvis Cole resp...</td>\n",
              "      <td>Simon &amp; Schuster</td>\n",
              "      <td>Chasing Darkness</td>\n",
              "      <td>5b4aa4ead3089013507db221</td>\n",
              "      <td>2008-07-12 00:00:00</td>\n",
              "      <td>1217116800000</td>\n",
              "      <td>11</td>\n",
              "      <td>7</td>\n",
              "      <td>2</td>\n",
              "      <td>25.95</td>\n",
              "      <td>Robert</td>\n",
              "      <td>Crais</td>\n",
              "    </tr>\n",
              "    <tr>\n",
              "      <th>110</th>\n",
              "      <td>http://www.amazon.com/Killer-View-Fleming-Ridl...</td>\n",
              "      <td>Ridley Pearson</td>\n",
              "      <td>A sheriff in Sun Valley, Idaho, investigates a...</td>\n",
              "      <td>Putnam</td>\n",
              "      <td>Killer View</td>\n",
              "      <td>5b4aa4ead3089013507db239</td>\n",
              "      <td>2008-07-19 00:00:00</td>\n",
              "      <td>1217721600000</td>\n",
              "      <td>15</td>\n",
              "      <td>0</td>\n",
              "      <td>1</td>\n",
              "      <td>24.95</td>\n",
              "      <td>Ridley</td>\n",
              "      <td>Pearson</td>\n",
              "    </tr>\n",
              "    <tr>\n",
              "      <th>143</th>\n",
              "      <td>http://www.amazon.com/Foreign-Body-Robin-Cook/...</td>\n",
              "      <td>Robin Cook</td>\n",
              "      <td>A medical student investigates a rising number...</td>\n",
              "      <td>Putnam</td>\n",
              "      <td>Foreign Body</td>\n",
              "      <td>5b4aa4ead3089013507db26f</td>\n",
              "      <td>2008-08-09 00:00:00</td>\n",
              "      <td>1219536000000</td>\n",
              "      <td>9</td>\n",
              "      <td>0</td>\n",
              "      <td>1</td>\n",
              "      <td>25.95</td>\n",
              "      <td>Robin</td>\n",
              "      <td>Cook</td>\n",
              "    </tr>\n",
              "    <tr>\n",
              "      <th>173</th>\n",
              "      <td>http://www.amazon.com/Foreign-Body-Robin-Cook/...</td>\n",
              "      <td>Robin Cook</td>\n",
              "      <td>A medical student investigates a rising number...</td>\n",
              "      <td>Putnam</td>\n",
              "      <td>Foreign Body</td>\n",
              "      <td>5b4aa4ead3089013507db29c</td>\n",
              "      <td>2008-08-23 00:00:00</td>\n",
              "      <td>1220745600000</td>\n",
              "      <td>14</td>\n",
              "      <td>13</td>\n",
              "      <td>3</td>\n",
              "      <td>25.95</td>\n",
              "      <td>Robin</td>\n",
              "      <td>Cook</td>\n",
              "    </tr>\n",
              "  </tbody>\n",
              "</table>\n",
              "</div>"
            ],
            "text/plain": [
              "                                    amazon_product_url  ... author_last_name\n",
              "79   http://www.amazon.com/Chasing-Darkness-Elvis-N...  ...            Crais\n",
              "94   http://www.amazon.com/Chasing-Darkness-Elvis-N...  ...            Crais\n",
              "110  http://www.amazon.com/Killer-View-Fleming-Ridl...  ...          Pearson\n",
              "143  http://www.amazon.com/Foreign-Body-Robin-Cook/...  ...             Cook\n",
              "173  http://www.amazon.com/Foreign-Body-Robin-Cook/...  ...             Cook\n",
              "\n",
              "[5 rows x 14 columns]"
            ]
          },
          "metadata": {
            "tags": []
          },
          "execution_count": 54
        }
      ]
    },
    {
      "cell_type": "code",
      "metadata": {
        "colab": {
          "base_uri": "https://localhost:8080/",
          "height": 307
        },
        "id": "S_7oupM5NXP6",
        "outputId": "bcbe7efe-f391-4305-f741-37789a91ec5c"
      },
      "source": [
        "#Hacer en numérico\r\n",
        "df[df['price.numberDouble'] < 15].tail()"
      ],
      "execution_count": 58,
      "outputs": [
        {
          "output_type": "execute_result",
          "data": {
            "text/html": [
              "<div>\n",
              "<style scoped>\n",
              "    .dataframe tbody tr th:only-of-type {\n",
              "        vertical-align: middle;\n",
              "    }\n",
              "\n",
              "    .dataframe tbody tr th {\n",
              "        vertical-align: top;\n",
              "    }\n",
              "\n",
              "    .dataframe thead th {\n",
              "        text-align: right;\n",
              "    }\n",
              "</style>\n",
              "<table border=\"1\" class=\"dataframe\">\n",
              "  <thead>\n",
              "    <tr style=\"text-align: right;\">\n",
              "      <th></th>\n",
              "      <th>amazon_product_url</th>\n",
              "      <th>author</th>\n",
              "      <th>description</th>\n",
              "      <th>publisher</th>\n",
              "      <th>title</th>\n",
              "      <th>oid</th>\n",
              "      <th>bestsellers_date.numberLong</th>\n",
              "      <th>published_date.numberLong</th>\n",
              "      <th>rank.numberInt</th>\n",
              "      <th>rank_last_week.numberInt</th>\n",
              "      <th>weeks_on_list.numberInt</th>\n",
              "      <th>price.numberDouble</th>\n",
              "      <th>author_first_name</th>\n",
              "      <th>author_last_name</th>\n",
              "    </tr>\n",
              "  </thead>\n",
              "  <tbody>\n",
              "    <tr>\n",
              "      <th>1310</th>\n",
              "      <td>http://www.amazon.com/Blockade-Billy-Stephen-K...</td>\n",
              "      <td>Stephen King</td>\n",
              "      <td>A tale about the dark side of baseball, circa ...</td>\n",
              "      <td>Simon &amp; Schuster</td>\n",
              "      <td>Blockade Billy</td>\n",
              "      <td>5b4aa4ead3089013507db9c7</td>\n",
              "      <td>2010-05-30 00:00:00</td>\n",
              "      <td>1276387200000</td>\n",
              "      <td>9</td>\n",
              "      <td>0</td>\n",
              "      <td>1</td>\n",
              "      <td>14.99</td>\n",
              "      <td>Stephen</td>\n",
              "      <td>King</td>\n",
              "    </tr>\n",
              "    <tr>\n",
              "      <th>1328</th>\n",
              "      <td>http://www.amazon.com/Blockade-Billy-Stephen-K...</td>\n",
              "      <td>Stephen King</td>\n",
              "      <td>A tale about the dark side of baseball, circa ...</td>\n",
              "      <td>Scribner</td>\n",
              "      <td>Blockade Billy</td>\n",
              "      <td>5b4aa4ead3089013507db9df</td>\n",
              "      <td>2010-06-06 00:00:00</td>\n",
              "      <td>1276992000000</td>\n",
              "      <td>13</td>\n",
              "      <td>9</td>\n",
              "      <td>2</td>\n",
              "      <td>14.99</td>\n",
              "      <td>Stephen</td>\n",
              "      <td>King</td>\n",
              "    </tr>\n",
              "    <tr>\n",
              "      <th>1343</th>\n",
              "      <td>http://www.amazon.com/Blockade-Billy-Stephen-K...</td>\n",
              "      <td>Stephen King</td>\n",
              "      <td>A tale about the dark side of baseball, circa ...</td>\n",
              "      <td>Scribner</td>\n",
              "      <td>Blockade Billy</td>\n",
              "      <td>5b4aa4ead3089013507db9f6</td>\n",
              "      <td>2010-06-13 00:00:00</td>\n",
              "      <td>1277596800000</td>\n",
              "      <td>16</td>\n",
              "      <td>13</td>\n",
              "      <td>3</td>\n",
              "      <td>14.99</td>\n",
              "      <td>Stephen</td>\n",
              "      <td>King</td>\n",
              "    </tr>\n",
              "  </tbody>\n",
              "</table>\n",
              "</div>"
            ],
            "text/plain": [
              "                                     amazon_product_url  ... author_last_name\n",
              "1310  http://www.amazon.com/Blockade-Billy-Stephen-K...  ...             King\n",
              "1328  http://www.amazon.com/Blockade-Billy-Stephen-K...  ...             King\n",
              "1343  http://www.amazon.com/Blockade-Billy-Stephen-K...  ...             King\n",
              "\n",
              "[3 rows x 14 columns]"
            ]
          },
          "metadata": {
            "tags": []
          },
          "execution_count": 58
        }
      ]
    },
    {
      "cell_type": "code",
      "metadata": {
        "id": "ls1wEvSZN744"
      },
      "source": [
        "#Utilizar el símbolo \"&\" operador lógico como and\r\n",
        "filtro_mayor_20 = df['price.numberDouble']>20\r\n",
        "filtro_inicia_r = df['author'].str.startswith('R')\r\n",
        "libros_r = df[filtro_inicia_r & filtro_mayor_20].head()"
      ],
      "execution_count": 70,
      "outputs": []
    },
    {
      "cell_type": "code",
      "metadata": {
        "colab": {
          "base_uri": "https://localhost:8080/",
          "height": 467
        },
        "id": "tY6pBs0GOmaY",
        "outputId": "084f593c-4583-465b-8314-f322fda4f8e8"
      },
      "source": [
        "#También se puede poner entre paréntesis\r\n",
        "df[ (df['price.numberDouble'] > 20) & (df['author'].str.startswith('R'))].tail()"
      ],
      "execution_count": 69,
      "outputs": [
        {
          "output_type": "execute_result",
          "data": {
            "text/html": [
              "<div>\n",
              "<style scoped>\n",
              "    .dataframe tbody tr th:only-of-type {\n",
              "        vertical-align: middle;\n",
              "    }\n",
              "\n",
              "    .dataframe tbody tr th {\n",
              "        vertical-align: top;\n",
              "    }\n",
              "\n",
              "    .dataframe thead th {\n",
              "        text-align: right;\n",
              "    }\n",
              "</style>\n",
              "<table border=\"1\" class=\"dataframe\">\n",
              "  <thead>\n",
              "    <tr style=\"text-align: right;\">\n",
              "      <th></th>\n",
              "      <th>amazon_product_url</th>\n",
              "      <th>author</th>\n",
              "      <th>description</th>\n",
              "      <th>publisher</th>\n",
              "      <th>title</th>\n",
              "      <th>oid</th>\n",
              "      <th>bestsellers_date.numberLong</th>\n",
              "      <th>published_date.numberLong</th>\n",
              "      <th>rank.numberInt</th>\n",
              "      <th>rank_last_week.numberInt</th>\n",
              "      <th>weeks_on_list.numberInt</th>\n",
              "      <th>price.numberDouble</th>\n",
              "      <th>author_first_name</th>\n",
              "      <th>author_last_name</th>\n",
              "    </tr>\n",
              "  </thead>\n",
              "  <tbody>\n",
              "    <tr>\n",
              "      <th>2594</th>\n",
              "      <td>http://www.amazon.com/Canada-Richard-Ford-eboo...</td>\n",
              "      <td>Richard Ford</td>\n",
              "      <td>A boy takes refuge in Saskatchewan after his p...</td>\n",
              "      <td>Ecco/HarperCollins Publishers</td>\n",
              "      <td>Canada</td>\n",
              "      <td>5b4aa4ead3089013507dc262</td>\n",
              "      <td>2012-07-07 00:00:00</td>\n",
              "      <td>1342915200000</td>\n",
              "      <td>12</td>\n",
              "      <td>9</td>\n",
              "      <td>7</td>\n",
              "      <td>27.99</td>\n",
              "      <td>Richard</td>\n",
              "      <td>Ford</td>\n",
              "    </tr>\n",
              "    <tr>\n",
              "      <th>2692</th>\n",
              "      <td>http://www.amazon.com/Frozen-Heat-Nikki-Richar...</td>\n",
              "      <td>Richard Castle</td>\n",
              "      <td>The N.Y.P.D. homicide detective Nikki Heat inv...</td>\n",
              "      <td>Hyperion</td>\n",
              "      <td>Frozen Heat</td>\n",
              "      <td>5b4aa4ead3089013507dc326</td>\n",
              "      <td>2012-09-15 00:00:00</td>\n",
              "      <td>1348963200000</td>\n",
              "      <td>8</td>\n",
              "      <td>0</td>\n",
              "      <td>1</td>\n",
              "      <td>26.99</td>\n",
              "      <td>Richard</td>\n",
              "      <td>Castle</td>\n",
              "    </tr>\n",
              "    <tr>\n",
              "      <th>2891</th>\n",
              "      <td>http://www.amazon.com/Suspect-Robert-Crais-ebo...</td>\n",
              "      <td>Robert Crais</td>\n",
              "      <td>A Los Angeles policeman and a German shepherd,...</td>\n",
              "      <td>Putnam</td>\n",
              "      <td>Suspect</td>\n",
              "      <td>5b4aa4ead3089013507dc49d</td>\n",
              "      <td>2013-01-26 00:00:00</td>\n",
              "      <td>1360454400000</td>\n",
              "      <td>3</td>\n",
              "      <td>0</td>\n",
              "      <td>1</td>\n",
              "      <td>27.95</td>\n",
              "      <td>Robert</td>\n",
              "      <td>Crais</td>\n",
              "    </tr>\n",
              "    <tr>\n",
              "      <th>2930</th>\n",
              "      <td>http://www.amazon.com/Suspect-Robert-Crais-ebo...</td>\n",
              "      <td>Robert Crais</td>\n",
              "      <td>A Los Angeles policeman and a German shepherd,...</td>\n",
              "      <td>Putnam</td>\n",
              "      <td>Suspect</td>\n",
              "      <td>5b4aa4ead3089013507dc4dd</td>\n",
              "      <td>2013-02-16 00:00:00</td>\n",
              "      <td>1362268800000</td>\n",
              "      <td>7</td>\n",
              "      <td>7</td>\n",
              "      <td>4</td>\n",
              "      <td>27.95</td>\n",
              "      <td>Robert</td>\n",
              "      <td>Crais</td>\n",
              "    </tr>\n",
              "    <tr>\n",
              "      <th>2945</th>\n",
              "      <td>http://www.amazon.com/Suspect-Robert-Crais-ebo...</td>\n",
              "      <td>Robert Crais</td>\n",
              "      <td>A Los Angeles policeman and a German shepherd,...</td>\n",
              "      <td>Putnam</td>\n",
              "      <td>Suspect</td>\n",
              "      <td>5b4aa4ead3089013507dc4f7</td>\n",
              "      <td>2013-02-23 00:00:00</td>\n",
              "      <td>1362873600000</td>\n",
              "      <td>13</td>\n",
              "      <td>7</td>\n",
              "      <td>5</td>\n",
              "      <td>27.95</td>\n",
              "      <td>Robert</td>\n",
              "      <td>Crais</td>\n",
              "    </tr>\n",
              "  </tbody>\n",
              "</table>\n",
              "</div>"
            ],
            "text/plain": [
              "                                     amazon_product_url  ... author_last_name\n",
              "2594  http://www.amazon.com/Canada-Richard-Ford-eboo...  ...             Ford\n",
              "2692  http://www.amazon.com/Frozen-Heat-Nikki-Richar...  ...           Castle\n",
              "2891  http://www.amazon.com/Suspect-Robert-Crais-ebo...  ...            Crais\n",
              "2930  http://www.amazon.com/Suspect-Robert-Crais-ebo...  ...            Crais\n",
              "2945  http://www.amazon.com/Suspect-Robert-Crais-ebo...  ...            Crais\n",
              "\n",
              "[5 rows x 14 columns]"
            ]
          },
          "metadata": {
            "tags": []
          },
          "execution_count": 69
        }
      ]
    },
    {
      "cell_type": "code",
      "metadata": {
        "colab": {
          "base_uri": "https://localhost:8080/",
          "height": 551
        },
        "id": "aT3hfQKyPYUf",
        "outputId": "d7beb970-69eb-440d-f749-f3e7b3eb9983"
      },
      "source": [
        "#Ordenación\r\n",
        "libros_r.sort_values('price.numberDouble', ascending=False).head()"
      ],
      "execution_count": 71,
      "outputs": [
        {
          "output_type": "execute_result",
          "data": {
            "text/html": [
              "<div>\n",
              "<style scoped>\n",
              "    .dataframe tbody tr th:only-of-type {\n",
              "        vertical-align: middle;\n",
              "    }\n",
              "\n",
              "    .dataframe tbody tr th {\n",
              "        vertical-align: top;\n",
              "    }\n",
              "\n",
              "    .dataframe thead th {\n",
              "        text-align: right;\n",
              "    }\n",
              "</style>\n",
              "<table border=\"1\" class=\"dataframe\">\n",
              "  <thead>\n",
              "    <tr style=\"text-align: right;\">\n",
              "      <th></th>\n",
              "      <th>amazon_product_url</th>\n",
              "      <th>author</th>\n",
              "      <th>description</th>\n",
              "      <th>publisher</th>\n",
              "      <th>title</th>\n",
              "      <th>oid</th>\n",
              "      <th>bestsellers_date.numberLong</th>\n",
              "      <th>published_date.numberLong</th>\n",
              "      <th>rank.numberInt</th>\n",
              "      <th>rank_last_week.numberInt</th>\n",
              "      <th>weeks_on_list.numberInt</th>\n",
              "      <th>price.numberDouble</th>\n",
              "      <th>author_first_name</th>\n",
              "      <th>author_last_name</th>\n",
              "    </tr>\n",
              "  </thead>\n",
              "  <tbody>\n",
              "    <tr>\n",
              "      <th>79</th>\n",
              "      <td>http://www.amazon.com/Chasing-Darkness-Elvis-N...</td>\n",
              "      <td>Robert Crais</td>\n",
              "      <td>he Los Angeles private eye Elvis Cole responsi...</td>\n",
              "      <td>Simon &amp; Schuster</td>\n",
              "      <td>Chasing Darkness</td>\n",
              "      <td>5b4aa4ead3089013507db209</td>\n",
              "      <td>2008-07-05 00:00:00</td>\n",
              "      <td>1216512000000</td>\n",
              "      <td>7</td>\n",
              "      <td>0</td>\n",
              "      <td>1</td>\n",
              "      <td>25.95</td>\n",
              "      <td>Robert</td>\n",
              "      <td>Crais</td>\n",
              "    </tr>\n",
              "    <tr>\n",
              "      <th>94</th>\n",
              "      <td>http://www.amazon.com/Chasing-Darkness-Elvis-N...</td>\n",
              "      <td>Robert Crais</td>\n",
              "      <td>Is the Los Angeles private eye Elvis Cole resp...</td>\n",
              "      <td>Simon &amp; Schuster</td>\n",
              "      <td>Chasing Darkness</td>\n",
              "      <td>5b4aa4ead3089013507db221</td>\n",
              "      <td>2008-07-12 00:00:00</td>\n",
              "      <td>1217116800000</td>\n",
              "      <td>11</td>\n",
              "      <td>7</td>\n",
              "      <td>2</td>\n",
              "      <td>25.95</td>\n",
              "      <td>Robert</td>\n",
              "      <td>Crais</td>\n",
              "    </tr>\n",
              "    <tr>\n",
              "      <th>143</th>\n",
              "      <td>http://www.amazon.com/Foreign-Body-Robin-Cook/...</td>\n",
              "      <td>Robin Cook</td>\n",
              "      <td>A medical student investigates a rising number...</td>\n",
              "      <td>Putnam</td>\n",
              "      <td>Foreign Body</td>\n",
              "      <td>5b4aa4ead3089013507db26f</td>\n",
              "      <td>2008-08-09 00:00:00</td>\n",
              "      <td>1219536000000</td>\n",
              "      <td>9</td>\n",
              "      <td>0</td>\n",
              "      <td>1</td>\n",
              "      <td>25.95</td>\n",
              "      <td>Robin</td>\n",
              "      <td>Cook</td>\n",
              "    </tr>\n",
              "    <tr>\n",
              "      <th>173</th>\n",
              "      <td>http://www.amazon.com/Foreign-Body-Robin-Cook/...</td>\n",
              "      <td>Robin Cook</td>\n",
              "      <td>A medical student investigates a rising number...</td>\n",
              "      <td>Putnam</td>\n",
              "      <td>Foreign Body</td>\n",
              "      <td>5b4aa4ead3089013507db29c</td>\n",
              "      <td>2008-08-23 00:00:00</td>\n",
              "      <td>1220745600000</td>\n",
              "      <td>14</td>\n",
              "      <td>13</td>\n",
              "      <td>3</td>\n",
              "      <td>25.95</td>\n",
              "      <td>Robin</td>\n",
              "      <td>Cook</td>\n",
              "    </tr>\n",
              "    <tr>\n",
              "      <th>110</th>\n",
              "      <td>http://www.amazon.com/Killer-View-Fleming-Ridl...</td>\n",
              "      <td>Ridley Pearson</td>\n",
              "      <td>A sheriff in Sun Valley, Idaho, investigates a...</td>\n",
              "      <td>Putnam</td>\n",
              "      <td>Killer View</td>\n",
              "      <td>5b4aa4ead3089013507db239</td>\n",
              "      <td>2008-07-19 00:00:00</td>\n",
              "      <td>1217721600000</td>\n",
              "      <td>15</td>\n",
              "      <td>0</td>\n",
              "      <td>1</td>\n",
              "      <td>24.95</td>\n",
              "      <td>Ridley</td>\n",
              "      <td>Pearson</td>\n",
              "    </tr>\n",
              "  </tbody>\n",
              "</table>\n",
              "</div>"
            ],
            "text/plain": [
              "                                    amazon_product_url  ... author_last_name\n",
              "79   http://www.amazon.com/Chasing-Darkness-Elvis-N...  ...            Crais\n",
              "94   http://www.amazon.com/Chasing-Darkness-Elvis-N...  ...            Crais\n",
              "143  http://www.amazon.com/Foreign-Body-Robin-Cook/...  ...             Cook\n",
              "173  http://www.amazon.com/Foreign-Body-Robin-Cook/...  ...             Cook\n",
              "110  http://www.amazon.com/Killer-View-Fleming-Ridl...  ...          Pearson\n",
              "\n",
              "[5 rows x 14 columns]"
            ]
          },
          "metadata": {
            "tags": []
          },
          "execution_count": 71
        }
      ]
    },
    {
      "cell_type": "markdown",
      "metadata": {
        "id": "ibAZE9u4P8F7"
      },
      "source": [
        "**Reto 5**\r\n",
        "Filtros\r\n",
        "\r\n",
        "- Practicar el uso de filtros para la obtención de subconjuntos de datos\r\n",
        "\r\n",
        "**a) Filtrando por fechas, booleanos y valores numéricos**\r\n",
        "Vamos a trabajar con el mismo dataset que guardaste del Reto anterior. Este Reto consiste en los siguiente:\r\n",
        "1. Usando filtros, crea 3 subconjuntos de datos:\r\n",
        "2. Un subconjunto llamado df_hazardous que contenga sólo los records que correspondan a los objetos donde is_potentially_hazardous_asteroid sea True (o 1).\r\n",
        "3. Un subconjunto llamado df_greater_than_1000 que contenga sólo los records donde el estimated_diameter.meters.estimated_diameter_max sea mayor a 1000 metros.\r\n",
        "4. Un subconjunto llamado df_february que contenga sólo los records que pertenezcan exactamente al mes de Febrero de 1995. Recuerda que los datos en la columna epoch_date_close_approach están en milisegundos."
      ]
    },
    {
      "cell_type": "code",
      "metadata": {
        "colab": {
          "base_uri": "https://localhost:8080/"
        },
        "id": "aRe9XIZbxJU6",
        "outputId": "777551de-c6f9-4fcc-d7f6-ee8942db63fb"
      },
      "source": [
        "df_reto_4.columns"
      ],
      "execution_count": 98,
      "outputs": [
        {
          "output_type": "execute_result",
          "data": {
            "text/plain": [
              "Index(['id_name', 'is_potentially_hazardous_asteroid',\n",
              "       'estimated_diameter.meters.estimated_diameter_min',\n",
              "       'estimated_diameter.meters.estimated_diameter_max',\n",
              "       'close_approach_date', 'epoch_date_close_approach', 'orbiting_body',\n",
              "       'relative_velocity.kilometers_per_second',\n",
              "       'relative_velocity.kilometers_per_hour', 'orbit_class_description',\n",
              "       'id', 'name', 'relative_velocity.kilometers_per_minute',\n",
              "       'proportion_of_max_diameter_to_earth'],\n",
              "      dtype='object')"
            ]
          },
          "metadata": {
            "tags": []
          },
          "execution_count": 98
        }
      ]
    },
    {
      "cell_type": "code",
      "metadata": {
        "id": "tEEcIp9wxpca"
      },
      "source": [
        "# is_potentially_hazardous_asteroid sea True ó 1\r\n",
        "df_hazardous = df_reto_4[df_reto_4['is_potentially_hazardous_asteroid']==1]"
      ],
      "execution_count": 114,
      "outputs": []
    },
    {
      "cell_type": "code",
      "metadata": {
        "id": "f8Ukh5dPQPpu"
      },
      "source": [
        "# estimated_diameter.meters.estimated_diameter_max sea mayor a 1000 metros\r\n",
        "df_bigger_than_1000 = df_reto_4[df_reto_4['estimated_diameter.meters.estimated_diameter_max']> 1000]"
      ],
      "execution_count": 115,
      "outputs": []
    },
    {
      "cell_type": "code",
      "metadata": {
        "id": "LxKnliziy4Sm"
      },
      "source": [
        "# mes de Febrero de 1995\r\n",
        "#Recuerda que los datos en la columna epoch_date_close_approach están en milisegundos\r\n",
        "df_february = df_reto_4[ (df_reto_4['epoch_date_close_approach']>'1995-01-31') & (df_reto_4['epoch_date_close_approach']<'1995-03-01')]"
      ],
      "execution_count": 116,
      "outputs": []
    },
    {
      "cell_type": "code",
      "metadata": {
        "id": "MeayLdCsQUYy"
      },
      "source": [
        "# Pega aquí la función de verificación\r\n",
        "def checar_subconjuntos(df_february, df_hazardous, df_bigger_than_1000):\r\n",
        "    \r\n",
        "    assert (df_hazardous['is_potentially_hazardous_asteroid'] == 0).sum() == 0, 'Algunos records en `df_hazardous` pertenecen a objetos donde is_potentially_hazardous_asteroid es `False`'\r\n",
        "    assert (df_hazardous['is_potentially_hazardous_asteroid'] == 1).sum() > 0, 'No hay ningun record en `df_hazardous` donde is_potentially_hazardous_asteroid sea `True`'\r\n",
        "    \r\n",
        "    assert (df_bigger_than_1000['estimated_diameter.meters.estimated_diameter_max'] <= 1000).sum() == 0, 'Algunos records en `df_bigger_than_1000` pertenecen a objetos con diámetro menor a 1000 metros'\r\n",
        "    assert (df_bigger_than_1000['estimated_diameter.meters.estimated_diameter_max'] > 1000).sum() > 0, 'No hay ningún record en `df_bigger_than_1000` que pertenezca a objetos con diámetro mayor a 1000 metros'\r\n",
        "    \r\n",
        "    february = pd.to_datetime('1995-02-01', format='%Y-%m-%d').timestamp() * 1000\r\n",
        "    march = pd.to_datetime('1995-03-01', format='%Y-%m-%d').timestamp() * 1000 \r\n",
        "    \r\n",
        "    assert (df_february['epoch_date_close_approach'] < february).sum() == 0, 'Algunos records de `df_february` pertenecen a meses anteriores a Febrero de 1995'\r\n",
        "    assert (df_february['epoch_date_close_approach'] >= march).sum() == 0, 'Algunos records de `df_february` pertenecen a meses posteriores a Febrero de 1995'\r\n",
        "    \r\n",
        "    print('Todos tus subconjuntos son correctos. ¡Gran trabajo!')\r\n",
        "\r\n",
        "checar_subconjuntos(df_february, df_hazardous, df_bigger_than_1000)"
      ],
      "execution_count": null,
      "outputs": []
    }
  ]
}