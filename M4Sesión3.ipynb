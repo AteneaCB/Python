{
  "nbformat": 4,
  "nbformat_minor": 0,
  "metadata": {
    "colab": {
      "name": "M4Sesión3.ipynb",
      "provenance": [],
      "collapsed_sections": [],
      "mount_file_id": "1B-7tKdG_Jm1G_vxjZZz0S56Mo366Nl42",
      "authorship_tag": "ABX9TyNhBLlKnh/vfb3XRT9qoAcl",
      "include_colab_link": true
    },
    "kernelspec": {
      "name": "python3",
      "display_name": "Python 3"
    },
    "language_info": {
      "name": "python"
    }
  },
  "cells": [
    {
      "cell_type": "markdown",
      "metadata": {
        "id": "view-in-github",
        "colab_type": "text"
      },
      "source": [
        "<a href=\"https://colab.research.google.com/github/AteneaCB/Python/blob/main/M4Sesi%C3%B3n3.ipynb\" target=\"_parent\"><img src=\"https://colab.research.google.com/assets/colab-badge.svg\" alt=\"Open In Colab\"/></a>"
      ]
    },
    {
      "cell_type": "markdown",
      "metadata": {
        "id": "KLUN5oLUAaRE"
      },
      "source": [
        "####**Módulo 4**\n",
        "**Sesión 3**\n",
        "Exploración de Variables Categóricas y Análisis Multivariable\n",
        "\n",
        "- Identificar distintas técnicas para explorar y visualizar variables categóricas.\n",
        "- Añadir anotaciones a nuestras gráficas para hacerlas más comprensibles.\n",
        "- Utilizar gráficas de barras.\n",
        "- Graficar un conjunto de datos agrupado de acuerdo a dos variables categóricas.\n",
        "- Producir más de una gráfica al mismo tiempo para compararlas.\n",
        "- Graficar un conjunto de datos numéricos agrupados de acuerdo a una variable categórica."
      ]
    },
    {
      "cell_type": "markdown",
      "metadata": {
        "id": "i8dzVaJSEXED"
      },
      "source": [
        "**Ejemplo 1**\n",
        "Anotando nuestras gráficas\n",
        "\n",
        "- Aprender a añadir títulos, anotaciones y leyendas a nuestras gráficas\n",
        "- Aprender a cambiar los tamaños de nuestras gráficas y modificar la dirección de nuestros tics"
      ]
    },
    {
      "cell_type": "code",
      "metadata": {
        "id": "-3AYlqLN_VhH"
      },
      "source": [
        "import pandas as pd\n",
        "import matplotlib.pyplot as plt\n",
        "import seaborn as sns\n",
        "sns.set(style='whitegrid')"
      ],
      "execution_count": 1,
      "outputs": []
    },
    {
      "cell_type": "code",
      "metadata": {
        "colab": {
          "base_uri": "https://localhost:8080/",
          "height": 310
        },
        "id": "LpXMqqH9HRQo",
        "outputId": "0abbeff7-6732-4a3e-9e0a-b46bcf5fbd59"
      },
      "source": [
        "#Cargar dataset desde Drive, carpeta de Archivos ¬ Datasets\n",
        "df = pd.read_csv(\"/content/drive/MyDrive/Datasets/athlete_olympic_events-clean.csv\", index_col=0)\n",
        "df.head()"
      ],
      "execution_count": 2,
      "outputs": [
        {
          "output_type": "execute_result",
          "data": {
            "text/html": [
              "<div>\n",
              "<style scoped>\n",
              "    .dataframe tbody tr th:only-of-type {\n",
              "        vertical-align: middle;\n",
              "    }\n",
              "\n",
              "    .dataframe tbody tr th {\n",
              "        vertical-align: top;\n",
              "    }\n",
              "\n",
              "    .dataframe thead th {\n",
              "        text-align: right;\n",
              "    }\n",
              "</style>\n",
              "<table border=\"1\" class=\"dataframe\">\n",
              "  <thead>\n",
              "    <tr style=\"text-align: right;\">\n",
              "      <th></th>\n",
              "      <th>name</th>\n",
              "      <th>sex</th>\n",
              "      <th>age</th>\n",
              "      <th>height</th>\n",
              "      <th>weight</th>\n",
              "      <th>team</th>\n",
              "      <th>noc</th>\n",
              "      <th>games</th>\n",
              "      <th>year</th>\n",
              "      <th>season</th>\n",
              "      <th>city</th>\n",
              "      <th>sport</th>\n",
              "      <th>event</th>\n",
              "      <th>medal</th>\n",
              "    </tr>\n",
              "    <tr>\n",
              "      <th>athlete_id</th>\n",
              "      <th></th>\n",
              "      <th></th>\n",
              "      <th></th>\n",
              "      <th></th>\n",
              "      <th></th>\n",
              "      <th></th>\n",
              "      <th></th>\n",
              "      <th></th>\n",
              "      <th></th>\n",
              "      <th></th>\n",
              "      <th></th>\n",
              "      <th></th>\n",
              "      <th></th>\n",
              "      <th></th>\n",
              "    </tr>\n",
              "  </thead>\n",
              "  <tbody>\n",
              "    <tr>\n",
              "      <th>1</th>\n",
              "      <td>A Dijiang</td>\n",
              "      <td>M</td>\n",
              "      <td>24.0</td>\n",
              "      <td>180.0</td>\n",
              "      <td>80.0</td>\n",
              "      <td>China</td>\n",
              "      <td>CHN</td>\n",
              "      <td>1992 Summer</td>\n",
              "      <td>1992</td>\n",
              "      <td>Summer</td>\n",
              "      <td>Barcelona</td>\n",
              "      <td>Basketball</td>\n",
              "      <td>Basketball Men's Basketball</td>\n",
              "      <td>None</td>\n",
              "    </tr>\n",
              "    <tr>\n",
              "      <th>2</th>\n",
              "      <td>A Lamusi</td>\n",
              "      <td>M</td>\n",
              "      <td>23.0</td>\n",
              "      <td>170.0</td>\n",
              "      <td>60.0</td>\n",
              "      <td>China</td>\n",
              "      <td>CHN</td>\n",
              "      <td>2012 Summer</td>\n",
              "      <td>2012</td>\n",
              "      <td>Summer</td>\n",
              "      <td>London</td>\n",
              "      <td>Judo</td>\n",
              "      <td>Judo Men's Extra-Lightweight</td>\n",
              "      <td>None</td>\n",
              "    </tr>\n",
              "    <tr>\n",
              "      <th>5</th>\n",
              "      <td>Christine Jacoba Aaftink</td>\n",
              "      <td>F</td>\n",
              "      <td>21.0</td>\n",
              "      <td>185.0</td>\n",
              "      <td>82.0</td>\n",
              "      <td>Netherlands</td>\n",
              "      <td>NED</td>\n",
              "      <td>1988 Winter</td>\n",
              "      <td>1988</td>\n",
              "      <td>Winter</td>\n",
              "      <td>Calgary</td>\n",
              "      <td>Speed Skating</td>\n",
              "      <td>Speed Skating Women's 500 metres</td>\n",
              "      <td>None</td>\n",
              "    </tr>\n",
              "    <tr>\n",
              "      <th>5</th>\n",
              "      <td>Christine Jacoba Aaftink</td>\n",
              "      <td>F</td>\n",
              "      <td>21.0</td>\n",
              "      <td>185.0</td>\n",
              "      <td>82.0</td>\n",
              "      <td>Netherlands</td>\n",
              "      <td>NED</td>\n",
              "      <td>1988 Winter</td>\n",
              "      <td>1988</td>\n",
              "      <td>Winter</td>\n",
              "      <td>Calgary</td>\n",
              "      <td>Speed Skating</td>\n",
              "      <td>Speed Skating Women's 1,000 metres</td>\n",
              "      <td>None</td>\n",
              "    </tr>\n",
              "    <tr>\n",
              "      <th>5</th>\n",
              "      <td>Christine Jacoba Aaftink</td>\n",
              "      <td>F</td>\n",
              "      <td>25.0</td>\n",
              "      <td>185.0</td>\n",
              "      <td>82.0</td>\n",
              "      <td>Netherlands</td>\n",
              "      <td>NED</td>\n",
              "      <td>1992 Winter</td>\n",
              "      <td>1992</td>\n",
              "      <td>Winter</td>\n",
              "      <td>Albertville</td>\n",
              "      <td>Speed Skating</td>\n",
              "      <td>Speed Skating Women's 500 metres</td>\n",
              "      <td>None</td>\n",
              "    </tr>\n",
              "  </tbody>\n",
              "</table>\n",
              "</div>"
            ],
            "text/plain": [
              "                                name  ... medal\n",
              "athlete_id                            ...      \n",
              "1                          A Dijiang  ...  None\n",
              "2                           A Lamusi  ...  None\n",
              "5           Christine Jacoba Aaftink  ...  None\n",
              "5           Christine Jacoba Aaftink  ...  None\n",
              "5           Christine Jacoba Aaftink  ...  None\n",
              "\n",
              "[5 rows x 14 columns]"
            ]
          },
          "metadata": {
            "tags": []
          },
          "execution_count": 2
        }
      ]
    },
    {
      "cell_type": "code",
      "metadata": {
        "colab": {
          "base_uri": "https://localhost:8080/",
          "height": 405
        },
        "id": "JBZzVyUaHq2r",
        "outputId": "e7b3b050-5f1a-42c3-ac79-cfe337bcac84"
      },
      "source": [
        "#Gráfica de distribución\n",
        "#Con distplot\n",
        "# ax = ejes u objeto de matplotlib, kde distribución gausiana, norm_hist normalizar valores\n",
        "ax = sns.distplot(df['age'], kde=False, norm_hist=False)\n",
        "ax.set(title=\"Edades de atletas participantes en Juegos Olímpicos\", xlabel='Edad', ylabel='Conteo')"
      ],
      "execution_count": 3,
      "outputs": [
        {
          "output_type": "stream",
          "text": [
            "/usr/local/lib/python3.7/dist-packages/seaborn/distributions.py:2557: FutureWarning: `distplot` is a deprecated function and will be removed in a future version. Please adapt your code to use either `displot` (a figure-level function with similar flexibility) or `histplot` (an axes-level function for histograms).\n",
            "  warnings.warn(msg, FutureWarning)\n"
          ],
          "name": "stderr"
        },
        {
          "output_type": "execute_result",
          "data": {
            "text/plain": [
              "[Text(0, 0.5, 'Conteo'),\n",
              " Text(0.5, 0, 'Edad'),\n",
              " Text(0.5, 1.0, 'Edades de atletas participantes en Juegos Olímpicos')]"
            ]
          },
          "metadata": {
            "tags": []
          },
          "execution_count": 3
        },
        {
          "output_type": "display_data",
          "data": {
            "image/png": "[encoded data removed]",
            "text/plain": [
              "<Figure size 432x288 with 1 Axes>"
            ]
          },
          "metadata": {
            "tags": [],
            "needs_background": "light"
          }
        }
      ]
    },
    {
      "cell_type": "code",
      "metadata": {
        "colab": {
          "base_uri": "https://localhost:8080/",
          "height": 385
        },
        "id": "YdpcIoOaIit8",
        "outputId": "734c4ee2-e634-4c85-b841-151ae3774e8b"
      },
      "source": [
        "#Debido a que distplot lo van a retirar, de ahora en adelante se puede hacer así\n",
        "#Con displot\n",
        "ax = sns.displot(df['age'], kde=False)\n",
        "ax.set(title=\"Edades de atletas participantes en Juegos Olímpicos\", xlabel='Edad', ylabel='Conteo');\n",
        "#En Jupyter cuando se agrega punto y coma al final (;), en el cuadro de resultado se elimina el mensaje de la última línea de ejecución\n",
        "#en este caso, al poner ; al final, ya no aparece: <seaborn.axisgrid.FacetGrid at 0x7f19e021f650>"
      ],
      "execution_count": 4,
      "outputs": [
        {
          "output_type": "display_data",
          "data": {
            "image/png": "[encoded data removed]",
            "text/plain": [
              "<Figure size 360x360 with 1 Axes>"
            ]
          },
          "metadata": {
            "tags": [],
            "needs_background": "light"
          }
        }
      ]
    },
    {
      "cell_type": "code",
      "metadata": {
        "id": "u6SyqwmxH9aE"
      },
      "source": [
        "#Promediar altura por participante utilizando el index\n",
        "por_atleta = df.groupby(level=0)[['age', 'height', 'weight']].mean()\n",
        "por_genero = df.groupby(level=0)['sex'].last()\n",
        "unidos = por_atleta.merge(por_genero, left_index=True, right_index=True)\n",
        "hombres = por_atleta[unidos['sex'] == 'M']\n",
        "mujeres = por_atleta[unidos['sex'] == 'F']"
      ],
      "execution_count": 5,
      "outputs": []
    },
    {
      "cell_type": "code",
      "metadata": {
        "colab": {
          "base_uri": "https://localhost:8080/",
          "height": 226
        },
        "id": "2xsO4W6jKjB6",
        "outputId": "bd4cca85-f8ae-4548-ea88-d81e8d5402c9"
      },
      "source": [
        "mujeres.head()"
      ],
      "execution_count": 6,
      "outputs": [
        {
          "output_type": "execute_result",
          "data": {
            "text/html": [
              "<div>\n",
              "<style scoped>\n",
              "    .dataframe tbody tr th:only-of-type {\n",
              "        vertical-align: middle;\n",
              "    }\n",
              "\n",
              "    .dataframe tbody tr th {\n",
              "        vertical-align: top;\n",
              "    }\n",
              "\n",
              "    .dataframe thead th {\n",
              "        text-align: right;\n",
              "    }\n",
              "</style>\n",
              "<table border=\"1\" class=\"dataframe\">\n",
              "  <thead>\n",
              "    <tr style=\"text-align: right;\">\n",
              "      <th></th>\n",
              "      <th>age</th>\n",
              "      <th>height</th>\n",
              "      <th>weight</th>\n",
              "    </tr>\n",
              "    <tr>\n",
              "      <th>athlete_id</th>\n",
              "      <th></th>\n",
              "      <th></th>\n",
              "      <th></th>\n",
              "    </tr>\n",
              "  </thead>\n",
              "  <tbody>\n",
              "    <tr>\n",
              "      <th>5</th>\n",
              "      <td>24.333333</td>\n",
              "      <td>185.0</td>\n",
              "      <td>82.0</td>\n",
              "    </tr>\n",
              "    <tr>\n",
              "      <th>13</th>\n",
              "      <td>32.000000</td>\n",
              "      <td>159.0</td>\n",
              "      <td>55.5</td>\n",
              "    </tr>\n",
              "    <tr>\n",
              "      <th>14</th>\n",
              "      <td>32.000000</td>\n",
              "      <td>171.0</td>\n",
              "      <td>65.0</td>\n",
              "    </tr>\n",
              "    <tr>\n",
              "      <th>22</th>\n",
              "      <td>22.000000</td>\n",
              "      <td>170.0</td>\n",
              "      <td>125.0</td>\n",
              "    </tr>\n",
              "    <tr>\n",
              "      <th>26</th>\n",
              "      <td>17.000000</td>\n",
              "      <td>169.0</td>\n",
              "      <td>65.0</td>\n",
              "    </tr>\n",
              "  </tbody>\n",
              "</table>\n",
              "</div>"
            ],
            "text/plain": [
              "                  age  height  weight\n",
              "athlete_id                           \n",
              "5           24.333333   185.0    82.0\n",
              "13          32.000000   159.0    55.5\n",
              "14          32.000000   171.0    65.0\n",
              "22          22.000000   170.0   125.0\n",
              "26          17.000000   169.0    65.0"
            ]
          },
          "metadata": {
            "tags": []
          },
          "execution_count": 6
        }
      ]
    },
    {
      "cell_type": "code",
      "metadata": {
        "colab": {
          "base_uri": "https://localhost:8080/",
          "height": 226
        },
        "id": "J7JmKgZpKmgT",
        "outputId": "ce06945b-2b14-47e5-a3dc-e54619d53e54"
      },
      "source": [
        "hombres.head()"
      ],
      "execution_count": 7,
      "outputs": [
        {
          "output_type": "execute_result",
          "data": {
            "text/html": [
              "<div>\n",
              "<style scoped>\n",
              "    .dataframe tbody tr th:only-of-type {\n",
              "        vertical-align: middle;\n",
              "    }\n",
              "\n",
              "    .dataframe tbody tr th {\n",
              "        vertical-align: top;\n",
              "    }\n",
              "\n",
              "    .dataframe thead th {\n",
              "        text-align: right;\n",
              "    }\n",
              "</style>\n",
              "<table border=\"1\" class=\"dataframe\">\n",
              "  <thead>\n",
              "    <tr style=\"text-align: right;\">\n",
              "      <th></th>\n",
              "      <th>age</th>\n",
              "      <th>height</th>\n",
              "      <th>weight</th>\n",
              "    </tr>\n",
              "    <tr>\n",
              "      <th>athlete_id</th>\n",
              "      <th></th>\n",
              "      <th></th>\n",
              "      <th></th>\n",
              "    </tr>\n",
              "  </thead>\n",
              "  <tbody>\n",
              "    <tr>\n",
              "      <th>1</th>\n",
              "      <td>24.0</td>\n",
              "      <td>180.0</td>\n",
              "      <td>80.0</td>\n",
              "    </tr>\n",
              "    <tr>\n",
              "      <th>2</th>\n",
              "      <td>23.0</td>\n",
              "      <td>170.0</td>\n",
              "      <td>60.0</td>\n",
              "    </tr>\n",
              "    <tr>\n",
              "      <th>6</th>\n",
              "      <td>32.0</td>\n",
              "      <td>188.0</td>\n",
              "      <td>75.0</td>\n",
              "    </tr>\n",
              "    <tr>\n",
              "      <th>7</th>\n",
              "      <td>32.0</td>\n",
              "      <td>183.0</td>\n",
              "      <td>72.0</td>\n",
              "    </tr>\n",
              "    <tr>\n",
              "      <th>9</th>\n",
              "      <td>26.0</td>\n",
              "      <td>186.0</td>\n",
              "      <td>96.0</td>\n",
              "    </tr>\n",
              "  </tbody>\n",
              "</table>\n",
              "</div>"
            ],
            "text/plain": [
              "             age  height  weight\n",
              "athlete_id                      \n",
              "1           24.0   180.0    80.0\n",
              "2           23.0   170.0    60.0\n",
              "6           32.0   188.0    75.0\n",
              "7           32.0   183.0    72.0\n",
              "9           26.0   186.0    96.0"
            ]
          },
          "metadata": {
            "tags": []
          },
          "execution_count": 7
        }
      ]
    },
    {
      "cell_type": "code",
      "metadata": {
        "colab": {
          "base_uri": "https://localhost:8080/",
          "height": 310
        },
        "id": "18aSluCpKrq9",
        "outputId": "65e24528-916c-427b-bb57-1fed921fb91b"
      },
      "source": [
        "#Gráfica forma 1: \"plt\" ó \"pyplot\"\n",
        "sns.kdeplot(mujeres['height'], shade=True, label='Mujeres')\n",
        "sns.kdeplot(hombres['height'], shade=True, label='Hombres')\n",
        "# plt objeto global para graficar\n",
        "#Título fontsize=tamaño de letra y pad=separación entre título y gráfica\n",
        "plt.title('Distribuciones de altura por género', fontsize=13, pad=15)\n",
        "plt.xlabel('Altura')\n",
        "plt.ylabel('Densidad')\n",
        "#Leyenda, loc para indicar dónde se ubicará\n",
        "plt.legend(loc='upper right')\n",
        "#También se puede quitar el mensaje final de texto para que sólo muestre la gráfica con plt.show() como el ; al final\n",
        "plt.show()"
      ],
      "execution_count": 8,
      "outputs": [
        {
          "output_type": "display_data",
          "data": {
            "image/png": "[encoded data removed]",
            "text/plain": [
              "<Figure size 432x288 with 1 Axes>"
            ]
          },
          "metadata": {
            "tags": [],
            "needs_background": "light"
          }
        }
      ]
    },
    {
      "cell_type": "code",
      "metadata": {
        "colab": {
          "base_uri": "https://localhost:8080/",
          "height": 339
        },
        "id": "jTB8k1hBMGo9",
        "outputId": "0104da89-00eb-4674-c871-e4eba7853335"
      },
      "source": [
        "#Gráfica forma 2: \"fig\" y \"ax\"\n",
        "#Para cambiar tamaño de la figura (ancho, alto)\n",
        "fig = plt.figure(figsize=(8,5))\n",
        "ax = sns.kdeplot(mujeres['height'], shade=True, label='Mujeres')"
      ],
      "execution_count": 9,
      "outputs": [
        {
          "output_type": "display_data",
          "data": {
            "image/png": "[encoded data removed]",
            "text/plain": [
              "<Figure size 576x360 with 1 Axes>"
            ]
          },
          "metadata": {
            "tags": [],
            "needs_background": "light"
          }
        }
      ]
    },
    {
      "cell_type": "code",
      "metadata": {
        "colab": {
          "base_uri": "https://localhost:8080/",
          "height": 285
        },
        "id": "oTjL0178NWtD",
        "outputId": "5b60227e-0a3a-40c2-db87-773a31dfccbf"
      },
      "source": [
        "#Gráfica forma 3: \"kdeplot\"\n",
        "# hue = para divididir los datos por una variable\n",
        "# common_norm= manera para calcular la densidad, True con el total de elementos (toda la población, M+F), False lo calcula independiente (sólo M o F)\n",
        "sns.kdeplot(data=unidos, x='height', hue='sex', common_norm=False, shade=True);"
      ],
      "execution_count": 11,
      "outputs": [
        {
          "output_type": "display_data",
          "data": {
            "image/png": "[encoded data removed]",
            "text/plain": [
              "<Figure size 432x288 with 1 Axes>"
            ]
          },
          "metadata": {
            "tags": [],
            "needs_background": "light"
          }
        }
      ]
    },
    {
      "cell_type": "markdown",
      "metadata": {
        "id": "w9h2YnXxPV5R"
      },
      "source": [
        "**Reto 1**\n",
        "Anotando gráficas\n",
        "\n",
        "- Aprender a hacer gráficas más claras añadiendo anotaciones y cambiando el tamaño\n",
        "\n",
        "1. Aumenta de tamaño la gráfica si consideras que sería más comprensible de esa manera.\n",
        "1. Donde sea adecuado, añade títulos, nombres de ejes y leyendas"
      ]
    },
    {
      "cell_type": "code",
      "metadata": {
        "colab": {
          "base_uri": "https://localhost:8080/",
          "height": 196
        },
        "id": "0mVw4po3PgEf",
        "outputId": "d4af0272-865d-471d-b94b-cd393f826ec4"
      },
      "source": [
        "diabetes = pd.read_csv('/content/drive/MyDrive/Datasets/diabetes-clean.csv', index_col=0)\n",
        "diabetes.head()"
      ],
      "execution_count": 12,
      "outputs": [
        {
          "output_type": "execute_result",
          "data": {
            "text/html": [
              "<div>\n",
              "<style scoped>\n",
              "    .dataframe tbody tr th:only-of-type {\n",
              "        vertical-align: middle;\n",
              "    }\n",
              "\n",
              "    .dataframe tbody tr th {\n",
              "        vertical-align: top;\n",
              "    }\n",
              "\n",
              "    .dataframe thead th {\n",
              "        text-align: right;\n",
              "    }\n",
              "</style>\n",
              "<table border=\"1\" class=\"dataframe\">\n",
              "  <thead>\n",
              "    <tr style=\"text-align: right;\">\n",
              "      <th></th>\n",
              "      <th>pregnancies</th>\n",
              "      <th>glucose</th>\n",
              "      <th>blood_pressure</th>\n",
              "      <th>skin_thickness</th>\n",
              "      <th>insulin</th>\n",
              "      <th>bmi</th>\n",
              "      <th>diabetes_pedigree_function</th>\n",
              "      <th>age</th>\n",
              "      <th>outcome</th>\n",
              "    </tr>\n",
              "  </thead>\n",
              "  <tbody>\n",
              "    <tr>\n",
              "      <th>0</th>\n",
              "      <td>6</td>\n",
              "      <td>148</td>\n",
              "      <td>72</td>\n",
              "      <td>35</td>\n",
              "      <td>0</td>\n",
              "      <td>33.6</td>\n",
              "      <td>0.627</td>\n",
              "      <td>50</td>\n",
              "      <td>1</td>\n",
              "    </tr>\n",
              "    <tr>\n",
              "      <th>1</th>\n",
              "      <td>1</td>\n",
              "      <td>85</td>\n",
              "      <td>66</td>\n",
              "      <td>29</td>\n",
              "      <td>0</td>\n",
              "      <td>26.6</td>\n",
              "      <td>0.351</td>\n",
              "      <td>31</td>\n",
              "      <td>0</td>\n",
              "    </tr>\n",
              "    <tr>\n",
              "      <th>2</th>\n",
              "      <td>8</td>\n",
              "      <td>183</td>\n",
              "      <td>64</td>\n",
              "      <td>0</td>\n",
              "      <td>0</td>\n",
              "      <td>23.3</td>\n",
              "      <td>0.672</td>\n",
              "      <td>32</td>\n",
              "      <td>1</td>\n",
              "    </tr>\n",
              "    <tr>\n",
              "      <th>3</th>\n",
              "      <td>1</td>\n",
              "      <td>89</td>\n",
              "      <td>66</td>\n",
              "      <td>23</td>\n",
              "      <td>94</td>\n",
              "      <td>28.1</td>\n",
              "      <td>0.167</td>\n",
              "      <td>21</td>\n",
              "      <td>0</td>\n",
              "    </tr>\n",
              "    <tr>\n",
              "      <th>4</th>\n",
              "      <td>0</td>\n",
              "      <td>137</td>\n",
              "      <td>40</td>\n",
              "      <td>35</td>\n",
              "      <td>168</td>\n",
              "      <td>43.1</td>\n",
              "      <td>2.288</td>\n",
              "      <td>33</td>\n",
              "      <td>1</td>\n",
              "    </tr>\n",
              "  </tbody>\n",
              "</table>\n",
              "</div>"
            ],
            "text/plain": [
              "   pregnancies  glucose  ...  age  outcome\n",
              "0            6      148  ...   50        1\n",
              "1            1       85  ...   31        0\n",
              "2            8      183  ...   32        1\n",
              "3            1       89  ...   21        0\n",
              "4            0      137  ...   33        1\n",
              "\n",
              "[5 rows x 9 columns]"
            ]
          },
          "metadata": {
            "tags": []
          },
          "execution_count": 12
        }
      ]
    },
    {
      "cell_type": "code",
      "metadata": {
        "colab": {
          "base_uri": "https://localhost:8080/",
          "height": 355
        },
        "id": "KPUqVTPuPu9q",
        "outputId": "b421b758-8d9a-4eb1-ec82-cb9c67b93ce3"
      },
      "source": [
        "#Gráfica 1 KDE\n",
        "fig = plt.figure(figsize=(8,5))\n",
        "ax = sns.kdeplot(data=diabetes, x='glucose', hue=None, common_norm=False, shade=True)\n",
        "ax.set(title=\"Glucosa en grupo Pima\", xlabel=\"Nivel de glucosa\", ylabel=\"Densidad\");"
      ],
      "execution_count": 26,
      "outputs": [
        {
          "output_type": "display_data",
          "data": {
            "image/png": "[encoded data removed]",
            "text/plain": [
              "<Figure size 576x360 with 1 Axes>"
            ]
          },
          "metadata": {
            "tags": [],
            "needs_background": "light"
          }
        }
      ]
    },
    {
      "cell_type": "code",
      "metadata": {
        "colab": {
          "base_uri": "https://localhost:8080/",
          "height": 464
        },
        "id": "QNc1mjM0S0M1",
        "outputId": "873887d4-5773-4324-8d3c-bde09ef735a9"
      },
      "source": [
        "#Gráfica 1, otra forma\n",
        "fig = plt.figure(figsize=(10,7))\n",
        "ax = sns.histplot(diabetes['glucose'], kde=False, palette=None)\n",
        "ax.set(title=\"Histograma de glucosa en grupo Pima\", xlabel='Nivel de glucosa', ylabel='Número de personas');"
      ],
      "execution_count": 25,
      "outputs": [
        {
          "output_type": "display_data",
          "data": {
            "image/png": "[encoded data removed]",
            "text/plain": [
              "<Figure size 720x504 with 1 Axes>"
            ]
          },
          "metadata": {
            "tags": [],
            "needs_background": "light"
          }
        }
      ]
    },
    {
      "cell_type": "code",
      "metadata": {
        "colab": {
          "base_uri": "https://localhost:8080/",
          "height": 354
        },
        "id": "32NgCacGRO-x",
        "outputId": "a73135f8-0ba6-4dd4-a217-b4a951f0c82d"
      },
      "source": [
        "#Gráfica 2\n",
        "pregnancy_counts = diabetes['pregnancies'].value_counts()\n",
        "ax = sns.barplot(pregnancy_counts.index, pregnancy_counts)\n",
        "ax.set(title='Embarazos en grupo Pima', xlabel='Número de embarazos', ylabel='Número de mujeres');"
      ],
      "execution_count": 27,
      "outputs": [
        {
          "output_type": "stream",
          "text": [
            "/usr/local/lib/python3.7/dist-packages/seaborn/_decorators.py:43: FutureWarning: Pass the following variables as keyword args: x, y. From version 0.12, the only valid positional argument will be `data`, and passing other arguments without an explicit keyword will result in an error or misinterpretation.\n",
            "  FutureWarning\n"
          ],
          "name": "stderr"
        },
        {
          "output_type": "display_data",
          "data": {
            "image/png": "[encoded data removed]",
            "text/plain": [
              "<Figure size 432x288 with 1 Axes>"
            ]
          },
          "metadata": {
            "tags": [],
            "needs_background": "light"
          }
        }
      ]
    },
    {
      "cell_type": "code",
      "metadata": {
        "colab": {
          "base_uri": "https://localhost:8080/",
          "height": 301
        },
        "id": "PoNGvjvKjxbR",
        "outputId": "547b725a-a49e-4692-8791-1f3d3cfc5b69"
      },
      "source": [
        "# Gráfica 2, otra forma\n",
        "ax = sns.countplot(x='pregnancies', data=diabetes)\n",
        "ax.set(title='Embarazos en grupo Pima', xlabel='Número de embarazos', ylabel='Número de mujeres');"
      ],
      "execution_count": 33,
      "outputs": [
        {
          "output_type": "display_data",
          "data": {
            "image/png": "[encoded data removed]",
            "text/plain": [
              "<Figure size 432x288 with 1 Axes>"
            ]
          },
          "metadata": {
            "tags": [],
            "needs_background": "light"
          }
        }
      ]
    },
    {
      "cell_type": "code",
      "metadata": {
        "colab": {
          "base_uri": "https://localhost:8080/",
          "height": 388
        },
        "id": "RkeVpcSWSTNy",
        "outputId": "8075482d-160e-4252-87e9-698a5465c933"
      },
      "source": [
        "#Gráfica 3\n",
        "healthy = diabetes[diabetes['outcome'] == 0]\n",
        "sick = diabetes[diabetes['outcome'] == 1]\n",
        "\n",
        "sns.distplot(healthy['glucose'], hist=False, kde_kws={'shade': True}, label=\"Saludable\")\n",
        "sns.distplot(sick['glucose'], hist=False, kde_kws={'shade': True}, label=\"Enfermas\")\n",
        "\n",
        "plt.title(\"Densidad de Glucosa\")\n",
        "plt.xlabel(\"Cantidad de Glucosa\")\n",
        "plt.ylabel(\"Densidad\")\n",
        "plt.legend(loc=\"upper right\");"
      ],
      "execution_count": 34,
      "outputs": [
        {
          "output_type": "stream",
          "text": [
            "/usr/local/lib/python3.7/dist-packages/seaborn/distributions.py:2557: FutureWarning: `distplot` is a deprecated function and will be removed in a future version. Please adapt your code to use either `displot` (a figure-level function with similar flexibility) or `kdeplot` (an axes-level function for kernel density plots).\n",
            "  warnings.warn(msg, FutureWarning)\n",
            "/usr/local/lib/python3.7/dist-packages/seaborn/distributions.py:2557: FutureWarning: `distplot` is a deprecated function and will be removed in a future version. Please adapt your code to use either `displot` (a figure-level function with similar flexibility) or `kdeplot` (an axes-level function for kernel density plots).\n",
            "  warnings.warn(msg, FutureWarning)\n"
          ],
          "name": "stderr"
        },
        {
          "output_type": "display_data",
          "data": {
            "image/png": "[encoded data removed]",
            "text/plain": [
              "<Figure size 432x288 with 1 Axes>"
            ]
          },
          "metadata": {
            "tags": [],
            "needs_background": "light"
          }
        }
      ]
    },
    {
      "cell_type": "code",
      "metadata": {
        "colab": {
          "base_uri": "https://localhost:8080/",
          "height": 421
        },
        "id": "cKaHjAu0Ut3K",
        "outputId": "5b2a51d7-fb42-40c6-8fa5-05e6b67aed07"
      },
      "source": [
        "#Gráfica 4\n",
        "sns.distplot(sick['blood_pressure'], hist=False, kde_kws={'shade': True}, label=\"Presión sanguínea\")\n",
        "sns.distplot(sick['glucose'], hist=False, kde_kws={'shade': True}, label=\"Glucosa\")\n",
        "sns.distplot(sick['insulin'], hist=False, kde_kws={'shade': True}, label=\"Insulina\")\n",
        "\n",
        "plt.title(\"Presión, glucosa e insulina\")\n",
        "plt.xlabel(\"Unidades\")\n",
        "plt.ylabel(\"Densidad\")\n",
        "plt.legend(loc=\"upper right\");"
      ],
      "execution_count": 35,
      "outputs": [
        {
          "output_type": "stream",
          "text": [
            "/usr/local/lib/python3.7/dist-packages/seaborn/distributions.py:2557: FutureWarning: `distplot` is a deprecated function and will be removed in a future version. Please adapt your code to use either `displot` (a figure-level function with similar flexibility) or `kdeplot` (an axes-level function for kernel density plots).\n",
            "  warnings.warn(msg, FutureWarning)\n",
            "/usr/local/lib/python3.7/dist-packages/seaborn/distributions.py:2557: FutureWarning: `distplot` is a deprecated function and will be removed in a future version. Please adapt your code to use either `displot` (a figure-level function with similar flexibility) or `kdeplot` (an axes-level function for kernel density plots).\n",
            "  warnings.warn(msg, FutureWarning)\n",
            "/usr/local/lib/python3.7/dist-packages/seaborn/distributions.py:2557: FutureWarning: `distplot` is a deprecated function and will be removed in a future version. Please adapt your code to use either `displot` (a figure-level function with similar flexibility) or `kdeplot` (an axes-level function for kernel density plots).\n",
            "  warnings.warn(msg, FutureWarning)\n"
          ],
          "name": "stderr"
        },
        {
          "output_type": "display_data",
          "data": {
            "image/png": "[encoded data removed]",
            "text/plain": [
              "<Figure size 432x288 with 1 Axes>"
            ]
          },
          "metadata": {
            "tags": [],
            "needs_background": "light"
          }
        }
      ]
    },
    {
      "cell_type": "markdown",
      "metadata": {
        "id": "fILz9ymLVhAq"
      },
      "source": [
        "**Ejemplo 2**\n",
        "Gráfica de barras y la moda\n",
        "\n",
        "- Aprender a realizar gráficas de barras con frecuencias y porcentajes"
      ]
    },
    {
      "cell_type": "code",
      "metadata": {
        "colab": {
          "base_uri": "https://localhost:8080/",
          "height": 280
        },
        "id": "x0UUZFwrVtcD",
        "outputId": "7156005c-5019-4b2e-daae-1c4d427a6e4f"
      },
      "source": [
        "zomato = pd.read_json(\"/content/drive/MyDrive/Datasets/zomato_reviews-clean.json\")\n",
        "zomato.head()"
      ],
      "execution_count": 37,
      "outputs": [
        {
          "output_type": "execute_result",
          "data": {
            "text/html": [
              "<div>\n",
              "<style scoped>\n",
              "    .dataframe tbody tr th:only-of-type {\n",
              "        vertical-align: middle;\n",
              "    }\n",
              "\n",
              "    .dataframe tbody tr th {\n",
              "        vertical-align: top;\n",
              "    }\n",
              "\n",
              "    .dataframe thead th {\n",
              "        text-align: right;\n",
              "    }\n",
              "</style>\n",
              "<table border=\"1\" class=\"dataframe\">\n",
              "  <thead>\n",
              "    <tr style=\"text-align: right;\">\n",
              "      <th></th>\n",
              "      <th>has_online_delivery</th>\n",
              "      <th>price_range</th>\n",
              "      <th>currency</th>\n",
              "      <th>name</th>\n",
              "      <th>cuisines</th>\n",
              "      <th>location.address</th>\n",
              "      <th>location.city</th>\n",
              "      <th>user_rating</th>\n",
              "    </tr>\n",
              "  </thead>\n",
              "  <tbody>\n",
              "    <tr>\n",
              "      <th>0</th>\n",
              "      <td>1</td>\n",
              "      <td>3</td>\n",
              "      <td>Rs.</td>\n",
              "      <td>Hauz Khas Social</td>\n",
              "      <td>Continental, American, Asian, North Indian</td>\n",
              "      <td>9-A &amp; 12, Hauz Khas Village, New Delhi</td>\n",
              "      <td>New Delhi</td>\n",
              "      <td>Very Good</td>\n",
              "    </tr>\n",
              "    <tr>\n",
              "      <th>1</th>\n",
              "      <td>0</td>\n",
              "      <td>3</td>\n",
              "      <td>Rs.</td>\n",
              "      <td>Qubitos - The Terrace Cafe</td>\n",
              "      <td>Thai, European, Mexican, North Indian, Chinese...</td>\n",
              "      <td>C-7, Vishal Enclave, Opposite Metro Pillar 417...</td>\n",
              "      <td>New Delhi</td>\n",
              "      <td>Excellent</td>\n",
              "    </tr>\n",
              "    <tr>\n",
              "      <th>2</th>\n",
              "      <td>1</td>\n",
              "      <td>2</td>\n",
              "      <td>Rs.</td>\n",
              "      <td>The Hudson Cafe</td>\n",
              "      <td>Cafe, Italian, Continental, Chinese</td>\n",
              "      <td>2524, 1st Floor, Hudson Lane, Delhi University...</td>\n",
              "      <td>New Delhi</td>\n",
              "      <td>Very Good</td>\n",
              "    </tr>\n",
              "    <tr>\n",
              "      <th>3</th>\n",
              "      <td>0</td>\n",
              "      <td>3</td>\n",
              "      <td>Rs.</td>\n",
              "      <td>Summer House Cafe</td>\n",
              "      <td>Italian, Continental</td>\n",
              "      <td>1st Floor, DDA Shopping Complex, Aurobindo Pla...</td>\n",
              "      <td>New Delhi</td>\n",
              "      <td>Very Good</td>\n",
              "    </tr>\n",
              "    <tr>\n",
              "      <th>4</th>\n",
              "      <td>0</td>\n",
              "      <td>3</td>\n",
              "      <td>Rs.</td>\n",
              "      <td>38 Barracks</td>\n",
              "      <td>North Indian, Italian, Asian, American</td>\n",
              "      <td>M-38, Outer Circle, Connaught Place, New Delhi</td>\n",
              "      <td>New Delhi</td>\n",
              "      <td>Very Good</td>\n",
              "    </tr>\n",
              "  </tbody>\n",
              "</table>\n",
              "</div>"
            ],
            "text/plain": [
              "   has_online_delivery  price_range  ... location.city user_rating\n",
              "0                    1            3  ...     New Delhi   Very Good\n",
              "1                    0            3  ...     New Delhi   Excellent\n",
              "2                    1            2  ...     New Delhi   Very Good\n",
              "3                    0            3  ...     New Delhi   Very Good\n",
              "4                    0            3  ...     New Delhi   Very Good\n",
              "\n",
              "[5 rows x 8 columns]"
            ]
          },
          "metadata": {
            "tags": []
          },
          "execution_count": 37
        }
      ]
    },
    {
      "cell_type": "code",
      "metadata": {
        "colab": {
          "base_uri": "https://localhost:8080/"
        },
        "id": "_q-FhyhPWRQA",
        "outputId": "e5f83e95-e4b3-46bf-ead1-fafbd4e15473"
      },
      "source": [
        "zomato['user_rating'].unique()"
      ],
      "execution_count": 38,
      "outputs": [
        {
          "output_type": "execute_result",
          "data": {
            "text/plain": [
              "array(['Very Good', 'Excellent', 'Poor', 'Good', 'Average', 'Not rated'],\n",
              "      dtype=object)"
            ]
          },
          "metadata": {
            "tags": []
          },
          "execution_count": 38
        }
      ]
    },
    {
      "cell_type": "code",
      "metadata": {
        "colab": {
          "base_uri": "https://localhost:8080/"
        },
        "id": "9gGnang0WYLP",
        "outputId": "54fb6dad-ed47-4b23-87dd-36a46d6a4b8b"
      },
      "source": [
        "zomato['user_rating'].nunique()"
      ],
      "execution_count": 39,
      "outputs": [
        {
          "output_type": "execute_result",
          "data": {
            "text/plain": [
              "6"
            ]
          },
          "metadata": {
            "tags": []
          },
          "execution_count": 39
        }
      ]
    },
    {
      "cell_type": "code",
      "metadata": {
        "colab": {
          "base_uri": "https://localhost:8080/"
        },
        "id": "Fm7SERXIWhmk",
        "outputId": "adfc7474-7459-4bb1-c6fc-4c23ce48dde3"
      },
      "source": [
        "counts = zomato['user_rating'].value_counts()\n",
        "counts"
      ],
      "execution_count": 40,
      "outputs": [
        {
          "output_type": "execute_result",
          "data": {
            "text/plain": [
              "Very Good    490\n",
              "Good         346\n",
              "Excellent    194\n",
              "Average      119\n",
              "Not rated     26\n",
              "Poor           5\n",
              "Name: user_rating, dtype: int64"
            ]
          },
          "metadata": {
            "tags": []
          },
          "execution_count": 40
        }
      ]
    },
    {
      "cell_type": "code",
      "metadata": {
        "colab": {
          "base_uri": "https://localhost:8080/",
          "height": 284
        },
        "id": "g1MtqO7eWnrr",
        "outputId": "bbc447b5-8eba-4a15-9e87-b19695f90fe8"
      },
      "source": [
        "#Gráfica de barras\n",
        "ax = sns.barplot(x=counts.index, y=counts)\n",
        "ax.set_title('Conteo ratings de restaurantes');"
      ],
      "execution_count": 41,
      "outputs": [
        {
          "output_type": "display_data",
          "data": {
            "image/png": "[encoded data removed]",
            "text/plain": [
              "<Figure size 432x288 with 1 Axes>"
            ]
          },
          "metadata": {
            "tags": [],
            "needs_background": "light"
          }
        }
      ]
    },
    {
      "cell_type": "code",
      "metadata": {
        "id": "i-V3JHyYW8E4"
      },
      "source": [
        "#Gráfica de barras como porcentaje\n",
        "porcentajes = counts * 100 / counts.sum()"
      ],
      "execution_count": 42,
      "outputs": []
    },
    {
      "cell_type": "code",
      "metadata": {
        "colab": {
          "base_uri": "https://localhost:8080/",
          "height": 324
        },
        "id": "7B7yrxlkXJjg",
        "outputId": "14855f03-bb63-4f5d-db2c-6f5283f4fa74"
      },
      "source": [
        "ax = sns.barplot(x=porcentajes.index, y=porcentajes)\n",
        "ax.set_title('Ratings de restaurantes en porcentaje')\n",
        "ax.set(ylabel='Porcentaje')\n",
        "#Rotación de títulos\n",
        "ax.set_xticklabels(ax.get_xticklabels(), rotation=50);"
      ],
      "execution_count": 43,
      "outputs": [
        {
          "output_type": "display_data",
          "data": {
            "image/png": "[encoded data removed]",
            "text/plain": [
              "<Figure size 432x288 with 1 Axes>"
            ]
          },
          "metadata": {
            "tags": [],
            "needs_background": "light"
          }
        }
      ]
    },
    {
      "cell_type": "code",
      "metadata": {
        "colab": {
          "base_uri": "https://localhost:8080/",
          "height": 301
        },
        "id": "nI0th7VFYDe0",
        "outputId": "a0d1b3b3-2bba-453c-8af9-d79b3d06221f"
      },
      "source": [
        "#Gráfica horizontal orient='h'\n",
        "ax = sns.barplot(y=porcentajes.index, x=porcentajes, orient='h')\n",
        "ax.set_title('Ratings de restaurantes en porcentaje')\n",
        "ax.set(ylabel='Calificación')\n",
        "ax.set(xlabel='Porcentaje');"
      ],
      "execution_count": 44,
      "outputs": [
        {
          "output_type": "display_data",
          "data": {
            "image/png": "[encoded data removed]",
            "text/plain": [
              "<Figure size 432x288 with 1 Axes>"
            ]
          },
          "metadata": {
            "tags": [],
            "needs_background": "light"
          }
        }
      ]
    },
    {
      "cell_type": "markdown",
      "metadata": {
        "id": "Rwa4X8uYYqYB"
      },
      "source": [
        "**Reto 2**\n",
        "Gráfica de barras\n",
        "\n",
        "- Aprender a hacer gráficas de barras de distintos tipos\n",
        "\n",
        "1. Gráfica de barras verticales usando la columna rooms. El eje y será el conteo de frecuencia de cada categoría. Las barras tienen que quedar ordenadas en orden descendente (es decir, de la más larga a la màs corta). Para lograr ordenarlas, tendrás que revisar la documentación de la gráfica de barras de Seaborn.\n",
        "1. Gráfica de barras verticales de la columna types. El eje y será el porcentaje de frecuencia de cada categoría.\n",
        "1. Gráfica de barras horizontales de la columna council_area. El eje x será el conteo de frecuencia* de cada categoría."
      ]
    },
    {
      "cell_type": "code",
      "metadata": {
        "colab": {
          "base_uri": "https://localhost:8080/",
          "height": 333
        },
        "id": "5-J6oRkPY9sA",
        "outputId": "45571cf2-e8f8-4761-a9c7-78a55be9d121"
      },
      "source": [
        "melbourne = pd.read_csv(\"/content/drive/MyDrive/Datasets/melbourne_housing-clean.csv\", sep=',', index_col=0)\n",
        "melbourne.head()"
      ],
      "execution_count": 45,
      "outputs": [
        {
          "output_type": "execute_result",
          "data": {
            "text/html": [
              "<div>\n",
              "<style scoped>\n",
              "    .dataframe tbody tr th:only-of-type {\n",
              "        vertical-align: middle;\n",
              "    }\n",
              "\n",
              "    .dataframe tbody tr th {\n",
              "        vertical-align: top;\n",
              "    }\n",
              "\n",
              "    .dataframe thead th {\n",
              "        text-align: right;\n",
              "    }\n",
              "</style>\n",
              "<table border=\"1\" class=\"dataframe\">\n",
              "  <thead>\n",
              "    <tr style=\"text-align: right;\">\n",
              "      <th></th>\n",
              "      <th>suburb</th>\n",
              "      <th>address</th>\n",
              "      <th>rooms</th>\n",
              "      <th>type</th>\n",
              "      <th>price</th>\n",
              "      <th>method</th>\n",
              "      <th>seller_g</th>\n",
              "      <th>date</th>\n",
              "      <th>distance</th>\n",
              "      <th>postcode</th>\n",
              "      <th>bedroom_2</th>\n",
              "      <th>bathroom</th>\n",
              "      <th>car</th>\n",
              "      <th>land_size</th>\n",
              "      <th>council_area</th>\n",
              "      <th>latitude</th>\n",
              "      <th>longitude</th>\n",
              "      <th>region_name</th>\n",
              "      <th>property_count</th>\n",
              "    </tr>\n",
              "  </thead>\n",
              "  <tbody>\n",
              "    <tr>\n",
              "      <th>0</th>\n",
              "      <td>Abbotsford</td>\n",
              "      <td>85 Turner St</td>\n",
              "      <td>2</td>\n",
              "      <td>h</td>\n",
              "      <td>1480000.0</td>\n",
              "      <td>S</td>\n",
              "      <td>Biggin</td>\n",
              "      <td>3/12/2016</td>\n",
              "      <td>2.5</td>\n",
              "      <td>3067.0</td>\n",
              "      <td>2.0</td>\n",
              "      <td>1.0</td>\n",
              "      <td>1.0</td>\n",
              "      <td>202.0</td>\n",
              "      <td>Yarra</td>\n",
              "      <td>-37.7996</td>\n",
              "      <td>144.9984</td>\n",
              "      <td>Northern Metropolitan</td>\n",
              "      <td>4019.0</td>\n",
              "    </tr>\n",
              "    <tr>\n",
              "      <th>1</th>\n",
              "      <td>Abbotsford</td>\n",
              "      <td>25 Bloomburg St</td>\n",
              "      <td>2</td>\n",
              "      <td>h</td>\n",
              "      <td>1035000.0</td>\n",
              "      <td>S</td>\n",
              "      <td>Biggin</td>\n",
              "      <td>4/02/2016</td>\n",
              "      <td>2.5</td>\n",
              "      <td>3067.0</td>\n",
              "      <td>2.0</td>\n",
              "      <td>1.0</td>\n",
              "      <td>0.0</td>\n",
              "      <td>156.0</td>\n",
              "      <td>Yarra</td>\n",
              "      <td>-37.8079</td>\n",
              "      <td>144.9934</td>\n",
              "      <td>Northern Metropolitan</td>\n",
              "      <td>4019.0</td>\n",
              "    </tr>\n",
              "    <tr>\n",
              "      <th>2</th>\n",
              "      <td>Abbotsford</td>\n",
              "      <td>5 Charles St</td>\n",
              "      <td>3</td>\n",
              "      <td>h</td>\n",
              "      <td>1465000.0</td>\n",
              "      <td>SP</td>\n",
              "      <td>Biggin</td>\n",
              "      <td>4/03/2017</td>\n",
              "      <td>2.5</td>\n",
              "      <td>3067.0</td>\n",
              "      <td>3.0</td>\n",
              "      <td>2.0</td>\n",
              "      <td>0.0</td>\n",
              "      <td>134.0</td>\n",
              "      <td>Yarra</td>\n",
              "      <td>-37.8093</td>\n",
              "      <td>144.9944</td>\n",
              "      <td>Northern Metropolitan</td>\n",
              "      <td>4019.0</td>\n",
              "    </tr>\n",
              "    <tr>\n",
              "      <th>3</th>\n",
              "      <td>Abbotsford</td>\n",
              "      <td>40 Federation La</td>\n",
              "      <td>3</td>\n",
              "      <td>h</td>\n",
              "      <td>850000.0</td>\n",
              "      <td>PI</td>\n",
              "      <td>Biggin</td>\n",
              "      <td>4/03/2017</td>\n",
              "      <td>2.5</td>\n",
              "      <td>3067.0</td>\n",
              "      <td>3.0</td>\n",
              "      <td>2.0</td>\n",
              "      <td>1.0</td>\n",
              "      <td>94.0</td>\n",
              "      <td>Yarra</td>\n",
              "      <td>-37.7969</td>\n",
              "      <td>144.9969</td>\n",
              "      <td>Northern Metropolitan</td>\n",
              "      <td>4019.0</td>\n",
              "    </tr>\n",
              "    <tr>\n",
              "      <th>4</th>\n",
              "      <td>Abbotsford</td>\n",
              "      <td>55a Park St</td>\n",
              "      <td>4</td>\n",
              "      <td>h</td>\n",
              "      <td>1600000.0</td>\n",
              "      <td>VB</td>\n",
              "      <td>Nelson</td>\n",
              "      <td>4/06/2016</td>\n",
              "      <td>2.5</td>\n",
              "      <td>3067.0</td>\n",
              "      <td>3.0</td>\n",
              "      <td>1.0</td>\n",
              "      <td>2.0</td>\n",
              "      <td>120.0</td>\n",
              "      <td>Yarra</td>\n",
              "      <td>-37.8072</td>\n",
              "      <td>144.9941</td>\n",
              "      <td>Northern Metropolitan</td>\n",
              "      <td>4019.0</td>\n",
              "    </tr>\n",
              "  </tbody>\n",
              "</table>\n",
              "</div>"
            ],
            "text/plain": [
              "       suburb           address  ...            region_name property_count\n",
              "0  Abbotsford      85 Turner St  ...  Northern Metropolitan         4019.0\n",
              "1  Abbotsford   25 Bloomburg St  ...  Northern Metropolitan         4019.0\n",
              "2  Abbotsford      5 Charles St  ...  Northern Metropolitan         4019.0\n",
              "3  Abbotsford  40 Federation La  ...  Northern Metropolitan         4019.0\n",
              "4  Abbotsford       55a Park St  ...  Northern Metropolitan         4019.0\n",
              "\n",
              "[5 rows x 19 columns]"
            ]
          },
          "metadata": {
            "tags": []
          },
          "execution_count": 45
        }
      ]
    },
    {
      "cell_type": "code",
      "metadata": {
        "id": "xQPrFlTQbH4o"
      },
      "source": [
        "# 1. Gráfica rooms\n",
        "cuartos = melbourne['rooms'].value_counts()"
      ],
      "execution_count": 46,
      "outputs": []
    },
    {
      "cell_type": "code",
      "metadata": {
        "colab": {
          "base_uri": "https://localhost:8080/",
          "height": 301
        },
        "id": "Kz7OTtPJaocY",
        "outputId": "383175a7-a900-4751-c950-74138b057f12"
      },
      "source": [
        "# 1. Gráfica rooms\n",
        "ax = sns.barplot(x=cuartos.index, y=cuartos)\n",
        "ax.set_title('Número de cuartos')\n",
        "ax.set(ylabel='Frecuencia')\n",
        "ax.set(xlabel='Cuartos');"
      ],
      "execution_count": 47,
      "outputs": [
        {
          "output_type": "display_data",
          "data": {
            "image/png": "[encoded data removed]",
            "text/plain": [
              "<Figure size 432x288 with 1 Axes>"
            ]
          },
          "metadata": {
            "tags": [],
            "needs_background": "light"
          }
        }
      ]
    },
    {
      "cell_type": "code",
      "metadata": {
        "colab": {
          "base_uri": "https://localhost:8080/",
          "height": 301
        },
        "id": "GfFj1_VGcWGI",
        "outputId": "bbbb0a55-2ffe-48a0-f5ea-30a26689cbe1"
      },
      "source": [
        "#Para ordenar de mayor a menor\n",
        "ax = sns.barplot(x=cuartos.index, y=cuartos, order=cuartos.index)\n",
        "ax.set_title('Número de cuartos')\n",
        "ax.set(ylabel='Frecuencia')\n",
        "ax.set(xlabel='Cuartos');"
      ],
      "execution_count": 48,
      "outputs": [
        {
          "output_type": "display_data",
          "data": {
            "image/png": "[encoded data removed]",
            "text/plain": [
              "<Figure size 432x288 with 1 Axes>"
            ]
          },
          "metadata": {
            "tags": [],
            "needs_background": "light"
          }
        }
      ]
    },
    {
      "cell_type": "code",
      "metadata": {
        "colab": {
          "base_uri": "https://localhost:8080/",
          "height": 301
        },
        "id": "02MLC5gScg9S",
        "outputId": "6dd23062-02c2-4b23-9ce0-92507fecf34c"
      },
      "source": [
        "# 2. Gráfica type\n",
        "ax = sns.countplot(x='type', data=melbourne)\n",
        "ax.set_title('Tipos de vivienda')\n",
        "ax.set(ylabel='Frecuencia')\n",
        "ax.set(xlabel='Tipo');"
      ],
      "execution_count": 51,
      "outputs": [
        {
          "output_type": "display_data",
          "data": {
            "image/png": "[encoded data removed]",
            "text/plain": [
              "<Figure size 432x288 with 1 Axes>"
            ]
          },
          "metadata": {
            "tags": [],
            "needs_background": "light"
          }
        }
      ]
    },
    {
      "cell_type": "code",
      "metadata": {
        "colab": {
          "base_uri": "https://localhost:8080/",
          "height": 301
        },
        "id": "sqFtS4PiorQh",
        "outputId": "c6892f16-676d-4592-b030-2c96073bd7ca"
      },
      "source": [
        "# 2. Gráfica type como porcentaje\n",
        "ax = sns.histplot(x='type', data=melbourne, stat='probability')\n",
        "ax.set_title('Tipos de vivienda')\n",
        "ax.set(ylabel='Porcentaje')\n",
        "ax.set(xlabel='Tipo');"
      ],
      "execution_count": 52,
      "outputs": [
        {
          "output_type": "display_data",
          "data": {
            "image/png": "[encoded data removed]",
            "text/plain": [
              "<Figure size 432x288 with 1 Axes>"
            ]
          },
          "metadata": {
            "tags": [],
            "needs_background": "light"
          }
        }
      ]
    },
    {
      "cell_type": "code",
      "metadata": {
        "id": "U3nX3UowfLbH"
      },
      "source": [
        "# 3."
      ],
      "execution_count": null,
      "outputs": []
    },
    {
      "cell_type": "markdown",
      "metadata": {
        "id": "GVyUomOvfMbY"
      },
      "source": [
        "**Ejemplo 3**\n",
        "Tablas de contingencia\n",
        "\n",
        "- Aprender a generar tablas de contingencia usando el método `crosstab`"
      ]
    },
    {
      "cell_type": "code",
      "metadata": {
        "colab": {
          "base_uri": "https://localhost:8080/",
          "height": 226
        },
        "id": "WIVQ4BOXfW_h",
        "outputId": "867c5319-c285-4166-bd82-72e2de86055a"
      },
      "source": [
        "#crosstab trae un conteo, rpimero le pasamos el eje de la x y después el eje de las y\n",
        "crosstab = pd.crosstab(zomato['price_range'], zomato['user_rating'], margins=True, margins_name='Total')\n",
        "# variable margins para agregar totales al final por fila y columna\n",
        "crosstab"
      ],
      "execution_count": 53,
      "outputs": [
        {
          "output_type": "execute_result",
          "data": {
            "text/html": [
              "<div>\n",
              "<style scoped>\n",
              "    .dataframe tbody tr th:only-of-type {\n",
              "        vertical-align: middle;\n",
              "    }\n",
              "\n",
              "    .dataframe tbody tr th {\n",
              "        vertical-align: top;\n",
              "    }\n",
              "\n",
              "    .dataframe thead th {\n",
              "        text-align: right;\n",
              "    }\n",
              "</style>\n",
              "<table border=\"1\" class=\"dataframe\">\n",
              "  <thead>\n",
              "    <tr style=\"text-align: right;\">\n",
              "      <th>user_rating</th>\n",
              "      <th>Average</th>\n",
              "      <th>Excellent</th>\n",
              "      <th>Good</th>\n",
              "      <th>Not rated</th>\n",
              "      <th>Poor</th>\n",
              "      <th>Very Good</th>\n",
              "      <th>Total</th>\n",
              "    </tr>\n",
              "    <tr>\n",
              "      <th>price_range</th>\n",
              "      <th></th>\n",
              "      <th></th>\n",
              "      <th></th>\n",
              "      <th></th>\n",
              "      <th></th>\n",
              "      <th></th>\n",
              "      <th></th>\n",
              "    </tr>\n",
              "  </thead>\n",
              "  <tbody>\n",
              "    <tr>\n",
              "      <th>1</th>\n",
              "      <td>12</td>\n",
              "      <td>9</td>\n",
              "      <td>33</td>\n",
              "      <td>1</td>\n",
              "      <td>0</td>\n",
              "      <td>19</td>\n",
              "      <td>74</td>\n",
              "    </tr>\n",
              "    <tr>\n",
              "      <th>2</th>\n",
              "      <td>47</td>\n",
              "      <td>37</td>\n",
              "      <td>116</td>\n",
              "      <td>3</td>\n",
              "      <td>2</td>\n",
              "      <td>132</td>\n",
              "      <td>337</td>\n",
              "    </tr>\n",
              "    <tr>\n",
              "      <th>3</th>\n",
              "      <td>41</td>\n",
              "      <td>84</td>\n",
              "      <td>141</td>\n",
              "      <td>3</td>\n",
              "      <td>1</td>\n",
              "      <td>218</td>\n",
              "      <td>488</td>\n",
              "    </tr>\n",
              "    <tr>\n",
              "      <th>4</th>\n",
              "      <td>19</td>\n",
              "      <td>64</td>\n",
              "      <td>56</td>\n",
              "      <td>19</td>\n",
              "      <td>2</td>\n",
              "      <td>121</td>\n",
              "      <td>281</td>\n",
              "    </tr>\n",
              "    <tr>\n",
              "      <th>Total</th>\n",
              "      <td>119</td>\n",
              "      <td>194</td>\n",
              "      <td>346</td>\n",
              "      <td>26</td>\n",
              "      <td>5</td>\n",
              "      <td>490</td>\n",
              "      <td>1180</td>\n",
              "    </tr>\n",
              "  </tbody>\n",
              "</table>\n",
              "</div>"
            ],
            "text/plain": [
              "user_rating  Average  Excellent  Good  Not rated  Poor  Very Good  Total\n",
              "price_range                                                             \n",
              "1                 12          9    33          1     0         19     74\n",
              "2                 47         37   116          3     2        132    337\n",
              "3                 41         84   141          3     1        218    488\n",
              "4                 19         64    56         19     2        121    281\n",
              "Total            119        194   346         26     5        490   1180"
            ]
          },
          "metadata": {
            "tags": []
          },
          "execution_count": 53
        }
      ]
    },
    {
      "cell_type": "code",
      "metadata": {
        "colab": {
          "base_uri": "https://localhost:8080/",
          "height": 226
        },
        "id": "7mIMKUqKgBuf",
        "outputId": "d4ebdde3-213e-4c46-c9b0-f11aacf25c86"
      },
      "source": [
        "# agregar tupla [entre corchetes] con elementos para dividir la tabla\n",
        "crosstab2 = pd.crosstab(zomato['price_range'], [zomato['has_online_delivery'], zomato['user_rating']])\n",
        "crosstab2"
      ],
      "execution_count": 90,
      "outputs": [
        {
          "output_type": "execute_result",
          "data": {
            "text/html": [
              "<div>\n",
              "<style scoped>\n",
              "    .dataframe tbody tr th:only-of-type {\n",
              "        vertical-align: middle;\n",
              "    }\n",
              "\n",
              "    .dataframe tbody tr th {\n",
              "        vertical-align: top;\n",
              "    }\n",
              "\n",
              "    .dataframe thead tr th {\n",
              "        text-align: left;\n",
              "    }\n",
              "\n",
              "    .dataframe thead tr:last-of-type th {\n",
              "        text-align: right;\n",
              "    }\n",
              "</style>\n",
              "<table border=\"1\" class=\"dataframe\">\n",
              "  <thead>\n",
              "    <tr>\n",
              "      <th>has_online_delivery</th>\n",
              "      <th colspan=\"6\" halign=\"left\">0</th>\n",
              "      <th colspan=\"5\" halign=\"left\">1</th>\n",
              "    </tr>\n",
              "    <tr>\n",
              "      <th>user_rating</th>\n",
              "      <th>Average</th>\n",
              "      <th>Excellent</th>\n",
              "      <th>Good</th>\n",
              "      <th>Not rated</th>\n",
              "      <th>Poor</th>\n",
              "      <th>Very Good</th>\n",
              "      <th>Average</th>\n",
              "      <th>Excellent</th>\n",
              "      <th>Good</th>\n",
              "      <th>Poor</th>\n",
              "      <th>Very Good</th>\n",
              "    </tr>\n",
              "    <tr>\n",
              "      <th>price_range</th>\n",
              "      <th></th>\n",
              "      <th></th>\n",
              "      <th></th>\n",
              "      <th></th>\n",
              "      <th></th>\n",
              "      <th></th>\n",
              "      <th></th>\n",
              "      <th></th>\n",
              "      <th></th>\n",
              "      <th></th>\n",
              "      <th></th>\n",
              "    </tr>\n",
              "  </thead>\n",
              "  <tbody>\n",
              "    <tr>\n",
              "      <th>1</th>\n",
              "      <td>12</td>\n",
              "      <td>8</td>\n",
              "      <td>32</td>\n",
              "      <td>1</td>\n",
              "      <td>0</td>\n",
              "      <td>15</td>\n",
              "      <td>0</td>\n",
              "      <td>1</td>\n",
              "      <td>1</td>\n",
              "      <td>0</td>\n",
              "      <td>4</td>\n",
              "    </tr>\n",
              "    <tr>\n",
              "      <th>2</th>\n",
              "      <td>47</td>\n",
              "      <td>30</td>\n",
              "      <td>104</td>\n",
              "      <td>3</td>\n",
              "      <td>1</td>\n",
              "      <td>99</td>\n",
              "      <td>0</td>\n",
              "      <td>7</td>\n",
              "      <td>12</td>\n",
              "      <td>1</td>\n",
              "      <td>33</td>\n",
              "    </tr>\n",
              "    <tr>\n",
              "      <th>3</th>\n",
              "      <td>40</td>\n",
              "      <td>70</td>\n",
              "      <td>132</td>\n",
              "      <td>3</td>\n",
              "      <td>1</td>\n",
              "      <td>183</td>\n",
              "      <td>1</td>\n",
              "      <td>14</td>\n",
              "      <td>9</td>\n",
              "      <td>0</td>\n",
              "      <td>35</td>\n",
              "    </tr>\n",
              "    <tr>\n",
              "      <th>4</th>\n",
              "      <td>19</td>\n",
              "      <td>61</td>\n",
              "      <td>52</td>\n",
              "      <td>19</td>\n",
              "      <td>2</td>\n",
              "      <td>113</td>\n",
              "      <td>0</td>\n",
              "      <td>3</td>\n",
              "      <td>4</td>\n",
              "      <td>0</td>\n",
              "      <td>8</td>\n",
              "    </tr>\n",
              "  </tbody>\n",
              "</table>\n",
              "</div>"
            ],
            "text/plain": [
              "has_online_delivery       0                 ...    1               \n",
              "user_rating         Average Excellent Good  ... Good Poor Very Good\n",
              "price_range                                 ...                    \n",
              "1                        12         8   32  ...    1    0         4\n",
              "2                        47        30  104  ...   12    1        33\n",
              "3                        40        70  132  ...    9    0        35\n",
              "4                        19        61   52  ...    4    0         8\n",
              "\n",
              "[4 rows x 11 columns]"
            ]
          },
          "metadata": {
            "tags": []
          },
          "execution_count": 90
        }
      ]
    },
    {
      "cell_type": "code",
      "metadata": {
        "colab": {
          "base_uri": "https://localhost:8080/",
          "height": 196
        },
        "id": "pGgr9Td1gh2z",
        "outputId": "a83ba315-9114-4aaa-8bac-4a07855d8fb2"
      },
      "source": [
        "#Elegir los que no tienen delivery\n",
        "crosstab.loc[:, 0]"
      ],
      "execution_count": 67,
      "outputs": [
        {
          "output_type": "execute_result",
          "data": {
            "text/html": [
              "<div>\n",
              "<style scoped>\n",
              "    .dataframe tbody tr th:only-of-type {\n",
              "        vertical-align: middle;\n",
              "    }\n",
              "\n",
              "    .dataframe tbody tr th {\n",
              "        vertical-align: top;\n",
              "    }\n",
              "\n",
              "    .dataframe thead th {\n",
              "        text-align: right;\n",
              "    }\n",
              "</style>\n",
              "<table border=\"1\" class=\"dataframe\">\n",
              "  <thead>\n",
              "    <tr style=\"text-align: right;\">\n",
              "      <th>user_rating</th>\n",
              "      <th>Average</th>\n",
              "      <th>Excellent</th>\n",
              "      <th>Good</th>\n",
              "      <th>Not rated</th>\n",
              "      <th>Poor</th>\n",
              "      <th>Very Good</th>\n",
              "    </tr>\n",
              "    <tr>\n",
              "      <th>price_range</th>\n",
              "      <th></th>\n",
              "      <th></th>\n",
              "      <th></th>\n",
              "      <th></th>\n",
              "      <th></th>\n",
              "      <th></th>\n",
              "    </tr>\n",
              "  </thead>\n",
              "  <tbody>\n",
              "    <tr>\n",
              "      <th>1</th>\n",
              "      <td>12</td>\n",
              "      <td>8</td>\n",
              "      <td>32</td>\n",
              "      <td>1</td>\n",
              "      <td>0</td>\n",
              "      <td>15</td>\n",
              "    </tr>\n",
              "    <tr>\n",
              "      <th>2</th>\n",
              "      <td>47</td>\n",
              "      <td>30</td>\n",
              "      <td>104</td>\n",
              "      <td>3</td>\n",
              "      <td>1</td>\n",
              "      <td>99</td>\n",
              "    </tr>\n",
              "    <tr>\n",
              "      <th>3</th>\n",
              "      <td>40</td>\n",
              "      <td>70</td>\n",
              "      <td>132</td>\n",
              "      <td>3</td>\n",
              "      <td>1</td>\n",
              "      <td>183</td>\n",
              "    </tr>\n",
              "    <tr>\n",
              "      <th>4</th>\n",
              "      <td>19</td>\n",
              "      <td>61</td>\n",
              "      <td>52</td>\n",
              "      <td>19</td>\n",
              "      <td>2</td>\n",
              "      <td>113</td>\n",
              "    </tr>\n",
              "  </tbody>\n",
              "</table>\n",
              "</div>"
            ],
            "text/plain": [
              "user_rating  Average  Excellent  Good  Not rated  Poor  Very Good\n",
              "price_range                                                      \n",
              "1                 12          8    32          1     0         15\n",
              "2                 47         30   104          3     1         99\n",
              "3                 40         70   132          3     1        183\n",
              "4                 19         61    52         19     2        113"
            ]
          },
          "metadata": {
            "tags": []
          },
          "execution_count": 67
        }
      ]
    },
    {
      "cell_type": "code",
      "metadata": {
        "colab": {
          "base_uri": "https://localhost:8080/"
        },
        "id": "hIn1KKKNg0mj",
        "outputId": "2881bf22-917c-4ce9-8dfe-981621cd05fa"
      },
      "source": [
        "#Pasar más de un elemento con una tupla, por ejemplo\n",
        "crosstab.loc[:, (1, 'Poor')]"
      ],
      "execution_count": 69,
      "outputs": [
        {
          "output_type": "execute_result",
          "data": {
            "text/plain": [
              "price_range\n",
              "1    0\n",
              "2    1\n",
              "3    0\n",
              "4    0\n",
              "Name: (1, Poor), dtype: int64"
            ]
          },
          "metadata": {
            "tags": []
          },
          "execution_count": 69
        }
      ]
    },
    {
      "cell_type": "code",
      "metadata": {
        "colab": {
          "base_uri": "https://localhost:8080/",
          "height": 316
        },
        "id": "-74t6eiGhSdS",
        "outputId": "5ed361ef-6336-4c79-a5d7-f2333fd0f92a"
      },
      "source": [
        "#Tabla con índices, por columna 1 o por renglón 0\n",
        "crosstab2.stack(level=0)\n",
        "#Nota: se puede guardar y exportar como un csv con .to_csv(\"tabla.csv\")"
      ],
      "execution_count": 91,
      "outputs": [
        {
          "output_type": "execute_result",
          "data": {
            "text/html": [
              "<div>\n",
              "<style scoped>\n",
              "    .dataframe tbody tr th:only-of-type {\n",
              "        vertical-align: middle;\n",
              "    }\n",
              "\n",
              "    .dataframe tbody tr th {\n",
              "        vertical-align: top;\n",
              "    }\n",
              "\n",
              "    .dataframe thead th {\n",
              "        text-align: right;\n",
              "    }\n",
              "</style>\n",
              "<table border=\"1\" class=\"dataframe\">\n",
              "  <thead>\n",
              "    <tr style=\"text-align: right;\">\n",
              "      <th></th>\n",
              "      <th>user_rating</th>\n",
              "      <th>Average</th>\n",
              "      <th>Excellent</th>\n",
              "      <th>Good</th>\n",
              "      <th>Not rated</th>\n",
              "      <th>Poor</th>\n",
              "      <th>Very Good</th>\n",
              "    </tr>\n",
              "    <tr>\n",
              "      <th>price_range</th>\n",
              "      <th>has_online_delivery</th>\n",
              "      <th></th>\n",
              "      <th></th>\n",
              "      <th></th>\n",
              "      <th></th>\n",
              "      <th></th>\n",
              "      <th></th>\n",
              "    </tr>\n",
              "  </thead>\n",
              "  <tbody>\n",
              "    <tr>\n",
              "      <th rowspan=\"2\" valign=\"top\">1</th>\n",
              "      <th>0</th>\n",
              "      <td>12</td>\n",
              "      <td>8</td>\n",
              "      <td>32</td>\n",
              "      <td>1.0</td>\n",
              "      <td>0</td>\n",
              "      <td>15</td>\n",
              "    </tr>\n",
              "    <tr>\n",
              "      <th>1</th>\n",
              "      <td>0</td>\n",
              "      <td>1</td>\n",
              "      <td>1</td>\n",
              "      <td>NaN</td>\n",
              "      <td>0</td>\n",
              "      <td>4</td>\n",
              "    </tr>\n",
              "    <tr>\n",
              "      <th rowspan=\"2\" valign=\"top\">2</th>\n",
              "      <th>0</th>\n",
              "      <td>47</td>\n",
              "      <td>30</td>\n",
              "      <td>104</td>\n",
              "      <td>3.0</td>\n",
              "      <td>1</td>\n",
              "      <td>99</td>\n",
              "    </tr>\n",
              "    <tr>\n",
              "      <th>1</th>\n",
              "      <td>0</td>\n",
              "      <td>7</td>\n",
              "      <td>12</td>\n",
              "      <td>NaN</td>\n",
              "      <td>1</td>\n",
              "      <td>33</td>\n",
              "    </tr>\n",
              "    <tr>\n",
              "      <th rowspan=\"2\" valign=\"top\">3</th>\n",
              "      <th>0</th>\n",
              "      <td>40</td>\n",
              "      <td>70</td>\n",
              "      <td>132</td>\n",
              "      <td>3.0</td>\n",
              "      <td>1</td>\n",
              "      <td>183</td>\n",
              "    </tr>\n",
              "    <tr>\n",
              "      <th>1</th>\n",
              "      <td>1</td>\n",
              "      <td>14</td>\n",
              "      <td>9</td>\n",
              "      <td>NaN</td>\n",
              "      <td>0</td>\n",
              "      <td>35</td>\n",
              "    </tr>\n",
              "    <tr>\n",
              "      <th rowspan=\"2\" valign=\"top\">4</th>\n",
              "      <th>0</th>\n",
              "      <td>19</td>\n",
              "      <td>61</td>\n",
              "      <td>52</td>\n",
              "      <td>19.0</td>\n",
              "      <td>2</td>\n",
              "      <td>113</td>\n",
              "    </tr>\n",
              "    <tr>\n",
              "      <th>1</th>\n",
              "      <td>0</td>\n",
              "      <td>3</td>\n",
              "      <td>4</td>\n",
              "      <td>NaN</td>\n",
              "      <td>0</td>\n",
              "      <td>8</td>\n",
              "    </tr>\n",
              "  </tbody>\n",
              "</table>\n",
              "</div>"
            ],
            "text/plain": [
              "user_rating                      Average  Excellent  ...  Poor  Very Good\n",
              "price_range has_online_delivery                      ...                 \n",
              "1           0                         12          8  ...     0         15\n",
              "            1                          0          1  ...     0          4\n",
              "2           0                         47         30  ...     1         99\n",
              "            1                          0          7  ...     1         33\n",
              "3           0                         40         70  ...     1        183\n",
              "            1                          1         14  ...     0         35\n",
              "4           0                         19         61  ...     2        113\n",
              "            1                          0          3  ...     0          8\n",
              "\n",
              "[8 rows x 6 columns]"
            ]
          },
          "metadata": {
            "tags": []
          },
          "execution_count": 91
        }
      ]
    },
    {
      "cell_type": "markdown",
      "metadata": {
        "id": "-9VDiXvQrY3Q"
      },
      "source": [
        "**Reto 3**\n",
        "Tablas de contingencias\n",
        "\n",
        "- Aprender a generar tablas de contingencia utilizando múltiples variables categóricas."
      ]
    },
    {
      "cell_type": "markdown",
      "metadata": {
        "id": "U-9EqRkkrd2r"
      },
      "source": [
        "**a) Segmentando por tipo y número de cuartos**\n",
        "\n",
        "1. Crea una tabla de contingencia usando como índice la variable 'type' y para las columnas la variable 'rooms'.\n",
        "1. Crea una gráfica de barras para cada uno de los índices ('h', 't', 'u') donde el eje x sean las columnas de la tabla de contingencia.\n",
        "1. Agrega los títulos y anotaciones necesarias.\n",
        "1. Describe las similitudes y las diferencias de las distribuciones de las 3 gráficas."
      ]
    },
    {
      "cell_type": "code",
      "metadata": {
        "colab": {
          "base_uri": "https://localhost:8080/",
          "height": 196
        },
        "id": "xUhqIFblrkIa",
        "outputId": "4a2ee47a-c60f-47a9-d920-c15c311cf671"
      },
      "source": [
        "#a1. Tabla de contingencias\n",
        "crossmelb = pd.crosstab(melbourne['type'], melbourne['rooms'], margins=True, margins_name='Totales')\n",
        "crossmelb"
      ],
      "execution_count": 56,
      "outputs": [
        {
          "output_type": "execute_result",
          "data": {
            "text/html": [
              "<div>\n",
              "<style scoped>\n",
              "    .dataframe tbody tr th:only-of-type {\n",
              "        vertical-align: middle;\n",
              "    }\n",
              "\n",
              "    .dataframe tbody tr th {\n",
              "        vertical-align: top;\n",
              "    }\n",
              "\n",
              "    .dataframe thead th {\n",
              "        text-align: right;\n",
              "    }\n",
              "</style>\n",
              "<table border=\"1\" class=\"dataframe\">\n",
              "  <thead>\n",
              "    <tr style=\"text-align: right;\">\n",
              "      <th>rooms</th>\n",
              "      <th>1</th>\n",
              "      <th>2</th>\n",
              "      <th>3</th>\n",
              "      <th>4</th>\n",
              "      <th>5</th>\n",
              "      <th>6</th>\n",
              "      <th>7</th>\n",
              "      <th>8</th>\n",
              "      <th>Totales</th>\n",
              "    </tr>\n",
              "    <tr>\n",
              "      <th>type</th>\n",
              "      <th></th>\n",
              "      <th></th>\n",
              "      <th></th>\n",
              "      <th></th>\n",
              "      <th></th>\n",
              "      <th></th>\n",
              "      <th></th>\n",
              "      <th></th>\n",
              "      <th></th>\n",
              "    </tr>\n",
              "  </thead>\n",
              "  <tbody>\n",
              "    <tr>\n",
              "      <th>h</th>\n",
              "      <td>54</td>\n",
              "      <td>1261</td>\n",
              "      <td>3912</td>\n",
              "      <td>1991</td>\n",
              "      <td>475</td>\n",
              "      <td>54</td>\n",
              "      <td>9</td>\n",
              "      <td>6</td>\n",
              "      <td>7762</td>\n",
              "    </tr>\n",
              "    <tr>\n",
              "      <th>t</th>\n",
              "      <td>9</td>\n",
              "      <td>299</td>\n",
              "      <td>575</td>\n",
              "      <td>138</td>\n",
              "      <td>4</td>\n",
              "      <td>0</td>\n",
              "      <td>0</td>\n",
              "      <td>0</td>\n",
              "      <td>1025</td>\n",
              "    </tr>\n",
              "    <tr>\n",
              "      <th>u</th>\n",
              "      <td>582</td>\n",
              "      <td>1829</td>\n",
              "      <td>429</td>\n",
              "      <td>17</td>\n",
              "      <td>0</td>\n",
              "      <td>1</td>\n",
              "      <td>0</td>\n",
              "      <td>1</td>\n",
              "      <td>2859</td>\n",
              "    </tr>\n",
              "    <tr>\n",
              "      <th>Totales</th>\n",
              "      <td>645</td>\n",
              "      <td>3389</td>\n",
              "      <td>4916</td>\n",
              "      <td>2146</td>\n",
              "      <td>479</td>\n",
              "      <td>55</td>\n",
              "      <td>9</td>\n",
              "      <td>7</td>\n",
              "      <td>11646</td>\n",
              "    </tr>\n",
              "  </tbody>\n",
              "</table>\n",
              "</div>"
            ],
            "text/plain": [
              "rooms      1     2     3     4    5   6  7  8  Totales\n",
              "type                                                  \n",
              "h         54  1261  3912  1991  475  54  9  6     7762\n",
              "t          9   299   575   138    4   0  0  0     1025\n",
              "u        582  1829   429    17    0   1  0  1     2859\n",
              "Totales  645  3389  4916  2146  479  55  9  7    11646"
            ]
          },
          "metadata": {
            "tags": []
          },
          "execution_count": 56
        }
      ]
    },
    {
      "cell_type": "code",
      "metadata": {
        "id": "qm2dqiXss1mT"
      },
      "source": [
        "#a2. Gráfica\n"
      ],
      "execution_count": null,
      "outputs": []
    },
    {
      "cell_type": "markdown",
      "metadata": {
        "id": "kkU1OGUKrkpk"
      },
      "source": [
        "**b) Segmentando por región, tipo y número de cuartos**\n",
        "\n",
        "1. Crea una tabla de contingencia donde el índice sea la variable 'region_name' y las columnas tengan un doble nivel con las variables 'type' y 'rooms'.\n",
        "1. Usa el método stack para convertir el nivel de columnas 'type' en un segundo nivel para el índice.\n",
        "1. Genera 4 gráficas donde compares las distribuciones de cantidad de cuartos para el tipo de propiedad 'h' ('house') en las regiones 'Eastern Metropolitan', 'Northern Metropolitan', 'Southern Metropolitan' y 'Western Metropolitan'.\n",
        "1. Tendrás que acceder a cada Serie usando una tupla para indicar los valores de los dos niveles del índice.\n",
        "1. Anota tus gráficas adecuadamente.\n",
        "1. Describe las similitudes y diferencias entre las 4 gráficas."
      ]
    },
    {
      "cell_type": "markdown",
      "metadata": {
        "id": "kafVwxFMiBbC"
      },
      "source": [
        "**Ejemplo 4**\n",
        "Gráficas multiejes\n",
        "\n",
        "- Aprender a generar varias gráficas al mismo tiempo para hacer comparaciones."
      ]
    },
    {
      "cell_type": "code",
      "metadata": {
        "colab": {
          "base_uri": "https://localhost:8080/",
          "height": 272
        },
        "id": "KCKVVCnfiTNu",
        "outputId": "ee334bb1-b2c1-4f13-a146-14cfc470c7da"
      },
      "source": [
        "# subplots cuántas gráficas por el eje y y cuántas por el eje x\n",
        "fig, axes = plt.subplots(2,2)"
      ],
      "execution_count": 66,
      "outputs": [
        {
          "output_type": "display_data",
          "data": {
            "image/png": "[encoded data removed]",
            "text/plain": [
              "<Figure size 432x288 with 4 Axes>"
            ]
          },
          "metadata": {
            "tags": [],
            "needs_background": "light"
          }
        }
      ]
    },
    {
      "cell_type": "code",
      "metadata": {
        "colab": {
          "base_uri": "https://localhost:8080/",
          "height": 666
        },
        "id": "xKG_VMwJjDx-",
        "outputId": "ab237579-0aa5-4b39-a1e1-836a1556a75d"
      },
      "source": [
        "fig, axes = plt.subplots(2,2, figsize=(10,10), sharey=True, sharex=True)\n",
        "#Gráficas con ubicación según nomenclatura de arrays (matrices empezando con 0)\n",
        "sns.barplot(x=crosstab.columns, y=crosstab.loc[1], ax=axes[0,0])\n",
        "sns.barplot(x=crosstab.columns, y=crosstab.loc[2], ax=axes[0,1])\n",
        "sns.barplot(x=crosstab.columns, y=crosstab.loc[3], ax=axes[1,0])\n",
        "sns.barplot(x=crosstab.columns, y=crosstab.loc[4], ax=axes[1,1])\n",
        "\n",
        "#Títulos\n",
        "fig.suptitle('Ratings restaurantes separados por precio', fontsize=16)\n",
        "\n",
        "axes[0, 0].set(xlabel='', ylabel='', title='Rango de Precio: 1')\n",
        "axes[0, 1].set(xlabel='', ylabel='', title='Rango de Precio: 2')\n",
        "axes[1, 0].set(xlabel='', ylabel='', title='Rango de Precio: 3')\n",
        "axes[1, 1].set(xlabel='', ylabel='', title='Rango de Precio: 4');"
      ],
      "execution_count": 67,
      "outputs": [
        {
          "output_type": "display_data",
          "data": {
            "image/png": "[encoded data removed]",
            "text/plain": [
              "<Figure size 720x720 with 4 Axes>"
            ]
          },
          "metadata": {
            "tags": [],
            "needs_background": "light"
          }
        }
      ]
    },
    {
      "cell_type": "markdown",
      "metadata": {
        "id": "3lGDRy_En8d6"
      },
      "source": [
        "**Reto 4**\n",
        "Graficando múltiples axis\n",
        "\n",
        "- Usar subplots para graficar múltiples gráficas de barras al mismo tiempo\n",
        "\n",
        "1. Lee el dataset 'melbourne_housing-clean.csv'.\n",
        "1. Crea una tabla de contingencia donde el índice esté dado por la variable 'region_name' y las columnas por la variable 'type'. Esto nos va a dar una tabla donde tenemos la frecuencia de cada tipo de propiedad segmentada por regiones.\n",
        "1. Genera una figura con 8 subplots para hacer gráficas de barras de cada región en nuestro dataset. Cada gráfica tendrá 3 barras, correspondiendo a los tipos 'h', 't' y 'u'.\n",
        "1. Asegúrate de que compartan eje x y y para que sea fácil compararlas. Además agrega anotaciones y títulos donde creas necesario.\n",
        "1. Describe tus hallazgos y comparte con tus compañeros qué podrían significar.\n"
      ]
    },
    {
      "cell_type": "code",
      "metadata": {
        "colab": {
          "base_uri": "https://localhost:8080/",
          "height": 345
        },
        "id": "4Qrq_rw-pG63",
        "outputId": "024f34ab-0f78-4524-8600-c9b8282a5653"
      },
      "source": [
        "#Tabla de contingencia\n",
        "crosst_melb = pd.crosstab(melbourne['region_name'], melbourne['type'], margins=True, margins_name='Total')\n",
        "crosst_melb"
      ],
      "execution_count": 72,
      "outputs": [
        {
          "output_type": "execute_result",
          "data": {
            "text/html": [
              "<div>\n",
              "<style scoped>\n",
              "    .dataframe tbody tr th:only-of-type {\n",
              "        vertical-align: middle;\n",
              "    }\n",
              "\n",
              "    .dataframe tbody tr th {\n",
              "        vertical-align: top;\n",
              "    }\n",
              "\n",
              "    .dataframe thead th {\n",
              "        text-align: right;\n",
              "    }\n",
              "</style>\n",
              "<table border=\"1\" class=\"dataframe\">\n",
              "  <thead>\n",
              "    <tr style=\"text-align: right;\">\n",
              "      <th>type</th>\n",
              "      <th>h</th>\n",
              "      <th>t</th>\n",
              "      <th>u</th>\n",
              "      <th>Total</th>\n",
              "    </tr>\n",
              "    <tr>\n",
              "      <th>region_name</th>\n",
              "      <th></th>\n",
              "      <th></th>\n",
              "      <th></th>\n",
              "      <th></th>\n",
              "    </tr>\n",
              "  </thead>\n",
              "  <tbody>\n",
              "    <tr>\n",
              "      <th>Eastern Metropolitan</th>\n",
              "      <td>863</td>\n",
              "      <td>102</td>\n",
              "      <td>159</td>\n",
              "      <td>1124</td>\n",
              "    </tr>\n",
              "    <tr>\n",
              "      <th>Eastern Victoria</th>\n",
              "      <td>33</td>\n",
              "      <td>0</td>\n",
              "      <td>3</td>\n",
              "      <td>36</td>\n",
              "    </tr>\n",
              "    <tr>\n",
              "      <th>Northern Metropolitan</th>\n",
              "      <td>2332</td>\n",
              "      <td>290</td>\n",
              "      <td>796</td>\n",
              "      <td>3418</td>\n",
              "    </tr>\n",
              "    <tr>\n",
              "      <th>Northern Victoria</th>\n",
              "      <td>21</td>\n",
              "      <td>1</td>\n",
              "      <td>0</td>\n",
              "      <td>22</td>\n",
              "    </tr>\n",
              "    <tr>\n",
              "      <th>South-Eastern Metropolitan</th>\n",
              "      <td>224</td>\n",
              "      <td>20</td>\n",
              "      <td>28</td>\n",
              "      <td>272</td>\n",
              "    </tr>\n",
              "    <tr>\n",
              "      <th>Southern Metropolitan</th>\n",
              "      <td>2360</td>\n",
              "      <td>386</td>\n",
              "      <td>1478</td>\n",
              "      <td>4224</td>\n",
              "    </tr>\n",
              "    <tr>\n",
              "      <th>Western Metropolitan</th>\n",
              "      <td>1908</td>\n",
              "      <td>226</td>\n",
              "      <td>394</td>\n",
              "      <td>2528</td>\n",
              "    </tr>\n",
              "    <tr>\n",
              "      <th>Western Victoria</th>\n",
              "      <td>21</td>\n",
              "      <td>0</td>\n",
              "      <td>1</td>\n",
              "      <td>22</td>\n",
              "    </tr>\n",
              "    <tr>\n",
              "      <th>Total</th>\n",
              "      <td>7762</td>\n",
              "      <td>1025</td>\n",
              "      <td>2859</td>\n",
              "      <td>11646</td>\n",
              "    </tr>\n",
              "  </tbody>\n",
              "</table>\n",
              "</div>"
            ],
            "text/plain": [
              "type                           h     t     u  Total\n",
              "region_name                                        \n",
              "Eastern Metropolitan         863   102   159   1124\n",
              "Eastern Victoria              33     0     3     36\n",
              "Northern Metropolitan       2332   290   796   3418\n",
              "Northern Victoria             21     1     0     22\n",
              "South-Eastern Metropolitan   224    20    28    272\n",
              "Southern Metropolitan       2360   386  1478   4224\n",
              "Western Metropolitan        1908   226   394   2528\n",
              "Western Victoria              21     0     1     22\n",
              "Total                       7762  1025  2859  11646"
            ]
          },
          "metadata": {
            "tags": []
          },
          "execution_count": 72
        }
      ]
    },
    {
      "cell_type": "code",
      "metadata": {
        "colab": {
          "base_uri": "https://localhost:8080/",
          "height": 622
        },
        "id": "VctAaaLFp0H-",
        "outputId": "21a25946-4787-465c-b199-c2110bb902b8"
      },
      "source": [
        "#Gráficas\n",
        "fig = plt.figure(figsize=(10,10))\n",
        "fig.subplots_adjust(hspace=0.4, wspace=0.4)\n",
        "for i in range(1, 9):\n",
        "    ax = fig.add_subplot(4, 2, i)\n",
        "    sns.barplot(x=crosst_melb.columns, y=crosst_melb.iloc[i-1])"
      ],
      "execution_count": 73,
      "outputs": [
        {
          "output_type": "display_data",
          "data": {
            "image/png": "[encoded data removed]",
            "text/plain": [
              "<Figure size 720x720 with 8 Axes>"
            ]
          },
          "metadata": {
            "tags": [],
            "needs_background": "light"
          }
        }
      ]
    },
    {
      "cell_type": "markdown",
      "metadata": {
        "id": "hxGXXwHerHS_"
      },
      "source": [
        "**Ejemplo 5**\n",
        "Boxplot y Violinplot"
      ]
    },
    {
      "cell_type": "code",
      "metadata": {
        "colab": {
          "base_uri": "https://localhost:8080/",
          "height": 355
        },
        "id": "3Pmyr2EerE9M",
        "outputId": "94a87b56-b2be-40f0-c755-48e56d96157b"
      },
      "source": [
        "#Con el df de uegos olímpicos\n",
        "sns.boxplot(df['weight'])"
      ],
      "execution_count": 98,
      "outputs": [
        {
          "output_type": "stream",
          "text": [
            "/usr/local/lib/python3.7/dist-packages/seaborn/_decorators.py:43: FutureWarning: Pass the following variable as a keyword arg: x. From version 0.12, the only valid positional argument will be `data`, and passing other arguments without an explicit keyword will result in an error or misinterpretation.\n",
            "  FutureWarning\n"
          ],
          "name": "stderr"
        },
        {
          "output_type": "execute_result",
          "data": {
            "text/plain": [
              "<matplotlib.axes._subplots.AxesSubplot at 0x7f19d32e1a50>"
            ]
          },
          "metadata": {
            "tags": []
          },
          "execution_count": 98
        },
        {
          "output_type": "display_data",
          "data": {
            "image/png": "[encoded data removed]",
            "text/plain": [
              "<Figure size 432x288 with 1 Axes>"
            ]
          },
          "metadata": {
            "tags": [],
            "needs_background": "light"
          }
        }
      ]
    },
    {
      "cell_type": "code",
      "metadata": {
        "colab": {
          "base_uri": "https://localhost:8080/",
          "height": 611
        },
        "id": "NoMKzzMXraoJ",
        "outputId": "da0afd38-a628-4f13-8b5b-940659572cda"
      },
      "source": [
        "plt.figure(figsize=(5,10))\n",
        "sns.boxplot(data=unidos, x='sex', y='weight');"
      ],
      "execution_count": 99,
      "outputs": [
        {
          "output_type": "display_data",
          "data": {
            "image/png": "[encoded data removed]",
            "text/plain": [
              "<Figure size 360x720 with 1 Axes>"
            ]
          },
          "metadata": {
            "tags": [],
            "needs_background": "light"
          }
        }
      ]
    },
    {
      "cell_type": "code",
      "metadata": {
        "colab": {
          "base_uri": "https://localhost:8080/",
          "height": 611
        },
        "id": "ZSpESA1hrs5V",
        "outputId": "43e8215b-b67f-475b-88d0-f2abe2515a7f"
      },
      "source": [
        "#Violinplot: entre boxplot+densidad\n",
        "plt.figure(figsize=(5,10))\n",
        "sns.violinplot(data=unidos, x='sex', y='weight');"
      ],
      "execution_count": 100,
      "outputs": [
        {
          "output_type": "display_data",
          "data": {
            "image/png": "[encoded data removed]",
            "text/plain": [
              "<Figure size 360x720 with 1 Axes>"
            ]
          },
          "metadata": {
            "tags": [],
            "needs_background": "light"
          }
        }
      ]
    }
  ]
}