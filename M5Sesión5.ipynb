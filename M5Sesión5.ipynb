{
  "nbformat": 4,
  "nbformat_minor": 0,
  "metadata": {
    "colab": {
      "name": "M5Sesión5.ipynb",
      "provenance": [],
      "collapsed_sections": [],
      "authorship_tag": "ABX9TyOaD6vRanwC5VMg8G0wCAx5",
      "include_colab_link": true
    },
    "kernelspec": {
      "name": "python3",
      "display_name": "Python 3"
    },
    "language_info": {
      "name": "python"
    }
  },
  "cells": [
    {
      "cell_type": "markdown",
      "metadata": {
        "id": "view-in-github",
        "colab_type": "text"
      },
      "source": [
        "<a href=\"https://colab.research.google.com/github/AteneaCB/Python/blob/main/M5Sesi%C3%B3n5.ipynb\" target=\"_parent\"><img src=\"https://colab.research.google.com/assets/colab-badge.svg\" alt=\"Open In Colab\"/></a>"
      ]
    },
    {
      "cell_type": "markdown",
      "metadata": {
        "id": "imHG9jig-ehI"
      },
      "source": [
        "###**Módulo 5**\n",
        "Machine Learning\n",
        "\n",
        "**Sesión 5**\n",
        "Árboles de decisión"
      ]
    },
    {
      "cell_type": "markdown",
      "metadata": {
        "id": "x1y8laiRBReo"
      },
      "source": [
        "**Ejemplo 1**\n",
        "Adivina quién"
      ]
    },
    {
      "cell_type": "code",
      "metadata": {
        "id": "0tqo5q5WBPFx"
      },
      "source": [
        "#Librerías\n",
        "import numpy as np\n",
        "import pandas as pd"
      ],
      "execution_count": 1,
      "outputs": []
    },
    {
      "cell_type": "code",
      "metadata": {
        "id": "jwSJ-pFf9PZl"
      },
      "source": [
        "y = [\"Antonio\", \"Elly\", \"Patricia\", \"María\", \"Juana\", \"José\", \"Luis\"]\n",
        "\n",
        "#Cabello largo | Usa lentes | Usa sombrero | Es mujer | Tiene bigote | Tiene ojos claros\n",
        "x = np.array([\n",
        "     [0,1,0,0,0,0], #Antonio: No tiene cabello largo, usa lentes, no usa sombrero, no es mujer, no tiene bigote, no tiene ojos claros\n",
        "     [1,1,1,1,0,0], #Elly: Tiene cabello largo, usa lentes, usa sombrero, es mujer, no tiene bigote, no tiene ojos claros\n",
        "     [0,0,1,1,0,1], #Patricia: ...\n",
        "     [1,1,0,1,0,0], #Maria: ...\n",
        "     [0,0,1,1,0,0], #Juana: ...\n",
        "     [1,0,0,0,1,1], #José: ...\n",
        "     [0,1,1,0,0,1]  #Luis: ...\n",
        "    ], dtype=np.int16)"
      ],
      "execution_count": null,
      "outputs": []
    },
    {
      "cell_type": "code",
      "metadata": {
        "colab": {
          "base_uri": "https://localhost:8080/"
        },
        "id": "ZTLkhWgdCWi6",
        "outputId": "219e58b9-98f2-4546-bbef-6eed476e908a"
      },
      "source": [
        "adivina_quien = [True]*len(y)\n",
        "print(adivina_quien)"
      ],
      "execution_count": null,
      "outputs": [
        {
          "output_type": "stream",
          "text": [
            "[True, True, True, True, True, True, True]\n"
          ],
          "name": "stdout"
        }
      ]
    },
    {
      "cell_type": "code",
      "metadata": {
        "colab": {
          "base_uri": "https://localhost:8080/"
        },
        "id": "TZwC2S4GC1mo",
        "outputId": "21fa6bbf-9d9f-4f51-f2c9-4198a5c308f2"
      },
      "source": [
        "#Revisa a los individuos\n",
        "print(\"Quien queda:\")\n",
        "for i in range(len(adivina_quien)):\n",
        "    if(adivina_quien[i] == True):\n",
        "      print(y[i])"
      ],
      "execution_count": null,
      "outputs": [
        {
          "output_type": "stream",
          "text": [
            "Quien queda:\n",
            "Antonio\n",
            "Elly\n",
            "Patricia\n",
            "María\n",
            "Juana\n",
            "José\n",
            "Luis\n"
          ],
          "name": "stdout"
        }
      ]
    },
    {
      "cell_type": "code",
      "metadata": {
        "colab": {
          "base_uri": "https://localhost:8080/"
        },
        "id": "-ZhPanL3DQGA",
        "outputId": "3a417c88-15a7-4cd7-8ef8-0aa388a9fedf"
      },
      "source": [
        "#Preguntas de características\n",
        "cabello = 1\n",
        "pregunta1 = np.where(x[:,0] == cabello, True, False)\n",
        "print(pregunta1)"
      ],
      "execution_count": null,
      "outputs": [
        {
          "output_type": "stream",
          "text": [
            "[False  True False  True False  True False]\n"
          ],
          "name": "stdout"
        }
      ]
    },
    {
      "cell_type": "code",
      "metadata": {
        "colab": {
          "base_uri": "https://localhost:8080/"
        },
        "id": "7mtmYV6mETfI",
        "outputId": "5cf849ab-c255-4d11-a018-9f2664e631c2"
      },
      "source": [
        "print(\"Quien queda:\")\n",
        "for i in range(len(pregunta1)):\n",
        "    if(pregunta1[i] == True):\n",
        "      print(y[i])"
      ],
      "execution_count": null,
      "outputs": [
        {
          "output_type": "stream",
          "text": [
            "Quien queda:\n",
            "Elly\n",
            "María\n",
            "José\n"
          ],
          "name": "stdout"
        }
      ]
    },
    {
      "cell_type": "code",
      "metadata": {
        "colab": {
          "base_uri": "https://localhost:8080/"
        },
        "id": "luvGMiWnE5ff",
        "outputId": "7ed56f94-8b48-49f4-a75a-22af75f7c28d"
      },
      "source": [
        "#Pregunta 2\n",
        "lentes = 1\n",
        "pregunta2 = np.where(x[:,1] == lentes, True, False)\n",
        "print(pregunta2)"
      ],
      "execution_count": null,
      "outputs": [
        {
          "output_type": "stream",
          "text": [
            "[ True  True False  True False False  True]\n"
          ],
          "name": "stdout"
        }
      ]
    },
    {
      "cell_type": "code",
      "metadata": {
        "colab": {
          "base_uri": "https://localhost:8080/"
        },
        "id": "L3ulBbevFpvb",
        "outputId": "a065f53c-ee76-434e-e0f1-7923c1dbd959"
      },
      "source": [
        "print(\"Quien queda:\")\n",
        "for i in range(len(pregunta2)):\n",
        "    if(pregunta2[i] == True):\n",
        "      print(y[i])"
      ],
      "execution_count": null,
      "outputs": [
        {
          "output_type": "stream",
          "text": [
            "Quien queda:\n",
            "Antonio\n",
            "Elly\n",
            "María\n",
            "Luis\n"
          ],
          "name": "stdout"
        }
      ]
    },
    {
      "cell_type": "code",
      "metadata": {
        "colab": {
          "base_uri": "https://localhost:8080/"
        },
        "id": "XtpyH-CyGYA5",
        "outputId": "92802d74-de85-49d2-bd5b-e0bc3c7491d7"
      },
      "source": [
        "#Opción sobreescribiendo\n",
        "adivina_quien1 = pregunta1\n",
        "print(adivina_quien1)"
      ],
      "execution_count": null,
      "outputs": [
        {
          "output_type": "stream",
          "text": [
            "[False  True False  True False  True False]\n"
          ],
          "name": "stdout"
        }
      ]
    },
    {
      "cell_type": "code",
      "metadata": {
        "colab": {
          "base_uri": "https://localhost:8080/"
        },
        "id": "2YqDW4lYHhP-",
        "outputId": "091a7879-f4b8-4a21-e72b-bf2bb9137ddd"
      },
      "source": [
        "print(\"Quien queda:\")\n",
        "for i in range(len(adivina_quien1)):\n",
        "    if(adivina_quien1[i] == True):\n",
        "      print(y[i])"
      ],
      "execution_count": null,
      "outputs": [
        {
          "output_type": "stream",
          "text": [
            "Quien queda:\n",
            "Elly\n",
            "María\n",
            "José\n"
          ],
          "name": "stdout"
        }
      ]
    },
    {
      "cell_type": "code",
      "metadata": {
        "colab": {
          "base_uri": "https://localhost:8080/"
        },
        "id": "BedpgdjcIUeL",
        "outputId": "9f0a6806-deb0-4337-adc8-34716ba7e3e4"
      },
      "source": [
        "#Pregunta 2\n",
        "lentes = 1\n",
        "pregunta2 = np.where(x[:,1] == lentes, True, False)\n",
        "                           \n",
        "for i in range(len(adivina_quien1)):\n",
        "  adivina_quien1[i] = pregunta2[i] and adivina_quien1[i]\n",
        "print(adivina_quien1)"
      ],
      "execution_count": null,
      "outputs": [
        {
          "output_type": "stream",
          "text": [
            "[False  True False  True False False False]\n"
          ],
          "name": "stdout"
        }
      ]
    },
    {
      "cell_type": "code",
      "metadata": {
        "colab": {
          "base_uri": "https://localhost:8080/"
        },
        "id": "zHCcdJURH-NZ",
        "outputId": "0ded9e83-670f-4d2d-e2f4-9b31d26773d6"
      },
      "source": [
        "print(\"Quien queda:\")\n",
        "for i in range(len(adivina_quien1)):\n",
        "    if(adivina_quien1[i] == True):\n",
        "      print(y[i])"
      ],
      "execution_count": null,
      "outputs": [
        {
          "output_type": "stream",
          "text": [
            "Quien queda:\n",
            "Elly\n",
            "María\n"
          ],
          "name": "stdout"
        }
      ]
    },
    {
      "cell_type": "markdown",
      "metadata": {
        "id": "cWgIiTXG__vd"
      },
      "source": [
        "**Reto 01**\n",
        "\n",
        "Árbol de decisión, encontrar al ladrón.\n",
        "\n",
        "Eres un detective y debes encontrar al culpable de hcer robado del museo del Louvre una importante obra artística valuada en varios millones de euros. El ladrón, que entró en la noche a las instalaciones del múseo, fue visto salir con el motín por un testigo que estaba pasando la calle al momento de la huida del delincuente. El testigo le dijo a la policía que el ladrón presentaba las siguientes señas particulares:\n",
        "\n",
        "- Tiene un tatuaje en la muñeca\n",
        "- No tenía perforaciones visibles\n",
        "- Su cabello era negro\n",
        "- Usaba botas\n",
        "- Medía más de 1.80, aproximadamente\n",
        "- Era de tez blanca\n",
        "\n",
        "En la base de datos de la estación de Policia se encontraron los expedientes de 7 sospechosos. Tu deber es hacer las preguntas correctas para hayar al culpable entre los probables malhechores.\n",
        "\n",
        "Los sospechosos, y sus respectivas características son:\n",
        "\n",
        "- Manuel: No tatuaje | Sin perforaciones | No cabello negro | No botas | Si mide más de 1.80 | Si tez blanca\n",
        "- Pedro: Si tatuaje | Sin perforaciones | Si cabello negro | Si botas | Si mide más de 1.80 | Si tez blanca\n",
        "- Akira: Si tatuaje | Sin perforaciones | Si cabello negro | No botas | Si mide más de 1.80 | Si tez blanca\n",
        "- Mauricio: Si tatuaje | Sin perforaciones | No cabello negro | No botas | Si mide más de 1.80 | Si tez blanca\n",
        "- Heriberto: Si tatuaje | Con perforaciones | No cabello negro | No botas | No mide más de 1.80 | No tez blanca\n",
        "- Yony: Si tatuaje | Sin perforaciones | No cabello negro | No botas | Si mide más de 1.80 | No tez blanca\n",
        "- Juan: Si tatuaje | Sin perforaciones | No cabello negro | No botas | No mide más de 1.80 | No tez blanca"
      ]
    },
    {
      "cell_type": "markdown",
      "metadata": {
        "id": "kuAJpACrAwAn"
      },
      "source": [
        "**Paso 01**\n",
        "Definir una variable 'sospechosos' para el output con forma de lista, con los nombres de los sospechosos."
      ]
    },
    {
      "cell_type": "code",
      "metadata": {
        "id": "8LCTBaH9Btzr"
      },
      "source": [
        "sospechosos = [\"Manuel\", \"Pedro\", \"Akira\", \"Mauricio\", \"Heriberto\", \"Yony\", \"Juan\"]"
      ],
      "execution_count": null,
      "outputs": []
    },
    {
      "cell_type": "markdown",
      "metadata": {
        "id": "Z6pj78O_BuCb"
      },
      "source": [
        "**Paso 02**\n",
        "Generar un array llamado 'binaria' de numpy con una binarización (1 para si cuenta con la característica, 0 para no cuenta con ella), donde cada fila corresponde a un sospechoso"
      ]
    },
    {
      "cell_type": "code",
      "metadata": {
        "id": "-lQjUkLkBz2E"
      },
      "source": [
        "# Tatuaje | Perforaciones | Cabello negro | Botas | Mide más de 1.80 | Tez blanca\n",
        "binaria = np.array([\n",
        "     [0,0,0,0,1,1], #Manuel\n",
        "     [1,0,1,1,1,1], #Pedro\n",
        "     [1,0,1,0,1,1], #Akira\n",
        "     [1,0,0,0,1,1], #Mauricio\n",
        "     [1,1,0,0,0,0], #Heriberto\n",
        "     [1,0,0,0,1,0], #Yony\n",
        "     [1,0,0,0,0,0]  #Juan\n",
        "    ], dtype=np.int16)"
      ],
      "execution_count": null,
      "outputs": []
    },
    {
      "cell_type": "markdown",
      "metadata": {
        "id": "dCnRGIPIB0FP"
      },
      "source": [
        "**Paso 03**\n",
        "Verifique que todos los acusados son sospechosos mediante una variable que se llame 'SospechososTodos' igual a operación básica que multiplique un boolean con cada observación de y (nombres)"
      ]
    },
    {
      "cell_type": "code",
      "metadata": {
        "colab": {
          "base_uri": "https://localhost:8080/"
        },
        "id": "ht5A0HgsB7Vw",
        "outputId": "4dfcfca4-ac73-44c8-e95f-f708586900d5"
      },
      "source": [
        "sospechosos_todos = [True]*len(sospechosos)\n",
        "print(sospechosos_todos)"
      ],
      "execution_count": null,
      "outputs": [
        {
          "output_type": "stream",
          "text": [
            "[True, True, True, True, True, True, True]\n"
          ],
          "name": "stdout"
        }
      ]
    },
    {
      "cell_type": "markdown",
      "metadata": {
        "id": "IDvY9f8rB7pp"
      },
      "source": [
        "**Paso 04**\n",
        "Con un loop básico, despliegue en pantalla que sospechosos hay"
      ]
    },
    {
      "cell_type": "code",
      "metadata": {
        "colab": {
          "base_uri": "https://localhost:8080/"
        },
        "id": "0z6J4hXjLmji",
        "outputId": "5773a5d4-35b2-4bc1-ddb3-49c0a8a1ba3b"
      },
      "source": [
        "#Revisa a los individuos\n",
        "print(\"Sospechosos:\")\n",
        "for i in range(len(sospechosos_todos)):\n",
        "    if(sospechosos_todos[i] == True):\n",
        "      print(sospechosos[i])"
      ],
      "execution_count": null,
      "outputs": [
        {
          "output_type": "stream",
          "text": [
            "Sospechosos:\n",
            "Manuel\n",
            "Pedro\n",
            "Akira\n",
            "Mauricio\n",
            "Heriberto\n",
            "Yony\n",
            "Juan\n"
          ],
          "name": "stdout"
        }
      ]
    },
    {
      "cell_type": "markdown",
      "metadata": {
        "id": "OrnJiO8tLm6E"
      },
      "source": [
        "**Paso 05**\n",
        "Empiece el interrogatorio con la primera pregunta: Tienen tatuajes en la muñeca?\n",
        "- Hagalo definiendo una variable llamada 'pregunta1' que contenga np.where.\n",
        "- Como pista: use la binarización deifnida en el paso 02, e inicie con una variable predefinida como TieneTatuajesEnLaMuñeca = 1"
      ]
    },
    {
      "cell_type": "code",
      "metadata": {
        "colab": {
          "base_uri": "https://localhost:8080/"
        },
        "id": "wqyVjztSL5ea",
        "outputId": "96f816c7-9186-4156-a2a4-f699ab70128c"
      },
      "source": [
        "#Pregunta 1, tatuajes\n",
        "tatuajes = 1\n",
        "pregunta_1 = np.where(binaria[:,0] == tatuajes, True, False)\n",
        "print(pregunta_1)"
      ],
      "execution_count": null,
      "outputs": [
        {
          "output_type": "stream",
          "text": [
            "[False  True  True  True  True  True  True]\n"
          ],
          "name": "stdout"
        }
      ]
    },
    {
      "cell_type": "markdown",
      "metadata": {
        "id": "VHWcoLpNL89p"
      },
      "source": [
        "**Paso 06**\n",
        "Repita el paso 04 para ver que malhechores quedan:"
      ]
    },
    {
      "cell_type": "code",
      "metadata": {
        "colab": {
          "base_uri": "https://localhost:8080/"
        },
        "id": "lSKvtHp6NShj",
        "outputId": "e057c69c-1432-4c06-fff3-19dc63c60910"
      },
      "source": [
        "print(\"Sospechosos:\")\n",
        "for i in range(len(pregunta_1)):\n",
        "    if(pregunta_1[i] == True):\n",
        "      print(sospechosos[i])"
      ],
      "execution_count": null,
      "outputs": [
        {
          "output_type": "stream",
          "text": [
            "Sospechosos:\n",
            "Pedro\n",
            "Akira\n",
            "Mauricio\n",
            "Heriberto\n",
            "Yony\n",
            "Juan\n"
          ],
          "name": "stdout"
        }
      ]
    },
    {
      "cell_type": "markdown",
      "metadata": {
        "id": "nvLM9if7OfVK"
      },
      "source": [
        "**Paso 07**\n",
        "Continue preguntando a los inculpados: Tienen perforaciones visibles?"
      ]
    },
    {
      "cell_type": "markdown",
      "metadata": {
        "id": "Rv3EgCt-OnYR"
      },
      "source": [
        "**Paso 08**\n",
        " Repita el paso 04 y vea que malhechores quedan"
      ]
    },
    {
      "cell_type": "markdown",
      "metadata": {
        "id": "2QlVrrkAOtgW"
      },
      "source": [
        "**Paso 09**\n",
        "Haga la siguiente pregunta: ¿Su cabello era negro? "
      ]
    },
    {
      "cell_type": "markdown",
      "metadata": {
        "id": "WbZ-zrHVO1O6"
      },
      "source": [
        "**Paso 10** \n",
        "Solo debe restarle 02 sospechosos. Haga la última pregunta y encuentre al último culpable: ¿Usaba botas? "
      ]
    },
    {
      "cell_type": "code",
      "metadata": {
        "colab": {
          "base_uri": "https://localhost:8080/"
        },
        "id": "0-GLjzB0NdLD",
        "outputId": "de82e799-c953-49c1-8b4f-8ec5f2cec6fd"
      },
      "source": [
        "#En una sóla operación\n",
        "#Misma array de sospechosos y matriz binaria de características\n",
        "\n",
        "#Array de descripción del sospechoso\n",
        "descrito = np.array([1,0,1,1,1,1])\n",
        "\n",
        "#Matriz resultado: multiplico para limpiar los resultados no probables\n",
        "resultado = binaria*descrito\n",
        "\n",
        "#Suma de resultados para cada elemento: \n",
        "sumatoria = [i.sum() for i in resultado]\n",
        "\n",
        "#Índice del culpable, notemos que tiene que tener 5 como salida, ya que es la suma de características del culpable\n",
        "culpable_index = sumatoria.index(descrito.sum())\n",
        "\n",
        "#Imprimir el nombre del culpable: \n",
        "print(sospechosos[culpable_index])"
      ],
      "execution_count": null,
      "outputs": [
        {
          "output_type": "stream",
          "text": [
            "Pedro\n"
          ],
          "name": "stdout"
        }
      ]
    },
    {
      "cell_type": "markdown",
      "metadata": {
        "id": "bBpXEvEXTAOH"
      },
      "source": [
        "**Ejemplo 2**\n",
        "\n",
        "Árboles de decisión"
      ]
    },
    {
      "cell_type": "code",
      "metadata": {
        "id": "Jtb8novbSyN9"
      },
      "source": [
        "from sklearn import tree\n",
        "from sklearn.tree import DecisionTreeClassifier\n",
        "from matplotlib import pyplot as plt"
      ],
      "execution_count": 17,
      "outputs": []
    },
    {
      "cell_type": "code",
      "metadata": {
        "id": "H5QEndqdVoPP"
      },
      "source": [
        "clf = DecisionTreeClassifier()\n",
        "clf = clf.fit(x,y)"
      ],
      "execution_count": null,
      "outputs": []
    },
    {
      "cell_type": "code",
      "metadata": {
        "colab": {
          "base_uri": "https://localhost:8080/",
          "height": 575
        },
        "id": "3N3_8g-xVvJM",
        "outputId": "e4ef5c6a-d8d3-4f76-f716-a9a806ad5a06"
      },
      "source": [
        "#Visualización\n",
        "plt.figure(figsize=(18,10))\n",
        "tree.plot_tree(clf, filled=True)\n",
        "plt.show()\n",
        "#Los nodos finales están coloreados"
      ],
      "execution_count": null,
      "outputs": [
        {
          "output_type": "display_data",
          "data": {
            "image/png": "[encoded data removed]",
            "text/plain": [
              "<Figure size 1296x720 with 1 Axes>"
            ]
          },
          "metadata": {
            "tags": [],
            "needs_background": "light"
          }
        }
      ]
    },
    {
      "cell_type": "markdown",
      "metadata": {
        "id": "l9EtUkOzcl8S"
      },
      "source": [
        "**Reto 2**\n",
        "Árboles de decisión\n",
        "\n",
        "A continuación vas a retomar lo desarrollado en el reto 01 pero a continuación, el challenge consta de... ¡generar la visualización del árbol de decisión para el caso del ladrón de Louvre! Lee y sigue cuidadosamente las instrucciones"
      ]
    },
    {
      "cell_type": "markdown",
      "metadata": {
        "id": "jIllRIlPdVTm"
      },
      "source": [
        "**Paso 1**\n",
        "Declara dos variables:\n",
        "\n",
        "- 'sospechosos', la cual definiste en el paso 01 del reto 01\n",
        "- 'binaria', la cual definiste en el paso 02 del reto 01"
      ]
    },
    {
      "cell_type": "code",
      "metadata": {
        "id": "IwNYmD4RV-Ma"
      },
      "source": [
        "sospechosos = [\"Manuel\", \"Pedro\", \"Akira\", \"Mauricio\", \"Heriberto\", \"Yony\", \"Juan\"]\n",
        "\n",
        "# Tatuaje | Perforaciones | Cabello negro | Botas | Mide más de 1.80 | Tez blanca\n",
        "binaria = np.array([\n",
        "     [0,0,0,0,1,1], #Manuel\n",
        "     [1,0,1,1,1,1], #Pedro\n",
        "     [1,0,1,0,1,1], #Akira\n",
        "     [1,0,0,0,1,1], #Mauricio\n",
        "     [1,1,0,0,0,0], #Heriberto\n",
        "     [1,0,0,0,1,0], #Yony\n",
        "     [1,0,0,0,0,0]  #Juan\n",
        "    ], dtype=np.int16)"
      ],
      "execution_count": 3,
      "outputs": []
    },
    {
      "cell_type": "markdown",
      "metadata": {
        "id": "N3kiSd6YdkSs"
      },
      "source": [
        "**Paso 2**\n",
        "Usa treeClassifier.DecisionTreeClassifier() dentro de una variable que tú definas, y despues haz un fit con las variables que acabas de definir llamadas 'binaria' y 'sospechosos'"
      ]
    },
    {
      "cell_type": "code",
      "metadata": {
        "id": "xzyvowLqQxGw"
      },
      "source": [
        "arbol = DecisionTreeClassifier()\n",
        "arbol_d = arbol.fit(binaria, sospechosos)"
      ],
      "execution_count": 7,
      "outputs": []
    },
    {
      "cell_type": "markdown",
      "metadata": {
        "id": "ssaj63Q2fLsg"
      },
      "source": [
        "**Paso 3**\n",
        "Usa matplotlib, en específico treeClassifier.plot_tree y usa como argumento la variable que definiste en el paso anterior (en la cual usaste treeClassifier.DecisionTreeClassifier() )"
      ]
    },
    {
      "cell_type": "code",
      "metadata": {
        "colab": {
          "base_uri": "https://localhost:8080/",
          "height": 684
        },
        "id": "b_W_gPuoRhhn",
        "outputId": "34486001-6711-4bab-e674-29ee7e7e6ed3"
      },
      "source": [
        "plt.figure(figsize=(14,8))\n",
        "tree.plot_tree(arbol_d, filled=True)"
      ],
      "execution_count": 8,
      "outputs": [
        {
          "output_type": "execute_result",
          "data": {
            "text/plain": [
              "[Text(434.00000000000006, 398.64, 'X[3] <= 0.5\\ngini = 0.857\\nsamples = 7\\nvalue = [1, 1, 1, 1, 1, 1, 1]'),\n",
              " Text(347.20000000000005, 326.15999999999997, 'X[0] <= 0.5\\ngini = 0.833\\nsamples = 6\\nvalue = [1, 1, 1, 1, 1, 0, 1]'),\n",
              " Text(260.40000000000003, 253.67999999999998, 'gini = 0.0\\nsamples = 1\\nvalue = [0, 0, 0, 1, 0, 0, 0]'),\n",
              " Text(434.00000000000006, 253.67999999999998, 'X[5] <= 0.5\\ngini = 0.8\\nsamples = 5\\nvalue = [1, 1, 1, 0, 1, 0, 1]'),\n",
              " Text(260.40000000000003, 181.2, 'X[4] <= 0.5\\ngini = 0.667\\nsamples = 3\\nvalue = [0, 1, 1, 0, 0, 0, 1]'),\n",
              " Text(173.60000000000002, 108.71999999999997, 'X[1] <= 0.5\\ngini = 0.5\\nsamples = 2\\nvalue = [0, 1, 1, 0, 0, 0, 0]'),\n",
              " Text(86.80000000000001, 36.23999999999995, 'gini = 0.0\\nsamples = 1\\nvalue = [0, 0, 1, 0, 0, 0, 0]'),\n",
              " Text(260.40000000000003, 36.23999999999995, 'gini = 0.0\\nsamples = 1\\nvalue = [0, 1, 0, 0, 0, 0, 0]'),\n",
              " Text(347.20000000000005, 108.71999999999997, 'gini = 0.0\\nsamples = 1\\nvalue = [0, 0, 0, 0, 0, 0, 1]'),\n",
              " Text(607.6000000000001, 181.2, 'X[2] <= 0.5\\ngini = 0.5\\nsamples = 2\\nvalue = [1, 0, 0, 0, 1, 0, 0]'),\n",
              " Text(520.8000000000001, 108.71999999999997, 'gini = 0.0\\nsamples = 1\\nvalue = [0, 0, 0, 0, 1, 0, 0]'),\n",
              " Text(694.4000000000001, 108.71999999999997, 'gini = 0.0\\nsamples = 1\\nvalue = [1, 0, 0, 0, 0, 0, 0]'),\n",
              " Text(520.8000000000001, 326.15999999999997, 'gini = 0.0\\nsamples = 1\\nvalue = [0, 0, 0, 0, 0, 1, 0]')]"
            ]
          },
          "metadata": {
            "tags": []
          },
          "execution_count": 8
        },
        {
          "output_type": "display_data",
          "data": {
            "image/png": "[encoded data removed]",
            "text/plain": [
              "<Figure size 1008x576 with 1 Axes>"
            ]
          },
          "metadata": {
            "tags": [],
            "needs_background": "light"
          }
        }
      ]
    },
    {
      "cell_type": "markdown",
      "metadata": {
        "id": "6bHYbz5MgWSJ"
      },
      "source": [
        "**Paso 4**\n",
        "Discutan en equipo la forma de interpretar este árbol de decisión dada la ofrecida por el profesor en el ejemplo 02:\n",
        "\n",
        "- ¿Que pasa cuando samples es igual a 1 y se colorean esas hojas?\n",
        "- ¿Cúal es el criterio de decisión?\n",
        "- ¿Cómo puedo ir subiendo o bajando en el árbol?"
      ]
    },
    {
      "cell_type": "code",
      "metadata": {
        "colab": {
          "base_uri": "https://localhost:8080/"
        },
        "id": "IuTKwUcYScjs",
        "outputId": "44956149-7639-42f4-e032-361432c349c9"
      },
      "source": [
        "binaria[1] <=0.5"
      ],
      "execution_count": 9,
      "outputs": [
        {
          "output_type": "execute_result",
          "data": {
            "text/plain": [
              "array([False,  True, False, False, False, False])"
            ]
          },
          "metadata": {
            "tags": []
          },
          "execution_count": 9
        }
      ]
    },
    {
      "cell_type": "markdown",
      "metadata": {
        "id": "6Fj7QEhxSib3"
      },
      "source": [
        "**Ejemplo 3**"
      ]
    },
    {
      "cell_type": "code",
      "metadata": {
        "id": "JAreS1k0TZXk"
      },
      "source": [
        "#Librerías específicas\n",
        "from sklearn import tree\n",
        "from sklearn.ensemble import RandomForestClassifier as forest"
      ],
      "execution_count": 18,
      "outputs": []
    },
    {
      "cell_type": "code",
      "metadata": {
        "id": "l4Mk6MqvUZ3P"
      },
      "source": [
        "y = [\"Antonio\", \"Elly\", \"Patricia\", \"María\", \"Juana\", \"José\", \"Luis\"]\n",
        "\n",
        "#Características: \n",
        "#Cabello largo | Usa lentes | Usa sombrero | Es mujer | Tiene bigote | Tiene ojos claros\n",
        "x = np.array([\n",
        "     [0,1,0,0,0,0], #Antonio: No tiene cabello largo, usa lentes, no usa sombrero, no es mujer, no tiene bigote, no tiene ojos claros\n",
        "     [1,1,1,1,0,0], #Elly: Tiene cabello largo, usa lentes, usa sombrero, es mujer, no tiene bigote, no tiene ojos claros\n",
        "     [0,0,1,1,0,1], #Patricia: ...\n",
        "     [1,1,0,1,0,0], #Maria: ...\n",
        "     [0,0,1,1,0,0], #Juana: ...\n",
        "     [1,0,0,0,1,1], #José: ...\n",
        "     [0,1,1,0,0,1]  #Luis: ...\n",
        "    ], dtype=np.int16)"
      ],
      "execution_count": 20,
      "outputs": []
    },
    {
      "cell_type": "code",
      "metadata": {
        "id": "uCWjrRerSgg0"
      },
      "source": [
        "decision = tree.DecisionTreeClassifier(random_state = 50)\n",
        "decision = decision.fit(x,y)"
      ],
      "execution_count": 21,
      "outputs": []
    },
    {
      "cell_type": "code",
      "metadata": {
        "colab": {
          "base_uri": "https://localhost:8080/"
        },
        "id": "awFU8tz9TRJ7",
        "outputId": "147b4a2e-44de-48c1-970e-9133328e758f"
      },
      "source": [
        "char = np.array([[1,1,1,0,1,1]], dtype = np.int16) # Jose\n",
        "print(\"El personaje que sabemos puedde tener lentes y sombrero seria\")\n",
        "print(decision.predict(char))"
      ],
      "execution_count": 22,
      "outputs": [
        {
          "output_type": "stream",
          "text": [
            "El personaje que sabemos puedde tener lentes y sombrero seria\n",
            "['Luis']\n"
          ],
          "name": "stdout"
        }
      ]
    },
    {
      "cell_type": "code",
      "metadata": {
        "colab": {
          "base_uri": "https://localhost:8080/"
        },
        "id": "oyqcPVGpUg-y",
        "outputId": "2599b4d3-9e24-4ea3-8f3f-83bef48be829"
      },
      "source": [
        "char = np.array([[1,1,0,0,1,1]], dtype = np.int16) # Jose\n",
        "print(\"El personaje que sabemos puedde tener lentes y sombrero seria\")\n",
        "print(decision.predict(char))"
      ],
      "execution_count": 23,
      "outputs": [
        {
          "output_type": "stream",
          "text": [
            "El personaje que sabemos puedde tener lentes y sombrero seria\n",
            "['José']\n"
          ],
          "name": "stdout"
        }
      ]
    },
    {
      "cell_type": "code",
      "metadata": {
        "colab": {
          "base_uri": "https://localhost:8080/"
        },
        "id": "9sYuIWyCUjjx",
        "outputId": "a64a1add-2fe5-42a9-89a5-0e3d2834b12f"
      },
      "source": [
        "char = np.array([[1,0,1,0,1,1]], dtype = np.int16) # Jose\n",
        "print(\"El personaje que sabemos puedde tener lentes y sombrero seria\")\n",
        "print(decision.predict(char))"
      ],
      "execution_count": 24,
      "outputs": [
        {
          "output_type": "stream",
          "text": [
            "El personaje que sabemos puedde tener lentes y sombrero seria\n",
            "['Luis']\n"
          ],
          "name": "stdout"
        }
      ]
    },
    {
      "cell_type": "code",
      "metadata": {
        "colab": {
          "base_uri": "https://localhost:8080/"
        },
        "id": "6HlNq5JbUl2Z",
        "outputId": "39d548f1-db6a-40d6-dba8-b5b99062e921"
      },
      "source": [
        "arboles = forest(n_estimators= 2000, random_state = 50)\n",
        "arboles.fit(x,y)"
      ],
      "execution_count": 25,
      "outputs": [
        {
          "output_type": "execute_result",
          "data": {
            "text/plain": [
              "RandomForestClassifier(bootstrap=True, ccp_alpha=0.0, class_weight=None,\n",
              "                       criterion='gini', max_depth=None, max_features='auto',\n",
              "                       max_leaf_nodes=None, max_samples=None,\n",
              "                       min_impurity_decrease=0.0, min_impurity_split=None,\n",
              "                       min_samples_leaf=1, min_samples_split=2,\n",
              "                       min_weight_fraction_leaf=0.0, n_estimators=2000,\n",
              "                       n_jobs=None, oob_score=False, random_state=50, verbose=0,\n",
              "                       warm_start=False)"
            ]
          },
          "metadata": {
            "tags": []
          },
          "execution_count": 25
        }
      ]
    },
    {
      "cell_type": "code",
      "metadata": {
        "colab": {
          "base_uri": "https://localhost:8080/"
        },
        "id": "njHgf8lXUovR",
        "outputId": "2978817e-42ec-4a62-fdc4-907f7580d866"
      },
      "source": [
        "print(\"El adivinado que arroja el bosque sería\")\n",
        "print(arboles.predict(np.array([[1,1,1,0,1,1]], dtype = np.int16)))"
      ],
      "execution_count": 26,
      "outputs": [
        {
          "output_type": "stream",
          "text": [
            "El adivinado que arroja el bosque sería\n",
            "['Luis']\n"
          ],
          "name": "stdout"
        }
      ]
    },
    {
      "cell_type": "code",
      "metadata": {
        "colab": {
          "base_uri": "https://localhost:8080/"
        },
        "id": "XKe__SZbUrx-",
        "outputId": "ddc5c611-853d-4f95-c751-af4209f790c9"
      },
      "source": [
        "print(\"El adivinado que arroja el bosque sería\")\n",
        "print(arboles.predict(np.array([[1,1,0,0,1,1]], dtype = np.int16)))"
      ],
      "execution_count": 27,
      "outputs": [
        {
          "output_type": "stream",
          "text": [
            "El adivinado que arroja el bosque sería\n",
            "['José']\n"
          ],
          "name": "stdout"
        }
      ]
    },
    {
      "cell_type": "code",
      "metadata": {
        "colab": {
          "base_uri": "https://localhost:8080/"
        },
        "id": "0cFaswf3UtjT",
        "outputId": "a9e7752e-447d-4d80-a12a-4852cf28c03e"
      },
      "source": [
        "print(\"El adivinado que arroja el bosque sería\")\n",
        "print(arboles.predict(np.array([[1,0,1,0,1,1]], dtype = np.int16)))"
      ],
      "execution_count": 28,
      "outputs": [
        {
          "output_type": "stream",
          "text": [
            "El adivinado que arroja el bosque sería\n",
            "['José']\n"
          ],
          "name": "stdout"
        }
      ]
    }
  ]
}