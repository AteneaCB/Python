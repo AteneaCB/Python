{
  "nbformat": 4,
  "nbformat_minor": 0,
  "metadata": {
    "colab": {
      "name": "Sesión3.ipynb",
      "provenance": [],
      "authorship_tag": "ABX9TyOr87wSEqEPS34xQD1VsXgp",
      "include_colab_link": true
    },
    "kernelspec": {
      "name": "python3",
      "display_name": "Python 3"
    }
  },
  "cells": [
    {
      "cell_type": "markdown",
      "metadata": {
        "id": "view-in-github",
        "colab_type": "text"
      },
      "source": [
        "<a href=\"https://colab.research.google.com/github/AteneaCB/Python/blob/main/Sesi%C3%B3n3.ipynb\" target=\"_parent\"><img src=\"https://colab.research.google.com/assets/colab-badge.svg\" alt=\"Open In Colab\"/></a>"
      ]
    },
    {
      "cell_type": "markdown",
      "metadata": {
        "id": "z57QhNRUliMJ"
      },
      "source": [
        "Ejemplo 1\r\n",
        "Map\r\n",
        "\r\n",
        "Tomamos una lista y le aplicacmos una función a cada uno de los elementos."
      ]
    },
    {
      "cell_type": "code",
      "metadata": {
        "colab": {
          "base_uri": "https://localhost:8080/"
        },
        "id": "wjhmaOqHk60b",
        "outputId": "6fcf2da1-8901-4fa4-a49b-2e68972fe9e5"
      },
      "source": [
        "\r\n",
        "numeros = [1, 2, 3, 4, 5, 6, 7, 8, 9, 10]\r\n",
        "\r\n",
        "## While o un for, no\r\n",
        "numeros_dobles = []\r\n",
        "for numero in numeros:\r\n",
        "    numeros_dobles.append(numero*2)\r\n",
        "\r\n",
        "print(numeros_dobles)\r\n",
        "\r\n",
        "## Map\r\n",
        "def multiplicar_por_dos(numero):\r\n",
        "    return numero * 2\r\n",
        "\r\n",
        "lista = list(map(multiplicar_por_dos, numeros))\r\n",
        "\r\n",
        "print(lista)\r\n"
      ],
      "execution_count": 5,
      "outputs": [
        {
          "output_type": "stream",
          "text": [
            "[2, 4, 6, 8, 10, 12, 14, 16, 18, 20]\n",
            "[2, 4, 6, 8, 10, 12, 14, 16, 18, 20]\n"
          ],
          "name": "stdout"
        }
      ]
    },
    {
      "cell_type": "code",
      "metadata": {
        "colab": {
          "base_uri": "https://localhost:8080/"
        },
        "id": "0-GPqdmznqjn",
        "outputId": "db0bd23d-e0eb-4ab6-f948-4e6e9ac60001"
      },
      "source": [
        "numeros = [1, 2, 3, 4, 5, 6, 7, 8, 9, 10]\r\n",
        "def multiplicar_por_10(numero):\r\n",
        "    \r\n",
        "    return numero * 10\r\n",
        "\r\n",
        "list(map(multiplicar_por_10, numeros))"
      ],
      "execution_count": 3,
      "outputs": [
        {
          "output_type": "execute_result",
          "data": {
            "text/plain": [
              "[10, 20, 30, 40, 50, 60, 70, 80, 90, 100]"
            ]
          },
          "metadata": {
            "tags": []
          },
          "execution_count": 3
        }
      ]
    },
    {
      "cell_type": "code",
      "metadata": {
        "id": "ok-vOHVRouty"
      },
      "source": [
        "numeros_por_10 = list(map(multiplicar_por_10, numeros))\r\n",
        "\r\n",
        "numeros_por_10\r\n",
        "\r\n"
      ],
      "execution_count": null,
      "outputs": []
    },
    {
      "cell_type": "markdown",
      "metadata": {
        "id": "ed1fI8COo50P"
      },
      "source": [
        "**Reto 1**\r\n",
        "Map\r\n",
        "\r\n",
        "Practicar el uso de `map` para transformar los datos en una `lista`"
      ]
    },
    {
      "cell_type": "markdown",
      "metadata": {
        "id": "-bgsbmN_rKRy"
      },
      "source": [
        "**a) Proporción a porcentajes**"
      ]
    },
    {
      "cell_type": "code",
      "metadata": {
        "id": "wpb2edIQpBkL"
      },
      "source": [
        "proporciones = [0.45, 0.2, 0.78, 0.4, 0.77, 0.9, 0.4, 0.5, 0.67, 0.24, 0.73]\r\n",
        "\r\n",
        "def proporcion_a_porcentajes(proporcion):\r\n",
        "    return proporcion * 100"
      ],
      "execution_count": 9,
      "outputs": []
    },
    {
      "cell_type": "code",
      "metadata": {
        "colab": {
          "base_uri": "https://localhost:8080/"
        },
        "id": "wTeNaT8-qZJl",
        "outputId": "5111d838-6c2e-4235-b5c2-0c5c3b0a6a33"
      },
      "source": [
        "#Con función Map\r\n",
        "porcentajes = list(map(proporcion_a_porcentajes, proporciones))\r\n",
        "print(porcentajes)"
      ],
      "execution_count": 10,
      "outputs": [
        {
          "output_type": "stream",
          "text": [
            "[45.0, 20.0, 78.0, 40.0, 77.0, 90.0, 40.0, 50.0, 67.0, 24.0, 73.0]\n"
          ],
          "name": "stdout"
        }
      ]
    },
    {
      "cell_type": "code",
      "metadata": {
        "id": "GDe6zPDNrFzf"
      },
      "source": [
        "# Pega aquí la función de verificación\r\n",
        "def imprimir_proporciones_en_equivalencia_a_porcentajes(proporciones, porcentajes):\r\n",
        "    \r\n",
        "    print(f'==Proporciones y su equivalencia en porcentajes de 1==\\n')\r\n",
        "    \r\n",
        "    for i in range(len(proporciones)):\r\n",
        "        print(f'- {proporciones[i]} es el {int(porcentajes[i])}% de 1.')\r\n",
        "        \r\n",
        "\r\n",
        "def imprimir_analisis_estadistico(datos):\r\n",
        "    \r\n",
        "    def mediana(datos):\r\n",
        "        datos_sorted = sorted(datos)\r\n",
        "        len_datos = len(datos)\r\n",
        "        \r\n",
        "        if len_datos % 2 == 0:\r\n",
        "            mediana = (datos_sorted[int(len_datos / 2) - 1] + datos_sorted[int(len_datos / 2)]) / 2\r\n",
        "        else:\r\n",
        "            import math\r\n",
        "            mediana = datos_sorted[int(math.floor(len_datos / 2))]\r\n",
        "            \r\n",
        "        return mediana\r\n",
        "    \r\n",
        "    print(f'==Análisis estadístico de los datos recibidos==\\n')\r\n",
        "    print(f'Valor mínimo: {min(datos)}')\r\n",
        "    print(f'Valor máximo: {max(datos)}')\r\n",
        "    print(f'Rango de valores: {max(datos) - min(datos)}')\r\n",
        "    print(f'Promedio: {sum(datos) / len(datos)}')\r\n",
        "    print(f'Mediana: {mediana(datos)}')\r\n"
      ],
      "execution_count": 13,
      "outputs": []
    },
    {
      "cell_type": "markdown",
      "metadata": {
        "id": "1au-igYLrQZn"
      },
      "source": [
        "**b) Strings a números**"
      ]
    },
    {
      "cell_type": "code",
      "metadata": {
        "colab": {
          "base_uri": "https://localhost:8080/",
          "height": 195
        },
        "id": "lEcNpvkxrVSM",
        "outputId": "3a52f319-4e22-4339-d817-9b9e55792db5"
      },
      "source": [
        "numeros_como_strings = [\"3\", \"7\", \"45\", \"89\", \"12\", \"9\", \"5\", \"89\", \"78\", \"87\", \"44\", \"45\", \"26\", \"84\", \"98\", \"46\", \"99\", \"84\"]\r\n",
        "\r\n",
        "def string_a_int(string):\r\n",
        "    return int(string)\r\n",
        "\r\n",
        "numeros_como_ints = list(string_a_int, numeros_como_strings)\r\n",
        "\r\n",
        "## Checar ERROR"
      ],
      "execution_count": 22,
      "outputs": [
        {
          "output_type": "error",
          "ename": "TypeError",
          "evalue": "ignored",
          "traceback": [
            "\u001b[0;31m---------------------------------------------------------------------------\u001b[0m",
            "\u001b[0;31mTypeError\u001b[0m                                 Traceback (most recent call last)",
            "\u001b[0;32m<ipython-input-22-a7c807151ba3>\u001b[0m in \u001b[0;36m<module>\u001b[0;34m()\u001b[0m\n\u001b[1;32m      4\u001b[0m     \u001b[0;32mreturn\u001b[0m \u001b[0mint\u001b[0m\u001b[0;34m(\u001b[0m\u001b[0mstring\u001b[0m\u001b[0;34m)\u001b[0m\u001b[0;34m\u001b[0m\u001b[0;34m\u001b[0m\u001b[0m\n\u001b[1;32m      5\u001b[0m \u001b[0;34m\u001b[0m\u001b[0m\n\u001b[0;32m----> 6\u001b[0;31m \u001b[0mnumeros_como_ints\u001b[0m \u001b[0;34m=\u001b[0m \u001b[0mlist\u001b[0m\u001b[0;34m(\u001b[0m\u001b[0mstring_a_int\u001b[0m\u001b[0;34m,\u001b[0m \u001b[0mnumeros_como_strings\u001b[0m\u001b[0;34m)\u001b[0m\u001b[0;34m\u001b[0m\u001b[0;34m\u001b[0m\u001b[0m\n\u001b[0m",
            "\u001b[0;31mTypeError\u001b[0m: list() takes at most 1 argument (2 given)"
          ]
        }
      ]
    },
    {
      "cell_type": "code",
      "metadata": {
        "id": "kuBwhHRGs8ZQ"
      },
      "source": [
        "## Helpers\r\n",
        "\r\n",
        "def imprimir_proporciones_en_equivalencia_a_porcentajes(proporciones, porcentajes):\r\n",
        "    \r\n",
        "    print(f'==Proporciones y su equivalencia en porcentajes de 1==\\n')\r\n",
        "    \r\n",
        "    for i in range(len(proporciones)):\r\n",
        "        print(f'- {proporciones[i]} es el {int(porcentajes[i])}% de 1.')\r\n",
        "        \r\n",
        "\r\n",
        "def imprimir_analisis_estadistico(datos):\r\n",
        "    \r\n",
        "    def mediana(datos):\r\n",
        "        datos_sorted = sorted(datos)\r\n",
        "        len_datos = len(datos)\r\n",
        "        \r\n",
        "        if len_datos % 2 == 0:\r\n",
        "            mediana = (datos_sorted[int(len_datos / 2) - 1] + datos_sorted[int(len_datos / 2)]) / 2\r\n",
        "        else:\r\n",
        "            import math\r\n",
        "            mediana = datos_sorted[int(math.floor(len_datos / 2))]\r\n",
        "            \r\n",
        "        return mediana\r\n",
        "    \r\n",
        "    print(f'==Análisis estadístico de los datos recibidos==\\n')\r\n",
        "    print(f'Valor mínimo: {min(datos)}')\r\n",
        "    print(f'Valor máximo: {max(datos)}')\r\n",
        "    print(f'Rango de valores: {max(datos) - min(datos)}')\r\n",
        "    print(f'Promedio: {sum(datos) / len(datos)}')\r\n",
        "    print(f'Mediana: {mediana(datos)}')\r\n",
        "\r\n",
        "    imprimir_analisis_estadistico(numeros_como_ints)"
      ],
      "execution_count": null,
      "outputs": []
    },
    {
      "cell_type": "markdown",
      "metadata": {
        "id": "ebK9DBAYujMq"
      },
      "source": [
        "**Ejemplo 2**\r\n",
        "Filter"
      ]
    },
    {
      "cell_type": "code",
      "metadata": {
        "colab": {
          "base_uri": "https://localhost:8080/"
        },
        "id": "3XLhoijuursQ",
        "outputId": "4ab651b5-bbd9-44e9-d4c9-c6e2e716d990"
      },
      "source": [
        "# Uso de filter con números\r\n",
        "edades = [50, 20, 5, 66, 49, 4, 17, 5, 1, 49, 20]\r\n",
        "\r\n",
        "def mayor_de_edad(edad):\r\n",
        "    if edad >= 18:\r\n",
        "        return True\r\n",
        "    else:\r\n",
        "        return False\r\n",
        "\r\n",
        "list(filter(mayor_de_edad, edades))"
      ],
      "execution_count": 15,
      "outputs": [
        {
          "output_type": "execute_result",
          "data": {
            "text/plain": [
              "[50, 20, 66, 49, 49, 20]"
            ]
          },
          "metadata": {
            "tags": []
          },
          "execution_count": 15
        }
      ]
    },
    {
      "cell_type": "code",
      "metadata": {
        "colab": {
          "base_uri": "https://localhost:8080/"
        },
        "id": "qC_nZaHrvKCX",
        "outputId": "327c8928-9418-4b29-c26d-d66612df3548"
      },
      "source": [
        "# Uso de filter con texto\r\n",
        "palabras = [\"sol\", \"tacos\", \"cerveza\", \"guacamole\", \"sal\"]\r\n",
        "\r\n",
        "def palabra_mayor_a4_caracteres(palabra):\r\n",
        "    if len(palabra) > 4:\r\n",
        "        return True\r\n",
        "    else:\r\n",
        "        return False\r\n",
        "\r\n",
        "list(filter(palabra_mayor_a4_caracteres, palabras))"
      ],
      "execution_count": 16,
      "outputs": [
        {
          "output_type": "execute_result",
          "data": {
            "text/plain": [
              "['tacos', 'cerveza', 'guacamole']"
            ]
          },
          "metadata": {
            "tags": []
          },
          "execution_count": 16
        }
      ]
    },
    {
      "cell_type": "markdown",
      "metadata": {
        "id": "iZr9xeM1wUBf"
      },
      "source": [
        "**Reto 2**\r\n",
        "Filter\r\n",
        "\r\n",
        "Practicar el uso de `filter` para filtrar los datos en una `lista`\r\n"
      ]
    },
    {
      "cell_type": "markdown",
      "metadata": {
        "id": "Stpqb2Khwl19"
      },
      "source": [
        "**a) Limpiar datos nulos**\r\n",
        "\r\n",
        "Escribe una función llamada valor_no_es_none que reciba un valor, cheque si el valor es None, regrese False si el valor es None o regrese True si el valor no es None. Después úsala para filtrar tus datos:"
      ]
    },
    {
      "cell_type": "code",
      "metadata": {
        "colab": {
          "base_uri": "https://localhost:8080/"
        },
        "id": "eXcETlgcvrcQ",
        "outputId": "6dda1947-bfc8-4f0f-9a05-8e02d0ffb890"
      },
      "source": [
        "edades = [12, 16, 19, None, 21, 25, 24, None, None, 16, 17, 25, 23, 28, None, 23, 35, 59, 67, None, 34, 21, 23, 15, 14, None, 18, 24, 23, 17]\r\n",
        "\r\n",
        "def valor_no_es_none(edades):\r\n",
        "    if edades is None:\r\n",
        "      return False\r\n",
        "    else:\r\n",
        "      return True\r\n",
        "\r\n",
        "edades_filtradas = list(filter(valor_no_es_none, edades))\r\n",
        "print(edades_filtradas)"
      ],
      "execution_count": 31,
      "outputs": [
        {
          "output_type": "stream",
          "text": [
            "[12, 16, 19, 21, 25, 24, 16, 17, 25, 23, 28, 23, 35, 59, 67, 34, 21, 23, 15, 14, 18, 24, 23, 17]\n"
          ],
          "name": "stdout"
        }
      ]
    },
    {
      "cell_type": "code",
      "metadata": {
        "id": "8vwZX8wY1XgO"
      },
      "source": [
        "#También se puede hacer así\r\n",
        "def limpiar_valores(edad):\r\n",
        "  return edad != None\r\n",
        "edades filtradas = list(limpiar_valores, edades))"
      ],
      "execution_count": null,
      "outputs": []
    },
    {
      "cell_type": "code",
      "metadata": {
        "colab": {
          "base_uri": "https://localhost:8080/",
          "height": 318
        },
        "id": "xEV6zK-Ezdne",
        "outputId": "e8dbe610-4f80-40d2-9de4-fa7958d7f8e7"
      },
      "source": [
        "# Pega aquí la función de verificación\r\n",
        "def crear_histograma_con(datos):\r\n",
        "    import seaborn as sns\r\n",
        "    import numpy as np\r\n",
        "    \r\n",
        "    sns.distplot(datos, kde=False, bins=len(np.unique(datos)))\r\n",
        "\r\n",
        "crear_histograma_con(edades_filtradas)"
      ],
      "execution_count": 32,
      "outputs": [
        {
          "output_type": "stream",
          "text": [
            "/usr/local/lib/python3.6/dist-packages/seaborn/distributions.py:2557: FutureWarning: `distplot` is a deprecated function and will be removed in a future version. Please adapt your code to use either `displot` (a figure-level function with similar flexibility) or `histplot` (an axes-level function for histograms).\n",
            "  warnings.warn(msg, FutureWarning)\n"
          ],
          "name": "stderr"
        },
        {
          "output_type": "display_data",
          "data": {
            "image/png": "[encoded data removed]",
            "text/plain": [
              "<Figure size 432x288 with 1 Axes>"
            ]
          },
          "metadata": {
            "tags": [],
            "needs_background": "light"
          }
        }
      ]
    },
    {
      "cell_type": "markdown",
      "metadata": {
        "id": "uni9CHTd0ADu"
      },
      "source": [
        "**b) Filtros datos atípicos**\r\n",
        "\r\n",
        "Aquí tenemos una lista que contiene datos acerca de los sueldos (cada número representa \"miles de pesos\") de los empleados de EyePoker Inc."
      ]
    },
    {
      "cell_type": "code",
      "metadata": {
        "colab": {
          "base_uri": "https://localhost:8080/"
        },
        "id": "2RQ3a4Nxz-CX",
        "outputId": "c503a52a-3ecc-4d2e-aaf2-1280b66a328d"
      },
      "source": [
        "sueldos = [26, 32, 26, 30, 30, 32, 28, 30, 28, 110, 34, 30, 28, 26, 28, 30, 28, 85, 25, 30, 34, 34, 30, 30, 120, 28, 28, 120, 125]\r\n",
        "\r\n",
        "print(f'El sueldo \"típico\" en EyePoker Inc. es de {sum(sueldos) / len(sueldos)}')\r\n",
        "\r\n",
        "# Sin hacer filtrado\r\n"
      ],
      "execution_count": 33,
      "outputs": [
        {
          "output_type": "stream",
          "text": [
            "El sueldo \"típico\" en EyePoker Inc. es de 43.62068965517241\n"
          ],
          "name": "stdout"
        }
      ]
    },
    {
      "cell_type": "code",
      "metadata": {
        "colab": {
          "base_uri": "https://localhost:8080/"
        },
        "id": "_dCgbbsa00M0",
        "outputId": "612fbf30-7b12-4391-e071-57dbb169e459"
      },
      "source": [
        "# Con filtrado\r\n",
        "sueldos = [26, 32, 26, 30, 30, 32, 28, 30, 28, 110, 34, 30, 28, 26, 28, 30, 28, 85, 25, 30, 34, 34, 30, 30, 120, 28, 28, 120, 125]\r\n",
        "def filtrar_datos(sueldo):\r\n",
        "    return sueldo <= 40\r\n",
        "\r\n",
        "sueldos_filtrados = list(filter(filtrar_datos, sueldos))\r\n",
        "\r\n",
        "print(f'El sueldo \"típico\" en EyePoker Inc. es de {sum(sueldos_filtrados) / len(sueldos_filtrados)}')"
      ],
      "execution_count": 34,
      "outputs": [
        {
          "output_type": "stream",
          "text": [
            "El sueldo \"típico\" en EyePoker Inc. es de 29.375\n"
          ],
          "name": "stdout"
        }
      ]
    },
    {
      "cell_type": "markdown",
      "metadata": {
        "id": "wO2imOhp138f"
      },
      "source": [
        "**Ejemplo 3**\r\n",
        "And\r\n",
        "\r\n",
        "- Aprender a extender las capacidades de los `operadores de comparación` usando `and`.\r\n",
        "- Usar `and` para llamar `filter` con múltiples filtros."
      ]
    },
    {
      "cell_type": "code",
      "metadata": {
        "colab": {
          "base_uri": "https://localhost:8080/"
        },
        "id": "y6g1_1Mo07Xo",
        "outputId": "370a5e63-e4da-4f57-9f51-74efb4a710e7"
      },
      "source": [
        "edades= [5, 13, 18, 7, 25, 27, 34, 56, 17]\r\n",
        "def mayor_de_edad(edades):\r\n",
        "    return edades >= 18\r\n",
        "\r\n",
        "def credencial_vigente(edades):\r\n",
        "    return True\r\n",
        "\r\n",
        "def puede_votar(edades):\r\n",
        "    return mayor_de_edad(edades) and credencial_vigente(edades)\r\n",
        "\r\n",
        "list(filter(puede_votar, edades))"
      ],
      "execution_count": 39,
      "outputs": [
        {
          "output_type": "execute_result",
          "data": {
            "text/plain": [
              "[18, 25, 27, 34, 56]"
            ]
          },
          "metadata": {
            "tags": []
          },
          "execution_count": 39
        }
      ]
    },
    {
      "cell_type": "code",
      "metadata": {
        "id": "zPPScXAn7cxw"
      },
      "source": [
        "#Lista con diccionarios\r\n",
        "personas = [\r\n",
        "            {'edad': 18, 'credencial': True},\r\n",
        "            {'edad': 13, 'credencial': False},\r\n",
        "            {'edad': 24, 'credencial': False},\r\n",
        "            {'edad': 34, 'credencial': True}\r\n",
        "]\r\n",
        "\r\n",
        "def mayor_de_edad(personas):\r\n",
        "    return edad >= 18\r\n",
        "\r\n",
        "def credencial_vigente(personas):\r\n",
        "    return True\r\n",
        "\r\n",
        "def puede_votar(personas):\r\n",
        "    return mayor_de_edad(personas) and credencial_vigente(personas)\r\n",
        "\r\n",
        "list(filter(puede_votar, personas))"
      ],
      "execution_count": null,
      "outputs": []
    },
    {
      "cell_type": "markdown",
      "metadata": {
        "id": "3DKMnvAI2zh2"
      },
      "source": [
        "**Reto 3**\r\n",
        "And\r\n",
        "\r\n",
        "- Practicar el operador `and` y usarlo para realizar filtros más complejos"
      ]
    },
    {
      "cell_type": "code",
      "metadata": {
        "colab": {
          "base_uri": "https://localhost:8080/"
        },
        "id": "mrxXD7-J3FQ7",
        "outputId": "1337a620-312e-4ae2-9c3d-90ef490749fb"
      },
      "source": [
        "#Retomamos ejemplo de sueldos, incluyendo sueldos de los internos(nuy bajos, simbólicos)\r\n",
        "\r\n",
        "sueldos = [26, 32, 26, 1.5, 30, 30, 1, 2, 32, 28, 30, 28, 30, 28, 27, 30, 110, 1.5, 2, 34, 30, 28, 26, 28, 2, 30, 28, 85, 25, 1.5,\r\n",
        "           1.5, 30, 34, 34, 30, 30, 120, 28, 2, 2, 1.5, 28, 120, 1, 1.5, 125, 2, 1.5, 28, 29, 30, 34, 33, 28, 2, 1, 1.5, 26, 28,\r\n",
        "          26, 26, 30, 30, 28, 2, 2, 1.5, 2, 1.5, 28, 27, 130, 1.5, 2, 26, 26, 28, 30, 30, 30, 28, 28, 1, 1, 135, 1, 1, 1.5, 2,\r\n",
        "          2, 2, 1.5, 2]\r\n",
        "\r\n",
        "print(f'El sueldo \"típico\" en EyePoker Inc. es de {sum(sueldos) / len(sueldos)}')"
      ],
      "execution_count": 40,
      "outputs": [
        {
          "output_type": "stream",
          "text": [
            "El sueldo \"típico\" en EyePoker Inc. es de 25.36021505376344\n"
          ],
          "name": "stdout"
        }
      ]
    },
    {
      "cell_type": "markdown",
      "metadata": {
        "id": "G5zmbuG63btP"
      },
      "source": [
        "\r\n",
        "Para evitar esta distorsión y calcular solamente el sueldo típico de los empleados que están contratados a largo plazo, vamos a filtrar nuestra lista.\r\n",
        "\r\n",
        "Lo que tienes que hacer es lo siguiente:\r\n",
        "\r\n",
        "1. Define una función que regrese True cuando el argumento sea mayor que 20.\r\n",
        "2. Define una función que regrese True cuando el argumento sea menor que 40.\r\n",
        "3. Define una tercera función que una las dos primeras funciones usando un operador and.\r\n",
        "4. Filtrar la lista y asignarla a sueldos_filtrados."
      ]
    },
    {
      "cell_type": "code",
      "metadata": {
        "id": "gaGTkiVo3Sxn"
      },
      "source": [
        "#Para evitar distorsión\r\n",
        "#Función 1\r\n",
        "def mayor_20(sueldos):\r\n",
        "    if sueldos > 20:\r\n",
        "        return True\r\n",
        "    else:\r\n",
        "        return False"
      ],
      "execution_count": 42,
      "outputs": []
    },
    {
      "cell_type": "code",
      "metadata": {
        "id": "ffYRkJgR3shg"
      },
      "source": [
        "#Función 2\r\n",
        "def menor_40(sueldos):\r\n",
        "    if sueldos < 40:\r\n",
        "        return True\r\n",
        "    else:\r\n",
        "        return False"
      ],
      "execution_count": 43,
      "outputs": []
    },
    {
      "cell_type": "code",
      "metadata": {
        "id": "Pm1zReiu3vOs"
      },
      "source": [
        "#Función 3\r\n",
        "def entre_20y40(sueldos):\r\n",
        "    return mayor_20(sueldos) and menor_40(sueldos)"
      ],
      "execution_count": 44,
      "outputs": []
    },
    {
      "cell_type": "code",
      "metadata": {
        "colab": {
          "base_uri": "https://localhost:8080/"
        },
        "id": "tmN0B7LJ3xEq",
        "outputId": "fbda189f-eac6-4d23-93b7-9f0f78d30f81"
      },
      "source": [
        "#Lista\r\n",
        "\r\n",
        "sueldos_filtrados = list(filter(entre_20y40, sueldos))\r\n",
        "\r\n",
        "print(f'El sueldo \"típico\" en EyePoker Inc. es de {sum(sueldos_filtrados) / len(sueldos_filtrados)}')"
      ],
      "execution_count": 45,
      "outputs": [
        {
          "output_type": "stream",
          "text": [
            "El sueldo \"típico\" en EyePoker Inc. es de 28.96078431372549\n"
          ],
          "name": "stdout"
        }
      ]
    },
    {
      "cell_type": "markdown",
      "metadata": {
        "id": "68AwMbZh-0NS"
      },
      "source": [
        "**Ejemplo 4**\r\n",
        "Or\r\n",
        "\r\n",
        "- Aprender a extender las capacidades de los `operadores de comparación` usando `or`.\r\n",
        "- Usar `or` para llamar `filter` con múltiples filtros."
      ]
    },
    {
      "cell_type": "code",
      "metadata": {
        "colab": {
          "base_uri": "https://localhost:8080/"
        },
        "id": "rIbmHCuM--xK",
        "outputId": "41364263-2c64-417b-a950-1098986f1bc0"
      },
      "source": [
        "numeros = [3,4,6,87,98,6,4,5,7]\r\n",
        "def numero_divisible_entre3 (num):\r\n",
        "    if num % 3 ==0:\r\n",
        "      return True\r\n",
        "    else:\r\n",
        "      return False\r\n",
        "\r\n",
        "def numero_menor_a10(num):\r\n",
        "  if num < 10:\r\n",
        "    return True\r\n",
        "  else:\r\n",
        "      return False\r\n",
        "\r\n",
        "print(numero_divisible_entre3(71) or not numero_menor_a10(71))\r\n"
      ],
      "execution_count": 47,
      "outputs": [
        {
          "output_type": "stream",
          "text": [
            "True\n"
          ],
          "name": "stdout"
        }
      ]
    },
    {
      "cell_type": "markdown",
      "metadata": {
        "id": "8_oOV7ZwBzjW"
      },
      "source": [
        "**Reto 4**\r\n",
        "Or\r\n",
        "\r\n",
        "Traer información de una API\r\n",
        "\r\n",
        "Índice de obesidad de personajes ficticios:\r\n",
        "1. No incluir atípicos: Snorlax $143, Gyarados #130, Dragonite #149\r\n",
        "2. No incluir número de personajes que terminen en 0"
      ]
    },
    {
      "cell_type": "code",
      "metadata": {
        "colab": {
          "base_uri": "https://localhost:8080/",
          "height": 337
        },
        "id": "Xmm6ZhwiCHIp",
        "outputId": "b269a4a7-b718-49df-91b3-3ecc73fc5729"
      },
      "source": [
        "#Pista 1\r\n",
        "lista = list(range(1, 152))\r\n",
        "\r\n",
        "def peso_pokemon(numero):\r\n",
        "  import requests\r\n",
        "  return requests.get(f\"https://pokeapi.co/api/v2/pokemon{numero}\").json()['weight']\r\n",
        "\r\n",
        "def pokemon(numero):\r\n",
        "    import requests\r\n",
        "    return requests.get(f\"https://pokeapi.co/api/v2/pokemon{numero}\").json()['name']\r\n",
        "\r\n",
        "#Exclusiones\r\n",
        "def termina_0(numero):\r\n",
        "  return numero % 10 != 0\r\n",
        "\r\n",
        "def sin_atipicos(numero):\r\n",
        "  return numero != 143 and numero !=130 and numero !=149\r\n",
        "\r\n",
        "lista = list(filter(termina_0, lista))\r\n",
        "lista = list(filter(sin_atipicos, lista))\r\n",
        "pokemon=list(map(pokemon, lista))\r\n",
        "pesos = list(map(peso_pokemon, lista))"
      ],
      "execution_count": 57,
      "outputs": [
        {
          "output_type": "error",
          "ename": "JSONDecodeError",
          "evalue": "ignored",
          "traceback": [
            "\u001b[0;31m---------------------------------------------------------------------------\u001b[0m",
            "\u001b[0;31mJSONDecodeError\u001b[0m                           Traceback (most recent call last)",
            "\u001b[0;32m<ipython-input-57-800a35a78609>\u001b[0m in \u001b[0;36m<module>\u001b[0;34m()\u001b[0m\n\u001b[1;32m     19\u001b[0m \u001b[0mlista\u001b[0m \u001b[0;34m=\u001b[0m \u001b[0mlist\u001b[0m\u001b[0;34m(\u001b[0m\u001b[0mfilter\u001b[0m\u001b[0;34m(\u001b[0m\u001b[0mtermina_0\u001b[0m\u001b[0;34m,\u001b[0m \u001b[0mlista\u001b[0m\u001b[0;34m)\u001b[0m\u001b[0;34m)\u001b[0m\u001b[0;34m\u001b[0m\u001b[0;34m\u001b[0m\u001b[0m\n\u001b[1;32m     20\u001b[0m \u001b[0mlista\u001b[0m \u001b[0;34m=\u001b[0m \u001b[0mlist\u001b[0m\u001b[0;34m(\u001b[0m\u001b[0mfilter\u001b[0m\u001b[0;34m(\u001b[0m\u001b[0msin_atipicos\u001b[0m\u001b[0;34m,\u001b[0m \u001b[0mlista\u001b[0m\u001b[0;34m)\u001b[0m\u001b[0;34m)\u001b[0m\u001b[0;34m\u001b[0m\u001b[0;34m\u001b[0m\u001b[0m\n\u001b[0;32m---> 21\u001b[0;31m \u001b[0mpokemon\u001b[0m\u001b[0;34m=\u001b[0m\u001b[0mlist\u001b[0m\u001b[0;34m(\u001b[0m\u001b[0mmap\u001b[0m\u001b[0;34m(\u001b[0m\u001b[0mpokemon\u001b[0m\u001b[0;34m,\u001b[0m \u001b[0mlista\u001b[0m\u001b[0;34m)\u001b[0m\u001b[0;34m)\u001b[0m\u001b[0;34m\u001b[0m\u001b[0;34m\u001b[0m\u001b[0m\n\u001b[0m\u001b[1;32m     22\u001b[0m \u001b[0mpesos\u001b[0m \u001b[0;34m=\u001b[0m \u001b[0mlist\u001b[0m\u001b[0;34m(\u001b[0m\u001b[0mmap\u001b[0m\u001b[0;34m(\u001b[0m\u001b[0mpeso_pokemon\u001b[0m\u001b[0;34m,\u001b[0m \u001b[0mlista\u001b[0m\u001b[0;34m)\u001b[0m\u001b[0;34m)\u001b[0m\u001b[0;34m\u001b[0m\u001b[0;34m\u001b[0m\u001b[0m\n",
            "\u001b[0;32m<ipython-input-57-800a35a78609>\u001b[0m in \u001b[0;36mpokemon\u001b[0;34m(numero)\u001b[0m\n\u001b[1;32m      8\u001b[0m \u001b[0;32mdef\u001b[0m \u001b[0mpokemon\u001b[0m\u001b[0;34m(\u001b[0m\u001b[0mnumero\u001b[0m\u001b[0;34m)\u001b[0m\u001b[0;34m:\u001b[0m\u001b[0;34m\u001b[0m\u001b[0;34m\u001b[0m\u001b[0m\n\u001b[1;32m      9\u001b[0m     \u001b[0;32mimport\u001b[0m \u001b[0mrequests\u001b[0m\u001b[0;34m\u001b[0m\u001b[0;34m\u001b[0m\u001b[0m\n\u001b[0;32m---> 10\u001b[0;31m     \u001b[0;32mreturn\u001b[0m \u001b[0mrequests\u001b[0m\u001b[0;34m.\u001b[0m\u001b[0mget\u001b[0m\u001b[0;34m(\u001b[0m\u001b[0;34mf\"https://pokeapi.co/api/v2/pokemon{numero}\"\u001b[0m\u001b[0;34m)\u001b[0m\u001b[0;34m.\u001b[0m\u001b[0mjson\u001b[0m\u001b[0;34m(\u001b[0m\u001b[0;34m)\u001b[0m\u001b[0;34m[\u001b[0m\u001b[0;34m'name'\u001b[0m\u001b[0;34m]\u001b[0m\u001b[0;34m\u001b[0m\u001b[0;34m\u001b[0m\u001b[0m\n\u001b[0m\u001b[1;32m     11\u001b[0m \u001b[0;34m\u001b[0m\u001b[0m\n\u001b[1;32m     12\u001b[0m \u001b[0;31m#Exclusiones\u001b[0m\u001b[0;34m\u001b[0m\u001b[0;34m\u001b[0m\u001b[0;34m\u001b[0m\u001b[0m\n",
            "\u001b[0;32m/usr/local/lib/python3.6/dist-packages/requests/models.py\u001b[0m in \u001b[0;36mjson\u001b[0;34m(self, **kwargs)\u001b[0m\n\u001b[1;32m    896\u001b[0m                     \u001b[0;31m# used.\u001b[0m\u001b[0;34m\u001b[0m\u001b[0;34m\u001b[0m\u001b[0;34m\u001b[0m\u001b[0m\n\u001b[1;32m    897\u001b[0m                     \u001b[0;32mpass\u001b[0m\u001b[0;34m\u001b[0m\u001b[0;34m\u001b[0m\u001b[0m\n\u001b[0;32m--> 898\u001b[0;31m         \u001b[0;32mreturn\u001b[0m \u001b[0mcomplexjson\u001b[0m\u001b[0;34m.\u001b[0m\u001b[0mloads\u001b[0m\u001b[0;34m(\u001b[0m\u001b[0mself\u001b[0m\u001b[0;34m.\u001b[0m\u001b[0mtext\u001b[0m\u001b[0;34m,\u001b[0m \u001b[0;34m**\u001b[0m\u001b[0mkwargs\u001b[0m\u001b[0;34m)\u001b[0m\u001b[0;34m\u001b[0m\u001b[0;34m\u001b[0m\u001b[0m\n\u001b[0m\u001b[1;32m    899\u001b[0m \u001b[0;34m\u001b[0m\u001b[0m\n\u001b[1;32m    900\u001b[0m     \u001b[0;34m@\u001b[0m\u001b[0mproperty\u001b[0m\u001b[0;34m\u001b[0m\u001b[0;34m\u001b[0m\u001b[0m\n",
            "\u001b[0;32m/usr/lib/python3.6/json/__init__.py\u001b[0m in \u001b[0;36mloads\u001b[0;34m(s, encoding, cls, object_hook, parse_float, parse_int, parse_constant, object_pairs_hook, **kw)\u001b[0m\n\u001b[1;32m    352\u001b[0m             \u001b[0mparse_int\u001b[0m \u001b[0;32mis\u001b[0m \u001b[0;32mNone\u001b[0m \u001b[0;32mand\u001b[0m \u001b[0mparse_float\u001b[0m \u001b[0;32mis\u001b[0m \u001b[0;32mNone\u001b[0m \u001b[0;32mand\u001b[0m\u001b[0;34m\u001b[0m\u001b[0;34m\u001b[0m\u001b[0m\n\u001b[1;32m    353\u001b[0m             parse_constant is None and object_pairs_hook is None and not kw):\n\u001b[0;32m--> 354\u001b[0;31m         \u001b[0;32mreturn\u001b[0m \u001b[0m_default_decoder\u001b[0m\u001b[0;34m.\u001b[0m\u001b[0mdecode\u001b[0m\u001b[0;34m(\u001b[0m\u001b[0ms\u001b[0m\u001b[0;34m)\u001b[0m\u001b[0;34m\u001b[0m\u001b[0;34m\u001b[0m\u001b[0m\n\u001b[0m\u001b[1;32m    355\u001b[0m     \u001b[0;32mif\u001b[0m \u001b[0mcls\u001b[0m \u001b[0;32mis\u001b[0m \u001b[0;32mNone\u001b[0m\u001b[0;34m:\u001b[0m\u001b[0;34m\u001b[0m\u001b[0;34m\u001b[0m\u001b[0m\n\u001b[1;32m    356\u001b[0m         \u001b[0mcls\u001b[0m \u001b[0;34m=\u001b[0m \u001b[0mJSONDecoder\u001b[0m\u001b[0;34m\u001b[0m\u001b[0;34m\u001b[0m\u001b[0m\n",
            "\u001b[0;32m/usr/lib/python3.6/json/decoder.py\u001b[0m in \u001b[0;36mdecode\u001b[0;34m(self, s, _w)\u001b[0m\n\u001b[1;32m    337\u001b[0m \u001b[0;34m\u001b[0m\u001b[0m\n\u001b[1;32m    338\u001b[0m         \"\"\"\n\u001b[0;32m--> 339\u001b[0;31m         \u001b[0mobj\u001b[0m\u001b[0;34m,\u001b[0m \u001b[0mend\u001b[0m \u001b[0;34m=\u001b[0m \u001b[0mself\u001b[0m\u001b[0;34m.\u001b[0m\u001b[0mraw_decode\u001b[0m\u001b[0;34m(\u001b[0m\u001b[0ms\u001b[0m\u001b[0;34m,\u001b[0m \u001b[0midx\u001b[0m\u001b[0;34m=\u001b[0m\u001b[0m_w\u001b[0m\u001b[0;34m(\u001b[0m\u001b[0ms\u001b[0m\u001b[0;34m,\u001b[0m \u001b[0;36m0\u001b[0m\u001b[0;34m)\u001b[0m\u001b[0;34m.\u001b[0m\u001b[0mend\u001b[0m\u001b[0;34m(\u001b[0m\u001b[0;34m)\u001b[0m\u001b[0;34m)\u001b[0m\u001b[0;34m\u001b[0m\u001b[0;34m\u001b[0m\u001b[0m\n\u001b[0m\u001b[1;32m    340\u001b[0m         \u001b[0mend\u001b[0m \u001b[0;34m=\u001b[0m \u001b[0m_w\u001b[0m\u001b[0;34m(\u001b[0m\u001b[0ms\u001b[0m\u001b[0;34m,\u001b[0m \u001b[0mend\u001b[0m\u001b[0;34m)\u001b[0m\u001b[0;34m.\u001b[0m\u001b[0mend\u001b[0m\u001b[0;34m(\u001b[0m\u001b[0;34m)\u001b[0m\u001b[0;34m\u001b[0m\u001b[0;34m\u001b[0m\u001b[0m\n\u001b[1;32m    341\u001b[0m         \u001b[0;32mif\u001b[0m \u001b[0mend\u001b[0m \u001b[0;34m!=\u001b[0m \u001b[0mlen\u001b[0m\u001b[0;34m(\u001b[0m\u001b[0ms\u001b[0m\u001b[0;34m)\u001b[0m\u001b[0;34m:\u001b[0m\u001b[0;34m\u001b[0m\u001b[0;34m\u001b[0m\u001b[0m\n",
            "\u001b[0;32m/usr/lib/python3.6/json/decoder.py\u001b[0m in \u001b[0;36mraw_decode\u001b[0;34m(self, s, idx)\u001b[0m\n\u001b[1;32m    355\u001b[0m             \u001b[0mobj\u001b[0m\u001b[0;34m,\u001b[0m \u001b[0mend\u001b[0m \u001b[0;34m=\u001b[0m \u001b[0mself\u001b[0m\u001b[0;34m.\u001b[0m\u001b[0mscan_once\u001b[0m\u001b[0;34m(\u001b[0m\u001b[0ms\u001b[0m\u001b[0;34m,\u001b[0m \u001b[0midx\u001b[0m\u001b[0;34m)\u001b[0m\u001b[0;34m\u001b[0m\u001b[0;34m\u001b[0m\u001b[0m\n\u001b[1;32m    356\u001b[0m         \u001b[0;32mexcept\u001b[0m \u001b[0mStopIteration\u001b[0m \u001b[0;32mas\u001b[0m \u001b[0merr\u001b[0m\u001b[0;34m:\u001b[0m\u001b[0;34m\u001b[0m\u001b[0;34m\u001b[0m\u001b[0m\n\u001b[0;32m--> 357\u001b[0;31m             \u001b[0;32mraise\u001b[0m \u001b[0mJSONDecodeError\u001b[0m\u001b[0;34m(\u001b[0m\u001b[0;34m\"Expecting value\"\u001b[0m\u001b[0;34m,\u001b[0m \u001b[0ms\u001b[0m\u001b[0;34m,\u001b[0m \u001b[0merr\u001b[0m\u001b[0;34m.\u001b[0m\u001b[0mvalue\u001b[0m\u001b[0;34m)\u001b[0m \u001b[0;32mfrom\u001b[0m \u001b[0;32mNone\u001b[0m\u001b[0;34m\u001b[0m\u001b[0;34m\u001b[0m\u001b[0m\n\u001b[0m\u001b[1;32m    358\u001b[0m         \u001b[0;32mreturn\u001b[0m \u001b[0mobj\u001b[0m\u001b[0;34m,\u001b[0m \u001b[0mend\u001b[0m\u001b[0;34m\u001b[0m\u001b[0;34m\u001b[0m\u001b[0m\n",
            "\u001b[0;31mJSONDecodeError\u001b[0m: Expecting value: line 1 column 1 (char 0)"
          ]
        }
      ]
    },
    {
      "cell_type": "code",
      "metadata": {
        "id": "afRuaWd9Ejvr"
      },
      "source": [
        "# Tipo\r\n",
        "def tipos_pokemon(numero):\r\n",
        "    import requests\r\n",
        "    types = requests.get(f\"https://pokeapi.co/api/v2/pokemon/{numero}\").json()['types']\r\n",
        "    return [t['type']['name'] for t in types]"
      ],
      "execution_count": null,
      "outputs": []
    }
  ]
}