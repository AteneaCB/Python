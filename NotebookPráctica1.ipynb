{
  "nbformat": 4,
  "nbformat_minor": 0,
  "metadata": {
    "colab": {
      "name": "NotebookPráctica1.ipynb",
      "provenance": [],
      "authorship_tag": "ABX9TyO9ktvdW52ukpFF/p3vYYrN",
      "include_colab_link": true
    },
    "kernelspec": {
      "name": "python3",
      "display_name": "Python 3"
    }
  },
  "cells": [
    {
      "cell_type": "markdown",
      "metadata": {
        "id": "view-in-github",
        "colab_type": "text"
      },
      "source": [
        "<a href=\"https://colab.research.google.com/github/AteneaCB/Python/blob/main/NotebookPr%C3%A1ctica1.ipynb\" target=\"_parent\"><img src=\"https://colab.research.google.com/assets/colab-badge.svg\" alt=\"Open In Colab\"/></a>"
      ]
    },
    {
      "cell_type": "code",
      "metadata": {
        "id": "TqsexYmXjUWk"
      },
      "source": [
        ""
      ],
      "execution_count": null,
      "outputs": []
    },
    {
      "cell_type": "markdown",
      "metadata": {
        "id": "y9pboduajYU6"
      },
      "source": [
        "Hola a todos"
      ]
    },
    {
      "cell_type": "code",
      "metadata": {
        "colab": {
          "base_uri": "https://localhost:8080/"
        },
        "id": "Kd4KeDAwjbHF",
        "outputId": "ce52af1c-2301-4dd1-ae3b-592fbc1b7e84"
      },
      "source": [
        "# Comentarios. Esto tiene formáto de código\r\n",
        "print(\"Hola a todos\")"
      ],
      "execution_count": 4,
      "outputs": [
        {
          "output_type": "stream",
          "text": [
            "Hola a todos\n"
          ],
          "name": "stdout"
        }
      ]
    },
    {
      "cell_type": "markdown",
      "metadata": {
        "id": "RI2OZrqFjwI7"
      },
      "source": [
        "Variables"
      ]
    },
    {
      "cell_type": "code",
      "metadata": {
        "colab": {
          "base_uri": "https://localhost:8080/"
        },
        "id": "sSvTwPF6jxqL",
        "outputId": "2978725c-9c4f-4e18-e9de-f1c6768ce9a6"
      },
      "source": [
        "variable_1 = 5\r\n",
        "variable_2 = 7\r\n",
        "variable_1 + variable_2"
      ],
      "execution_count": 2,
      "outputs": [
        {
          "output_type": "execute_result",
          "data": {
            "text/plain": [
              "12"
            ]
          },
          "metadata": {
            "tags": []
          },
          "execution_count": 2
        }
      ]
    },
    {
      "cell_type": "code",
      "metadata": {
        "colab": {
          "base_uri": "https://localhost:8080/"
        },
        "id": "gpbA_QtbkYtM",
        "outputId": "39d50450-9d0a-4753-b6d4-bdc8555ca1da"
      },
      "source": [
        "#Las variables anteriores se quedan en memoria, ejemplo:\r\n",
        "variable_1 * variable_2"
      ],
      "execution_count": 3,
      "outputs": [
        {
          "output_type": "execute_result",
          "data": {
            "text/plain": [
              "35"
            ]
          },
          "metadata": {
            "tags": []
          },
          "execution_count": 3
        }
      ]
    },
    {
      "cell_type": "markdown",
      "metadata": {
        "id": "j5Ste1JnkfpT"
      },
      "source": [
        "Listos para Reto 1"
      ]
    },
    {
      "cell_type": "code",
      "metadata": {
        "id": "vuuzxuvokiAZ"
      },
      "source": [
        ""
      ],
      "execution_count": null,
      "outputs": []
    }
  ]
}