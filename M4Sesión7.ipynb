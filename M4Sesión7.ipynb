{
  "nbformat": 4,
  "nbformat_minor": 0,
  "metadata": {
    "colab": {
      "name": "M4Sesión7.ipynb",
      "provenance": [],
      "collapsed_sections": [],
      "mount_file_id": "1AKFtD9RSWfc3pMBT0Qhu6zn1OEGw6Sn8",
      "authorship_tag": "ABX9TyOlW+4ZdFspvjbPfgDeKZua",
      "include_colab_link": true
    },
    "kernelspec": {
      "name": "python3",
      "display_name": "Python 3"
    },
    "language_info": {
      "name": "python"
    }
  },
  "cells": [
    {
      "cell_type": "markdown",
      "metadata": {
        "id": "view-in-github",
        "colab_type": "text"
      },
      "source": [
        "<a href=\"https://colab.research.google.com/github/AteneaCB/Python/blob/main/M4Sesi%C3%B3n7.ipynb\" target=\"_parent\"><img src=\"https://colab.research.google.com/assets/colab-badge.svg\" alt=\"Open In Colab\"/></a>"
      ]
    },
    {
      "cell_type": "markdown",
      "metadata": {
        "id": "KAAgiE9ayGPH"
      },
      "source": [
        "####**Módulo 4**\n",
        "\n",
        "**Sesión 7**\n",
        "Pruebas A/B y Procesamiento de Lenguaje Natural\n",
        "\n",
        "Objetivos:\n",
        "- Evaluar los resultados de Pruebas A/B.\n",
        "- Aplicar algunas técnicas de lenguaje natural usando Nltk y TextBlob."
      ]
    },
    {
      "cell_type": "markdown",
      "metadata": {
        "id": "2JMH2IYWybfV"
      },
      "source": [
        "**Ejemplo 1**\n",
        "Pruebas A/B\n",
        "\n",
        "- Aprender a evaluar los resultados de una Prueba A/B"
      ]
    },
    {
      "cell_type": "code",
      "metadata": {
        "id": "DVJAGrmKyB1P"
      },
      "source": [
        "#Librerías\n",
        "import pandas as pd\n",
        "import seaborn as sns\n",
        "import matplotlib.pyplot as plt"
      ],
      "execution_count": 2,
      "outputs": []
    },
    {
      "cell_type": "code",
      "metadata": {
        "colab": {
          "base_uri": "https://localhost:8080/",
          "height": 407
        },
        "id": "XAZoHpJQ2U0Z",
        "outputId": "6bbd64c5-c7d3-46cb-b3d5-cc17258c4fe4"
      },
      "source": [
        "df = pd.read_csv(\"/content/drive/MyDrive/Datasets/ab_test-sales_pipeline.csv\")\n",
        "df"
      ],
      "execution_count": 4,
      "outputs": [
        {
          "output_type": "execute_result",
          "data": {
            "text/html": [
              "<div>\n",
              "<style scoped>\n",
              "    .dataframe tbody tr th:only-of-type {\n",
              "        vertical-align: middle;\n",
              "    }\n",
              "\n",
              "    .dataframe tbody tr th {\n",
              "        vertical-align: top;\n",
              "    }\n",
              "\n",
              "    .dataframe thead th {\n",
              "        text-align: right;\n",
              "    }\n",
              "</style>\n",
              "<table border=\"1\" class=\"dataframe\">\n",
              "  <thead>\n",
              "    <tr style=\"text-align: right;\">\n",
              "      <th></th>\n",
              "      <th>test</th>\n",
              "      <th>conversion</th>\n",
              "      <th>no conversion</th>\n",
              "    </tr>\n",
              "  </thead>\n",
              "  <tbody>\n",
              "    <tr>\n",
              "      <th>0</th>\n",
              "      <td>B</td>\n",
              "      <td>0</td>\n",
              "      <td>1</td>\n",
              "    </tr>\n",
              "    <tr>\n",
              "      <th>1</th>\n",
              "      <td>A</td>\n",
              "      <td>0</td>\n",
              "      <td>1</td>\n",
              "    </tr>\n",
              "    <tr>\n",
              "      <th>2</th>\n",
              "      <td>A</td>\n",
              "      <td>0</td>\n",
              "      <td>1</td>\n",
              "    </tr>\n",
              "    <tr>\n",
              "      <th>3</th>\n",
              "      <td>A</td>\n",
              "      <td>0</td>\n",
              "      <td>1</td>\n",
              "    </tr>\n",
              "    <tr>\n",
              "      <th>4</th>\n",
              "      <td>A</td>\n",
              "      <td>0</td>\n",
              "      <td>1</td>\n",
              "    </tr>\n",
              "    <tr>\n",
              "      <th>...</th>\n",
              "      <td>...</td>\n",
              "      <td>...</td>\n",
              "      <td>...</td>\n",
              "    </tr>\n",
              "    <tr>\n",
              "      <th>46322</th>\n",
              "      <td>B</td>\n",
              "      <td>0</td>\n",
              "      <td>1</td>\n",
              "    </tr>\n",
              "    <tr>\n",
              "      <th>46323</th>\n",
              "      <td>B</td>\n",
              "      <td>0</td>\n",
              "      <td>1</td>\n",
              "    </tr>\n",
              "    <tr>\n",
              "      <th>46324</th>\n",
              "      <td>B</td>\n",
              "      <td>0</td>\n",
              "      <td>1</td>\n",
              "    </tr>\n",
              "    <tr>\n",
              "      <th>46325</th>\n",
              "      <td>A</td>\n",
              "      <td>0</td>\n",
              "      <td>1</td>\n",
              "    </tr>\n",
              "    <tr>\n",
              "      <th>46326</th>\n",
              "      <td>A</td>\n",
              "      <td>0</td>\n",
              "      <td>1</td>\n",
              "    </tr>\n",
              "  </tbody>\n",
              "</table>\n",
              "<p>46327 rows × 3 columns</p>\n",
              "</div>"
            ],
            "text/plain": [
              "      test  conversion  no conversion\n",
              "0        B           0              1\n",
              "1        A           0              1\n",
              "2        A           0              1\n",
              "3        A           0              1\n",
              "4        A           0              1\n",
              "...    ...         ...            ...\n",
              "46322    B           0              1\n",
              "46323    B           0              1\n",
              "46324    B           0              1\n",
              "46325    A           0              1\n",
              "46326    A           0              1\n",
              "\n",
              "[46327 rows x 3 columns]"
            ]
          },
          "metadata": {
            "tags": []
          },
          "execution_count": 4
        }
      ]
    },
    {
      "cell_type": "code",
      "metadata": {
        "id": "BM1GQV3q2j8g"
      },
      "source": [
        "#Agrupar los resultados\n",
        "total_count = df.groupby('test')[['conversion', 'no conversion']].sum()"
      ],
      "execution_count": 5,
      "outputs": []
    },
    {
      "cell_type": "code",
      "metadata": {
        "colab": {
          "base_uri": "https://localhost:8080/",
          "height": 138
        },
        "id": "MvJq8G9U3Ftf",
        "outputId": "87dcc5ff-876b-451d-e9f4-9615dc19373e"
      },
      "source": [
        "total_count"
      ],
      "execution_count": 6,
      "outputs": [
        {
          "output_type": "execute_result",
          "data": {
            "text/html": [
              "<div>\n",
              "<style scoped>\n",
              "    .dataframe tbody tr th:only-of-type {\n",
              "        vertical-align: middle;\n",
              "    }\n",
              "\n",
              "    .dataframe tbody tr th {\n",
              "        vertical-align: top;\n",
              "    }\n",
              "\n",
              "    .dataframe thead th {\n",
              "        text-align: right;\n",
              "    }\n",
              "</style>\n",
              "<table border=\"1\" class=\"dataframe\">\n",
              "  <thead>\n",
              "    <tr style=\"text-align: right;\">\n",
              "      <th></th>\n",
              "      <th>conversion</th>\n",
              "      <th>no conversion</th>\n",
              "    </tr>\n",
              "    <tr>\n",
              "      <th>test</th>\n",
              "      <th></th>\n",
              "      <th></th>\n",
              "    </tr>\n",
              "  </thead>\n",
              "  <tbody>\n",
              "    <tr>\n",
              "      <th>A</th>\n",
              "      <td>198</td>\n",
              "      <td>23541</td>\n",
              "    </tr>\n",
              "    <tr>\n",
              "      <th>B</th>\n",
              "      <td>184</td>\n",
              "      <td>22404</td>\n",
              "    </tr>\n",
              "  </tbody>\n",
              "</table>\n",
              "</div>"
            ],
            "text/plain": [
              "      conversion  no conversion\n",
              "test                           \n",
              "A            198          23541\n",
              "B            184          22404"
            ]
          },
          "metadata": {
            "tags": []
          },
          "execution_count": 6
        }
      ]
    },
    {
      "cell_type": "code",
      "metadata": {
        "colab": {
          "base_uri": "https://localhost:8080/",
          "height": 138
        },
        "id": "x4KWXRCC3QAj",
        "outputId": "54d5c881-b2eb-49b3-e3f7-72be3ed2c6b0"
      },
      "source": [
        "#Porcentaje de conversión\n",
        "total_count['rate'] = total_count['conversion'] / (total_count['conversion'] + total_count['no conversion'])\n",
        "total_count"
      ],
      "execution_count": 7,
      "outputs": [
        {
          "output_type": "execute_result",
          "data": {
            "text/html": [
              "<div>\n",
              "<style scoped>\n",
              "    .dataframe tbody tr th:only-of-type {\n",
              "        vertical-align: middle;\n",
              "    }\n",
              "\n",
              "    .dataframe tbody tr th {\n",
              "        vertical-align: top;\n",
              "    }\n",
              "\n",
              "    .dataframe thead th {\n",
              "        text-align: right;\n",
              "    }\n",
              "</style>\n",
              "<table border=\"1\" class=\"dataframe\">\n",
              "  <thead>\n",
              "    <tr style=\"text-align: right;\">\n",
              "      <th></th>\n",
              "      <th>conversion</th>\n",
              "      <th>no conversion</th>\n",
              "      <th>rate</th>\n",
              "    </tr>\n",
              "    <tr>\n",
              "      <th>test</th>\n",
              "      <th></th>\n",
              "      <th></th>\n",
              "      <th></th>\n",
              "    </tr>\n",
              "  </thead>\n",
              "  <tbody>\n",
              "    <tr>\n",
              "      <th>A</th>\n",
              "      <td>198</td>\n",
              "      <td>23541</td>\n",
              "      <td>0.008341</td>\n",
              "    </tr>\n",
              "    <tr>\n",
              "      <th>B</th>\n",
              "      <td>184</td>\n",
              "      <td>22404</td>\n",
              "      <td>0.008146</td>\n",
              "    </tr>\n",
              "  </tbody>\n",
              "</table>\n",
              "</div>"
            ],
            "text/plain": [
              "      conversion  no conversion      rate\n",
              "test                                     \n",
              "A            198          23541  0.008341\n",
              "B            184          22404  0.008146"
            ]
          },
          "metadata": {
            "tags": []
          },
          "execution_count": 7
        }
      ]
    },
    {
      "cell_type": "code",
      "metadata": {
        "id": "4VaGCTr73ipF"
      },
      "source": [
        "#Diferencia de proporción\n",
        "diferencia_proporcion = 1 - (total_count.loc['B']['rate'] / total_count.loc['A']['rate'])"
      ],
      "execution_count": 8,
      "outputs": []
    },
    {
      "cell_type": "code",
      "metadata": {
        "colab": {
          "base_uri": "https://localhost:8080/"
        },
        "id": "zXV0PN9V3-He",
        "outputId": "950017d4-4da2-48e2-c97b-9e45bc98421c"
      },
      "source": [
        "diferencia_porcentaje = diferencia_proporcion *100\n",
        "print(f'El test A fue {diferencia_porcentaje:.2f}% más efectivo que B')"
      ],
      "execution_count": 9,
      "outputs": [
        {
          "output_type": "stream",
          "text": [
            "El test A fue 2.34% más efectivo que B\n"
          ],
          "name": "stdout"
        }
      ]
    },
    {
      "cell_type": "markdown",
      "metadata": {
        "id": "xTuPFTeT4edA"
      },
      "source": [
        "Test de permutación"
      ]
    },
    {
      "cell_type": "code",
      "metadata": {
        "id": "LtxVaSmn4dbS"
      },
      "source": [
        "todas_mediciones = df[['conversion', 'no conversion']]"
      ],
      "execution_count": 10,
      "outputs": []
    },
    {
      "cell_type": "code",
      "metadata": {
        "colab": {
          "base_uri": "https://localhost:8080/"
        },
        "id": "mePa0z0G4yzR",
        "outputId": "70eb0c10-ed10-4db0-9088-aee4cfd7daf4"
      },
      "source": [
        "#número de elementos por grupo\n",
        "total_grupos = df['test'].value_counts()\n",
        "total_grupos"
      ],
      "execution_count": 11,
      "outputs": [
        {
          "output_type": "execute_result",
          "data": {
            "text/plain": [
              "A    23739\n",
              "B    22588\n",
              "Name: test, dtype: int64"
            ]
          },
          "metadata": {
            "tags": []
          },
          "execution_count": 11
        }
      ]
    },
    {
      "cell_type": "code",
      "metadata": {
        "id": "Y1X4UPZB481g"
      },
      "source": [
        "#Elegir al azar mismo número de elementos para reetiquetar por grupos\n",
        "conv_a = []\n",
        "no_conv_a = []\n",
        "conv_b = []\n",
        "no_conv_b = []\n",
        "#En un \"for\" para indicar que no se usa \"i\" se pone guión bajo\n",
        "for _ in range(1000):\n",
        "    a = df.sample(total_grupos['A'], replace=False)\n",
        "    conv_a.append(a['conversion'].sum())\n",
        "    no_conv_a.append(a['no conversion'].sum())\n",
        "\n",
        "    b = df.loc[~df.index.isin(a.index)]\n",
        "    conv_b.append(b['conversion'].sum())\n",
        "    no_conv_b.append(b['no conversion'].sum())"
      ],
      "execution_count": 41,
      "outputs": []
    },
    {
      "cell_type": "code",
      "metadata": {
        "id": "GVO95gTh6gh7"
      },
      "source": [
        "perm_results = pd.DataFrame({\n",
        "    'conv_a': conv_a,\n",
        "    'no_conv_a': no_conv_a,\n",
        "    'conv_b': conv_b,\n",
        "    'no_conv_b': no_conv_b\n",
        "})"
      ],
      "execution_count": 42,
      "outputs": []
    },
    {
      "cell_type": "code",
      "metadata": {
        "colab": {
          "base_uri": "https://localhost:8080/",
          "height": 407
        },
        "id": "EFvoh7np6-tF",
        "outputId": "88e4e474-2438-46e5-8c87-92ca91d63d75"
      },
      "source": [
        "perm_results"
      ],
      "execution_count": 43,
      "outputs": [
        {
          "output_type": "execute_result",
          "data": {
            "text/html": [
              "<div>\n",
              "<style scoped>\n",
              "    .dataframe tbody tr th:only-of-type {\n",
              "        vertical-align: middle;\n",
              "    }\n",
              "\n",
              "    .dataframe tbody tr th {\n",
              "        vertical-align: top;\n",
              "    }\n",
              "\n",
              "    .dataframe thead th {\n",
              "        text-align: right;\n",
              "    }\n",
              "</style>\n",
              "<table border=\"1\" class=\"dataframe\">\n",
              "  <thead>\n",
              "    <tr style=\"text-align: right;\">\n",
              "      <th></th>\n",
              "      <th>conv_a</th>\n",
              "      <th>no_conv_a</th>\n",
              "      <th>conv_b</th>\n",
              "      <th>no_conv_b</th>\n",
              "    </tr>\n",
              "  </thead>\n",
              "  <tbody>\n",
              "    <tr>\n",
              "      <th>0</th>\n",
              "      <td>196</td>\n",
              "      <td>23543</td>\n",
              "      <td>186</td>\n",
              "      <td>22402</td>\n",
              "    </tr>\n",
              "    <tr>\n",
              "      <th>1</th>\n",
              "      <td>182</td>\n",
              "      <td>23557</td>\n",
              "      <td>200</td>\n",
              "      <td>22388</td>\n",
              "    </tr>\n",
              "    <tr>\n",
              "      <th>2</th>\n",
              "      <td>202</td>\n",
              "      <td>23537</td>\n",
              "      <td>180</td>\n",
              "      <td>22408</td>\n",
              "    </tr>\n",
              "    <tr>\n",
              "      <th>3</th>\n",
              "      <td>182</td>\n",
              "      <td>23557</td>\n",
              "      <td>200</td>\n",
              "      <td>22388</td>\n",
              "    </tr>\n",
              "    <tr>\n",
              "      <th>4</th>\n",
              "      <td>204</td>\n",
              "      <td>23535</td>\n",
              "      <td>178</td>\n",
              "      <td>22410</td>\n",
              "    </tr>\n",
              "    <tr>\n",
              "      <th>...</th>\n",
              "      <td>...</td>\n",
              "      <td>...</td>\n",
              "      <td>...</td>\n",
              "      <td>...</td>\n",
              "    </tr>\n",
              "    <tr>\n",
              "      <th>995</th>\n",
              "      <td>207</td>\n",
              "      <td>23532</td>\n",
              "      <td>175</td>\n",
              "      <td>22413</td>\n",
              "    </tr>\n",
              "    <tr>\n",
              "      <th>996</th>\n",
              "      <td>180</td>\n",
              "      <td>23559</td>\n",
              "      <td>202</td>\n",
              "      <td>22386</td>\n",
              "    </tr>\n",
              "    <tr>\n",
              "      <th>997</th>\n",
              "      <td>190</td>\n",
              "      <td>23549</td>\n",
              "      <td>192</td>\n",
              "      <td>22396</td>\n",
              "    </tr>\n",
              "    <tr>\n",
              "      <th>998</th>\n",
              "      <td>199</td>\n",
              "      <td>23540</td>\n",
              "      <td>183</td>\n",
              "      <td>22405</td>\n",
              "    </tr>\n",
              "    <tr>\n",
              "      <th>999</th>\n",
              "      <td>193</td>\n",
              "      <td>23546</td>\n",
              "      <td>189</td>\n",
              "      <td>22399</td>\n",
              "    </tr>\n",
              "  </tbody>\n",
              "</table>\n",
              "<p>1000 rows × 4 columns</p>\n",
              "</div>"
            ],
            "text/plain": [
              "     conv_a  no_conv_a  conv_b  no_conv_b\n",
              "0       196      23543     186      22402\n",
              "1       182      23557     200      22388\n",
              "2       202      23537     180      22408\n",
              "3       182      23557     200      22388\n",
              "4       204      23535     178      22410\n",
              "..      ...        ...     ...        ...\n",
              "995     207      23532     175      22413\n",
              "996     180      23559     202      22386\n",
              "997     190      23549     192      22396\n",
              "998     199      23540     183      22405\n",
              "999     193      23546     189      22399\n",
              "\n",
              "[1000 rows x 4 columns]"
            ]
          },
          "metadata": {
            "tags": []
          },
          "execution_count": 43
        }
      ]
    },
    {
      "cell_type": "code",
      "metadata": {
        "colab": {
          "base_uri": "https://localhost:8080/",
          "height": 407
        },
        "id": "_BGnzxBU7TdV",
        "outputId": "532269b9-d435-4e59-9550-d6b1c99c5201"
      },
      "source": [
        "perm_results['a_rate'] = perm_results['conv_a'] / (perm_results['conv_a'] + perm_results['no_conv_a'])\n",
        "perm_results['b_rate'] = perm_results['conv_b'] / (perm_results['conv_b'] + perm_results['no_conv_b'])\n",
        "perm_results"
      ],
      "execution_count": 44,
      "outputs": [
        {
          "output_type": "execute_result",
          "data": {
            "text/html": [
              "<div>\n",
              "<style scoped>\n",
              "    .dataframe tbody tr th:only-of-type {\n",
              "        vertical-align: middle;\n",
              "    }\n",
              "\n",
              "    .dataframe tbody tr th {\n",
              "        vertical-align: top;\n",
              "    }\n",
              "\n",
              "    .dataframe thead th {\n",
              "        text-align: right;\n",
              "    }\n",
              "</style>\n",
              "<table border=\"1\" class=\"dataframe\">\n",
              "  <thead>\n",
              "    <tr style=\"text-align: right;\">\n",
              "      <th></th>\n",
              "      <th>conv_a</th>\n",
              "      <th>no_conv_a</th>\n",
              "      <th>conv_b</th>\n",
              "      <th>no_conv_b</th>\n",
              "      <th>a_rate</th>\n",
              "      <th>b_rate</th>\n",
              "    </tr>\n",
              "  </thead>\n",
              "  <tbody>\n",
              "    <tr>\n",
              "      <th>0</th>\n",
              "      <td>196</td>\n",
              "      <td>23543</td>\n",
              "      <td>186</td>\n",
              "      <td>22402</td>\n",
              "      <td>0.008256</td>\n",
              "      <td>0.008234</td>\n",
              "    </tr>\n",
              "    <tr>\n",
              "      <th>1</th>\n",
              "      <td>182</td>\n",
              "      <td>23557</td>\n",
              "      <td>200</td>\n",
              "      <td>22388</td>\n",
              "      <td>0.007667</td>\n",
              "      <td>0.008854</td>\n",
              "    </tr>\n",
              "    <tr>\n",
              "      <th>2</th>\n",
              "      <td>202</td>\n",
              "      <td>23537</td>\n",
              "      <td>180</td>\n",
              "      <td>22408</td>\n",
              "      <td>0.008509</td>\n",
              "      <td>0.007969</td>\n",
              "    </tr>\n",
              "    <tr>\n",
              "      <th>3</th>\n",
              "      <td>182</td>\n",
              "      <td>23557</td>\n",
              "      <td>200</td>\n",
              "      <td>22388</td>\n",
              "      <td>0.007667</td>\n",
              "      <td>0.008854</td>\n",
              "    </tr>\n",
              "    <tr>\n",
              "      <th>4</th>\n",
              "      <td>204</td>\n",
              "      <td>23535</td>\n",
              "      <td>178</td>\n",
              "      <td>22410</td>\n",
              "      <td>0.008593</td>\n",
              "      <td>0.007880</td>\n",
              "    </tr>\n",
              "    <tr>\n",
              "      <th>...</th>\n",
              "      <td>...</td>\n",
              "      <td>...</td>\n",
              "      <td>...</td>\n",
              "      <td>...</td>\n",
              "      <td>...</td>\n",
              "      <td>...</td>\n",
              "    </tr>\n",
              "    <tr>\n",
              "      <th>995</th>\n",
              "      <td>207</td>\n",
              "      <td>23532</td>\n",
              "      <td>175</td>\n",
              "      <td>22413</td>\n",
              "      <td>0.008720</td>\n",
              "      <td>0.007747</td>\n",
              "    </tr>\n",
              "    <tr>\n",
              "      <th>996</th>\n",
              "      <td>180</td>\n",
              "      <td>23559</td>\n",
              "      <td>202</td>\n",
              "      <td>22386</td>\n",
              "      <td>0.007582</td>\n",
              "      <td>0.008943</td>\n",
              "    </tr>\n",
              "    <tr>\n",
              "      <th>997</th>\n",
              "      <td>190</td>\n",
              "      <td>23549</td>\n",
              "      <td>192</td>\n",
              "      <td>22396</td>\n",
              "      <td>0.008004</td>\n",
              "      <td>0.008500</td>\n",
              "    </tr>\n",
              "    <tr>\n",
              "      <th>998</th>\n",
              "      <td>199</td>\n",
              "      <td>23540</td>\n",
              "      <td>183</td>\n",
              "      <td>22405</td>\n",
              "      <td>0.008383</td>\n",
              "      <td>0.008102</td>\n",
              "    </tr>\n",
              "    <tr>\n",
              "      <th>999</th>\n",
              "      <td>193</td>\n",
              "      <td>23546</td>\n",
              "      <td>189</td>\n",
              "      <td>22399</td>\n",
              "      <td>0.008130</td>\n",
              "      <td>0.008367</td>\n",
              "    </tr>\n",
              "  </tbody>\n",
              "</table>\n",
              "<p>1000 rows × 6 columns</p>\n",
              "</div>"
            ],
            "text/plain": [
              "     conv_a  no_conv_a  conv_b  no_conv_b    a_rate    b_rate\n",
              "0       196      23543     186      22402  0.008256  0.008234\n",
              "1       182      23557     200      22388  0.007667  0.008854\n",
              "2       202      23537     180      22408  0.008509  0.007969\n",
              "3       182      23557     200      22388  0.007667  0.008854\n",
              "4       204      23535     178      22410  0.008593  0.007880\n",
              "..      ...        ...     ...        ...       ...       ...\n",
              "995     207      23532     175      22413  0.008720  0.007747\n",
              "996     180      23559     202      22386  0.007582  0.008943\n",
              "997     190      23549     192      22396  0.008004  0.008500\n",
              "998     199      23540     183      22405  0.008383  0.008102\n",
              "999     193      23546     189      22399  0.008130  0.008367\n",
              "\n",
              "[1000 rows x 6 columns]"
            ]
          },
          "metadata": {
            "tags": []
          },
          "execution_count": 44
        }
      ]
    },
    {
      "cell_type": "code",
      "metadata": {
        "id": "MmgvJ1G19KS2"
      },
      "source": [
        "perm_results['diff'] = 1 - (perm_results['b_rate'] / perm_results['a_rate'])"
      ],
      "execution_count": 45,
      "outputs": []
    },
    {
      "cell_type": "code",
      "metadata": {
        "colab": {
          "base_uri": "https://localhost:8080/",
          "height": 369
        },
        "id": "GmJH1FEX9YFM",
        "outputId": "5f14036d-b7ce-4433-b07f-0d3ab6714b38"
      },
      "source": [
        "sns.displot(perm_results['diff'])\n",
        "plt.axvline(diferencia_proporcion);"
      ],
      "execution_count": 46,
      "outputs": [
        {
          "output_type": "display_data",
          "data": {
            "image/png": "[encoded data removed]",
            "text/plain": [
              "<Figure size 360x360 with 1 Axes>"
            ]
          },
          "metadata": {
            "tags": [],
            "needs_background": "light"
          }
        }
      ]
    },
    {
      "cell_type": "code",
      "metadata": {
        "colab": {
          "base_uri": "https://localhost:8080/"
        },
        "id": "XfGnbxae9_9W",
        "outputId": "63a094ba-482f-4caf-c91b-8859c5dfe451"
      },
      "source": [
        "p = (perm_results['diff'] >= diferencia_proporcion).sum() / perm_results.shape[0]\n",
        "print(p*100, \"%\")"
      ],
      "execution_count": 47,
      "outputs": [
        {
          "output_type": "stream",
          "text": [
            "41.8 %\n"
          ],
          "name": "stdout"
        }
      ]
    },
    {
      "cell_type": "markdown",
      "metadata": {
        "id": "xiiQpf0MA73h"
      },
      "source": [
        "**Reto 1**\n",
        "Pruebas A/B\n",
        "\n",
        "- Practicar evaluar los resultados de una Prueba A/B"
      ]
    },
    {
      "cell_type": "markdown",
      "metadata": {
        "id": "Qm7vo93IBDoX"
      },
      "source": [
        "**a) Evaluando una prueba A/B de flujo de ventas¶**\n",
        "\n",
        "1.\tPrimero cuantifica cuál de los flujos de ventas fue más efectivo y en qué proporción.\n",
        "2.\tDespués aplica el test de permutación:\n",
        "   - A.\tCombina los resultados de ambos grupos en un mismo conjunto de datos\n",
        "   - B.\tRevuelve los datos\n",
        "   - C.\tUsando muestreo aleatorio sin reposición, construye un nuevo grupo A del mismo tamaño que el original.\n",
        "   - D.\tEl resto de los datos conforman nuestro nuevo grupo B.\n",
        "   - E.\tCuantifica la métrica o estadística que calculaste con los grupos originales y guarda el resultado.\n",
        "   - F.\tRepite los pasos 1-5 R veces para obtener una distribución de la estadística de interés.\n",
        "3.\tGrafica tus resultados en un histograma y grafica una línea vertical que marque el resultado del experimento.\n",
        "4.\tCuantifica el Valor P y evalúa la significación estadística con un Alfa de 0.05 (5%).\n",
        "5.\tComenta tus hallazgos con tus compañeros y la experta.\n"
      ]
    },
    {
      "cell_type": "code",
      "metadata": {
        "colab": {
          "base_uri": "https://localhost:8080/",
          "height": 407
        },
        "id": "TokbWNtb_SwI",
        "outputId": "38c1962b-f037-40c6-f974-aebebdd047d3"
      },
      "source": [
        "#Nuevo df\n",
        "df2 = pd.read_csv(\"/content/drive/MyDrive/Datasets/ab_test-sales_pipeline-2.csv\")\n",
        "df2"
      ],
      "execution_count": 49,
      "outputs": [
        {
          "output_type": "execute_result",
          "data": {
            "text/html": [
              "<div>\n",
              "<style scoped>\n",
              "    .dataframe tbody tr th:only-of-type {\n",
              "        vertical-align: middle;\n",
              "    }\n",
              "\n",
              "    .dataframe tbody tr th {\n",
              "        vertical-align: top;\n",
              "    }\n",
              "\n",
              "    .dataframe thead th {\n",
              "        text-align: right;\n",
              "    }\n",
              "</style>\n",
              "<table border=\"1\" class=\"dataframe\">\n",
              "  <thead>\n",
              "    <tr style=\"text-align: right;\">\n",
              "      <th></th>\n",
              "      <th>test</th>\n",
              "      <th>conversion</th>\n",
              "      <th>no conversion</th>\n",
              "    </tr>\n",
              "  </thead>\n",
              "  <tbody>\n",
              "    <tr>\n",
              "      <th>0</th>\n",
              "      <td>A</td>\n",
              "      <td>0</td>\n",
              "      <td>1</td>\n",
              "    </tr>\n",
              "    <tr>\n",
              "      <th>1</th>\n",
              "      <td>B</td>\n",
              "      <td>0</td>\n",
              "      <td>1</td>\n",
              "    </tr>\n",
              "    <tr>\n",
              "      <th>2</th>\n",
              "      <td>A</td>\n",
              "      <td>0</td>\n",
              "      <td>1</td>\n",
              "    </tr>\n",
              "    <tr>\n",
              "      <th>3</th>\n",
              "      <td>A</td>\n",
              "      <td>0</td>\n",
              "      <td>1</td>\n",
              "    </tr>\n",
              "    <tr>\n",
              "      <th>4</th>\n",
              "      <td>B</td>\n",
              "      <td>0</td>\n",
              "      <td>1</td>\n",
              "    </tr>\n",
              "    <tr>\n",
              "      <th>...</th>\n",
              "      <td>...</td>\n",
              "      <td>...</td>\n",
              "      <td>...</td>\n",
              "    </tr>\n",
              "    <tr>\n",
              "      <th>76322</th>\n",
              "      <td>B</td>\n",
              "      <td>0</td>\n",
              "      <td>1</td>\n",
              "    </tr>\n",
              "    <tr>\n",
              "      <th>76323</th>\n",
              "      <td>A</td>\n",
              "      <td>0</td>\n",
              "      <td>1</td>\n",
              "    </tr>\n",
              "    <tr>\n",
              "      <th>76324</th>\n",
              "      <td>B</td>\n",
              "      <td>0</td>\n",
              "      <td>1</td>\n",
              "    </tr>\n",
              "    <tr>\n",
              "      <th>76325</th>\n",
              "      <td>B</td>\n",
              "      <td>1</td>\n",
              "      <td>0</td>\n",
              "    </tr>\n",
              "    <tr>\n",
              "      <th>76326</th>\n",
              "      <td>B</td>\n",
              "      <td>0</td>\n",
              "      <td>1</td>\n",
              "    </tr>\n",
              "  </tbody>\n",
              "</table>\n",
              "<p>76327 rows × 3 columns</p>\n",
              "</div>"
            ],
            "text/plain": [
              "      test  conversion  no conversion\n",
              "0        A           0              1\n",
              "1        B           0              1\n",
              "2        A           0              1\n",
              "3        A           0              1\n",
              "4        B           0              1\n",
              "...    ...         ...            ...\n",
              "76322    B           0              1\n",
              "76323    A           0              1\n",
              "76324    B           0              1\n",
              "76325    B           1              0\n",
              "76326    B           0              1\n",
              "\n",
              "[76327 rows x 3 columns]"
            ]
          },
          "metadata": {
            "tags": []
          },
          "execution_count": 49
        }
      ]
    },
    {
      "cell_type": "code",
      "metadata": {
        "id": "dWiTz9lHBvig"
      },
      "source": [
        "#1. Primero cuantifica cuál de los flujos de ventas fue más efectivo y en qué proporción\n",
        "total_count = df2.groupby('test')[['conversion', 'no conversion']].sum()"
      ],
      "execution_count": 50,
      "outputs": []
    },
    {
      "cell_type": "code",
      "metadata": {
        "colab": {
          "base_uri": "https://localhost:8080/",
          "height": 138
        },
        "id": "VqhDnzgYC7Zs",
        "outputId": "896f4701-c131-49ea-d193-68c9319fcec5"
      },
      "source": [
        "total_count['rate'] = total_count['conversion'] / (total_count['conversion'] + total_count['no conversion'])\n",
        "total_count"
      ],
      "execution_count": 51,
      "outputs": [
        {
          "output_type": "execute_result",
          "data": {
            "text/html": [
              "<div>\n",
              "<style scoped>\n",
              "    .dataframe tbody tr th:only-of-type {\n",
              "        vertical-align: middle;\n",
              "    }\n",
              "\n",
              "    .dataframe tbody tr th {\n",
              "        vertical-align: top;\n",
              "    }\n",
              "\n",
              "    .dataframe thead th {\n",
              "        text-align: right;\n",
              "    }\n",
              "</style>\n",
              "<table border=\"1\" class=\"dataframe\">\n",
              "  <thead>\n",
              "    <tr style=\"text-align: right;\">\n",
              "      <th></th>\n",
              "      <th>conversion</th>\n",
              "      <th>no conversion</th>\n",
              "      <th>rate</th>\n",
              "    </tr>\n",
              "    <tr>\n",
              "      <th>test</th>\n",
              "      <th></th>\n",
              "      <th></th>\n",
              "      <th></th>\n",
              "    </tr>\n",
              "  </thead>\n",
              "  <tbody>\n",
              "    <tr>\n",
              "      <th>A</th>\n",
              "      <td>4163</td>\n",
              "      <td>30576</td>\n",
              "      <td>0.119836</td>\n",
              "    </tr>\n",
              "    <tr>\n",
              "      <th>B</th>\n",
              "      <td>4841</td>\n",
              "      <td>36747</td>\n",
              "      <td>0.116404</td>\n",
              "    </tr>\n",
              "  </tbody>\n",
              "</table>\n",
              "</div>"
            ],
            "text/plain": [
              "      conversion  no conversion      rate\n",
              "test                                     \n",
              "A           4163          30576  0.119836\n",
              "B           4841          36747  0.116404"
            ]
          },
          "metadata": {
            "tags": []
          },
          "execution_count": 51
        }
      ]
    },
    {
      "cell_type": "code",
      "metadata": {
        "colab": {
          "base_uri": "https://localhost:8080/"
        },
        "id": "VUedgOCADV0W",
        "outputId": "6244c3e0-799f-4fed-9f34-9dc28b3b5971"
      },
      "source": [
        "diferencia_proporcion = 1 - (total_count.loc['B']['rate'] / total_count.loc['A']['rate'])\n",
        "diferencia_porcentaje = diferencia_proporcion *100\n",
        "print(f'El test A fue {diferencia_porcentaje:.2f}% más efectivo que B')"
      ],
      "execution_count": 52,
      "outputs": [
        {
          "output_type": "stream",
          "text": [
            "El test A fue 2.86% más efectivo que B\n"
          ],
          "name": "stdout"
        }
      ]
    },
    {
      "cell_type": "code",
      "metadata": {
        "colab": {
          "base_uri": "https://localhost:8080/"
        },
        "id": "SbdH-5LPDixJ",
        "outputId": "31e804b6-7ea3-4eb3-9663-36b09b188d82"
      },
      "source": [
        "# 2. Después aplica el test de permutación:\n",
        "# 2.A. Combina los resultados de ambos grupos en un mismo conjunto de datos\n",
        "todas_mediciones = df2[['conversion', 'no conversion']]\n",
        "total_grupos = df2['test'].value_counts()\n",
        "total_grupos"
      ],
      "execution_count": 54,
      "outputs": [
        {
          "output_type": "execute_result",
          "data": {
            "text/plain": [
              "B    41588\n",
              "A    34739\n",
              "Name: test, dtype: int64"
            ]
          },
          "metadata": {
            "tags": []
          },
          "execution_count": 54
        }
      ]
    },
    {
      "cell_type": "code",
      "metadata": {
        "id": "sEhbUsxQD1Rm"
      },
      "source": [
        "#2.B.\tRevuelve los datos\n",
        "#2.C.\tUsando muestreo aleatorio sin reposición, construye un nuevo grupo A del mismo tamaño que el original.\n",
        "#2.D.\tEl resto de los datos conforman nuestro nuevo grupo B.\n",
        "conv_a = []\n",
        "no_conv_a = []\n",
        "conv_b = []\n",
        "no_conv_b = []\n",
        "\n",
        "for _ in range(10000):\n",
        "    a = df2.sample(total_grupos['A'], replace=False)\n",
        "    conv_a.append(a['conversion'].sum())\n",
        "    no_conv_a.append(a['no conversion'].sum())\n",
        "\n",
        "    b = df2.loc[~df2.index.isin(a.index)]\n",
        "    conv_b.append(b['conversion'].sum())\n",
        "    no_conv_b.append(b['no conversion'].sum())"
      ],
      "execution_count": 56,
      "outputs": []
    },
    {
      "cell_type": "code",
      "metadata": {
        "id": "C6SfP_gyEili"
      },
      "source": [
        "#2. E.\tCuantifica la métrica o estadística que calculaste con los grupos originales y guarda el resultado.\n",
        "#2. F.\tRepite los pasos 1-5 R veces para obtener una distribución de la estadística de interés.\n",
        "perm_results2 = pd.DataFrame({\n",
        "    'conv_a': conv_a,\n",
        "    'no_conv_a': no_conv_a,\n",
        "    'conv_b': conv_b,\n",
        "    'no_conv_b': no_conv_b\n",
        "})"
      ],
      "execution_count": 57,
      "outputs": []
    },
    {
      "cell_type": "code",
      "metadata": {
        "colab": {
          "base_uri": "https://localhost:8080/",
          "height": 407
        },
        "id": "sCxumvY6FLu_",
        "outputId": "77231f0f-d3d0-40ae-d06a-e97618927f78"
      },
      "source": [
        "perm_results2['a_rate'] = perm_results2['conv_a'] / (perm_results2['conv_a'] + perm_results2['no_conv_a'])\n",
        "perm_results2['b_rate'] = perm_results2['conv_b'] / (perm_results2['conv_b'] + perm_results2['no_conv_b'])\n",
        "perm_results2"
      ],
      "execution_count": 58,
      "outputs": [
        {
          "output_type": "execute_result",
          "data": {
            "text/html": [
              "<div>\n",
              "<style scoped>\n",
              "    .dataframe tbody tr th:only-of-type {\n",
              "        vertical-align: middle;\n",
              "    }\n",
              "\n",
              "    .dataframe tbody tr th {\n",
              "        vertical-align: top;\n",
              "    }\n",
              "\n",
              "    .dataframe thead th {\n",
              "        text-align: right;\n",
              "    }\n",
              "</style>\n",
              "<table border=\"1\" class=\"dataframe\">\n",
              "  <thead>\n",
              "    <tr style=\"text-align: right;\">\n",
              "      <th></th>\n",
              "      <th>conv_a</th>\n",
              "      <th>no_conv_a</th>\n",
              "      <th>conv_b</th>\n",
              "      <th>no_conv_b</th>\n",
              "      <th>a_rate</th>\n",
              "      <th>b_rate</th>\n",
              "    </tr>\n",
              "  </thead>\n",
              "  <tbody>\n",
              "    <tr>\n",
              "      <th>0</th>\n",
              "      <td>4057</td>\n",
              "      <td>30682</td>\n",
              "      <td>4947</td>\n",
              "      <td>36641</td>\n",
              "      <td>0.116785</td>\n",
              "      <td>0.118953</td>\n",
              "    </tr>\n",
              "    <tr>\n",
              "      <th>1</th>\n",
              "      <td>4088</td>\n",
              "      <td>30651</td>\n",
              "      <td>4916</td>\n",
              "      <td>36672</td>\n",
              "      <td>0.117678</td>\n",
              "      <td>0.118207</td>\n",
              "    </tr>\n",
              "    <tr>\n",
              "      <th>2</th>\n",
              "      <td>4024</td>\n",
              "      <td>30715</td>\n",
              "      <td>4980</td>\n",
              "      <td>36608</td>\n",
              "      <td>0.115835</td>\n",
              "      <td>0.119746</td>\n",
              "    </tr>\n",
              "    <tr>\n",
              "      <th>3</th>\n",
              "      <td>4122</td>\n",
              "      <td>30617</td>\n",
              "      <td>4882</td>\n",
              "      <td>36706</td>\n",
              "      <td>0.118656</td>\n",
              "      <td>0.117390</td>\n",
              "    </tr>\n",
              "    <tr>\n",
              "      <th>4</th>\n",
              "      <td>4137</td>\n",
              "      <td>30602</td>\n",
              "      <td>4867</td>\n",
              "      <td>36721</td>\n",
              "      <td>0.119088</td>\n",
              "      <td>0.117029</td>\n",
              "    </tr>\n",
              "    <tr>\n",
              "      <th>...</th>\n",
              "      <td>...</td>\n",
              "      <td>...</td>\n",
              "      <td>...</td>\n",
              "      <td>...</td>\n",
              "      <td>...</td>\n",
              "      <td>...</td>\n",
              "    </tr>\n",
              "    <tr>\n",
              "      <th>9995</th>\n",
              "      <td>4110</td>\n",
              "      <td>30629</td>\n",
              "      <td>4894</td>\n",
              "      <td>36694</td>\n",
              "      <td>0.118311</td>\n",
              "      <td>0.117678</td>\n",
              "    </tr>\n",
              "    <tr>\n",
              "      <th>9996</th>\n",
              "      <td>4079</td>\n",
              "      <td>30660</td>\n",
              "      <td>4925</td>\n",
              "      <td>36663</td>\n",
              "      <td>0.117418</td>\n",
              "      <td>0.118424</td>\n",
              "    </tr>\n",
              "    <tr>\n",
              "      <th>9997</th>\n",
              "      <td>4041</td>\n",
              "      <td>30698</td>\n",
              "      <td>4963</td>\n",
              "      <td>36625</td>\n",
              "      <td>0.116325</td>\n",
              "      <td>0.119337</td>\n",
              "    </tr>\n",
              "    <tr>\n",
              "      <th>9998</th>\n",
              "      <td>4039</td>\n",
              "      <td>30700</td>\n",
              "      <td>4965</td>\n",
              "      <td>36623</td>\n",
              "      <td>0.116267</td>\n",
              "      <td>0.119385</td>\n",
              "    </tr>\n",
              "    <tr>\n",
              "      <th>9999</th>\n",
              "      <td>4037</td>\n",
              "      <td>30702</td>\n",
              "      <td>4967</td>\n",
              "      <td>36621</td>\n",
              "      <td>0.116209</td>\n",
              "      <td>0.119433</td>\n",
              "    </tr>\n",
              "  </tbody>\n",
              "</table>\n",
              "<p>10000 rows × 6 columns</p>\n",
              "</div>"
            ],
            "text/plain": [
              "      conv_a  no_conv_a  conv_b  no_conv_b    a_rate    b_rate\n",
              "0       4057      30682    4947      36641  0.116785  0.118953\n",
              "1       4088      30651    4916      36672  0.117678  0.118207\n",
              "2       4024      30715    4980      36608  0.115835  0.119746\n",
              "3       4122      30617    4882      36706  0.118656  0.117390\n",
              "4       4137      30602    4867      36721  0.119088  0.117029\n",
              "...      ...        ...     ...        ...       ...       ...\n",
              "9995    4110      30629    4894      36694  0.118311  0.117678\n",
              "9996    4079      30660    4925      36663  0.117418  0.118424\n",
              "9997    4041      30698    4963      36625  0.116325  0.119337\n",
              "9998    4039      30700    4965      36623  0.116267  0.119385\n",
              "9999    4037      30702    4967      36621  0.116209  0.119433\n",
              "\n",
              "[10000 rows x 6 columns]"
            ]
          },
          "metadata": {
            "tags": []
          },
          "execution_count": 58
        }
      ]
    },
    {
      "cell_type": "code",
      "metadata": {
        "id": "fUd5g8BDFXCc"
      },
      "source": [
        "perm_results2['diff'] = 1 - (perm_results2['b_rate'] / perm_results2['a_rate'])"
      ],
      "execution_count": 59,
      "outputs": []
    },
    {
      "cell_type": "code",
      "metadata": {
        "id": "TshYdnz-FirB"
      },
      "source": [
        "#3. Grafica tus resultados en un histograma y grafica una línea vertical que marque el resultado del experimento.\n",
        "sns.displot(perm_results2['diff'])\n",
        "plt.axvline(diferencia_proporcion);"
      ],
      "execution_count": null,
      "outputs": []
    },
    {
      "cell_type": "code",
      "metadata": {
        "id": "cSnJmwbtFmQW"
      },
      "source": [
        "#4. 4.\tCuantifica el Valor P y evalúa la significación estadística con un Alfa de 0.05 (5%).\n",
        "p = (perm_results['diff'] >= diferencia_proporcion).sum() / perm_results.shape[0]\n",
        "print(p*100, \"%\")"
      ],
      "execution_count": null,
      "outputs": []
    },
    {
      "cell_type": "markdown",
      "metadata": {
        "id": "vAp0vfTuH-6W"
      },
      "source": [
        "####**Procesamiento de Lenguaje Natural**"
      ]
    },
    {
      "cell_type": "markdown",
      "metadata": {
        "id": "DmNY9f3IIHJ3"
      },
      "source": [
        "**Ejemplo 2**\n",
        "Regex\n",
        "\n",
        "- Repasar algunas reglas básicas de las Expresiones Regulares y su aplicación usando pandas"
      ]
    },
    {
      "cell_type": "code",
      "metadata": {
        "id": "SiXH3BEvIXzV"
      },
      "source": [
        "#Librería para manejar y analizar expresiones regulares\n",
        "import re"
      ],
      "execution_count": 3,
      "outputs": []
    },
    {
      "cell_type": "code",
      "metadata": {
        "colab": {
          "base_uri": "https://localhost:8080/",
          "height": 529
        },
        "id": "8zIzZPUrJEW_",
        "outputId": "eee1bd5b-7576-4dc8-df77-9c35b8b8b137"
      },
      "source": [
        "#Dataset libros\n",
        "df = pd.read_json(\"/content/drive/MyDrive/Datasets/new_york_times_bestsellers-clean.json\")\n",
        "df.head()"
      ],
      "execution_count": 4,
      "outputs": [
        {
          "output_type": "execute_result",
          "data": {
            "text/html": [
              "<div>\n",
              "<style scoped>\n",
              "    .dataframe tbody tr th:only-of-type {\n",
              "        vertical-align: middle;\n",
              "    }\n",
              "\n",
              "    .dataframe tbody tr th {\n",
              "        vertical-align: top;\n",
              "    }\n",
              "\n",
              "    .dataframe thead th {\n",
              "        text-align: right;\n",
              "    }\n",
              "</style>\n",
              "<table border=\"1\" class=\"dataframe\">\n",
              "  <thead>\n",
              "    <tr style=\"text-align: right;\">\n",
              "      <th></th>\n",
              "      <th>amazon_product_url</th>\n",
              "      <th>author</th>\n",
              "      <th>description</th>\n",
              "      <th>publisher</th>\n",
              "      <th>title</th>\n",
              "      <th>oid</th>\n",
              "      <th>bestsellers_date.numberLong</th>\n",
              "      <th>published_date.numberLong</th>\n",
              "      <th>rank.numberInt</th>\n",
              "      <th>rank_last_week.numberInt</th>\n",
              "      <th>weeks_on_list.numberInt</th>\n",
              "      <th>price.numberDouble</th>\n",
              "    </tr>\n",
              "  </thead>\n",
              "  <tbody>\n",
              "    <tr>\n",
              "      <th>0</th>\n",
              "      <td>http://www.amazon.com/The-Host-Novel-Stephenie...</td>\n",
              "      <td>Stephenie Meyer</td>\n",
              "      <td>Aliens have taken control of the minds and bod...</td>\n",
              "      <td>Little, Brown</td>\n",
              "      <td>THE HOST</td>\n",
              "      <td>5b4aa4ead3089013507db18c</td>\n",
              "      <td>1211587200000</td>\n",
              "      <td>1212883200000</td>\n",
              "      <td>2</td>\n",
              "      <td>1</td>\n",
              "      <td>3</td>\n",
              "      <td>25.99</td>\n",
              "    </tr>\n",
              "    <tr>\n",
              "      <th>1</th>\n",
              "      <td>http://www.amazon.com/Love-Youre-With-Emily-Gi...</td>\n",
              "      <td>Emily Giffin</td>\n",
              "      <td>A woman's happy marriage is shaken when she en...</td>\n",
              "      <td>St. Martin's</td>\n",
              "      <td>LOVE THE ONE YOU'RE WITH</td>\n",
              "      <td>5b4aa4ead3089013507db18d</td>\n",
              "      <td>1211587200000</td>\n",
              "      <td>1212883200000</td>\n",
              "      <td>3</td>\n",
              "      <td>2</td>\n",
              "      <td>2</td>\n",
              "      <td>24.95</td>\n",
              "    </tr>\n",
              "    <tr>\n",
              "      <th>2</th>\n",
              "      <td>http://www.amazon.com/The-Front-Garano-Patrici...</td>\n",
              "      <td>Patricia Cornwell</td>\n",
              "      <td>A Massachusetts state investigator and his tea...</td>\n",
              "      <td>Putnam</td>\n",
              "      <td>THE FRONT</td>\n",
              "      <td>5b4aa4ead3089013507db18e</td>\n",
              "      <td>1211587200000</td>\n",
              "      <td>1212883200000</td>\n",
              "      <td>4</td>\n",
              "      <td>0</td>\n",
              "      <td>1</td>\n",
              "      <td>22.95</td>\n",
              "    </tr>\n",
              "    <tr>\n",
              "      <th>3</th>\n",
              "      <td>http://www.amazon.com/Snuff-Chuck-Palahniuk/dp...</td>\n",
              "      <td>Chuck Palahniuk</td>\n",
              "      <td>An aging porn queens aims to cap her career by...</td>\n",
              "      <td>Doubleday</td>\n",
              "      <td>SNUFF</td>\n",
              "      <td>5b4aa4ead3089013507db18f</td>\n",
              "      <td>1211587200000</td>\n",
              "      <td>1212883200000</td>\n",
              "      <td>5</td>\n",
              "      <td>0</td>\n",
              "      <td>1</td>\n",
              "      <td>24.95</td>\n",
              "    </tr>\n",
              "    <tr>\n",
              "      <th>4</th>\n",
              "      <td>http://www.amazon.com/Sundays-at-Tiffanys-Jame...</td>\n",
              "      <td>James Patterson and Gabrielle Charbonnet</td>\n",
              "      <td>A woman finds an unexpected love</td>\n",
              "      <td>Little, Brown</td>\n",
              "      <td>SUNDAYS AT TIFFANY’S</td>\n",
              "      <td>5b4aa4ead3089013507db190</td>\n",
              "      <td>1211587200000</td>\n",
              "      <td>1212883200000</td>\n",
              "      <td>6</td>\n",
              "      <td>3</td>\n",
              "      <td>4</td>\n",
              "      <td>24.99</td>\n",
              "    </tr>\n",
              "  </tbody>\n",
              "</table>\n",
              "</div>"
            ],
            "text/plain": [
              "                                  amazon_product_url  ... price.numberDouble\n",
              "0  http://www.amazon.com/The-Host-Novel-Stephenie...  ...              25.99\n",
              "1  http://www.amazon.com/Love-Youre-With-Emily-Gi...  ...              24.95\n",
              "2  http://www.amazon.com/The-Front-Garano-Patrici...  ...              22.95\n",
              "3  http://www.amazon.com/Snuff-Chuck-Palahniuk/dp...  ...              24.95\n",
              "4  http://www.amazon.com/Sundays-at-Tiffanys-Jame...  ...              24.99\n",
              "\n",
              "[5 rows x 12 columns]"
            ]
          },
          "metadata": {
            "tags": []
          },
          "execution_count": 4
        }
      ]
    },
    {
      "cell_type": "code",
      "metadata": {
        "colab": {
          "base_uri": "https://localhost:8080/"
        },
        "id": "44eZ29B_JTj9",
        "outputId": "bb43a501-0f95-4604-fb23-872746e97781"
      },
      "source": [
        "#Agrupar por título y trabajar por descripción\n",
        "group_title = df.groupby('title')['description'].max()\n",
        "group_title.head()"
      ],
      "execution_count": 5,
      "outputs": [
        {
          "output_type": "execute_result",
          "data": {
            "text/plain": [
              "title\n",
              "10TH ANNIVERSARY            Detective Lindsay Boxer and the Women’s Murder...\n",
              "11TH HOUR                   Detective Lindsay Boxer and the Women’s Murder...\n",
              "1225 CHRISTMAS TREE LANE    Puppies and an ex-husband loom large in the la...\n",
              "1356                        In the fourth book of the Grail Quest series, ...\n",
              "1Q84                        In 1980s Tokyo, a woman who punishes perpetrat...\n",
              "Name: description, dtype: object"
            ]
          },
          "metadata": {
            "tags": []
          },
          "execution_count": 5
        }
      ]
    },
    {
      "cell_type": "code",
      "metadata": {
        "colab": {
          "base_uri": "https://localhost:8080/"
        },
        "id": "HbcEK0UKJo0Q",
        "outputId": "cad7dfbe-badb-4ed1-82d9-874cb14fc774"
      },
      "source": [
        "#En Python para string con pandas se tiene una función \"str\" con la cual se revisan las funciones dentro de texto \"contains\"\n",
        "group_title[group_title.str.contains('women')]"
      ],
      "execution_count": 6,
      "outputs": [
        {
          "output_type": "execute_result",
          "data": {
            "text/plain": [
              "title\n",
              "BONEMAN'S DAUGHTERS                            The hunt for a serial killer of young women.\n",
              "CHASING HARRY WINSTON                     Three glamorous friends, New York women nearin...\n",
              "GETTING TO HAPPY                          Revisiting the four women from “Waiting to Exh...\n",
              "HANNAH'S LIST                             A doctor receives a letter from his dead wife ...\n",
              "HEART OF THE MATTER                       The lives of two women — one married to a pedi...\n",
              "HER DAUGHTER'S DREAM                      Love between generations of women; the conclus...\n",
              "MAINE                                     Three generations of a family’s women take gui...\n",
              "NIGHT AND DAY                             Jesse Stone, the police chief of Paradise, Mas...\n",
              "PRAYERS FOR SALE                          A friendship between two women in a Colorado m...\n",
              "ROUGH COUNTRY                             Virgil Flowers investigates a string of murder...\n",
              "THE 9TH JUDGMENT                          Detective Lindsay Boxer pursues a killer who’s...\n",
              "THE BRIDE COLLECTOR                       An F.B.I. agent pursuing a killer who targets ...\n",
              "THE DOVEKEEPERS                           The lives of four women intersect during the s...\n",
              "THE LACE READER                           Secrets of a family of Salem women who foresee...\n",
              "THE SUPREMES AT EARL'S ALL-YOU-CAN-EAT    Four decades in the friendship of three middle...\n",
              "THE WEDDING QUILT                         The women of Elm Creek Manor reminisce as they...\n",
              "THEN CAME YOU                             This timely tale delves into women’s lives, wi...\n",
              "Name: description, dtype: object"
            ]
          },
          "metadata": {
            "tags": []
          },
          "execution_count": 6
        }
      ]
    },
    {
      "cell_type": "code",
      "metadata": {
        "colab": {
          "base_uri": "https://localhost:8080/"
        },
        "id": "I4GLlkS5KR-u",
        "outputId": "2bb72065-ce00-4881-b8f4-3bc903cbceca"
      },
      "source": [
        "#Para buscar patrones, meter los elementos en corchetes []\n",
        "group_title[group_title.str.contains('[0-9]')]"
      ],
      "execution_count": 7,
      "outputs": [
        {
          "output_type": "execute_result",
          "data": {
            "text/plain": [
              "title\n",
              "1Q84                          In 1980s Tokyo, a woman who punishes perpetrat...\n",
              "2030                          In 2030, the young resent the elderly for drai...\n",
              "A LESSON IN SECRETS           In the summer of 1932, Maisie Dobbs’s first as...\n",
              "A MEMORY OF LIGHT             The 14th and final novel in the Wheel of Time ...\n",
              "A MERCY                       In 17th-­century America, a slave mother urges...\n",
              "                                                    ...                        \n",
              "WAKING THE WITCH                 Book 11 of the Women of the Otherworld series.\n",
              "WHERE WE BELONG               A woman’s successful life is disrupted by the ...\n",
              "WHERE'D YOU GO, BERNADETTE    A renowned and reclusive Seattle architect dis...\n",
              "WHITE WITCH, BLACK CURSE      A witch who is also a bounty hunter avenges he...\n",
              "WORST CASE                    A New York detective raising 10 children alone...\n",
              "Name: description, Length: 123, dtype: object"
            ]
          },
          "metadata": {
            "tags": []
          },
          "execution_count": 7
        }
      ]
    },
    {
      "cell_type": "code",
      "metadata": {
        "colab": {
          "base_uri": "https://localhost:8080/"
        },
        "id": "pWDIJKgLLE56",
        "outputId": "943cf619-dcf7-468c-ad78-cff0ca27fc6d"
      },
      "source": [
        "#Numeros ordinales\n",
        "group_title[group_title.str.contains('[0-9]th')]"
      ],
      "execution_count": 70,
      "outputs": [
        {
          "output_type": "execute_result",
          "data": {
            "text/plain": [
              "title\n",
              "A MEMORY OF LIGHT                           The 14th and final novel in the Wheel of Time ...\n",
              "A MERCY                                     In 17th-­century America, a slave mother urges...\n",
              "A MIGHTY FORTRESS                           Book 4 of the Safehold series, which translate...\n",
              "ANGEL TIME                                  \\nA contract killer goes back to 13th-century ...\n",
              "ARCTIC DRIFT                                In his 20th adventure, Dirk Pitt searches for ...\n",
              "BONES ARE FOREVER                           The forensic anthropologist Temperance Brennan...\n",
              "BREAKING POINT                              The 13th novel featuring Joe Pickett, a Wyomin...\n",
              "DAMAGE CONTROL                              An elderly couple’s suicide-by-accident in the...\n",
              "DAYS OF GOLD                                In the 18th century, Edilean and a Scottish la...\n",
              "FLIRT                                       Anita Blake, vampire hunter, and the males in ...\n",
              "ISLAND BENEATH THE SEA                      The story of a mulatto slave in late-18th-cent...\n",
              "PIRATE LATITUDES                            In the 17th-century Caribbean, a British pirat...\n",
              "PORT MORTUARY                               In the 18th Kay Scarpetta novel, the forensic ...\n",
              "RED MIST                                    The chief medical examiner Kay Scarpetta, dire...\n",
              "SACRÉ BLEU                                  Vincent van Gogh’s friends in the 19th-century...\n",
              "STORM PREY                                  Lucas Davenport’s wife is a witness to a botch...\n",
              "STRATEGIC MOVES                             In the 19th Stone Barrington novel, the New Yo...\n",
              "TEA TIME FOR THE TRADITIONALLY BUILT        The 10th novel in the No. 1 Ladies’ Detective ...\n",
              "THE BONE BED                                A paleontologist’s disappearance in Canada tur...\n",
              "THE DOUBLE COMFORT SAFARI CLUB              The 11th novel in the No. 1 Ladies’ Detective ...\n",
              "THE LIMPOPO ACADEMY OF PRIVATE DETECTION    The 13th novel in the No. 1 Ladies’ Detective ...\n",
              "THE ROPE                                    In the 17th Anna Pigeon mystery, Barr returns ...\n",
              "THE SATURDAY BIG TENT WEDDING PARTY         The 12th novel in the No. 1 Ladies’ Detective ...\n",
              "THE SHOEMAKER’S WIFE                        Childhood sweethearts in turn-of-the-20th-cent...\n",
              "THE SOUND OF BROKEN GLASS                   Detectives Gemma Jones and her husband, Duncan...\n",
              "THE STORM                                                          The 10th NUMA Files novel.\n",
              "Name: description, dtype: object"
            ]
          },
          "metadata": {
            "tags": []
          },
          "execution_count": 70
        }
      ]
    },
    {
      "cell_type": "code",
      "metadata": {
        "colab": {
          "base_uri": "https://localhost:8080/"
        },
        "id": "HVtG9GnxKvYG",
        "outputId": "cf6a1898-919f-4ec0-a475-922deb05699d"
      },
      "source": [
        "#Para indicar case sensitive y elementos \"pegados\"\n",
        "group_title[group_title.str.contains('[0-9]'+'[a-z]', case=False)]"
      ],
      "execution_count": 69,
      "outputs": [
        {
          "output_type": "execute_result",
          "data": {
            "text/plain": [
              "title\n",
              "1Q84                                        In 1980s Tokyo, a woman who punishes perpetrat...\n",
              "A MEMORY OF LIGHT                           The 14th and final novel in the Wheel of Time ...\n",
              "A MERCY                                     In 17th-­century America, a slave mother urges...\n",
              "A MIGHTY FORTRESS                           Book 4 of the Safehold series, which translate...\n",
              "ANGEL TIME                                  \\nA contract killer goes back to 13th-century ...\n",
              "ANOTHER PIECE OF MY HEART                   A woman in her late 30s marries the man of her...\n",
              "ARCTIC DRIFT                                In his 20th adventure, Dirk Pitt searches for ...\n",
              "BONES ARE FOREVER                           The forensic anthropologist Temperance Brennan...\n",
              "BREAKING POINT                              The 13th novel featuring Joe Pickett, a Wyomin...\n",
              "DAMAGE CONTROL                              An elderly couple’s suicide-by-accident in the...\n",
              "DARK STORM                                  In the 23rd book in the Dark series, the Carpa...\n",
              "DAYS OF GOLD                                In the 18th century, Edilean and a Scottish la...\n",
              "DOWN THE DARKEST ROAD                       The residents of a California town in the mid-...\n",
              "FLIRT                                       Anita Blake, vampire hunter, and the males in ...\n",
              "HARDBALL                                    Searching for an old woman’s missing son, V. I...\n",
              "ISLAND BENEATH THE SEA                      The story of a mulatto slave in late-18th-cent...\n",
              "PIRATE LATITUDES                            In the 17th-century Caribbean, a British pirat...\n",
              "PORT MORTUARY                               In the 18th Kay Scarpetta novel, the forensic ...\n",
              "PRAYERS FOR SALE                            A friendship between two women in a Colorado m...\n",
              "RED MIST                                    The chief medical examiner Kay Scarpetta, dire...\n",
              "RULES OF CIVILITY                           A chance encounter and its consequences provid...\n",
              "SACRÉ BLEU                                  Vincent van Gogh’s friends in the 19th-century...\n",
              "SOUTH OF BROAD                              An unlikely group’s friendship from the ’60s t...\n",
              "STORM PREY                                  Lucas Davenport’s wife is a witness to a botch...\n",
              "STRATEGIC MOVES                             In the 19th Stone Barrington novel, the New Yo...\n",
              "SUMMER RENTAL                               Three friends in their mid-30s spend a month o...\n",
              "TEA TIME FOR THE TRADITIONALLY BUILT        The 10th novel in the No. 1 Ladies’ Detective ...\n",
              "THE BONE BED                                A paleontologist’s disappearance in Canada tur...\n",
              "THE DOUBLE COMFORT SAFARI CLUB              The 11th novel in the No. 1 Ladies’ Detective ...\n",
              "THE HOUSE I LOVED                           A widow defends her house, which is slated to ...\n",
              "THE INTERESTINGS                            Six friends meet in the 1970s at a summer arts...\n",
              "THE LIMPOPO ACADEMY OF PRIVATE DETECTION    The 13th novel in the No. 1 Ladies’ Detective ...\n",
              "THE PIANO TEACHER                           An Englishwoman in 1950s Hong Kong discovers d...\n",
              "THE POSTMISTRESS                            \\n\\nOrdinary life in a Massachusetts small tow...\n",
              "THE PRISONER OF HEAVEN                      In 1950s Barcelona, two friends pursue a  secr...\n",
              "THE ROPE                                    In the 17th Anna Pigeon mystery, Barr returns ...\n",
              "THE SATURDAY BIG TENT WEDDING PARTY         The 12th novel in the No. 1 Ladies’ Detective ...\n",
              "THE SENSE OF AN ENDING                      In this Man Booker Prize-winning novel, an une...\n",
              "THE SHOEMAKER’S WIFE                        Childhood sweethearts in turn-of-the-20th-cent...\n",
              "THE SOUND OF BROKEN GLASS                   Detectives Gemma Jones and her husband, Duncan...\n",
              "THE STORM                                                          The 10th NUMA Files novel.\n",
              "Name: description, dtype: object"
            ]
          },
          "metadata": {
            "tags": []
          },
          "execution_count": 69
        }
      ]
    },
    {
      "cell_type": "code",
      "metadata": {
        "colab": {
          "base_uri": "https://localhost:8080/"
        },
        "id": "ajmsJx6gLRIr",
        "outputId": "7ed9060c-a987-47c7-e3a5-4914c4d900ea"
      },
      "source": [
        "#Para incluir OR con símbolo |\n",
        "group_title[group_title.str.contains('woman|women', case=False)]"
      ],
      "execution_count": 74,
      "outputs": [
        {
          "output_type": "execute_result",
          "data": {
            "text/plain": [
              "title\n",
              "10TH ANNIVERSARY          Detective Lindsay Boxer and the Women’s Murder...\n",
              "11TH HOUR                 Detective Lindsay Boxer and the Women’s Murder...\n",
              "1Q84                      In 1980s Tokyo, a woman who punishes perpetrat...\n",
              "A CEDAR COVE CHRISTMAS    A pregnant woman shows up in Cedar Cove on Chr...\n",
              "A CHANGE IN ALTITUDE      A young woman’s life is transformed by a mount...\n",
              "                                                ...                        \n",
              "THOSE IN PERIL            A private security agent battles pirates who h...\n",
              "WAKING THE WITCH             Book 11 of the Women of the Otherworld series.\n",
              "WHAT DOESN'T KILL YOU     A Hong Kong woman who works for the C.I.A. sea...\n",
              "WHERE WE BELONG           A woman’s successful life is disrupted by the ...\n",
              "WHILE MY SISTER SLEEPS    A woman makes discoveries about her sister and...\n",
              "Name: description, Length: 97, dtype: object"
            ]
          },
          "metadata": {
            "tags": []
          },
          "execution_count": 74
        }
      ]
    },
    {
      "cell_type": "code",
      "metadata": {
        "colab": {
          "base_uri": "https://localhost:8080/"
        },
        "id": "ImUJJPDSNAxa",
        "outputId": "53033543-6eee-414a-8563-50ef15eb09c4"
      },
      "source": [
        "#Otra forma para incluir y/o\n",
        "group_title[group_title.str.contains('wom[ae]n|m[ae]n', case=False)]"
      ],
      "execution_count": 77,
      "outputs": [
        {
          "output_type": "execute_result",
          "data": {
            "text/plain": [
              "title\n",
              "10TH ANNIVERSARY            Detective Lindsay Boxer and the Women’s Murder...\n",
              "11TH HOUR                   Detective Lindsay Boxer and the Women’s Murder...\n",
              "1225 CHRISTMAS TREE LANE    Puppies and an ex-husband loom large in the la...\n",
              "1Q84                        In 1980s Tokyo, a woman who punishes perpetrat...\n",
              "A CEDAR COVE CHRISTMAS      A pregnant woman shows up in Cedar Cove on Chr...\n",
              "                                                  ...                        \n",
              "WHERE WE BELONG             A woman’s successful life is disrupted by the ...\n",
              "WHILE MY SISTER SLEEPS      A woman makes discoveries about her sister and...\n",
              "WICKED APPETITE             A dangerous man needs Elizabeth Tucker’s help ...\n",
              "ZERO HISTORY                Several characters from “Spook Country” return...\n",
              "ZONE ONE                      Fighting zombies in post-apocalyptic Manhattan.\n",
              "Name: description, Length: 197, dtype: object"
            ]
          },
          "metadata": {
            "tags": []
          },
          "execution_count": 77
        }
      ]
    },
    {
      "cell_type": "code",
      "metadata": {
        "colab": {
          "base_uri": "https://localhost:8080/"
        },
        "id": "a6cOLSDgLi5c",
        "outputId": "b68ac75f-a794-4756-af0c-f6ecb75a0c8e"
      },
      "source": [
        "#Para reemplazar cualquier dígito y poner otro símbolo\n",
        "group_title.str.replace('\\d', 'x')"
      ],
      "execution_count": 76,
      "outputs": [
        {
          "output_type": "execute_result",
          "data": {
            "text/plain": [
              "title\n",
              "10TH ANNIVERSARY            Detective Lindsay Boxer and the Women’s Murder...\n",
              "11TH HOUR                   Detective Lindsay Boxer and the Women’s Murder...\n",
              "1225 CHRISTMAS TREE LANE    Puppies and an ex-husband loom large in the la...\n",
              "1356                        In the fourth book of the Grail Quest series, ...\n",
              "1Q84                        In xxxxs Tokyo, a woman who punishes perpetrat...\n",
              "                                                  ...                        \n",
              "Z                           A novel based on the lives of Zelda and F. Sco...\n",
              "ZERO DAY                       A military investigator uncovers a conspiracy.\n",
              "ZERO HISTORY                Several characters from “Spook Country” return...\n",
              "ZONE ONE                      Fighting zombies in post-apocalyptic Manhattan.\n",
              "ZOO                         A young biologist warns world leaders about th...\n",
              "Name: description, Length: 754, dtype: object"
            ]
          },
          "metadata": {
            "tags": []
          },
          "execution_count": 76
        }
      ]
    },
    {
      "cell_type": "markdown",
      "metadata": {
        "id": "l1c5zi7FMeH7"
      },
      "source": [
        "**Reto 2**\n",
        "Regex\n",
        "\n",
        "- Practicar expresiones regulares con un conjunto de datos real\n",
        "\n",
        "La columna 'text' contiene el texto de la evaluación, y ésa es la columna que nos interesa.\n",
        "1. Todas las evaluaciones que contengan la palabra 'food' (en minúsculas).\n",
        "1. Todas las evaluaciones que contengan algún número de dos digitos.\n",
        "1. Todas las evaluaciones que contengan algún porcentaje (uno o más digitos seguidos de un signo de porcentaje).\n",
        "1. Todas las evaluaciones que comiencen con la palabra 'Dog' o 'dog'.\n",
        "1. Todas las evaluaciones que terminen con el fragmento 'awesome.' (fíjate que hay específicamente un punto después de la palabra 'awesome').\n",
        "1. Todas las evaluaciones que contengan las palabras 'horrible' o 'terrible'.\n",
        "1. Todas las evaluaciones que contengan solamente letras minúsculas."
      ]
    },
    {
      "cell_type": "code",
      "metadata": {
        "colab": {
          "base_uri": "https://localhost:8080/",
          "height": 298
        },
        "id": "UCSTklfbMSF5",
        "outputId": "db17a45c-aa9d-44ab-ac27-7a9563895894"
      },
      "source": [
        "#Dataset reviews de comida\n",
        "df3 = pd.read_csv(\"/content/drive/MyDrive/Datasets/amazon_fine_food_reviews-clean.csv\")\n",
        "df3.head(2)"
      ],
      "execution_count": 80,
      "outputs": [
        {
          "output_type": "execute_result",
          "data": {
            "text/html": [
              "<div>\n",
              "<style scoped>\n",
              "    .dataframe tbody tr th:only-of-type {\n",
              "        vertical-align: middle;\n",
              "    }\n",
              "\n",
              "    .dataframe tbody tr th {\n",
              "        vertical-align: top;\n",
              "    }\n",
              "\n",
              "    .dataframe thead th {\n",
              "        text-align: right;\n",
              "    }\n",
              "</style>\n",
              "<table border=\"1\" class=\"dataframe\">\n",
              "  <thead>\n",
              "    <tr style=\"text-align: right;\">\n",
              "      <th></th>\n",
              "      <th>id</th>\n",
              "      <th>product_id</th>\n",
              "      <th>user_id</th>\n",
              "      <th>profile_name</th>\n",
              "      <th>helpfulness_numerator</th>\n",
              "      <th>helpfulness_denominator</th>\n",
              "      <th>score</th>\n",
              "      <th>time</th>\n",
              "      <th>summary</th>\n",
              "      <th>text</th>\n",
              "    </tr>\n",
              "  </thead>\n",
              "  <tbody>\n",
              "    <tr>\n",
              "      <th>0</th>\n",
              "      <td>258510</td>\n",
              "      <td>B00168V34W</td>\n",
              "      <td>A1672LH9S1XO70</td>\n",
              "      <td>Lorna J. Loomis \"Canadian Dog Fancier\"</td>\n",
              "      <td>13</td>\n",
              "      <td>14</td>\n",
              "      <td>3</td>\n",
              "      <td>1266796800</td>\n",
              "      <td>Misleading to refer to \"PODS\"</td>\n",
              "      <td>This coffee does NOT come in individual \"PODS\"...</td>\n",
              "    </tr>\n",
              "    <tr>\n",
              "      <th>1</th>\n",
              "      <td>207915</td>\n",
              "      <td>B000CQID2Y</td>\n",
              "      <td>A42CJC66XO0H7</td>\n",
              "      <td>Scott Schimmel \"A Butterfly Dreaming\"</td>\n",
              "      <td>2</td>\n",
              "      <td>2</td>\n",
              "      <td>5</td>\n",
              "      <td>1279497600</td>\n",
              "      <td>Delicious</td>\n",
              "      <td>I was a little skeptical after looking at the ...</td>\n",
              "    </tr>\n",
              "  </tbody>\n",
              "</table>\n",
              "</div>"
            ],
            "text/plain": [
              "       id  ...                                               text\n",
              "0  258510  ...  This coffee does NOT come in individual \"PODS\"...\n",
              "1  207915  ...  I was a little skeptical after looking at the ...\n",
              "\n",
              "[2 rows x 10 columns]"
            ]
          },
          "metadata": {
            "tags": []
          },
          "execution_count": 80
        }
      ]
    },
    {
      "cell_type": "code",
      "metadata": {
        "colab": {
          "base_uri": "https://localhost:8080/"
        },
        "id": "BmCmD05OPSc6",
        "outputId": "ef240a90-362a-4f10-aa4c-fcd86b952a63"
      },
      "source": [
        "df_text = df3.groupby('summary')['text'].max()\n",
        "df_text.head()"
      ],
      "execution_count": 83,
      "outputs": [
        {
          "output_type": "execute_result",
          "data": {
            "text/plain": [
              "summary\n",
              "\"A Slice of Heaven!\"                       I have to admit I was somewhat skeptical in de...\n",
              "\"BITS OF GRITTY PITS\"                      Peach is my favorite preserve along with black...\n",
              "\"Better than meat!\" says the carnivore.    I am a card-carrying carnivore.  Having said t...\n",
              "\"Clearly\" refreshing!                      I was pleasantly surprised by what I've tried ...\n",
              "\"Decent\"                                   I'm giving five stars because as \"K\" & \"T\" cup...\n",
              "Name: text, dtype: object"
            ]
          },
          "metadata": {
            "tags": []
          },
          "execution_count": 83
        }
      ]
    },
    {
      "cell_type": "code",
      "metadata": {
        "colab": {
          "base_uri": "https://localhost:8080/"
        },
        "id": "57O5IpyPOUHX",
        "outputId": "3ca9e712-1c51-4c94-e3cb-aa6044447c4e"
      },
      "source": [
        "# 1. Todas las evaluaciones que contengan la palabra 'food' (en minúsculas).\n",
        "df_text[df_text.str.contains('food', case=True)]"
      ],
      "execution_count": 84,
      "outputs": [
        {
          "output_type": "execute_result",
          "data": {
            "text/plain": [
              "summary\n",
              "\"Better than meat!\" says the carnivore.                 I am a card-carrying carnivore.  Having said t...\n",
              "\"Sugar\" with positive dental benefits                   I have purchased Ideal for about a year now bu...\n",
              "#1 Ingredient is Mostly Water                           I received two cases of Petite Cusine from Ama...\n",
              "*pant, pant* Yeah, we love it.  *pant, pant*            Sweettart:  Hi, my name is Sweettart, and this...\n",
              "... a little light on actual food                       I was overall disappointed with this basket.  ...\n",
              "                                                                              ...                        \n",
              "would be okay if they didnt get hard after 5 minutes    I originally bought the Zuke's Treats for Cats...\n",
              "yum yum, but pricey                                     These are pricey, but they are tasty.  You can...\n",
              "yum...                                                  my cats told me this stuff is delicious. and i...\n",
              "yumm a lumm                                             Love these cookies.<br />Having been stuck in ...\n",
              "~*~*~NO MORE URINARY TRACT INFECTIONS~*~*~              My cat is 10 years old and he used to get UTI'...\n",
              "Name: text, Length: 1574, dtype: object"
            ]
          },
          "metadata": {
            "tags": []
          },
          "execution_count": 84
        }
      ]
    },
    {
      "cell_type": "code",
      "metadata": {
        "colab": {
          "base_uri": "https://localhost:8080/"
        },
        "id": "3WKKxRU2P8FC",
        "outputId": "7be9a89e-3499-43cd-99e1-940f65050545"
      },
      "source": [
        "# 2. Todas las evaluaciones que contengan algún número de dos digitos.\n",
        "df_text[df_text.str.contains('[0-9]'+'[0-9]')]\n",
        "# Otra forma \\d{2}   Es decir: dígito con dos ocurrencias\n",
        "# Dos dígitos exactamente: \\d\\d"
      ],
      "execution_count": 85,
      "outputs": [
        {
          "output_type": "execute_result",
          "data": {
            "text/plain": [
              "summary\n",
              "\"Please, they're dead. It's a little late to be neurotic.\"    Oh, snap, that's right, Alec Baldwin once upon...\n",
              "\"Regular\" shipments of Bran Flakes                            I ordered Kellogs Bran Flakes on Subscribe & S...\n",
              "\"Sugar\" with positive dental benefits                         I have purchased Ideal for about a year now bu...\n",
              "\"new\" Cheesoning tastes terrible                              We have been using Reeses Cheesoning for about...\n",
              "$44, Really?                                                  I love these bars more than a Reeses or Snicke...\n",
              "                                                                                    ...                        \n",
              "yummy but this is overpriced                                  i'm from new england and grew up drinking this...\n",
              "yummy calories!                                               lots of healthy ingredients, even DARK chocola...\n",
              "yummy treat with less mess                                    my 10mo daughter loves these little puffs. and...\n",
              "yummy, like the cheese cracker I loved as a kid.              I loved cheese crackers as a kid in the 1940s ...\n",
              "~*~*~NO MORE URINARY TRACT INFECTIONS~*~*~                    My cat is 10 years old and he used to get UTI'...\n",
              "Name: text, Length: 2739, dtype: object"
            ]
          },
          "metadata": {
            "tags": []
          },
          "execution_count": 85
        }
      ]
    },
    {
      "cell_type": "code",
      "metadata": {
        "colab": {
          "base_uri": "https://localhost:8080/"
        },
        "id": "lwexLbMPQJ-e",
        "outputId": "d3231802-dba8-4018-a899-91a3cef2324c"
      },
      "source": [
        "#3. Todas las evaluaciones que contengan algún porcentaje (uno o más digitos seguidos de un signo de porcentaje).\n",
        "df_text[df_text.str.contains('[0-9]'+'\\%')]"
      ],
      "execution_count": 86,
      "outputs": [
        {
          "output_type": "execute_result",
          "data": {
            "text/plain": [
              "summary\n",
              "**********  READ THIS FIRST PLEASE ************    First off, the initial arrival:  It came in a ...\n",
              "100% Natural or Chocolate covered for me           I bought Blue Diamond Natural Chocolate almond...\n",
              "70% Robusto                                        The worst thing is that they do not list the f...\n",
              "80% of a good on the go tea experience             This is a decent set to take with you for good...\n",
              "A Wacky Entertaining Look At The Afterlife         If this is what the afterlife is going to be l...\n",
              "                                                                         ...                        \n",
              "teateatea                                          WOW!!!!!!!!<br />A sensational creation! Subtl...\n",
              "the canadian standard for pure is NOT 100 %        to the best of my knowledge Maple syrup from C...\n",
              "three words exactly                                Tasty, tasty, tasty! Arrived  quickly, was ver...\n",
              "too coarse for espresso                            This coffee is ground too coarsely to make dec...\n",
              "very gentle custard, and British cooking. too!     This Devon custard is special.  Like it very m...\n",
              "Name: text, Length: 354, dtype: object"
            ]
          },
          "metadata": {
            "tags": []
          },
          "execution_count": 86
        }
      ]
    },
    {
      "cell_type": "code",
      "metadata": {
        "colab": {
          "base_uri": "https://localhost:8080/"
        },
        "id": "EhFGPGBUQVp9",
        "outputId": "98f9320d-05d1-4e6e-c76d-84928fe9c0ed"
      },
      "source": [
        "#4. Todas las evaluaciones que comiencen con la palabra 'Dog' o 'dog'.\n",
        "df_text[df_text.str.contains('^dog', case=False)]"
      ],
      "execution_count": 89,
      "outputs": [
        {
          "output_type": "execute_result",
          "data": {
            "text/plain": [
              "summary\n",
              "Stop the scratching!        Dogs probably don't really want to spend most ...\n",
              "Tasty but use care          Dog loves these. Eats them quickly and without...\n",
              "They kind of like it....    Dogs liked it \"okay.\"  Did NOT give it th the ...\n",
              "Name: text, dtype: object"
            ]
          },
          "metadata": {
            "tags": []
          },
          "execution_count": 89
        }
      ]
    },
    {
      "cell_type": "code",
      "metadata": {
        "colab": {
          "base_uri": "https://localhost:8080/"
        },
        "id": "w8P7Xvk_QeQ0",
        "outputId": "f5b0413f-1c17-482f-8300-1d5b92f6d272"
      },
      "source": [
        "#5. Todas las evaluaciones que terminen con el fragmento 'awesome.' (fíjate que hay específicamente un punto después de la palabra 'awesome').\n",
        "#$\tmatches end of string\n",
        "df_text[df_text.str.contains('awesome\\.$', case=False)]\n",
        "# El punto \".\" es un caracter especial que signific \"cualquier caracter\", por tanto no se puede utilizar directamente, sino con diagonal invertida antes."
      ],
      "execution_count": 90,
      "outputs": [
        {
          "output_type": "execute_result",
          "data": {
            "text/plain": [
              "summary\n",
              "Addicting Drink                                        This is a deliscious drink.I have trouble keep...\n",
              "Best brownies ever.  EVER.                             My boyfriend and I have been trying various bo...\n",
              "I love the fact that it comes with a ball.             The toy seems pretty durable which is a big wi...\n",
              "I prefer Traditional Medicinals \"Mother's Milk Tea\"    If you want to improve your milk production, t...\n",
              "Love this movie!!                                      I've always loved Beetlejuice and it's no surp...\n",
              "PURE HEAVEN!                                           I am a frequent purchaser on Amazon, yet I can...\n",
              "These Are The Best                                     After eating these you'll Never want another S...\n",
              "boulder salt and malt vinegar chips are way better     These are decent, but if you want a realllly g...\n",
              "delicious, crunchy                                     these are awesome. though they're gluten free,...\n",
              "Name: text, dtype: object"
            ]
          },
          "metadata": {
            "tags": []
          },
          "execution_count": 90
        }
      ]
    },
    {
      "cell_type": "code",
      "metadata": {
        "colab": {
          "base_uri": "https://localhost:8080/"
        },
        "id": "Yg7lu7j_REnX",
        "outputId": "2ae21df1-7ffb-4b3d-963d-acf209c48828"
      },
      "source": [
        "#6. Todas las evaluaciones que contengan las palabras 'horrible' o 'terrible'.\n",
        "df_text[df_text.str.contains('horrible|terrible', case=False)]"
      ],
      "execution_count": 91,
      "outputs": [
        {
          "output_type": "execute_result",
          "data": {
            "text/plain": [
              "summary\n",
              "\"Sugar\" with positive dental benefits                              I have purchased Ideal for about a year now bu...\n",
              "100% American Grown and Made!!                                     My dogs long for a nice mid-day snack before d...\n",
              "14 days so far, after a lot of researching online...               I am 34 year-old male who had terrible side ef...\n",
              "25% chance of rancid chips - No Thanks                             I have eaten the varieties of these for years ...\n",
              "A lot of dark and off-color pieces and plenty of dirt particles    Each time I eat this I get what feels like whe...\n",
              "                                                                                         ...                        \n",
              "tastes nothing like cotton candy                                   I have searched high and low for cotton candy ...\n",
              "tastes pretty bad                                                  I've tried a few super-hot sauces, and I find ...\n",
              "totally delicious BUT....                                          Okay, if all you are looking for is a GREAT ta...\n",
              "uhhh                                                               In the past, we have had ok luck with this bra...\n",
              "very hydrating                                                     I first tried this stuff in Japan, after a lon...\n",
              "Name: text, Length: 204, dtype: object"
            ]
          },
          "metadata": {
            "tags": []
          },
          "execution_count": 91
        }
      ]
    },
    {
      "cell_type": "code",
      "metadata": {
        "colab": {
          "base_uri": "https://localhost:8080/"
        },
        "id": "kDF5GtQsN3rb",
        "outputId": "1bcb8231-ee78-4d56-f4b6-ebb107b4fa4d"
      },
      "source": [
        "#7. Todas las evaluaciones que contengan solamente letras minúsculas.\n",
        "df_text[df_text.str.contains('^[a-z]+$', case=True)]"
      ],
      "execution_count": 96,
      "outputs": [
        {
          "output_type": "execute_result",
          "data": {
            "text/plain": [
              "Series([], Name: text, dtype: object)"
            ]
          },
          "metadata": {
            "tags": []
          },
          "execution_count": 96
        }
      ]
    },
    {
      "cell_type": "markdown",
      "metadata": {
        "id": "Cmv-_I8tTSaY"
      },
      "source": [
        "**Ejemplo 3**\n",
        "Nltk Text\n",
        "\n",
        "- Aprender a usar el objeto Text de la librería Nltk\n",
        "\n",
        "  - concordance\n",
        "  - similar\n",
        "  - common_contexts\n",
        "  - len"
      ]
    },
    {
      "cell_type": "code",
      "metadata": {
        "id": "V9XicZeQTttV"
      },
      "source": [
        "#Limpieza de dataset\n",
        "group_title = group_title.str.lower()\n",
        "group_title = group_title.str.strip() #Eliminar espacios de más\n",
        "group_title = group_title.str.replace('\\d', '')\n",
        "group_title = group_title.str.replace('\\\\n', '') #Salto de línea con ds\n",
        "group_title = group_title.str.replace('[^\\w\\s]', '')\n",
        "group_title = group_title.dropna()"
      ],
      "execution_count": 8,
      "outputs": []
    },
    {
      "cell_type": "code",
      "metadata": {
        "id": "34vxSpbQTE_P"
      },
      "source": [
        "import nltk\n",
        "import numpy as np"
      ],
      "execution_count": 18,
      "outputs": []
    },
    {
      "cell_type": "code",
      "metadata": {
        "colab": {
          "base_uri": "https://localhost:8080/"
        },
        "id": "QkQhbv1OWYyE",
        "outputId": "dac2d0a0-945e-4b34-9d30-906a07a40961"
      },
      "source": [
        "#Herramienta \"punkt\" Sentence Tokenizer. Divide el texto en lista\n",
        "nltk.download('punkt')"
      ],
      "execution_count": 19,
      "outputs": [
        {
          "output_type": "stream",
          "text": [
            "[nltk_data] Downloading package punkt to /root/nltk_data...\n",
            "[nltk_data]   Package punkt is already up-to-date!\n"
          ],
          "name": "stdout"
        },
        {
          "output_type": "execute_result",
          "data": {
            "text/plain": [
              "True"
            ]
          },
          "metadata": {
            "tags": []
          },
          "execution_count": 19
        }
      ]
    },
    {
      "cell_type": "code",
      "metadata": {
        "id": "vEAWBzpLTi3p"
      },
      "source": [
        "from nltk.tokenize import word_tokenize"
      ],
      "execution_count": 20,
      "outputs": []
    },
    {
      "cell_type": "code",
      "metadata": {
        "colab": {
          "base_uri": "https://localhost:8080/"
        },
        "id": "PXBVDPKdUT8m",
        "outputId": "0157a554-6948-4276-a7cc-8f1e5841d342"
      },
      "source": [
        "#Tokenizar para convertir texto en lista quitando la puntuación del lenguaje (en inglés)\n",
        "hola = \"Hola, esta es la muestra de tokenizar. Eliminación de puntuación en: 3, 2, 1;\"\n",
        "print(hola)"
      ],
      "execution_count": 21,
      "outputs": [
        {
          "output_type": "stream",
          "text": [
            "Hola, esta es la muestra de tokenizar. Eliminación de puntuación en: 3, 2, 1;\n"
          ],
          "name": "stdout"
        }
      ]
    },
    {
      "cell_type": "code",
      "metadata": {
        "colab": {
          "base_uri": "https://localhost:8080/"
        },
        "id": "Nws1d1DcR1sJ",
        "outputId": "e9b5b4e3-6ce9-49f5-bcf4-b1099e4c467a"
      },
      "source": [
        "hola = \"Hola, esta es la muestra de tokenizar. Eliminación de puntuación en: 3, 2, 1;\"\n",
        "print(word_tokenize(hola))"
      ],
      "execution_count": 22,
      "outputs": [
        {
          "output_type": "stream",
          "text": [
            "['Hola', ',', 'esta', 'es', 'la', 'muestra', 'de', 'tokenizar', '.', 'Eliminación', 'de', 'puntuación', 'en', ':', '3', ',', '2', ',', '1', ';']\n"
          ],
          "name": "stdout"
        }
      ]
    },
    {
      "cell_type": "code",
      "metadata": {
        "id": "qETbXPRNU2ma"
      },
      "source": [
        "tokenized = group_title.apply(nltk.word_tokenize)"
      ],
      "execution_count": 23,
      "outputs": []
    },
    {
      "cell_type": "code",
      "metadata": {
        "colab": {
          "base_uri": "https://localhost:8080/"
        },
        "id": "DFIaY5lFU9el",
        "outputId": "fcfc57ea-6c75-4a5c-8266-906f322f2189"
      },
      "source": [
        "#utilizar objeto text, unir todas las listas\n",
        "all_words = tokenized.sum()\n",
        "text = nltk.Text(all_words)\n",
        "\n",
        "text"
      ],
      "execution_count": 24,
      "outputs": [
        {
          "output_type": "execute_result",
          "data": {
            "text/plain": [
              "<Text: detective lindsay boxer and the womens murder club...>"
            ]
          },
          "metadata": {
            "tags": []
          },
          "execution_count": 24
        }
      ]
    },
    {
      "cell_type": "code",
      "metadata": {
        "colab": {
          "base_uri": "https://localhost:8080/"
        },
        "id": "fLPEj4szYcLs",
        "outputId": "209ed1b6-87d1-47d4-c463-d3b8d9627c8c"
      },
      "source": [
        "#Similaridad de distribución de palabra en contexto\n",
        "text.similar('woman')"
      ],
      "execution_count": 25,
      "outputs": [
        {
          "output_type": "stream",
          "text": [
            "man widow killer series war case doctor yearold friend boy target\n",
            "yacht murder nanny group secret witch massacre mystery family\n"
          ],
          "name": "stdout"
        }
      ]
    },
    {
      "cell_type": "code",
      "metadata": {
        "colab": {
          "base_uri": "https://localhost:8080/"
        },
        "id": "qJw0AHSbWmsZ",
        "outputId": "a31a0708-fe00-4057-9fd6-2633f7131084"
      },
      "source": [
        "#Muestra las apariciones de la palabra en su contexto, es decir, entre líneas de un renglón.\n",
        "# Se utiliza lines= para especificar cuantas líneas mostrar en resultados\n",
        "text.concordance('woman', lines=20)"
      ],
      "execution_count": 114,
      "outputs": [
        {
          "output_type": "stream",
          "text": [
            "Displaying 20 of 73 matches:\n",
            " battle of poitiers . in s tokyo , a woman who punishes perpetrators of domesti\n",
            " mishandling an autopsy . a pregnant woman shows up in cedar cove on christmas \n",
            "r in a room above a stable . a young woman ’ s life is transformed by a mountai\n",
            "othing is as it seems . a middle-age woman takes a cross-country road trip with\n",
            " . a young , beautiful and ambitious woman ruthlessly ascends the heights of th\n",
            "ng of humans and heavenly beings . a woman in her late s marries the man of her\n",
            "phecy about the end of the world . a woman ’ s life is complicated by the fact \n",
            "ichidian universe , a smuggler and a woman warrior must fight together to survi\n",
            "loosa trilogy , two lawmen protect a woman one of them loves . in french ’ s fo\n",
            "an arcane society novel . a southern woman is forever changed by the betrayals \n",
            "ips ’ s earlier novels reappear as a woman persuades a friend to call off her w\n",
            "ot to kill thousands of citizens . a woman asks the boston detective d.d . warr\n",
            "ker in pursuing a dangerous case . a woman joins with her estranged former step\n",
            "s f.b.i . agent falls in love with a woman with a past . lara callandine , an e\n",
            "ealthy connecticut town , a divorced woman takes a job as an assistant to a fam\n",
            "gs . twenty-two years after a dublin woman stood up her intended groom , her ab\n",
            "ikki heat investigates the case of a woman whose body is found in a freezer . t\n",
            "me . book of the forerunner saga . a woman whose daughter has a dangerous birth\n",
            "hosen for him . searching for an old woman ’ s missing son , v. i. warshawski ,\n",
            "ent involving the lawyer ’ s son . a woman ‘ s secret makes it hard for her to \n"
          ],
          "name": "stdout"
        }
      ]
    },
    {
      "cell_type": "code",
      "metadata": {
        "colab": {
          "base_uri": "https://localhost:8080/"
        },
        "id": "PRIolPYxZeRv",
        "outputId": "f6715a8c-8259-4b12-febd-d6fd41dd557a"
      },
      "source": [
        "text.concordance('man', lines=20)"
      ],
      "execution_count": 121,
      "outputs": [
        {
          "output_type": "stream",
          "text": [
            "Displaying 20 of 36 matches:\n",
            "s . a woman in her late s marries the man of her dreams and reaches out to his \n",
            "r hides his male lover . a former hit man for the mob who has become a doctor i\n",
            "y the betrayals of her mother and the man she loves . intrigue on the planet sa\n",
            "in . two agents are tracking the same man , a human trafficker who is now deali\n",
            "lorida for a missing girl and the con man who seduced her . a runaway girl and \n",
            "deployed to iraq . a distraught young man discovers that he has grown horns . a\n",
            "mpire of charis fights to survive . a man who kidnapped a -year-old girl contac\n",
            "i.a . stand in his way . when a young man finds a bag of diamonds , he gets the\n",
            "stigator maisie dobbs helps an indian man whose sister ’ s murder has been igno\n",
            "ttacks . a woman , her daughter and a man accused of murder evade the authoriti\n",
            "ooper becomes involved when a wealthy man assaults a maid in a manhattan hotel \n",
            "as christmas nears , a terminally ill man is preparing his family for his death\n",
            " air force base ; meanwhile , a young man ’ s mysterious death causes trouble a\n",
            "ed — before the f.b.i . can . after a man stumbles in front of the reporter mel\n",
            "er the woman he loved married another man , jake fisher discovers that neither \n",
            "eats on his wives , sends an innocent man to jail and tries to cash in on anoth\n",
            "ce brennan investigates the case of a man who seems to have died twice . jesse \n",
            "tor eve duncan undertakes a job for a man with dark secrets ; the first book in\n",
            "der at a remote abbey . a middle-aged man mourning his wife ’ s death is comfor\n",
            "r their high school romance ended , a man and woman who have gone their separat\n"
          ],
          "name": "stdout"
        }
      ]
    },
    {
      "cell_type": "code",
      "metadata": {
        "colab": {
          "base_uri": "https://localhost:8080/"
        },
        "id": "Mwf3vphJZbFp",
        "outputId": "28133082-054a-4dfc-c1d6-e3341084daac"
      },
      "source": [
        "#Palabras de contexto por orden de frecuencia\n",
        "text.common_contexts(['woman', 'man'])"
      ],
      "execution_count": 120,
      "outputs": [
        {
          "output_type": "stream",
          "text": [
            "a_who young_s a_in a_with\n"
          ],
          "name": "stdout"
        }
      ]
    },
    {
      "cell_type": "code",
      "metadata": {
        "colab": {
          "base_uri": "https://localhost:8080/"
        },
        "id": "AEkCWkgIX6WY",
        "outputId": "ac7d326f-7e2f-4664-aae2-e35daacb8f74"
      },
      "source": [
        "#Para eliminar palabras que no agregan mucho significado, palabras muy repetitivas como artículos, conjunciones, etc.\n",
        "nltk.download('stopwords')"
      ],
      "execution_count": 26,
      "outputs": [
        {
          "output_type": "stream",
          "text": [
            "[nltk_data] Downloading package stopwords to /root/nltk_data...\n",
            "[nltk_data]   Unzipping corpora/stopwords.zip.\n"
          ],
          "name": "stdout"
        },
        {
          "output_type": "execute_result",
          "data": {
            "text/plain": [
              "True"
            ]
          },
          "metadata": {
            "tags": []
          },
          "execution_count": 26
        }
      ]
    },
    {
      "cell_type": "code",
      "metadata": {
        "id": "_4aXz2SWYyQr"
      },
      "source": [
        "esp_stopwords = nltk.corpus.stopwords.words('spanish')"
      ],
      "execution_count": 27,
      "outputs": []
    },
    {
      "cell_type": "code",
      "metadata": {
        "id": "XcWTqEyNZDqB"
      },
      "source": [
        "#Generador palabra por palabra, más eficiente que un for\n",
        "all_words_without_stop = [word for word in all_words if word not in esp_stopwords]"
      ],
      "execution_count": 28,
      "outputs": []
    },
    {
      "cell_type": "code",
      "metadata": {
        "colab": {
          "base_uri": "https://localhost:8080/"
        },
        "id": "NdLj1v2vXc0A",
        "outputId": "748d4f72-c162-44b8-8772-af4d293ec1ce"
      },
      "source": [
        "#Riqueza léxica, que no se repitan tanto las palabras. Lista que no permite elementos repetidos.\n",
        "set(text)"
      ],
      "execution_count": 29,
      "outputs": [
        {
          "output_type": "execute_result",
          "data": {
            "text/plain": [
              "{'ancestors',\n",
              " 'riots',\n",
              " 'paul',\n",
              " 'loves',\n",
              " 'politicians',\n",
              " 'comic',\n",
              " 'tourists',\n",
              " 'consults',\n",
              " 'arms',\n",
              " 'restore',\n",
              " 'gothic',\n",
              " 'saudi',\n",
              " 'had',\n",
              " 'holocaust',\n",
              " 'savage',\n",
              " 'threats',\n",
              " 'save',\n",
              " 'puppies',\n",
              " 'las',\n",
              " 'heights',\n",
              " 'decker',\n",
              " 'runs',\n",
              " 'facts',\n",
              " 'recover',\n",
              " 'pregnant',\n",
              " 'hoyt',\n",
              " 'lands',\n",
              " 'service',\n",
              " 'fall',\n",
              " 'impressionism',\n",
              " 'worker',\n",
              " 'gold',\n",
              " 'earths',\n",
              " 'joseph',\n",
              " 'journey',\n",
              " 'lawmen',\n",
              " 'suffering',\n",
              " 'monte',\n",
              " 'memories',\n",
              " 'presumed',\n",
              " 'disturbs',\n",
              " 'regret',\n",
              " 'up',\n",
              " 'mechanic',\n",
              " 'shes',\n",
              " 'cash',\n",
              " 'compiles',\n",
              " 'serge',\n",
              " 'jones',\n",
              " 'torturer',\n",
              " 'awakening',\n",
              " 'spirit',\n",
              " 'small',\n",
              " 'return',\n",
              " 'transplant',\n",
              " 'events',\n",
              " 'otherwise',\n",
              " 'herself',\n",
              " 'could',\n",
              " 'clock',\n",
              " 'trawler',\n",
              " 'lover',\n",
              " 'insights',\n",
              " 'assassin',\n",
              " 'enterprise',\n",
              " 'wizard',\n",
              " 'palestine',\n",
              " 'colony',\n",
              " 'estranged',\n",
              " 'familys',\n",
              " 'ghosts',\n",
              " 'breaks',\n",
              " 'kid',\n",
              " 'hospitals',\n",
              " 'nfl',\n",
              " 'highgate',\n",
              " 'offers',\n",
              " 'momentous',\n",
              " 'then',\n",
              " 'vampiric',\n",
              " 'behavior',\n",
              " 'view',\n",
              " 'dance',\n",
              " 'evokes',\n",
              " 'secrets',\n",
              " 'jesus',\n",
              " 'builds',\n",
              " 'recent',\n",
              " 'punk',\n",
              " 'researcher',\n",
              " 'colorado',\n",
              " 'years',\n",
              " 'investigative',\n",
              " 'giant',\n",
              " 'saving',\n",
              " 'nor',\n",
              " 'smoke',\n",
              " 'engineer',\n",
              " 'romanov',\n",
              " 'decapitated',\n",
              " 'stoned',\n",
              " 'doctor',\n",
              " 'destroyed',\n",
              " 'used',\n",
              " 'trainer',\n",
              " 'washington',\n",
              " 'paranormal',\n",
              " 'mickey',\n",
              " 'wars',\n",
              " 'intersect',\n",
              " 'reunite',\n",
              " 'chicagos',\n",
              " 'mountains',\n",
              " 'copes',\n",
              " 'cases',\n",
              " 'threatens',\n",
              " 'boy',\n",
              " 'am',\n",
              " 'blast',\n",
              " 'labterrier',\n",
              " 'situation',\n",
              " 'trip',\n",
              " 'cop',\n",
              " 'cabrillo',\n",
              " 'knitting',\n",
              " 'rulers',\n",
              " 'sobriety',\n",
              " 'cowardly',\n",
              " 'vampires',\n",
              " 'nicholas',\n",
              " 'voice',\n",
              " 'italianamerican',\n",
              " 'cessna',\n",
              " 'translates',\n",
              " 'decision',\n",
              " 'bishop',\n",
              " 'clients',\n",
              " 'goddess',\n",
              " 'grid',\n",
              " 'reluctantly',\n",
              " 'blackmarket',\n",
              " 'renowned',\n",
              " 'power',\n",
              " 'crew',\n",
              " 'pending',\n",
              " 'elizabeth',\n",
              " 'owns',\n",
              " 'magician',\n",
              " 'nina',\n",
              " 'abandoned',\n",
              " 'rd',\n",
              " 'cloistered',\n",
              " 'jewish',\n",
              " 'he',\n",
              " 'ascends',\n",
              " 'immortal',\n",
              " 'plagued',\n",
              " 'cartel',\n",
              " 'camp',\n",
              " 'mate',\n",
              " 'age',\n",
              " 'exhausted',\n",
              " 'on',\n",
              " 'lawyer',\n",
              " 'loss',\n",
              " 'graduate',\n",
              " 'across',\n",
              " 'elusive',\n",
              " 'shepherd',\n",
              " 'irishamerican',\n",
              " 'stormlight',\n",
              " 'clues',\n",
              " 'bolitar',\n",
              " 'sophisticated',\n",
              " 'kingdom',\n",
              " 'grail',\n",
              " 'latest',\n",
              " 'exchange',\n",
              " 'edward',\n",
              " 'amnell',\n",
              " 'ago',\n",
              " 'decides',\n",
              " 'programmer',\n",
              " 'saga',\n",
              " 'elderly',\n",
              " 'despite',\n",
              " 'rider',\n",
              " 'full',\n",
              " 'disappearance',\n",
              " 'fossils',\n",
              " 'suddenly',\n",
              " 'electrical',\n",
              " 'timely',\n",
              " 'liquida',\n",
              " 'jumper',\n",
              " 'backdrop',\n",
              " 'tells',\n",
              " 'doesnt',\n",
              " 'sign',\n",
              " 'rest',\n",
              " 'unseen',\n",
              " 'afghanistan',\n",
              " 'peter',\n",
              " 'minneapolis',\n",
              " 'epic',\n",
              " 'blackmailer',\n",
              " 'descendants',\n",
              " 'schulz',\n",
              " 'suburbs',\n",
              " 'taking',\n",
              " 'caterer',\n",
              " 'rich',\n",
              " 'expedition',\n",
              " 'real',\n",
              " 'section',\n",
              " 'exlawyer',\n",
              " 'specialty',\n",
              " 'badly',\n",
              " 'lies',\n",
              " 'hedge',\n",
              " 'sheridan',\n",
              " 'remain',\n",
              " 'saves',\n",
              " 'haller',\n",
              " 'early',\n",
              " 'empire',\n",
              " 'rescues',\n",
              " 'adopted',\n",
              " 'treachery',\n",
              " 'portland',\n",
              " 'invents',\n",
              " 'flying',\n",
              " 'convention',\n",
              " 'law',\n",
              " 'matchmaking',\n",
              " 'betrayal',\n",
              " 'filled',\n",
              " 'street',\n",
              " 'hijacked',\n",
              " 'sale',\n",
              " 'merkle',\n",
              " 'potentially',\n",
              " 'complications',\n",
              " 'famous',\n",
              " 'rein',\n",
              " 'peoples',\n",
              " 'heir',\n",
              " 'network',\n",
              " 'nasa',\n",
              " 'reconciliation',\n",
              " 'tracks',\n",
              " 'returns',\n",
              " 'heats',\n",
              " 'palace',\n",
              " 'seven',\n",
              " 'seventh',\n",
              " 'kathryn',\n",
              " 'sinister',\n",
              " 'money',\n",
              " 'leader',\n",
              " 'loose',\n",
              " 'sienna',\n",
              " 'demon',\n",
              " 'realm',\n",
              " 'oconnor',\n",
              " 'fertility',\n",
              " 'squad',\n",
              " 'villagers',\n",
              " 'warheads',\n",
              " 'daughter',\n",
              " 'forgiveness',\n",
              " 'civilian',\n",
              " 'calif',\n",
              " 'templars',\n",
              " 'otherworld',\n",
              " 'list',\n",
              " 'died',\n",
              " 'trying',\n",
              " 'hawke',\n",
              " 'fleeing',\n",
              " 'disappears',\n",
              " 'haussmanns',\n",
              " 'abe',\n",
              " 'altered',\n",
              " 'justice',\n",
              " 'foreclosure',\n",
              " 'vampire',\n",
              " 'frees',\n",
              " 'outside',\n",
              " 'discovery',\n",
              " 'hope',\n",
              " 'bannister',\n",
              " 'private',\n",
              " 'accuses',\n",
              " 'scientists',\n",
              " 'vow',\n",
              " 'cletus',\n",
              " 'final',\n",
              " 'prequel',\n",
              " 'matches',\n",
              " 'protect',\n",
              " 'jerry',\n",
              " 'writes',\n",
              " 'scandinavian',\n",
              " 'miss',\n",
              " 'center',\n",
              " 'antiques',\n",
              " 'move',\n",
              " 'undercover',\n",
              " 'hailey',\n",
              " 'four',\n",
              " 'crimefighting',\n",
              " 'celebrity',\n",
              " 'awakened',\n",
              " 'fantasy',\n",
              " 'ship',\n",
              " 'peabody',\n",
              " 'alex',\n",
              " 'psychologist',\n",
              " 'by',\n",
              " 'deadly',\n",
              " 'carolinas',\n",
              " 'deranged',\n",
              " 'defuse',\n",
              " 'elite',\n",
              " 'top',\n",
              " 'targeting',\n",
              " 'architect',\n",
              " 'based',\n",
              " 'spenser',\n",
              " 'kahlo',\n",
              " 'increases',\n",
              " 'crystal',\n",
              " 'dog',\n",
              " 'federal',\n",
              " 'georgia',\n",
              " 'desert',\n",
              " 'summit',\n",
              " 'defector',\n",
              " 'refugees',\n",
              " 'understand',\n",
              " 'generations',\n",
              " 'forgiven',\n",
              " 'agents',\n",
              " 'women',\n",
              " 'carmichaels',\n",
              " 'hacienda',\n",
              " 'cellar',\n",
              " 'winter',\n",
              " 'rules',\n",
              " 'survivors',\n",
              " 'powers',\n",
              " 'serial',\n",
              " 'arrival',\n",
              " 'russians',\n",
              " 'residents',\n",
              " 'path',\n",
              " 'napoleons',\n",
              " 'warns',\n",
              " 'entire',\n",
              " 'turn',\n",
              " 'f',\n",
              " 'funeral',\n",
              " 'clancys',\n",
              " 'trouble',\n",
              " 'kay',\n",
              " 'for',\n",
              " 'nikki',\n",
              " 'boredom',\n",
              " 'rewards',\n",
              " 'books',\n",
              " 'cove',\n",
              " 'wisconsin',\n",
              " 'bernie',\n",
              " 'montana',\n",
              " 'noah',\n",
              " 'philadelphia',\n",
              " 'fantasygame',\n",
              " 'harper',\n",
              " 'missionarys',\n",
              " 'bells',\n",
              " 'population',\n",
              " 'stole',\n",
              " 'jake',\n",
              " 'vanished',\n",
              " 'into',\n",
              " 'access',\n",
              " 'families',\n",
              " 'inexplicably',\n",
              " 'party',\n",
              " 'evade',\n",
              " 'seeks',\n",
              " 'beneath',\n",
              " 'autopsy',\n",
              " 'jason',\n",
              " 'espionage',\n",
              " 'deals',\n",
              " 'control',\n",
              " 'end',\n",
              " 'which',\n",
              " 'mass',\n",
              " 'bourne',\n",
              " 'ian',\n",
              " 'were',\n",
              " 'marriage',\n",
              " 'hes',\n",
              " 'naval',\n",
              " 'hospital',\n",
              " 'brutal',\n",
              " 'wrote',\n",
              " 'quilts',\n",
              " 'hand',\n",
              " 'bob',\n",
              " 'anothers',\n",
              " 'once',\n",
              " 'free',\n",
              " 'covert',\n",
              " 'gunpoint',\n",
              " 'rhyme',\n",
              " 'banker',\n",
              " 'classmates',\n",
              " 'criminal',\n",
              " 'cared',\n",
              " 'hero',\n",
              " 'modernization',\n",
              " 'corruption',\n",
              " 'heroes',\n",
              " 'seattle',\n",
              " 'oz',\n",
              " 'sales',\n",
              " 'upwardly',\n",
              " 'souls',\n",
              " 'plaid',\n",
              " 'tv',\n",
              " 'king',\n",
              " 'hit',\n",
              " 'makes',\n",
              " 'soap',\n",
              " 'was',\n",
              " 'expert',\n",
              " 'targeted',\n",
              " 'lawyers',\n",
              " 'decide',\n",
              " 'her',\n",
              " 'pack',\n",
              " 'autobiographical',\n",
              " 'every',\n",
              " 'europe',\n",
              " 'ruthlessly',\n",
              " 'each',\n",
              " 'abusive',\n",
              " 'seedy',\n",
              " 'popular',\n",
              " 'isaac',\n",
              " 'dont',\n",
              " 'blackmail',\n",
              " 'numbers',\n",
              " 'number',\n",
              " 'consequences',\n",
              " 'turns',\n",
              " 'atlanta',\n",
              " 'hays',\n",
              " 'roshar',\n",
              " 'urges',\n",
              " 'intrigue',\n",
              " 'un',\n",
              " 'francos',\n",
              " 'ryan',\n",
              " 'killed',\n",
              " 'receives',\n",
              " 'david',\n",
              " 'detectives',\n",
              " 'aid',\n",
              " 'demons',\n",
              " 'wits',\n",
              " 'lifes',\n",
              " 'husband',\n",
              " 'circa',\n",
              " 'transitions',\n",
              " 'wallace',\n",
              " 'islamic',\n",
              " 'lose',\n",
              " 'starting',\n",
              " 'failing',\n",
              " 'jp',\n",
              " 'pigeon',\n",
              " 'less',\n",
              " 'sendup',\n",
              " 'zombie',\n",
              " 'hybrid',\n",
              " 'war',\n",
              " 'qaeda',\n",
              " 'misdeeds',\n",
              " 'phillipss',\n",
              " 'appearances',\n",
              " 'heat',\n",
              " 'latethcentury',\n",
              " 'scots',\n",
              " 'rash',\n",
              " 'chilling',\n",
              " 'rivals',\n",
              " 'agreement',\n",
              " 'massachusetts',\n",
              " 'siddamark',\n",
              " 'ten',\n",
              " 'need',\n",
              " 'psychiatrist',\n",
              " 'werewolf',\n",
              " 'supposed',\n",
              " 'graftons',\n",
              " 'pakistan',\n",
              " 'bend',\n",
              " 'curse',\n",
              " 'do',\n",
              " 'navy',\n",
              " 'motives',\n",
              " 'middleaged',\n",
              " 'conflict',\n",
              " 'africanamerican',\n",
              " 'making',\n",
              " 'reappear',\n",
              " 'rogue',\n",
              " 'intended',\n",
              " 'slated',\n",
              " 'if',\n",
              " 'grandmothers',\n",
              " 'night',\n",
              " 'revenue',\n",
              " 'care',\n",
              " 'continues',\n",
              " 'use',\n",
              " 'after',\n",
              " 'department',\n",
              " 'passionately',\n",
              " 'houses',\n",
              " 'park',\n",
              " 'dedicated',\n",
              " 'states',\n",
              " 'enables',\n",
              " 'disrupt',\n",
              " 'mosque',\n",
              " 'former',\n",
              " 'midwest',\n",
              " 'exgirlfriend',\n",
              " 'pitcher',\n",
              " 'house',\n",
              " 'egyptian',\n",
              " 'rome',\n",
              " 'lacey',\n",
              " 'name',\n",
              " 'last',\n",
              " 'television',\n",
              " 'commit',\n",
              " 'summoned',\n",
              " 'myron',\n",
              " 'rooms',\n",
              " 'aliens',\n",
              " 'gathers',\n",
              " 'dreadnought',\n",
              " 'appalachia',\n",
              " 'firefighting',\n",
              " 'executive',\n",
              " 'husbandandwife',\n",
              " 'ankhmorporks',\n",
              " 'planet',\n",
              " 'pin',\n",
              " 'challenges',\n",
              " 'langdon',\n",
              " 'more',\n",
              " 'countries',\n",
              " 'still',\n",
              " 'tenfold',\n",
              " 'dealing',\n",
              " 'discovers',\n",
              " 'herzgo',\n",
              " 'guilty',\n",
              " 'countrys',\n",
              " 'glamorous',\n",
              " 'hackberry',\n",
              " 'changes',\n",
              " 'raising',\n",
              " 'neighborhood',\n",
              " 'techniques',\n",
              " 'nanny',\n",
              " 'out',\n",
              " 'secretary',\n",
              " 'bottom',\n",
              " 'india',\n",
              " 'lindsay',\n",
              " 'rook',\n",
              " 'months',\n",
              " 'weakening',\n",
              " 'earthquake',\n",
              " 'pothead',\n",
              " 'financial',\n",
              " 'ankhmorpork',\n",
              " 'terrorists',\n",
              " 'body',\n",
              " 'innards',\n",
              " 'nearing',\n",
              " 'rare',\n",
              " 'motherless',\n",
              " 'foreign',\n",
              " 'galleon',\n",
              " 'crichtons',\n",
              " 'uncle',\n",
              " 'assassination',\n",
              " 'werewolves',\n",
              " 'jellyfish',\n",
              " 'gretchen',\n",
              " 'winemakers',\n",
              " 'frank',\n",
              " 'changeling',\n",
              " 'mels',\n",
              " 'charges',\n",
              " 'binchy',\n",
              " 'elvis',\n",
              " 'pharaohs',\n",
              " 'quilting',\n",
              " 'witnessing',\n",
              " 'spends',\n",
              " 'hattie',\n",
              " 'aunts',\n",
              " 'straight',\n",
              " 'wild',\n",
              " 'golfers',\n",
              " 'ancestral',\n",
              " 'queen',\n",
              " 'hollows',\n",
              " 'district',\n",
              " 'track',\n",
              " 'renko',\n",
              " 'riverboat',\n",
              " 'englishwoman',\n",
              " 'emperor',\n",
              " 'class',\n",
              " 'element',\n",
              " 'pitches',\n",
              " 'ali',\n",
              " 'document',\n",
              " 'moore',\n",
              " 'kendra',\n",
              " 'calamitous',\n",
              " 'peace',\n",
              " 'episcopal',\n",
              " 'dirk',\n",
              " 'explores',\n",
              " 'mixed',\n",
              " 'matchmaker',\n",
              " 'stackhouse',\n",
              " 'survived',\n",
              " 'looks',\n",
              " 'acquires',\n",
              " 'postthanksgiving',\n",
              " 'gift',\n",
              " 'value',\n",
              " 'clandestinely',\n",
              " 'been',\n",
              " 'gravely',\n",
              " 'issues',\n",
              " 'highbrow',\n",
              " 'continuing',\n",
              " 'hannah',\n",
              " 'dd',\n",
              " 'blood',\n",
              " 'cheats',\n",
              " 'followup',\n",
              " 'twins',\n",
              " 'dresden',\n",
              " 'true',\n",
              " 'arabia',\n",
              " 'adventure',\n",
              " 'veteran',\n",
              " 'surgeons',\n",
              " 'dobbss',\n",
              " 'task',\n",
              " 'mi',\n",
              " 'gruesome',\n",
              " 'estate',\n",
              " 'break',\n",
              " 'mental',\n",
              " 'fundraiser',\n",
              " 'russian',\n",
              " 'lost',\n",
              " 'while',\n",
              " 'tough',\n",
              " 'walking',\n",
              " 'lovers',\n",
              " 'leonard',\n",
              " 'hauptman',\n",
              " 'sabotage',\n",
              " 'christmas',\n",
              " 'multigenerational',\n",
              " 'catastrophe',\n",
              " 'vows',\n",
              " 'teeth',\n",
              " 'victorian',\n",
              " 'change',\n",
              " 'plantation',\n",
              " 'nation',\n",
              " 'shadow',\n",
              " 'mutual',\n",
              " 'learns',\n",
              " 'pattern',\n",
              " 'baron',\n",
              " 'glitsky',\n",
              " 'uncover',\n",
              " 'armand',\n",
              " 'guatemala',\n",
              " 'ties',\n",
              " 'paparazzo',\n",
              " 'hired',\n",
              " 'santiaga',\n",
              " 'housing',\n",
              " 'mute',\n",
              " 'computer',\n",
              " 'nj',\n",
              " 'firefighter',\n",
              " 'dillon',\n",
              " 'might',\n",
              " 'annajane',\n",
              " 'album',\n",
              " 'rain',\n",
              " 'corrupt',\n",
              " 'damian',\n",
              " 'los',\n",
              " 'luskan',\n",
              " 'west',\n",
              " 'unit',\n",
              " 'draining',\n",
              " 'todd',\n",
              " 'roots',\n",
              " 'eyes',\n",
              " 'carrying',\n",
              " 'kills',\n",
              " 'violence',\n",
              " 'complex',\n",
              " 'crook',\n",
              " 'device',\n",
              " 'funds',\n",
              " 'hide',\n",
              " 'yearns',\n",
              " 'most',\n",
              " 'sent',\n",
              " 'avert',\n",
              " 'prizewinning',\n",
              " 'devil',\n",
              " 'indian',\n",
              " 'open',\n",
              " 'physicist',\n",
              " 'prisons',\n",
              " 'baseball',\n",
              " 'recreates',\n",
              " 'featuring',\n",
              " 'rusty',\n",
              " 'accomplished',\n",
              " 'sean',\n",
              " 'unidentified',\n",
              " 'no',\n",
              " 'suggests',\n",
              " 'beach',\n",
              " 'shack',\n",
              " 'cork',\n",
              " 'keetoowah',\n",
              " 'bombings',\n",
              " 'kosovo',\n",
              " 'ambush',\n",
              " 'menaced',\n",
              " 'disrupted',\n",
              " 'terrorist',\n",
              " 'nobel',\n",
              " 'confessions',\n",
              " 'christs',\n",
              " 'irelands',\n",
              " 'characters',\n",
              " 'president',\n",
              " 'opening',\n",
              " 'witchcraft',\n",
              " 'only',\n",
              " 'spanish',\n",
              " 'ordered',\n",
              " 'groom',\n",
              " 'haunted',\n",
              " 'wakefield',\n",
              " 'codes',\n",
              " 'novellas',\n",
              " 'jungle',\n",
              " 'jesse',\n",
              " 'marines',\n",
              " 'weekend',\n",
              " 'lee',\n",
              " 'killers',\n",
              " 'countrypop',\n",
              " 'scarpetta',\n",
              " 'children',\n",
              " 'respected',\n",
              " 'rocky',\n",
              " 'watch',\n",
              " 'murderer',\n",
              " 'appear',\n",
              " 'nba',\n",
              " 'around',\n",
              " 'crash',\n",
              " 'suicidal',\n",
              " 'cities',\n",
              " 'stumbles',\n",
              " 'chased',\n",
              " 'cabo',\n",
              " 'elizabethan',\n",
              " 'troubles',\n",
              " 'preparing',\n",
              " 'alera',\n",
              " 'looming',\n",
              " 'americas',\n",
              " 'burning',\n",
              " 'supermans',\n",
              " 'jayne',\n",
              " 'adventures',\n",
              " 'accepts',\n",
              " 'rock',\n",
              " 'solves',\n",
              " 'aids',\n",
              " 'allfemale',\n",
              " 'barker',\n",
              " 'unite',\n",
              " 'exploitive',\n",
              " 'web',\n",
              " 'clinic',\n",
              " 'international',\n",
              " 'revisiting',\n",
              " 'character',\n",
              " 'witnesses',\n",
              " 'begins',\n",
              " 'gallery',\n",
              " 'the',\n",
              " 'danger',\n",
              " 'reclusive',\n",
              " 'themselves',\n",
              " 'italian',\n",
              " 'archie',\n",
              " 'hunting',\n",
              " 'barrens',\n",
              " 'growing',\n",
              " 'america',\n",
              " 'allows',\n",
              " 'teenage',\n",
              " 'mistake',\n",
              " 'survival',\n",
              " 'lapd',\n",
              " 'revolution',\n",
              " 'pseudonymously',\n",
              " 'organizers',\n",
              " 'studio',\n",
              " 'continue',\n",
              " 'appeal',\n",
              " 'closer',\n",
              " 'chaos',\n",
              " 'trunks',\n",
              " 'leaving',\n",
              " 'animal',\n",
              " 'inn',\n",
              " 'this',\n",
              " 'mexico',\n",
              " 'sachs',\n",
              " 'suffer',\n",
              " 'can',\n",
              " 'thompson',\n",
              " 'attempting',\n",
              " 'apocalypse',\n",
              " 'difficult',\n",
              " 'predict',\n",
              " 'owned',\n",
              " 'await',\n",
              " 'abbey',\n",
              " 'nate',\n",
              " 'hairs',\n",
              " 'release',\n",
              " 'thames',\n",
              " 'alcoholic',\n",
              " 'discovered',\n",
              " 'fargo',\n",
              " 'chases',\n",
              " 'ender',\n",
              " 'fight',\n",
              " 'singer',\n",
              " 'fixerupper',\n",
              " 'they',\n",
              " 'pacific',\n",
              " 'duncan',\n",
              " 'peculiar',\n",
              " 'amnesiac',\n",
              " 'brings',\n",
              " 'alerans',\n",
              " 'therapist',\n",
              " 'pi',\n",
              " 'falls',\n",
              " 'injury',\n",
              " 'armenian',\n",
              " 'herberts',\n",
              " 'peabodyemerson',\n",
              " 'cornwall',\n",
              " 'mothers',\n",
              " 'links',\n",
              " 'fatal',\n",
              " 'connection',\n",
              " 'brink',\n",
              " 'caught',\n",
              " 'outbreak',\n",
              " 'mother',\n",
              " 'interrogated',\n",
              " 'horse',\n",
              " 'granddaughter',\n",
              " 'elm',\n",
              " 'warshawski',\n",
              " 'love',\n",
              " 'apple',\n",
              " 'anne',\n",
              " 'psy',\n",
              " 'males',\n",
              " 'casualties',\n",
              " 'land',\n",
              " 'neither',\n",
              " 'midatlantic',\n",
              " 'coolhunting',\n",
              " 'horde',\n",
              " 'katrina',\n",
              " 'european',\n",
              " 'pitchers',\n",
              " 'stand',\n",
              " 'alaskan',\n",
              " 'isnt',\n",
              " 'surrogacy',\n",
              " 'manor',\n",
              " 'tuckers',\n",
              " 'mobile',\n",
              " 'la',\n",
              " 'several',\n",
              " 'octogenarians',\n",
              " 'bounty',\n",
              " 'maine',\n",
              " 'action',\n",
              " 'near',\n",
              " 'heart',\n",
              " 'reynolds',\n",
              " 'hesitate',\n",
              " 'jewels',\n",
              " 'first',\n",
              " 'everest',\n",
              " 'those',\n",
              " 'believed',\n",
              " 'journalist',\n",
              " 'royal',\n",
              " 'persons',\n",
              " 'expose',\n",
              " 'mayor',\n",
              " 'account',\n",
              " 'fiction',\n",
              " 'committed',\n",
              " 'shows',\n",
              " 'share',\n",
              " 'politics',\n",
              " 'personal',\n",
              " 'dictatorship',\n",
              " 'library',\n",
              " 'recovery',\n",
              " 'cia',\n",
              " 'about',\n",
              " 'convince',\n",
              " 'dressmaking',\n",
              " 'further',\n",
              " 'bad',\n",
              " 'seemingly',\n",
              " 'medical',\n",
              " 'tortured',\n",
              " 'toy',\n",
              " 'decisions',\n",
              " 'recently',\n",
              " 'civil',\n",
              " 'detonated',\n",
              " 'unfolds',\n",
              " 'lobbyist',\n",
              " 'supervisor',\n",
              " 'geneticist',\n",
              " 'rahl',\n",
              " 'turbocharged',\n",
              " 'authorities',\n",
              " 's',\n",
              " 'salem',\n",
              " 'reclaim',\n",
              " 'magnate',\n",
              " 'survivor',\n",
              " 'why',\n",
              " 'two',\n",
              " 'saracens',\n",
              " 'nantucket',\n",
              " 'mary',\n",
              " 'sets',\n",
              " 'act',\n",
              " 'state',\n",
              " 'shoplifter',\n",
              " ...}"
            ]
          },
          "metadata": {
            "tags": []
          },
          "execution_count": 29
        }
      ]
    },
    {
      "cell_type": "code",
      "metadata": {
        "colab": {
          "base_uri": "https://localhost:8080/"
        },
        "id": "c-oQarRaU8Hp",
        "outputId": "073b12bc-072a-49a3-e4ff-26245d1fe4f1"
      },
      "source": [
        "# Cuantificando la riqueza léxica\n",
        "len(set(text)) / len(text)\n",
        "#El resultado indica que el uso de palabras distintas ocurre en un 25%"
      ],
      "execution_count": 31,
      "outputs": [
        {
          "output_type": "execute_result",
          "data": {
            "text/plain": [
              "0.2514917654546901"
            ]
          },
          "metadata": {
            "tags": []
          },
          "execution_count": 31
        }
      ]
    },
    {
      "cell_type": "code",
      "metadata": {
        "colab": {
          "base_uri": "https://localhost:8080/"
        },
        "id": "V7zZFDtvYDUu",
        "outputId": "2727f0aa-391e-4e49-a707-0c27dddba78e"
      },
      "source": [
        "#Las colocaciones son conjuntos de palabras (frecuentemente bigramas) que no son suseptibles de sustituirse por otras palabras.\n",
        "#La función collocation encuentra los bigramas inusualmente comunes que son más frecuentes\n",
        "text.collocations()"
      ],
      "execution_count": 30,
      "outputs": [
        {
          "output_type": "stream",
          "text": [
            "new york; serial killer; stone barrington; los angeles; writing\n",
            "pseudonymously; nora roberts; roberts writing; eve dallas; sookie\n",
            "stackhouse; anita blake; dagger brotherhood; doc ford; jason bourne;\n",
            "lacey sherlock; mitch rapp; temperance brennan; forensic sculptor;\n",
            "alex cross; robert ludlums; san francisco\n"
          ],
          "name": "stdout"
        }
      ]
    },
    {
      "cell_type": "code",
      "metadata": {
        "colab": {
          "base_uri": "https://localhost:8080/",
          "height": 295
        },
        "id": "swQ_LiMbYnyb",
        "outputId": "b8835829-14c4-4884-fe04-adae31440016"
      },
      "source": [
        "#Ubicación de palabras en el texto de principio a fin.\n",
        "text.dispersion_plot([\"women\", \"men\", \"love\", \"money\", \"house\"])"
      ],
      "execution_count": 32,
      "outputs": [
        {
          "output_type": "display_data",
          "data": {
            "image/png": "[encoded data removed]",
            "text/plain": [
              "<Figure size 432x288 with 1 Axes>"
            ]
          },
          "metadata": {
            "tags": [],
            "needs_background": "light"
          }
        }
      ]
    }
  ]
}