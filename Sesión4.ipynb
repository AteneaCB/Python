{
  "nbformat": 4,
  "nbformat_minor": 0,
  "metadata": {
    "colab": {
      "name": "Sesión4.ipynb",
      "provenance": [],
      "authorship_tag": "ABX9TyOtP8W3TUkyt3eYvnUJLeQl",
      "include_colab_link": true
    },
    "kernelspec": {
      "name": "python3",
      "display_name": "Python 3"
    }
  },
  "cells": [
    {
      "cell_type": "markdown",
      "metadata": {
        "id": "view-in-github",
        "colab_type": "text"
      },
      "source": [
        "<a href=\"https://colab.research.google.com/github/AteneaCB/Python/blob/main/Sesi%C3%B3n4.ipynb\" target=\"_parent\"><img src=\"https://colab.research.google.com/assets/colab-badge.svg\" alt=\"Open In Colab\"/></a>"
      ]
    },
    {
      "cell_type": "markdown",
      "metadata": {
        "id": "DtOTovhuzePu"
      },
      "source": [
        "**Sesión 4. Pandas y Análisis Exploratorio de Datos**"
      ]
    },
    {
      "cell_type": "code",
      "metadata": {
        "id": "O10jc9Ff1KaY"
      },
      "source": [
        "#Paquete pandas \"panel data\"\r\n",
        "\r\n",
        "import pandas as pd \r\n",
        "\r\n",
        "#Serie, secuencia ordenada\r\n",
        "serie_1 = pd.Series([2,4,6,8,10,12])"
      ],
      "execution_count": 3,
      "outputs": []
    },
    {
      "cell_type": "code",
      "metadata": {
        "colab": {
          "base_uri": "https://localhost:8080/"
        },
        "id": "9_E0-VV64d6d",
        "outputId": "0810de58-bce6-4424-efa6-3994f32461aa"
      },
      "source": [
        "#Se muestran los índices en la izquierda, pueden ser números consecutivos o no, por ejemplo letras o no consecutivos\r\n",
        "#Con dtype muestra la forma más optimizada para trabajar\r\n",
        "serie_1"
      ],
      "execution_count": 4,
      "outputs": [
        {
          "output_type": "execute_result",
          "data": {
            "text/plain": [
              "0     2\n",
              "1     4\n",
              "2     6\n",
              "3     8\n",
              "4    10\n",
              "5    12\n",
              "dtype: int64"
            ]
          },
          "metadata": {
            "tags": []
          },
          "execution_count": 4
        }
      ]
    },
    {
      "cell_type": "code",
      "metadata": {
        "colab": {
          "base_uri": "https://localhost:8080/"
        },
        "id": "m0Cv2nBw4f86",
        "outputId": "d997df80-5b75-4c0f-df97-3daabbaa4363"
      },
      "source": [
        "#Para indicar el índice para la serie\r\n",
        "series_2 = pd.Series([4,5,6,7], index=[10, 11, 12,13])\r\n",
        "series_2"
      ],
      "execution_count": 6,
      "outputs": [
        {
          "output_type": "execute_result",
          "data": {
            "text/plain": [
              "10    4\n",
              "11    5\n",
              "12    6\n",
              "13    7\n",
              "dtype: int64"
            ]
          },
          "metadata": {
            "tags": []
          },
          "execution_count": 6
        }
      ]
    },
    {
      "cell_type": "code",
      "metadata": {
        "colab": {
          "base_uri": "https://localhost:8080/"
        },
        "id": "bYcoiD7q5MB6",
        "outputId": "f0821431-a5c9-4ba7-97af-b93656fc39d8"
      },
      "source": [
        "#Índices con letras\r\n",
        "series_3 = pd.Series([9,8,6,4], index=['a', 'b', 'c', 'd'])\r\n",
        "series_3"
      ],
      "execution_count": 7,
      "outputs": [
        {
          "output_type": "execute_result",
          "data": {
            "text/plain": [
              "a    9\n",
              "b    8\n",
              "c    6\n",
              "d    4\n",
              "dtype: int64"
            ]
          },
          "metadata": {
            "tags": []
          },
          "execution_count": 7
        }
      ]
    },
    {
      "cell_type": "code",
      "metadata": {
        "colab": {
          "base_uri": "https://localhost:8080/"
        },
        "id": "mOK2kfNv5ZWc",
        "outputId": "0b1ed40b-7c13-44a1-e3dc-bacbea6bf1d2"
      },
      "source": [
        "#Índices con directorio\r\n",
        "series_4 = pd.Series({\r\n",
        "    'Atenea': 34,\r\n",
        "    'Alberto': 35,\r\n",
        "    'Maria': 12,\r\n",
        "    'Ana': 25\r\n",
        "})\r\n",
        "series_4"
      ],
      "execution_count": 8,
      "outputs": [
        {
          "output_type": "execute_result",
          "data": {
            "text/plain": [
              "Atenea     34\n",
              "Alberto    35\n",
              "Maria      12\n",
              "Ana        25\n",
              "dtype: int64"
            ]
          },
          "metadata": {
            "tags": []
          },
          "execution_count": 8
        }
      ]
    },
    {
      "cell_type": "code",
      "metadata": {
        "colab": {
          "base_uri": "https://localhost:8080/"
        },
        "id": "13iZKSmZ5yjC",
        "outputId": "78af60b8-95b2-4c1b-95d8-9947eb358cb5"
      },
      "source": [
        "#Con loc acceder a los ídices\r\n",
        "series_3.loc['c']"
      ],
      "execution_count": 11,
      "outputs": [
        {
          "output_type": "execute_result",
          "data": {
            "text/plain": [
              "6"
            ]
          },
          "metadata": {
            "tags": []
          },
          "execution_count": 11
        }
      ]
    },
    {
      "cell_type": "code",
      "metadata": {
        "colab": {
          "base_uri": "https://localhost:8080/"
        },
        "id": "Wy14AAtU6BeN",
        "outputId": "a82b3553-0ce9-4cfa-dc34-df2b35124852"
      },
      "source": [
        "#Se pueden utilizar comillas simples o dobles para acceder a las llaves o elementos\r\n",
        "series_4.loc[\"Atenea\"]"
      ],
      "execution_count": 12,
      "outputs": [
        {
          "output_type": "execute_result",
          "data": {
            "text/plain": [
              "34"
            ]
          },
          "metadata": {
            "tags": []
          },
          "execution_count": 12
        }
      ]
    },
    {
      "cell_type": "markdown",
      "metadata": {
        "id": "rm77aFkt6VQS"
      },
      "source": [
        "**Reto 1.** Series"
      ]
    },
    {
      "cell_type": "markdown",
      "metadata": {
        "id": "hSf0Vq007KaT"
      },
      "source": [
        "**a) Creación de series**\r\n",
        "\r\n",
        "A continuación tenemos unas variables que contienen los nombres de los ejecutivos más importantes de nuestra ya conocida EyePoker Inc. Hay una variable que no ha sido asignada aún: sueldos =\r\n",
        "Tu tarea es crear una Serie de pandas y asignarla a la variable sueldos. La información que hay dentro de esta variable son (oh, sorpresa) los sueldos de dichos ejecutivos.\r\n",
        "Los valores de la Serie serán los sueldos, mientras que el índice de la Serie serán los nombres de los ejecutivos."
      ]
    },
    {
      "cell_type": "code",
      "metadata": {
        "colab": {
          "base_uri": "https://localhost:8080/"
        },
        "id": "QM4T6IK36O-6",
        "outputId": "9f201cd9-4217-4f75-f017-1000cead2629"
      },
      "source": [
        "#Ejecutivos y sueldos\r\n",
        "ejecutivo_1 = 'Marco P.'\r\n",
        "ejecutivo_2 = 'Jenny'\r\n",
        "ejecutivo_3 = 'Britney Baby'\r\n",
        "ejecutivo_4 = 'Pepe Guardabosques'\r\n",
        "ejecutivo_5 = 'Lombardo El Destructor'\r\n",
        "\r\n",
        "sueldos = pd.Series({\r\n",
        "    ejecutivo_1: 55000,\r\n",
        "    ejecutivo_2: 85000,\r\n",
        "    ejecutivo_3: 125000,\r\n",
        "    ejecutivo_4: 40000,\r\n",
        "    ejecutivo_5: 76000\r\n",
        "})\r\n",
        "\r\n",
        "sueldos"
      ],
      "execution_count": 16,
      "outputs": [
        {
          "output_type": "execute_result",
          "data": {
            "text/plain": [
              "Marco P.                   55000\n",
              "Jenny                      85000\n",
              "Britney Baby              125000\n",
              "Pepe Guardabosques         40000\n",
              "Lombardo El Destructor     76000\n",
              "dtype: int64"
            ]
          },
          "metadata": {
            "tags": []
          },
          "execution_count": 16
        }
      ]
    },
    {
      "cell_type": "code",
      "metadata": {
        "colab": {
          "base_uri": "https://localhost:8080/"
        },
        "id": "18CG4rFJ7u1l",
        "outputId": "06c4bf02-c9c2-4ab5-d8cc-e1be22dec335"
      },
      "source": [
        "#Imprimir\r\n",
        "print('== Sueldos de los principales ejecutivos de EyePoker Inc. ==\\n')\r\n",
        "\r\n",
        "print(f'{(\"Ejecutivo\"):25} | {(\"Sueldo\")}')\r\n",
        "print('----------------------------------------')\r\n",
        "print(f'{ejecutivo_1:25} | ${(sueldos.loc[ejecutivo_1])} MXN')\r\n",
        "print(f'{ejecutivo_2:25} | ${(sueldos.loc[ejecutivo_2])} MXN')\r\n",
        "print(f'{ejecutivo_3:25} | ${(sueldos.loc[ejecutivo_3])} MXN')\r\n",
        "print(f'{ejecutivo_4:25} | ${(sueldos.loc[ejecutivo_4])} MXN')\r\n",
        "print(f'{ejecutivo_5:25} | ${(sueldos.loc[ejecutivo_5])} MXN')"
      ],
      "execution_count": 17,
      "outputs": [
        {
          "output_type": "stream",
          "text": [
            "== Sueldos de los principales ejecutivos de EyePoker Inc. ==\n",
            "\n",
            "Ejecutivo                 | Sueldo\n",
            "----------------------------------------\n",
            "Marco P.                  | $55000 MXN\n",
            "Jenny                     | $85000 MXN\n",
            "Britney Baby              | $125000 MXN\n",
            "Pepe Guardabosques        | $40000 MXN\n",
            "Lombardo El Destructor    | $76000 MXN\n"
          ],
          "name": "stdout"
        }
      ]
    },
    {
      "cell_type": "markdown",
      "metadata": {
        "id": "bcFqq6Gx9OK0"
      },
      "source": [
        "**Ejemplo 3**\r\n",
        "Indexación de Series"
      ]
    },
    {
      "cell_type": "code",
      "metadata": {
        "colab": {
          "base_uri": "https://localhost:8080/"
        },
        "id": "6xy20YSs9eyL",
        "outputId": "ffa990a5-8277-4ce8-9dbd-ee55120c92e6"
      },
      "source": [
        "serie = pd.Series(['a', 'b', 'c', 'd', 'e', 'f', 'g', 'h', 'i'])\r\n",
        "serie"
      ],
      "execution_count": 19,
      "outputs": [
        {
          "output_type": "execute_result",
          "data": {
            "text/plain": [
              "0    a\n",
              "1    b\n",
              "2    c\n",
              "3    d\n",
              "4    e\n",
              "5    f\n",
              "6    g\n",
              "7    h\n",
              "8    i\n",
              "dtype: object"
            ]
          },
          "metadata": {
            "tags": []
          },
          "execution_count": 19
        }
      ]
    },
    {
      "cell_type": "code",
      "metadata": {
        "colab": {
          "base_uri": "https://localhost:8080/"
        },
        "id": "FBzwnNRd9rDC",
        "outputId": "3582f1b8-c5ee-4e33-d35b-93df1eadaae3"
      },
      "source": [
        "#Del primer al quinto elemento\r\n",
        "serie.iloc[:5]"
      ],
      "execution_count": 25,
      "outputs": [
        {
          "output_type": "execute_result",
          "data": {
            "text/plain": [
              "0    a\n",
              "1    b\n",
              "2    c\n",
              "3    d\n",
              "4    e\n",
              "5    f\n",
              "dtype: object"
            ]
          },
          "metadata": {
            "tags": []
          },
          "execution_count": 25
        }
      ]
    },
    {
      "cell_type": "code",
      "metadata": {
        "colab": {
          "base_uri": "https://localhost:8080/"
        },
        "id": "sNSFr-Ss90bO",
        "outputId": "b2ecd392-17a5-4097-f06b-602fd992948b"
      },
      "source": [
        "#Sólo elementos de interés\r\n",
        "serie.iloc[[4, 5,3]]"
      ],
      "execution_count": 26,
      "outputs": [
        {
          "output_type": "execute_result",
          "data": {
            "text/plain": [
              "4    e\n",
              "5    f\n",
              "3    d\n",
              "dtype: object"
            ]
          },
          "metadata": {
            "tags": []
          },
          "execution_count": 26
        }
      ]
    },
    {
      "cell_type": "code",
      "metadata": {
        "colab": {
          "base_uri": "https://localhost:8080/"
        },
        "id": "UMc0qckp9-yC",
        "outputId": "a0c981ea-a382-439c-9419-ecd4545f98bc"
      },
      "source": [
        "serie_2 = pd.Series([1,2,3,4,5,6,7,8,9], index=['a', 'b', 'c', 'd', 'e', 'f', 'g', 'h', 'i'])\r\n",
        "serie_2"
      ],
      "execution_count": 30,
      "outputs": [
        {
          "output_type": "execute_result",
          "data": {
            "text/plain": [
              "a    1\n",
              "b    2\n",
              "c    3\n",
              "d    4\n",
              "e    5\n",
              "f    6\n",
              "g    7\n",
              "h    8\n",
              "i    9\n",
              "dtype: int64"
            ]
          },
          "metadata": {
            "tags": []
          },
          "execution_count": 30
        }
      ]
    },
    {
      "cell_type": "code",
      "metadata": {
        "colab": {
          "base_uri": "https://localhost:8080/"
        },
        "id": "0wRkfG7B-hlO",
        "outputId": "978f20ff-acce-49f9-ef55-f114ece8b8e4"
      },
      "source": [
        "#Con loc es para índices de letras\r\n",
        "#Con iloc es para utilizar índices de números solamente\r\n",
        "serie_2.loc['c':'f']"
      ],
      "execution_count": 29,
      "outputs": [
        {
          "output_type": "execute_result",
          "data": {
            "text/plain": [
              "c    3\n",
              "d    4\n",
              "e    5\n",
              "f    6\n",
              "dtype: int64"
            ]
          },
          "metadata": {
            "tags": []
          },
          "execution_count": 29
        }
      ]
    },
    {
      "cell_type": "markdown",
      "metadata": {
        "id": "KMPFthCf_W17"
      },
      "source": [
        "**Reto 2**\r\n",
        "Indexación de Series"
      ]
    },
    {
      "cell_type": "markdown",
      "metadata": {
        "id": "_5P6DKjZ_e6w"
      },
      "source": [
        "**a) Indexación de series**\r\n",
        "\r\n",
        "Tenemos una Serie que contiene los gastos mensuales totales (en MXN) de distintas divisiones de EyePoker Inc. Tú eres el Contador Oficial y tienes que obtener subconjuntos de datos que sirvan para agregar los gastos totales de diferentes combinaciones de divisiones."
      ]
    },
    {
      "cell_type": "code",
      "metadata": {
        "colab": {
          "base_uri": "https://localhost:8080/"
        },
        "id": "Ly2MhpDz-_wT",
        "outputId": "d7b7472a-fc7f-4444-ddf6-b2b6b1bb192c"
      },
      "source": [
        "gastos_mensuales = {\r\n",
        "    'A': 15000,\r\n",
        "    'B': 200000,\r\n",
        "    'C': 3250000,\r\n",
        "    'D': 120000,\r\n",
        "    'E': 135000,\r\n",
        "    'F': 55000,\r\n",
        "    'G': 100000,\r\n",
        "    'H': 25000\r\n",
        "}\r\n",
        "\r\n",
        "gastos_serie = pd.Series(gastos_mensuales)\r\n",
        "\r\n",
        "gastos_serie"
      ],
      "execution_count": 31,
      "outputs": [
        {
          "output_type": "execute_result",
          "data": {
            "text/plain": [
              "A      15000\n",
              "B     200000\n",
              "C    3250000\n",
              "D     120000\n",
              "E     135000\n",
              "F      55000\n",
              "G     100000\n",
              "H      25000\n",
              "dtype: int64"
            ]
          },
          "metadata": {
            "tags": []
          },
          "execution_count": 31
        }
      ]
    },
    {
      "cell_type": "code",
      "metadata": {
        "colab": {
          "base_uri": "https://localhost:8080/"
        },
        "id": "YzeonB0BAMU1",
        "outputId": "2aad239f-b4ab-4018-cc62-c8015bf7c847"
      },
      "source": [
        "#El índice es el nombre de la división y los valores son los gastos mensuales en MXN.\r\n",
        "#Indexando la serie gastos_serie extrae las combinaciones de divisiones que se indican debajo para poder hacer los cálculos necesarios.\r\n",
        "\r\n",
        "# Los gastos de la división 'D' y 'G'\r\n",
        "gastos_D_G = gastos_serie.loc['D','G']\r\n",
        "\r\n",
        "# Los gastos de la división 'A' y 'E'\r\n",
        "gastos_A_E = gastos_serie.loc['A','E']\r\n",
        "\r\n",
        "# Los gastos de la división 'B', 'F' y 'H'\r\n",
        "gastos_B_F_H = gastos_serie.loc['B', 'F', 'H']\r\n",
        "\r\n",
        "# Los gastos desde la primera división hasta la división 'E'\r\n",
        "#gastos_principio_a_E =\r\n",
        "\r\n",
        "# Los gastos desde la división 'D' hasta la 'G'\r\n",
        "#gastos_D_a_G =\r\n",
        "\r\n",
        "# Los gastos desde la división 'C' hasta el la última división\r\n",
        "#gastos_C_a_final ="
      ],
      "execution_count": 34,
      "outputs": [
        {
          "output_type": "execute_result",
          "data": {
            "text/plain": [
              "1.2"
            ]
          },
          "metadata": {
            "tags": []
          },
          "execution_count": 34
        }
      ]
    },
    {
      "cell_type": "code",
      "metadata": {
        "id": "ADwGhK0PAAmQ"
      },
      "source": [
        "#Indexación\r\n",
        "def revisar_indexaciones(gastos_serie, gastos_D_G, gastos_A_E, gastos_B_F_H,\r\n",
        "                         gastos_principio_a_E, gastos_D_a_G, gastos_C_a_final):\r\n",
        "    \r\n",
        "    print(f'== Revisión de Indexaciones ==\\n')\r\n",
        "    print(f\"{'Indexación':30} | {'Resultado':15} | {'Suma esperada ':15} | {'Suma recibida ':15}\")\r\n",
        "    print(\"-\"*85)\r\n",
        "    revisar_indexacion(gastos_serie.loc[['D', 'G']], gastos_D_G, 'División D y G')\r\n",
        "    revisar_indexacion(gastos_serie.loc[['A', 'E']], gastos_A_E, 'División A y E')\r\n",
        "    revisar_indexacion(gastos_serie.loc[['B', 'F', 'H']], gastos_B_F_H, 'División B, F y H')\r\n",
        "    revisar_indexacion(gastos_serie.loc[:'E'], gastos_principio_a_E, 'Desde primera División a E')\r\n",
        "    revisar_indexacion(gastos_serie.loc['D':'G'], gastos_D_a_G, 'División D y G')\r\n",
        "    revisar_indexacion(gastos_serie.loc['C':], gastos_C_a_final, 'División C a última División')\r\n",
        "\r\n",
        "def formatear_precio(precio):\r\n",
        "    return f\"${precio} MXN\"\r\n",
        "    \r\n",
        "def revisar_indexacion(esperada, recibida, nombre):\r\n",
        "    es_correcta = 'Correcta' if esperada.equals(recibida) else 'Incorrecta'\r\n",
        "    suma_esperada = formatear_precio(sum(esperada))\r\n",
        "    suma_recibida = formatear_precio(sum(recibida))\r\n",
        "    print(f\"{nombre:30} | {es_correcta:15} | {suma_esperada:15} | {suma_recibida:15}\")"
      ],
      "execution_count": null,
      "outputs": []
    },
    {
      "cell_type": "markdown",
      "metadata": {
        "id": "sHH1Z6XeCan0"
      },
      "source": [
        "**Ejemplo 4**\r\n",
        "DataFrames"
      ]
    },
    {
      "cell_type": "code",
      "metadata": {
        "colab": {
          "base_uri": "https://localhost:8080/",
          "height": 195
        },
        "id": "RFjQFfFIEAnR",
        "outputId": "2a5344d3-02fa-4931-a740-7cb5e14c466d"
      },
      "source": [
        "#Formato de DataFrame, tabla\r\n",
        "datos = {\r\n",
        "    'columna_1': ['valor_fila_0', 'valor_fila_1', 'valor_fila_2', 'valor_fila_3', 'valor_fila_4'],\r\n",
        "    'columna_2': ['valor_fila_0', 'valor_fila_1', 'valor_fila_2', 'valor_fila_3', 'valor_fila_4'],\r\n",
        "    'columna_3': ['valor_fila_0', 'valor_fila_1', 'valor_fila_2', 'valor_fila_3', 'valor_fila_4'],\r\n",
        "    'columna_4': ['valor_fila_0', 'valor_fila_1', 'valor_fila_2', 'valor_fila_3', 'valor_fila_4']\r\n",
        "}\r\n",
        "\r\n",
        "df = pd.DataFrame(datos)\r\n",
        "\r\n",
        "df"
      ],
      "execution_count": 35,
      "outputs": [
        {
          "output_type": "execute_result",
          "data": {
            "text/html": [
              "<div>\n",
              "<style scoped>\n",
              "    .dataframe tbody tr th:only-of-type {\n",
              "        vertical-align: middle;\n",
              "    }\n",
              "\n",
              "    .dataframe tbody tr th {\n",
              "        vertical-align: top;\n",
              "    }\n",
              "\n",
              "    .dataframe thead th {\n",
              "        text-align: right;\n",
              "    }\n",
              "</style>\n",
              "<table border=\"1\" class=\"dataframe\">\n",
              "  <thead>\n",
              "    <tr style=\"text-align: right;\">\n",
              "      <th></th>\n",
              "      <th>columna_1</th>\n",
              "      <th>columna_2</th>\n",
              "      <th>columna_3</th>\n",
              "      <th>columna_4</th>\n",
              "    </tr>\n",
              "  </thead>\n",
              "  <tbody>\n",
              "    <tr>\n",
              "      <th>0</th>\n",
              "      <td>valor_fila_0</td>\n",
              "      <td>valor_fila_0</td>\n",
              "      <td>valor_fila_0</td>\n",
              "      <td>valor_fila_0</td>\n",
              "    </tr>\n",
              "    <tr>\n",
              "      <th>1</th>\n",
              "      <td>valor_fila_1</td>\n",
              "      <td>valor_fila_1</td>\n",
              "      <td>valor_fila_1</td>\n",
              "      <td>valor_fila_1</td>\n",
              "    </tr>\n",
              "    <tr>\n",
              "      <th>2</th>\n",
              "      <td>valor_fila_2</td>\n",
              "      <td>valor_fila_2</td>\n",
              "      <td>valor_fila_2</td>\n",
              "      <td>valor_fila_2</td>\n",
              "    </tr>\n",
              "    <tr>\n",
              "      <th>3</th>\n",
              "      <td>valor_fila_3</td>\n",
              "      <td>valor_fila_3</td>\n",
              "      <td>valor_fila_3</td>\n",
              "      <td>valor_fila_3</td>\n",
              "    </tr>\n",
              "    <tr>\n",
              "      <th>4</th>\n",
              "      <td>valor_fila_4</td>\n",
              "      <td>valor_fila_4</td>\n",
              "      <td>valor_fila_4</td>\n",
              "      <td>valor_fila_4</td>\n",
              "    </tr>\n",
              "  </tbody>\n",
              "</table>\n",
              "</div>"
            ],
            "text/plain": [
              "      columna_1     columna_2     columna_3     columna_4\n",
              "0  valor_fila_0  valor_fila_0  valor_fila_0  valor_fila_0\n",
              "1  valor_fila_1  valor_fila_1  valor_fila_1  valor_fila_1\n",
              "2  valor_fila_2  valor_fila_2  valor_fila_2  valor_fila_2\n",
              "3  valor_fila_3  valor_fila_3  valor_fila_3  valor_fila_3\n",
              "4  valor_fila_4  valor_fila_4  valor_fila_4  valor_fila_4"
            ]
          },
          "metadata": {
            "tags": []
          },
          "execution_count": 35
        }
      ]
    },
    {
      "cell_type": "code",
      "metadata": {
        "colab": {
          "base_uri": "https://localhost:8080/",
          "height": 195
        },
        "id": "Jx41SlUwERd0",
        "outputId": "cefcb184-11af-4a32-e1ae-d3d86e74785c"
      },
      "source": [
        "#Para indicar el índice (renglón) del df\r\n",
        "df = pd.DataFrame(datos, index=['a','b','c','d','e'])\r\n",
        "df"
      ],
      "execution_count": 36,
      "outputs": [
        {
          "output_type": "execute_result",
          "data": {
            "text/html": [
              "<div>\n",
              "<style scoped>\n",
              "    .dataframe tbody tr th:only-of-type {\n",
              "        vertical-align: middle;\n",
              "    }\n",
              "\n",
              "    .dataframe tbody tr th {\n",
              "        vertical-align: top;\n",
              "    }\n",
              "\n",
              "    .dataframe thead th {\n",
              "        text-align: right;\n",
              "    }\n",
              "</style>\n",
              "<table border=\"1\" class=\"dataframe\">\n",
              "  <thead>\n",
              "    <tr style=\"text-align: right;\">\n",
              "      <th></th>\n",
              "      <th>columna_1</th>\n",
              "      <th>columna_2</th>\n",
              "      <th>columna_3</th>\n",
              "      <th>columna_4</th>\n",
              "    </tr>\n",
              "  </thead>\n",
              "  <tbody>\n",
              "    <tr>\n",
              "      <th>a</th>\n",
              "      <td>valor_fila_0</td>\n",
              "      <td>valor_fila_0</td>\n",
              "      <td>valor_fila_0</td>\n",
              "      <td>valor_fila_0</td>\n",
              "    </tr>\n",
              "    <tr>\n",
              "      <th>b</th>\n",
              "      <td>valor_fila_1</td>\n",
              "      <td>valor_fila_1</td>\n",
              "      <td>valor_fila_1</td>\n",
              "      <td>valor_fila_1</td>\n",
              "    </tr>\n",
              "    <tr>\n",
              "      <th>c</th>\n",
              "      <td>valor_fila_2</td>\n",
              "      <td>valor_fila_2</td>\n",
              "      <td>valor_fila_2</td>\n",
              "      <td>valor_fila_2</td>\n",
              "    </tr>\n",
              "    <tr>\n",
              "      <th>d</th>\n",
              "      <td>valor_fila_3</td>\n",
              "      <td>valor_fila_3</td>\n",
              "      <td>valor_fila_3</td>\n",
              "      <td>valor_fila_3</td>\n",
              "    </tr>\n",
              "    <tr>\n",
              "      <th>e</th>\n",
              "      <td>valor_fila_4</td>\n",
              "      <td>valor_fila_4</td>\n",
              "      <td>valor_fila_4</td>\n",
              "      <td>valor_fila_4</td>\n",
              "    </tr>\n",
              "  </tbody>\n",
              "</table>\n",
              "</div>"
            ],
            "text/plain": [
              "      columna_1     columna_2     columna_3     columna_4\n",
              "a  valor_fila_0  valor_fila_0  valor_fila_0  valor_fila_0\n",
              "b  valor_fila_1  valor_fila_1  valor_fila_1  valor_fila_1\n",
              "c  valor_fila_2  valor_fila_2  valor_fila_2  valor_fila_2\n",
              "d  valor_fila_3  valor_fila_3  valor_fila_3  valor_fila_3\n",
              "e  valor_fila_4  valor_fila_4  valor_fila_4  valor_fila_4"
            ]
          },
          "metadata": {
            "tags": []
          },
          "execution_count": 36
        }
      ]
    },
    {
      "cell_type": "code",
      "metadata": {
        "colab": {
          "base_uri": "https://localhost:8080/"
        },
        "id": "ggRKdLFlEsFV",
        "outputId": "ee7308fe-f8af-4f8c-9919-daf7f1ecb032"
      },
      "source": [
        "#Para acceder elementos de las columnas\r\n",
        "df['columna_1']"
      ],
      "execution_count": 37,
      "outputs": [
        {
          "output_type": "execute_result",
          "data": {
            "text/plain": [
              "a    valor_fila_0\n",
              "b    valor_fila_1\n",
              "c    valor_fila_2\n",
              "d    valor_fila_3\n",
              "e    valor_fila_4\n",
              "Name: columna_1, dtype: object"
            ]
          },
          "metadata": {
            "tags": []
          },
          "execution_count": 37
        }
      ]
    },
    {
      "cell_type": "code",
      "metadata": {
        "colab": {
          "base_uri": "https://localhost:8080/",
          "height": 35
        },
        "id": "pEPwx_ZAE3L4",
        "outputId": "9d565537-0ad0-412a-9736-6a4a83dbca53"
      },
      "source": [
        "#Para acceder a un elemento en particular\r\n",
        "df['columna_1']['a']"
      ],
      "execution_count": 42,
      "outputs": [
        {
          "output_type": "execute_result",
          "data": {
            "application/vnd.google.colaboratory.intrinsic+json": {
              "type": "string"
            },
            "text/plain": [
              "'valor_fila_0'"
            ]
          },
          "metadata": {
            "tags": []
          },
          "execution_count": 42
        }
      ]
    },
    {
      "cell_type": "code",
      "metadata": {
        "colab": {
          "base_uri": "https://localhost:8080/",
          "height": 35
        },
        "id": "tWI-e2ifFrOK",
        "outputId": "d5e40320-2a2d-45e7-b273-8dd3326b2289"
      },
      "source": [
        "#Es igual a llamar primero el índice con loc\r\n",
        "df.loc['a', 'columna_1']"
      ],
      "execution_count": 43,
      "outputs": [
        {
          "output_type": "execute_result",
          "data": {
            "application/vnd.google.colaboratory.intrinsic+json": {
              "type": "string"
            },
            "text/plain": [
              "'valor_fila_0'"
            ]
          },
          "metadata": {
            "tags": []
          },
          "execution_count": 43
        }
      ]
    },
    {
      "cell_type": "code",
      "metadata": {
        "colab": {
          "base_uri": "https://localhost:8080/"
        },
        "id": "zqTc22o9FB8c",
        "outputId": "21103fd7-5447-470f-a200-406dade97cfd"
      },
      "source": [
        "#Acceder a la fila o índice\r\n",
        "df.loc['a']"
      ],
      "execution_count": 39,
      "outputs": [
        {
          "output_type": "execute_result",
          "data": {
            "text/plain": [
              "columna_1    valor_fila_0\n",
              "columna_2    valor_fila_0\n",
              "columna_3    valor_fila_0\n",
              "columna_4    valor_fila_0\n",
              "Name: a, dtype: object"
            ]
          },
          "metadata": {
            "tags": []
          },
          "execution_count": 39
        }
      ]
    },
    {
      "cell_type": "markdown",
      "metadata": {
        "id": "iUgEtY3sF-qw"
      },
      "source": [
        "**Reto 3**\r\n",
        "Data Frames\r\n",
        "\r\n",
        "- Aprender a crear `DataFrames` e indexar por columna y por fila"
      ]
    },
    {
      "cell_type": "markdown",
      "metadata": {
        "id": "qClK9QYyGQSQ"
      },
      "source": [
        "a) Creación e indexación de DataFrames\r\n",
        "\r\n",
        "Eres el Data Wrangler (procesador de datos) de EyePoker Inc. Tienes el siguiente diccionario con datos que se refieren a diferentes productos que vende la empresa. Este es tu conjunto de datos y el índice que le corresponde:\r\n",
        "1. Convertir en DataFrame\r\n",
        "2. Indexar\r\n",
        "3. Verificar"
      ]
    },
    {
      "cell_type": "code",
      "metadata": {
        "id": "q92WrVCaGORV"
      },
      "source": [
        "datos_productos = {\r\n",
        "    \"nombre\": [\"Pokemaster\", \"Cegatron\", \"Pikame Mucho\", \"Lazarillo de Tormes\", \"Stevie Wonder\", \"Needle\", \"El AyMeDuele\"],\r\n",
        "    \"precio\": [10000, 5500, 3500, 750, 15500, 12250, 23000],\r\n",
        "    \"peso\": [1.2, 1.5, 2.3, 5.5, 3.4, 2.4, 8.8],\r\n",
        "    \"capacidad de destrucción retinal\": [3, 7, 6, 8, 9, 2, 10],\r\n",
        "    \"disponible\": [True, False, True, True, False, False, True]\r\n",
        "}\r\n",
        "\r\n",
        "indice = [1, 2, 3, 4, 5, 6, 7]"
      ],
      "execution_count": 45,
      "outputs": []
    },
    {
      "cell_type": "code",
      "metadata": {
        "colab": {
          "base_uri": "https://localhost:8080/",
          "height": 254
        },
        "id": "o-AVf-VRGpDH",
        "outputId": "25353e17-7087-405a-e22e-cffe0be1f184"
      },
      "source": [
        "#1. DataFrame\r\n",
        "df_productos = pd.DataFrame(datos_productos)\r\n",
        "df_productos"
      ],
      "execution_count": 57,
      "outputs": [
        {
          "output_type": "execute_result",
          "data": {
            "text/html": [
              "<div>\n",
              "<style scoped>\n",
              "    .dataframe tbody tr th:only-of-type {\n",
              "        vertical-align: middle;\n",
              "    }\n",
              "\n",
              "    .dataframe tbody tr th {\n",
              "        vertical-align: top;\n",
              "    }\n",
              "\n",
              "    .dataframe thead th {\n",
              "        text-align: right;\n",
              "    }\n",
              "</style>\n",
              "<table border=\"1\" class=\"dataframe\">\n",
              "  <thead>\n",
              "    <tr style=\"text-align: right;\">\n",
              "      <th></th>\n",
              "      <th>nombre</th>\n",
              "      <th>precio</th>\n",
              "      <th>peso</th>\n",
              "      <th>capacidad de destrucción retinal</th>\n",
              "      <th>disponible</th>\n",
              "    </tr>\n",
              "  </thead>\n",
              "  <tbody>\n",
              "    <tr>\n",
              "      <th>0</th>\n",
              "      <td>Pokemaster</td>\n",
              "      <td>10000</td>\n",
              "      <td>1.2</td>\n",
              "      <td>3</td>\n",
              "      <td>True</td>\n",
              "    </tr>\n",
              "    <tr>\n",
              "      <th>1</th>\n",
              "      <td>Cegatron</td>\n",
              "      <td>5500</td>\n",
              "      <td>1.5</td>\n",
              "      <td>7</td>\n",
              "      <td>False</td>\n",
              "    </tr>\n",
              "    <tr>\n",
              "      <th>2</th>\n",
              "      <td>Pikame Mucho</td>\n",
              "      <td>3500</td>\n",
              "      <td>2.3</td>\n",
              "      <td>6</td>\n",
              "      <td>True</td>\n",
              "    </tr>\n",
              "    <tr>\n",
              "      <th>3</th>\n",
              "      <td>Lazarillo de Tormes</td>\n",
              "      <td>750</td>\n",
              "      <td>5.5</td>\n",
              "      <td>8</td>\n",
              "      <td>True</td>\n",
              "    </tr>\n",
              "    <tr>\n",
              "      <th>4</th>\n",
              "      <td>Stevie Wonder</td>\n",
              "      <td>15500</td>\n",
              "      <td>3.4</td>\n",
              "      <td>9</td>\n",
              "      <td>False</td>\n",
              "    </tr>\n",
              "    <tr>\n",
              "      <th>5</th>\n",
              "      <td>Needle</td>\n",
              "      <td>12250</td>\n",
              "      <td>2.4</td>\n",
              "      <td>2</td>\n",
              "      <td>False</td>\n",
              "    </tr>\n",
              "    <tr>\n",
              "      <th>6</th>\n",
              "      <td>El AyMeDuele</td>\n",
              "      <td>23000</td>\n",
              "      <td>8.8</td>\n",
              "      <td>10</td>\n",
              "      <td>True</td>\n",
              "    </tr>\n",
              "  </tbody>\n",
              "</table>\n",
              "</div>"
            ],
            "text/plain": [
              "                nombre  precio  ...  capacidad de destrucción retinal  disponible\n",
              "0           Pokemaster   10000  ...                                 3        True\n",
              "1             Cegatron    5500  ...                                 7       False\n",
              "2         Pikame Mucho    3500  ...                                 6        True\n",
              "3  Lazarillo de Tormes     750  ...                                 8        True\n",
              "4        Stevie Wonder   15500  ...                                 9       False\n",
              "5               Needle   12250  ...                                 2       False\n",
              "6         El AyMeDuele   23000  ...                                10        True\n",
              "\n",
              "[7 rows x 5 columns]"
            ]
          },
          "metadata": {
            "tags": []
          },
          "execution_count": 57
        }
      ]
    },
    {
      "cell_type": "code",
      "metadata": {
        "colab": {
          "base_uri": "https://localhost:8080/",
          "height": 254
        },
        "id": "uin1lf0mIYDV",
        "outputId": "433d74d3-5913-486f-b99f-a0ed4629d1b2"
      },
      "source": [
        "#1.1 Cambiar índices\r\n",
        "df_productos = pd.DataFrame(datos_productos, index=[1, 2, 3, 4, 5, 6, 7])\r\n",
        "df_productos"
      ],
      "execution_count": 58,
      "outputs": [
        {
          "output_type": "execute_result",
          "data": {
            "text/html": [
              "<div>\n",
              "<style scoped>\n",
              "    .dataframe tbody tr th:only-of-type {\n",
              "        vertical-align: middle;\n",
              "    }\n",
              "\n",
              "    .dataframe tbody tr th {\n",
              "        vertical-align: top;\n",
              "    }\n",
              "\n",
              "    .dataframe thead th {\n",
              "        text-align: right;\n",
              "    }\n",
              "</style>\n",
              "<table border=\"1\" class=\"dataframe\">\n",
              "  <thead>\n",
              "    <tr style=\"text-align: right;\">\n",
              "      <th></th>\n",
              "      <th>nombre</th>\n",
              "      <th>precio</th>\n",
              "      <th>peso</th>\n",
              "      <th>capacidad de destrucción retinal</th>\n",
              "      <th>disponible</th>\n",
              "    </tr>\n",
              "  </thead>\n",
              "  <tbody>\n",
              "    <tr>\n",
              "      <th>1</th>\n",
              "      <td>Pokemaster</td>\n",
              "      <td>10000</td>\n",
              "      <td>1.2</td>\n",
              "      <td>3</td>\n",
              "      <td>True</td>\n",
              "    </tr>\n",
              "    <tr>\n",
              "      <th>2</th>\n",
              "      <td>Cegatron</td>\n",
              "      <td>5500</td>\n",
              "      <td>1.5</td>\n",
              "      <td>7</td>\n",
              "      <td>False</td>\n",
              "    </tr>\n",
              "    <tr>\n",
              "      <th>3</th>\n",
              "      <td>Pikame Mucho</td>\n",
              "      <td>3500</td>\n",
              "      <td>2.3</td>\n",
              "      <td>6</td>\n",
              "      <td>True</td>\n",
              "    </tr>\n",
              "    <tr>\n",
              "      <th>4</th>\n",
              "      <td>Lazarillo de Tormes</td>\n",
              "      <td>750</td>\n",
              "      <td>5.5</td>\n",
              "      <td>8</td>\n",
              "      <td>True</td>\n",
              "    </tr>\n",
              "    <tr>\n",
              "      <th>5</th>\n",
              "      <td>Stevie Wonder</td>\n",
              "      <td>15500</td>\n",
              "      <td>3.4</td>\n",
              "      <td>9</td>\n",
              "      <td>False</td>\n",
              "    </tr>\n",
              "    <tr>\n",
              "      <th>6</th>\n",
              "      <td>Needle</td>\n",
              "      <td>12250</td>\n",
              "      <td>2.4</td>\n",
              "      <td>2</td>\n",
              "      <td>False</td>\n",
              "    </tr>\n",
              "    <tr>\n",
              "      <th>7</th>\n",
              "      <td>El AyMeDuele</td>\n",
              "      <td>23000</td>\n",
              "      <td>8.8</td>\n",
              "      <td>10</td>\n",
              "      <td>True</td>\n",
              "    </tr>\n",
              "  </tbody>\n",
              "</table>\n",
              "</div>"
            ],
            "text/plain": [
              "                nombre  precio  ...  capacidad de destrucción retinal  disponible\n",
              "1           Pokemaster   10000  ...                                 3        True\n",
              "2             Cegatron    5500  ...                                 7       False\n",
              "3         Pikame Mucho    3500  ...                                 6        True\n",
              "4  Lazarillo de Tormes     750  ...                                 8        True\n",
              "5        Stevie Wonder   15500  ...                                 9       False\n",
              "6               Needle   12250  ...                                 2       False\n",
              "7         El AyMeDuele   23000  ...                                10        True\n",
              "\n",
              "[7 rows x 5 columns]"
            ]
          },
          "metadata": {
            "tags": []
          },
          "execution_count": 58
        }
      ]
    },
    {
      "cell_type": "code",
      "metadata": {
        "colab": {
          "base_uri": "https://localhost:8080/",
          "height": 166
        },
        "id": "tSoPpcggLH-F",
        "outputId": "b7ab54be-4b37-48e8-9278-97c7b8bda40d"
      },
      "source": [
        "#2. Indexaciones\r\n",
        "\r\n",
        "# Quiero un DataFrame que contenga los productos \"Pikame Mucho\" y \"Stevie Wonder\"\r\n",
        "pm_sw = df_productos.iloc[[3,5]]\r\n",
        "pm_sw\r\n",
        "# Quiero un DataFrame que contenga desde el producto #4 hasta el último\r\n",
        "p4_final = df_productos.iloc[4:]\r\n",
        "p4_final\r\n",
        "# Quiero un DataFrame que contenga los productos \"El AyMeDuele\", \"Lazarillo de Tormes\" y \"Needle\"\r\n",
        "amd_lt_n = df_productos.loc[[7, 4, 3]]\r\n",
        "amd_lt_n\r\n",
        "# Quiero un DataFrame que contenga desde el primer producto hasta el producto #5\r\n",
        "primer_p5 = df_productos.iloc[:5]\r\n",
        "primer_p5\r\n",
        "# Quiero un DataFrame que contenga los productos \"Pikame Mucho\" y \"Lazarillo de Tormes\", pero sólo con las columnas \"nombre\", \"precio\" y \"peso\"\r\n",
        "pm_lt_pp = df_productos.loc[[3,4], ['nombre', 'precio', 'peso']]\r\n",
        "pm_lt_pp\r\n",
        "# Quiero un DataFrame que contenga todos los productos pero con sólo las columnas 'nombre', 'precio' y 'capacidad de destrucción retinal'\r\n",
        "t_pcdr = df_productos[['nombre', 'precio', 'capacidad de destrucción retinal']]\r\n",
        "t_pcdr\r\n",
        "# Quiero un DataFrame que contenga desde el producto #3 hasta el #6, pero sólo las columnas 'nombre', 'precio' y 'disponible'\r\n",
        "p3_p6_pd = df_productos.loc[3:6, ['nombre', 'precio', 'disponible']]\r\n",
        "p3_p6_pd"
      ],
      "execution_count": 67,
      "outputs": [
        {
          "output_type": "execute_result",
          "data": {
            "text/html": [
              "<div>\n",
              "<style scoped>\n",
              "    .dataframe tbody tr th:only-of-type {\n",
              "        vertical-align: middle;\n",
              "    }\n",
              "\n",
              "    .dataframe tbody tr th {\n",
              "        vertical-align: top;\n",
              "    }\n",
              "\n",
              "    .dataframe thead th {\n",
              "        text-align: right;\n",
              "    }\n",
              "</style>\n",
              "<table border=\"1\" class=\"dataframe\">\n",
              "  <thead>\n",
              "    <tr style=\"text-align: right;\">\n",
              "      <th></th>\n",
              "      <th>nombre</th>\n",
              "      <th>precio</th>\n",
              "      <th>disponible</th>\n",
              "    </tr>\n",
              "  </thead>\n",
              "  <tbody>\n",
              "    <tr>\n",
              "      <th>3</th>\n",
              "      <td>Pikame Mucho</td>\n",
              "      <td>3500</td>\n",
              "      <td>True</td>\n",
              "    </tr>\n",
              "    <tr>\n",
              "      <th>4</th>\n",
              "      <td>Lazarillo de Tormes</td>\n",
              "      <td>750</td>\n",
              "      <td>True</td>\n",
              "    </tr>\n",
              "    <tr>\n",
              "      <th>5</th>\n",
              "      <td>Stevie Wonder</td>\n",
              "      <td>15500</td>\n",
              "      <td>False</td>\n",
              "    </tr>\n",
              "    <tr>\n",
              "      <th>6</th>\n",
              "      <td>Needle</td>\n",
              "      <td>12250</td>\n",
              "      <td>False</td>\n",
              "    </tr>\n",
              "  </tbody>\n",
              "</table>\n",
              "</div>"
            ],
            "text/plain": [
              "                nombre  precio  disponible\n",
              "3         Pikame Mucho    3500        True\n",
              "4  Lazarillo de Tormes     750        True\n",
              "5        Stevie Wonder   15500       False\n",
              "6               Needle   12250       False"
            ]
          },
          "metadata": {
            "tags": []
          },
          "execution_count": 67
        }
      ]
    },
    {
      "cell_type": "code",
      "metadata": {
        "colab": {
          "base_uri": "https://localhost:8080/",
          "height": 77
        },
        "id": "ftrL-lNSGvmj",
        "outputId": "79f48af5-5ff9-4e57-e3a8-a4f18d38bc5f"
      },
      "source": [
        "# También se puede hacer filtro para obtener un valor en específico\r\n",
        "df_productos.loc[df_productos.loc[:, 'nombre'] == 'Pikame Mucho']\r\n",
        "#Un isisn o lista por cada elemento, es menos eficiente con muchos datos\r\n",
        "#df[df['nombre'].isin(['Pikame Mucho', 'Stivie Wonder'])]"
      ],
      "execution_count": 71,
      "outputs": [
        {
          "output_type": "execute_result",
          "data": {
            "text/html": [
              "<div>\n",
              "<style scoped>\n",
              "    .dataframe tbody tr th:only-of-type {\n",
              "        vertical-align: middle;\n",
              "    }\n",
              "\n",
              "    .dataframe tbody tr th {\n",
              "        vertical-align: top;\n",
              "    }\n",
              "\n",
              "    .dataframe thead th {\n",
              "        text-align: right;\n",
              "    }\n",
              "</style>\n",
              "<table border=\"1\" class=\"dataframe\">\n",
              "  <thead>\n",
              "    <tr style=\"text-align: right;\">\n",
              "      <th></th>\n",
              "      <th>nombre</th>\n",
              "      <th>precio</th>\n",
              "      <th>peso</th>\n",
              "      <th>capacidad de destrucción retinal</th>\n",
              "      <th>disponible</th>\n",
              "    </tr>\n",
              "  </thead>\n",
              "  <tbody>\n",
              "    <tr>\n",
              "      <th>3</th>\n",
              "      <td>Pikame Mucho</td>\n",
              "      <td>3500</td>\n",
              "      <td>2.3</td>\n",
              "      <td>6</td>\n",
              "      <td>True</td>\n",
              "    </tr>\n",
              "  </tbody>\n",
              "</table>\n",
              "</div>"
            ],
            "text/plain": [
              "         nombre  precio  peso  capacidad de destrucción retinal  disponible\n",
              "3  Pikame Mucho    3500   2.3                                 6        True"
            ]
          },
          "metadata": {
            "tags": []
          },
          "execution_count": 71
        }
      ]
    },
    {
      "cell_type": "code",
      "metadata": {
        "id": "RkgXhuKDG6Aj"
      },
      "source": [
        "#3. Verificar\r\n",
        "\r\n",
        "def verificar_indexaciones(datos_productos, indice, df_productos, pm_sw, p4_final, amd_lt_n, primer_p5, pm_lt_pp, t_pcdr, p3_p6_pd):\r\n",
        "    \r\n",
        "    import pandas as pd\r\n",
        "    \r\n",
        "    df_productos_esperado = pd.DataFrame(datos_productos, index=indice)\r\n",
        "    if not df_productos_esperado.equals(df_productos):\r\n",
        "        print(f'df_productos ha sido creado incorrectamente ... Favor de revisar')\r\n",
        "        return\r\n",
        "    \r\n",
        "    print(f'== Verificación de Indexaciones ==\\n')\r\n",
        "    verificar_indexacion(df_productos.loc[[3, 5]], pm_sw, 'DataFrame que contenga los productos \"Pikame Mucho\" y \"Stevie Wonder\"')\r\n",
        "    verificar_indexacion(df_productos.loc[4:], p4_final, 'DataFrame que contenga desde el producto #4 hasta el último')\r\n",
        "    verificar_indexacion(df_productos.loc[[7, 4, 6]], amd_lt_n, 'DataFrame que contenga los productos \"El AyMeDuele\", \"Lazarillo de Tormes\" y \"Needle\"')\r\n",
        "    verificar_indexacion(df_productos.loc[:5], primer_p5, 'DataFrame que contenga desde el primer producto hasta el producto #5')\r\n",
        "    verificar_indexacion(df_productos.loc[[3, 4], ['nombre', 'precio', 'peso']], pm_lt_pp, 'DataFrame que contenga los productos \"Pikame Mucho\" y \"Lazarillo de Tormes\", pero sólo con las columnas \"nombre\", \"precio\" y \"peso\"')\r\n",
        "    verificar_indexacion(df_productos[['nombre', 'precio', 'capacidad de destrucción retinal']], t_pcdr, \"DataFrame que contenga todos los productos pero con sólo las columnas 'nombre', 'precio' y 'capacidad de destrucción retinal'\")\r\n",
        "    verificar_indexacion(df_productos.loc[3:6, ['nombre', 'precio', 'disponible']], p3_p6_pd, \"DataFrame que contenga desde el producto #3 hasta el #6, pero sólo las columnas 'nombre', 'precio' y 'disponible'\")\r\n",
        "    \r\n",
        "def verificar_indexacion(esperada, recibida, descripcion):\r\n",
        "    es_correcta = \"Correcto\" if esperada.equals(recibida) else \"Incorrecto\"\r\n",
        "    respuesta = \"Muchas gracias!\" if es_correcta == \"Correcto\" else \"Favor de revisar\"\r\n",
        "    print(f\"\\n- Descripción de pedido: {descripcion}\")\r\n",
        "    print(f\"El pedido es {es_correcta} ... {respuesta}\")\r\n"
      ],
      "execution_count": 72,
      "outputs": []
    },
    {
      "cell_type": "markdown",
      "metadata": {
        "id": "gkWLueulPiHu"
      },
      "source": [
        "**Ejemplo 5**\r\n",
        "\r\n",
        "Manipulación de datos\r\n",
        "- Aprender a crear nuevas columnas en un `DataFrame`\r\n",
        "- Aprender a reasignar columnas\r\n",
        "- Aprender a eliminar columnas"
      ]
    },
    {
      "cell_type": "code",
      "metadata": {
        "id": "Bkcqq9G3PqYF"
      },
      "source": [
        "datos = {\r\n",
        "    \"Nombre\":[\"Atenea\", \"Alberto\", \"Mary\", \"Barbara\", \"Selene\"],\r\n",
        "    \"Cereal Favorito\": [\"avena\", \"fitness\", \"honey\",\"corn pops\", \"cinnamon\"]\r\n",
        "}"
      ],
      "execution_count": 97,
      "outputs": []
    },
    {
      "cell_type": "code",
      "metadata": {
        "colab": {
          "base_uri": "https://localhost:8080/",
          "height": 195
        },
        "id": "ITZ2z8WoQgE1",
        "outputId": "d0399217-3c3c-4162-bfb5-f633642ea779"
      },
      "source": [
        "df = pd.DataFrame(datos)\r\n",
        "df"
      ],
      "execution_count": 98,
      "outputs": [
        {
          "output_type": "execute_result",
          "data": {
            "text/html": [
              "<div>\n",
              "<style scoped>\n",
              "    .dataframe tbody tr th:only-of-type {\n",
              "        vertical-align: middle;\n",
              "    }\n",
              "\n",
              "    .dataframe tbody tr th {\n",
              "        vertical-align: top;\n",
              "    }\n",
              "\n",
              "    .dataframe thead th {\n",
              "        text-align: right;\n",
              "    }\n",
              "</style>\n",
              "<table border=\"1\" class=\"dataframe\">\n",
              "  <thead>\n",
              "    <tr style=\"text-align: right;\">\n",
              "      <th></th>\n",
              "      <th>Nombre</th>\n",
              "      <th>Cereal Favorito</th>\n",
              "    </tr>\n",
              "  </thead>\n",
              "  <tbody>\n",
              "    <tr>\n",
              "      <th>0</th>\n",
              "      <td>Atenea</td>\n",
              "      <td>avena</td>\n",
              "    </tr>\n",
              "    <tr>\n",
              "      <th>1</th>\n",
              "      <td>Alberto</td>\n",
              "      <td>fitness</td>\n",
              "    </tr>\n",
              "    <tr>\n",
              "      <th>2</th>\n",
              "      <td>Mary</td>\n",
              "      <td>honey</td>\n",
              "    </tr>\n",
              "    <tr>\n",
              "      <th>3</th>\n",
              "      <td>Barbara</td>\n",
              "      <td>corn pops</td>\n",
              "    </tr>\n",
              "    <tr>\n",
              "      <th>4</th>\n",
              "      <td>Selene</td>\n",
              "      <td>cinnamon</td>\n",
              "    </tr>\n",
              "  </tbody>\n",
              "</table>\n",
              "</div>"
            ],
            "text/plain": [
              "    Nombre Cereal Favorito\n",
              "0   Atenea           avena\n",
              "1  Alberto         fitness\n",
              "2     Mary           honey\n",
              "3  Barbara       corn pops\n",
              "4   Selene        cinnamon"
            ]
          },
          "metadata": {
            "tags": []
          },
          "execution_count": 98
        }
      ]
    },
    {
      "cell_type": "code",
      "metadata": {
        "colab": {
          "base_uri": "https://localhost:8080/",
          "height": 106
        },
        "id": "RyPxbFEQP4_S",
        "outputId": "e46015e5-9107-4f55-d4b6-61af34a7e615"
      },
      "source": [
        "#Para ver los primeros\r\n",
        "df.head(2)"
      ],
      "execution_count": 99,
      "outputs": [
        {
          "output_type": "execute_result",
          "data": {
            "text/html": [
              "<div>\n",
              "<style scoped>\n",
              "    .dataframe tbody tr th:only-of-type {\n",
              "        vertical-align: middle;\n",
              "    }\n",
              "\n",
              "    .dataframe tbody tr th {\n",
              "        vertical-align: top;\n",
              "    }\n",
              "\n",
              "    .dataframe thead th {\n",
              "        text-align: right;\n",
              "    }\n",
              "</style>\n",
              "<table border=\"1\" class=\"dataframe\">\n",
              "  <thead>\n",
              "    <tr style=\"text-align: right;\">\n",
              "      <th></th>\n",
              "      <th>Nombre</th>\n",
              "      <th>Cereal Favorito</th>\n",
              "    </tr>\n",
              "  </thead>\n",
              "  <tbody>\n",
              "    <tr>\n",
              "      <th>0</th>\n",
              "      <td>Atenea</td>\n",
              "      <td>avena</td>\n",
              "    </tr>\n",
              "    <tr>\n",
              "      <th>1</th>\n",
              "      <td>Alberto</td>\n",
              "      <td>fitness</td>\n",
              "    </tr>\n",
              "  </tbody>\n",
              "</table>\n",
              "</div>"
            ],
            "text/plain": [
              "    Nombre Cereal Favorito\n",
              "0   Atenea           avena\n",
              "1  Alberto         fitness"
            ]
          },
          "metadata": {
            "tags": []
          },
          "execution_count": 99
        }
      ]
    },
    {
      "cell_type": "code",
      "metadata": {
        "colab": {
          "base_uri": "https://localhost:8080/",
          "height": 136
        },
        "id": "2tFPIDtNQo7G",
        "outputId": "d9152ecc-3c8a-427b-9ef4-540349fb4a96"
      },
      "source": [
        " # los últimos\r\n",
        " df.tail(3)"
      ],
      "execution_count": 100,
      "outputs": [
        {
          "output_type": "execute_result",
          "data": {
            "text/html": [
              "<div>\n",
              "<style scoped>\n",
              "    .dataframe tbody tr th:only-of-type {\n",
              "        vertical-align: middle;\n",
              "    }\n",
              "\n",
              "    .dataframe tbody tr th {\n",
              "        vertical-align: top;\n",
              "    }\n",
              "\n",
              "    .dataframe thead th {\n",
              "        text-align: right;\n",
              "    }\n",
              "</style>\n",
              "<table border=\"1\" class=\"dataframe\">\n",
              "  <thead>\n",
              "    <tr style=\"text-align: right;\">\n",
              "      <th></th>\n",
              "      <th>Nombre</th>\n",
              "      <th>Cereal Favorito</th>\n",
              "    </tr>\n",
              "  </thead>\n",
              "  <tbody>\n",
              "    <tr>\n",
              "      <th>2</th>\n",
              "      <td>Mary</td>\n",
              "      <td>honey</td>\n",
              "    </tr>\n",
              "    <tr>\n",
              "      <th>3</th>\n",
              "      <td>Barbara</td>\n",
              "      <td>corn pops</td>\n",
              "    </tr>\n",
              "    <tr>\n",
              "      <th>4</th>\n",
              "      <td>Selene</td>\n",
              "      <td>cinnamon</td>\n",
              "    </tr>\n",
              "  </tbody>\n",
              "</table>\n",
              "</div>"
            ],
            "text/plain": [
              "    Nombre Cereal Favorito\n",
              "2     Mary           honey\n",
              "3  Barbara       corn pops\n",
              "4   Selene        cinnamon"
            ]
          },
          "metadata": {
            "tags": []
          },
          "execution_count": 100
        }
      ]
    },
    {
      "cell_type": "code",
      "metadata": {
        "colab": {
          "base_uri": "https://localhost:8080/",
          "height": 225
        },
        "id": "cF1lNAfuQtIO",
        "outputId": "16036019-a5c4-430b-9f66-31ae721ac46e"
      },
      "source": [
        "#Para agregar fila y guardar cambio\r\n",
        "df = df.append({\"Nombre\": \"Sharoon\", \"Cereal Favorito\": \"oreo\"}, ignore_index=True)\r\n",
        "df"
      ],
      "execution_count": 101,
      "outputs": [
        {
          "output_type": "execute_result",
          "data": {
            "text/html": [
              "<div>\n",
              "<style scoped>\n",
              "    .dataframe tbody tr th:only-of-type {\n",
              "        vertical-align: middle;\n",
              "    }\n",
              "\n",
              "    .dataframe tbody tr th {\n",
              "        vertical-align: top;\n",
              "    }\n",
              "\n",
              "    .dataframe thead th {\n",
              "        text-align: right;\n",
              "    }\n",
              "</style>\n",
              "<table border=\"1\" class=\"dataframe\">\n",
              "  <thead>\n",
              "    <tr style=\"text-align: right;\">\n",
              "      <th></th>\n",
              "      <th>Nombre</th>\n",
              "      <th>Cereal Favorito</th>\n",
              "    </tr>\n",
              "  </thead>\n",
              "  <tbody>\n",
              "    <tr>\n",
              "      <th>0</th>\n",
              "      <td>Atenea</td>\n",
              "      <td>avena</td>\n",
              "    </tr>\n",
              "    <tr>\n",
              "      <th>1</th>\n",
              "      <td>Alberto</td>\n",
              "      <td>fitness</td>\n",
              "    </tr>\n",
              "    <tr>\n",
              "      <th>2</th>\n",
              "      <td>Mary</td>\n",
              "      <td>honey</td>\n",
              "    </tr>\n",
              "    <tr>\n",
              "      <th>3</th>\n",
              "      <td>Barbara</td>\n",
              "      <td>corn pops</td>\n",
              "    </tr>\n",
              "    <tr>\n",
              "      <th>4</th>\n",
              "      <td>Selene</td>\n",
              "      <td>cinnamon</td>\n",
              "    </tr>\n",
              "    <tr>\n",
              "      <th>5</th>\n",
              "      <td>Sharoon</td>\n",
              "      <td>oreo</td>\n",
              "    </tr>\n",
              "  </tbody>\n",
              "</table>\n",
              "</div>"
            ],
            "text/plain": [
              "    Nombre Cereal Favorito\n",
              "0   Atenea           avena\n",
              "1  Alberto         fitness\n",
              "2     Mary           honey\n",
              "3  Barbara       corn pops\n",
              "4   Selene        cinnamon\n",
              "5  Sharoon            oreo"
            ]
          },
          "metadata": {
            "tags": []
          },
          "execution_count": 101
        }
      ]
    },
    {
      "cell_type": "code",
      "metadata": {
        "colab": {
          "base_uri": "https://localhost:8080/",
          "height": 225
        },
        "id": "T4EgWEevQ9m-",
        "outputId": "bf04d3d8-3df9-4abf-c61e-1870239723e1"
      },
      "source": [
        "#Para agregar columna, agregar serie\r\n",
        "df[\"Hora de desayuno\"] = pd.Series([\"11:00\",\"11:15\",\"7:00\",\"8:30\",\"9:00\",\"6:45\"])\r\n",
        "df"
      ],
      "execution_count": 102,
      "outputs": [
        {
          "output_type": "execute_result",
          "data": {
            "text/html": [
              "<div>\n",
              "<style scoped>\n",
              "    .dataframe tbody tr th:only-of-type {\n",
              "        vertical-align: middle;\n",
              "    }\n",
              "\n",
              "    .dataframe tbody tr th {\n",
              "        vertical-align: top;\n",
              "    }\n",
              "\n",
              "    .dataframe thead th {\n",
              "        text-align: right;\n",
              "    }\n",
              "</style>\n",
              "<table border=\"1\" class=\"dataframe\">\n",
              "  <thead>\n",
              "    <tr style=\"text-align: right;\">\n",
              "      <th></th>\n",
              "      <th>Nombre</th>\n",
              "      <th>Cereal Favorito</th>\n",
              "      <th>Hora de desayuno</th>\n",
              "    </tr>\n",
              "  </thead>\n",
              "  <tbody>\n",
              "    <tr>\n",
              "      <th>0</th>\n",
              "      <td>Atenea</td>\n",
              "      <td>avena</td>\n",
              "      <td>11:00</td>\n",
              "    </tr>\n",
              "    <tr>\n",
              "      <th>1</th>\n",
              "      <td>Alberto</td>\n",
              "      <td>fitness</td>\n",
              "      <td>11:15</td>\n",
              "    </tr>\n",
              "    <tr>\n",
              "      <th>2</th>\n",
              "      <td>Mary</td>\n",
              "      <td>honey</td>\n",
              "      <td>7:00</td>\n",
              "    </tr>\n",
              "    <tr>\n",
              "      <th>3</th>\n",
              "      <td>Barbara</td>\n",
              "      <td>corn pops</td>\n",
              "      <td>8:30</td>\n",
              "    </tr>\n",
              "    <tr>\n",
              "      <th>4</th>\n",
              "      <td>Selene</td>\n",
              "      <td>cinnamon</td>\n",
              "      <td>9:00</td>\n",
              "    </tr>\n",
              "    <tr>\n",
              "      <th>5</th>\n",
              "      <td>Sharoon</td>\n",
              "      <td>oreo</td>\n",
              "      <td>6:45</td>\n",
              "    </tr>\n",
              "  </tbody>\n",
              "</table>\n",
              "</div>"
            ],
            "text/plain": [
              "    Nombre Cereal Favorito Hora de desayuno\n",
              "0   Atenea           avena            11:00\n",
              "1  Alberto         fitness            11:15\n",
              "2     Mary           honey             7:00\n",
              "3  Barbara       corn pops             8:30\n",
              "4   Selene        cinnamon             9:00\n",
              "5  Sharoon            oreo             6:45"
            ]
          },
          "metadata": {
            "tags": []
          },
          "execution_count": 102
        }
      ]
    },
    {
      "cell_type": "code",
      "metadata": {
        "colab": {
          "base_uri": "https://localhost:8080/",
          "height": 225
        },
        "id": "o486bV5tQuN6",
        "outputId": "83b6d757-e1f7-4fac-f36f-111a6b24ca36"
      },
      "source": [
        "#Para borrar columna\r\n",
        "df= df.drop(columns=[\"Hora de desayuno\"])\r\n",
        "df"
      ],
      "execution_count": 103,
      "outputs": [
        {
          "output_type": "execute_result",
          "data": {
            "text/html": [
              "<div>\n",
              "<style scoped>\n",
              "    .dataframe tbody tr th:only-of-type {\n",
              "        vertical-align: middle;\n",
              "    }\n",
              "\n",
              "    .dataframe tbody tr th {\n",
              "        vertical-align: top;\n",
              "    }\n",
              "\n",
              "    .dataframe thead th {\n",
              "        text-align: right;\n",
              "    }\n",
              "</style>\n",
              "<table border=\"1\" class=\"dataframe\">\n",
              "  <thead>\n",
              "    <tr style=\"text-align: right;\">\n",
              "      <th></th>\n",
              "      <th>Nombre</th>\n",
              "      <th>Cereal Favorito</th>\n",
              "    </tr>\n",
              "  </thead>\n",
              "  <tbody>\n",
              "    <tr>\n",
              "      <th>0</th>\n",
              "      <td>Atenea</td>\n",
              "      <td>avena</td>\n",
              "    </tr>\n",
              "    <tr>\n",
              "      <th>1</th>\n",
              "      <td>Alberto</td>\n",
              "      <td>fitness</td>\n",
              "    </tr>\n",
              "    <tr>\n",
              "      <th>2</th>\n",
              "      <td>Mary</td>\n",
              "      <td>honey</td>\n",
              "    </tr>\n",
              "    <tr>\n",
              "      <th>3</th>\n",
              "      <td>Barbara</td>\n",
              "      <td>corn pops</td>\n",
              "    </tr>\n",
              "    <tr>\n",
              "      <th>4</th>\n",
              "      <td>Selene</td>\n",
              "      <td>cinnamon</td>\n",
              "    </tr>\n",
              "    <tr>\n",
              "      <th>5</th>\n",
              "      <td>Sharoon</td>\n",
              "      <td>oreo</td>\n",
              "    </tr>\n",
              "  </tbody>\n",
              "</table>\n",
              "</div>"
            ],
            "text/plain": [
              "    Nombre Cereal Favorito\n",
              "0   Atenea           avena\n",
              "1  Alberto         fitness\n",
              "2     Mary           honey\n",
              "3  Barbara       corn pops\n",
              "4   Selene        cinnamon\n",
              "5  Sharoon            oreo"
            ]
          },
          "metadata": {
            "tags": []
          },
          "execution_count": 103
        }
      ]
    },
    {
      "cell_type": "code",
      "metadata": {
        "colab": {
          "base_uri": "https://localhost:8080/",
          "height": 195
        },
        "id": "v6KXN9tQUI6x",
        "outputId": "c7528b33-6f0c-4cb6-9fd9-d329764a5084"
      },
      "source": [
        "#Para borrar índice (fila)\r\n",
        "df = df.drop(index=4)\r\n",
        "df"
      ],
      "execution_count": 104,
      "outputs": [
        {
          "output_type": "execute_result",
          "data": {
            "text/html": [
              "<div>\n",
              "<style scoped>\n",
              "    .dataframe tbody tr th:only-of-type {\n",
              "        vertical-align: middle;\n",
              "    }\n",
              "\n",
              "    .dataframe tbody tr th {\n",
              "        vertical-align: top;\n",
              "    }\n",
              "\n",
              "    .dataframe thead th {\n",
              "        text-align: right;\n",
              "    }\n",
              "</style>\n",
              "<table border=\"1\" class=\"dataframe\">\n",
              "  <thead>\n",
              "    <tr style=\"text-align: right;\">\n",
              "      <th></th>\n",
              "      <th>Nombre</th>\n",
              "      <th>Cereal Favorito</th>\n",
              "    </tr>\n",
              "  </thead>\n",
              "  <tbody>\n",
              "    <tr>\n",
              "      <th>0</th>\n",
              "      <td>Atenea</td>\n",
              "      <td>avena</td>\n",
              "    </tr>\n",
              "    <tr>\n",
              "      <th>1</th>\n",
              "      <td>Alberto</td>\n",
              "      <td>fitness</td>\n",
              "    </tr>\n",
              "    <tr>\n",
              "      <th>2</th>\n",
              "      <td>Mary</td>\n",
              "      <td>honey</td>\n",
              "    </tr>\n",
              "    <tr>\n",
              "      <th>3</th>\n",
              "      <td>Barbara</td>\n",
              "      <td>corn pops</td>\n",
              "    </tr>\n",
              "    <tr>\n",
              "      <th>5</th>\n",
              "      <td>Sharoon</td>\n",
              "      <td>oreo</td>\n",
              "    </tr>\n",
              "  </tbody>\n",
              "</table>\n",
              "</div>"
            ],
            "text/plain": [
              "    Nombre Cereal Favorito\n",
              "0   Atenea           avena\n",
              "1  Alberto         fitness\n",
              "2     Mary           honey\n",
              "3  Barbara       corn pops\n",
              "5  Sharoon            oreo"
            ]
          },
          "metadata": {
            "tags": []
          },
          "execution_count": 104
        }
      ]
    },
    {
      "cell_type": "markdown",
      "metadata": {
        "id": "_cuwBaDdU4-A"
      },
      "source": [
        "**Reto 4**\r\n",
        "Manipulación de columnas\r\n",
        "\r\n",
        "- Practicar asignar, reasignar y eliminar columnas de `DataFrames`"
      ]
    },
    {
      "cell_type": "markdown",
      "metadata": {
        "id": "m8FMJjX1VE04"
      },
      "source": [
        "**a) Transformación de DataFrames**\r\n",
        "\r\n",
        "Esta vez el Analista de Datos te hace 3 nuevos pedidos que incluyen:\r\n",
        "1. la creación de una nueva columna, \r\n",
        "2. la asignación de nuevos datos a una columna y\r\n",
        "3. la eliminación de un par de columnas. \r\n",
        "\r\n",
        "Crea un DataFrame usando datos_productos e indice, realiza sus pedidos y envíalos para su verificación"
      ]
    },
    {
      "cell_type": "code",
      "metadata": {
        "id": "uR68ojfbVWdE"
      },
      "source": [
        "datos_productos = {\r\n",
        "    \"nombre\": [\"Pokemaster\", \"Cegatron\", \"Pikame Mucho\", \"Lazarillo de Tormes\", \"Stevie Wonder\", \"Needle\", \"El AyMeDuele\"],\r\n",
        "    \"precio\": [10000, 5500, 3500, 750, 15500, 12250, 23000],\r\n",
        "    \"peso\": [1.2, 1.5, 2.3, 5.5, 3.4, 2.4, 8.8],\r\n",
        "    \"capacidad de destrucción retinal\": [3, 7, 6, 8, 9, 2, 10],\r\n",
        "    \"disponible\": [True, False, True, True, False, False, True]\r\n",
        "}\r\n",
        "\r\n",
        "indice = [1, 2, 3, 4, 5, 6, 7]"
      ],
      "execution_count": null,
      "outputs": []
    },
    {
      "cell_type": "code",
      "metadata": {
        "colab": {
          "base_uri": "https://localhost:8080/",
          "height": 254
        },
        "id": "I2ygAXOoVnzj",
        "outputId": "50f38724-8a1c-48f6-fd7a-023f8f64c9ca"
      },
      "source": [
        "#0. DataFrame\r\n",
        "\r\n",
        "df_productos = pd.DataFrame(datos_productos, index=indice)\r\n",
        "df_productos\r\n"
      ],
      "execution_count": 110,
      "outputs": [
        {
          "output_type": "execute_result",
          "data": {
            "text/html": [
              "<div>\n",
              "<style scoped>\n",
              "    .dataframe tbody tr th:only-of-type {\n",
              "        vertical-align: middle;\n",
              "    }\n",
              "\n",
              "    .dataframe tbody tr th {\n",
              "        vertical-align: top;\n",
              "    }\n",
              "\n",
              "    .dataframe thead th {\n",
              "        text-align: right;\n",
              "    }\n",
              "</style>\n",
              "<table border=\"1\" class=\"dataframe\">\n",
              "  <thead>\n",
              "    <tr style=\"text-align: right;\">\n",
              "      <th></th>\n",
              "      <th>nombre</th>\n",
              "      <th>precio</th>\n",
              "      <th>peso</th>\n",
              "      <th>capacidad de destrucción retinal</th>\n",
              "      <th>disponible</th>\n",
              "    </tr>\n",
              "  </thead>\n",
              "  <tbody>\n",
              "    <tr>\n",
              "      <th>1</th>\n",
              "      <td>Pokemaster</td>\n",
              "      <td>10000</td>\n",
              "      <td>1.2</td>\n",
              "      <td>3</td>\n",
              "      <td>True</td>\n",
              "    </tr>\n",
              "    <tr>\n",
              "      <th>2</th>\n",
              "      <td>Cegatron</td>\n",
              "      <td>5500</td>\n",
              "      <td>1.5</td>\n",
              "      <td>7</td>\n",
              "      <td>False</td>\n",
              "    </tr>\n",
              "    <tr>\n",
              "      <th>3</th>\n",
              "      <td>Pikame Mucho</td>\n",
              "      <td>3500</td>\n",
              "      <td>2.3</td>\n",
              "      <td>6</td>\n",
              "      <td>True</td>\n",
              "    </tr>\n",
              "    <tr>\n",
              "      <th>4</th>\n",
              "      <td>Lazarillo de Tormes</td>\n",
              "      <td>750</td>\n",
              "      <td>5.5</td>\n",
              "      <td>8</td>\n",
              "      <td>True</td>\n",
              "    </tr>\n",
              "    <tr>\n",
              "      <th>5</th>\n",
              "      <td>Stevie Wonder</td>\n",
              "      <td>15500</td>\n",
              "      <td>3.4</td>\n",
              "      <td>9</td>\n",
              "      <td>False</td>\n",
              "    </tr>\n",
              "    <tr>\n",
              "      <th>6</th>\n",
              "      <td>Needle</td>\n",
              "      <td>12250</td>\n",
              "      <td>2.4</td>\n",
              "      <td>2</td>\n",
              "      <td>False</td>\n",
              "    </tr>\n",
              "    <tr>\n",
              "      <th>7</th>\n",
              "      <td>El AyMeDuele</td>\n",
              "      <td>23000</td>\n",
              "      <td>8.8</td>\n",
              "      <td>10</td>\n",
              "      <td>True</td>\n",
              "    </tr>\n",
              "  </tbody>\n",
              "</table>\n",
              "</div>"
            ],
            "text/plain": [
              "                nombre  precio  ...  capacidad de destrucción retinal  disponible\n",
              "1           Pokemaster   10000  ...                                 3        True\n",
              "2             Cegatron    5500  ...                                 7       False\n",
              "3         Pikame Mucho    3500  ...                                 6        True\n",
              "4  Lazarillo de Tormes     750  ...                                 8        True\n",
              "5        Stevie Wonder   15500  ...                                 9       False\n",
              "6               Needle   12250  ...                                 2       False\n",
              "7         El AyMeDuele   23000  ...                                10        True\n",
              "\n",
              "[7 rows x 5 columns]"
            ]
          },
          "metadata": {
            "tags": []
          },
          "execution_count": 110
        }
      ]
    },
    {
      "cell_type": "code",
      "metadata": {
        "colab": {
          "base_uri": "https://localhost:8080/",
          "height": 254
        },
        "id": "_9WJRDtMVvwv",
        "outputId": "48328086-d847-4b3d-dfbe-920a4069c321"
      },
      "source": [
        "#1. Columna nueva\r\n",
        "# Agrega nueva columna a `df_productos_mas_columna_nueva` con el nombre de columna \"nivel de dolor\"\r\n",
        "columna_nueva = [4, 7, 6, 8, 9, 7, 3]\r\n",
        "df_productos_mas_columna_nueva = df_productos.copy()\r\n",
        "df_productos_mas_columna_nueva[\"nivel de dolor\"] = pd.Series(columna_nueva, index=indice)\r\n",
        "df_productos_mas_columna_nueva"
      ],
      "execution_count": 111,
      "outputs": [
        {
          "output_type": "execute_result",
          "data": {
            "text/html": [
              "<div>\n",
              "<style scoped>\n",
              "    .dataframe tbody tr th:only-of-type {\n",
              "        vertical-align: middle;\n",
              "    }\n",
              "\n",
              "    .dataframe tbody tr th {\n",
              "        vertical-align: top;\n",
              "    }\n",
              "\n",
              "    .dataframe thead th {\n",
              "        text-align: right;\n",
              "    }\n",
              "</style>\n",
              "<table border=\"1\" class=\"dataframe\">\n",
              "  <thead>\n",
              "    <tr style=\"text-align: right;\">\n",
              "      <th></th>\n",
              "      <th>nombre</th>\n",
              "      <th>precio</th>\n",
              "      <th>peso</th>\n",
              "      <th>capacidad de destrucción retinal</th>\n",
              "      <th>disponible</th>\n",
              "      <th>nivel de dolor</th>\n",
              "    </tr>\n",
              "  </thead>\n",
              "  <tbody>\n",
              "    <tr>\n",
              "      <th>1</th>\n",
              "      <td>Pokemaster</td>\n",
              "      <td>10000</td>\n",
              "      <td>1.2</td>\n",
              "      <td>3</td>\n",
              "      <td>True</td>\n",
              "      <td>4</td>\n",
              "    </tr>\n",
              "    <tr>\n",
              "      <th>2</th>\n",
              "      <td>Cegatron</td>\n",
              "      <td>5500</td>\n",
              "      <td>1.5</td>\n",
              "      <td>7</td>\n",
              "      <td>False</td>\n",
              "      <td>7</td>\n",
              "    </tr>\n",
              "    <tr>\n",
              "      <th>3</th>\n",
              "      <td>Pikame Mucho</td>\n",
              "      <td>3500</td>\n",
              "      <td>2.3</td>\n",
              "      <td>6</td>\n",
              "      <td>True</td>\n",
              "      <td>6</td>\n",
              "    </tr>\n",
              "    <tr>\n",
              "      <th>4</th>\n",
              "      <td>Lazarillo de Tormes</td>\n",
              "      <td>750</td>\n",
              "      <td>5.5</td>\n",
              "      <td>8</td>\n",
              "      <td>True</td>\n",
              "      <td>8</td>\n",
              "    </tr>\n",
              "    <tr>\n",
              "      <th>5</th>\n",
              "      <td>Stevie Wonder</td>\n",
              "      <td>15500</td>\n",
              "      <td>3.4</td>\n",
              "      <td>9</td>\n",
              "      <td>False</td>\n",
              "      <td>9</td>\n",
              "    </tr>\n",
              "    <tr>\n",
              "      <th>6</th>\n",
              "      <td>Needle</td>\n",
              "      <td>12250</td>\n",
              "      <td>2.4</td>\n",
              "      <td>2</td>\n",
              "      <td>False</td>\n",
              "      <td>7</td>\n",
              "    </tr>\n",
              "    <tr>\n",
              "      <th>7</th>\n",
              "      <td>El AyMeDuele</td>\n",
              "      <td>23000</td>\n",
              "      <td>8.8</td>\n",
              "      <td>10</td>\n",
              "      <td>True</td>\n",
              "      <td>3</td>\n",
              "    </tr>\n",
              "  </tbody>\n",
              "</table>\n",
              "</div>"
            ],
            "text/plain": [
              "                nombre  precio  ...  disponible  nivel de dolor\n",
              "1           Pokemaster   10000  ...        True               4\n",
              "2             Cegatron    5500  ...       False               7\n",
              "3         Pikame Mucho    3500  ...        True               6\n",
              "4  Lazarillo de Tormes     750  ...        True               8\n",
              "5        Stevie Wonder   15500  ...       False               9\n",
              "6               Needle   12250  ...       False               7\n",
              "7         El AyMeDuele   23000  ...        True               3\n",
              "\n",
              "[7 rows x 6 columns]"
            ]
          },
          "metadata": {
            "tags": []
          },
          "execution_count": 111
        }
      ]
    },
    {
      "cell_type": "code",
      "metadata": {
        "id": "gEKhYfzUWmHG"
      },
      "source": [
        "\r\n",
        "# Cambia por favor el `DataFrame` `df_productos_descuento` cambiando la columna `precio` por la información contenida en `precios_descuento`\r\n",
        "precios_descuento = [8000, 4000, 2000, 500, 14000, 10000, 15000]\r\n",
        "df_productos_descuento = df_productos.copy()\r\n",
        "\r\n",
        "# Elimina por favor las columnas \"precio\" y \"peso\" de `df_productos` y asigna el resultado a `df_productos_sin_precio_ni_peso`\r\n",
        "df_productos_sin_precio_ni_peso ="
      ],
      "execution_count": null,
      "outputs": []
    },
    {
      "cell_type": "code",
      "metadata": {
        "id": "0XsvLOnmWm6q"
      },
      "source": [
        "# Verificación\r\n",
        "def verificar_modificaciones(datos_productos, indice, df_productos, columna_nueva, df_productos_mas_columna_nueva, \r\n",
        "                             precios_descuento, df_productos_descuento, df_productos_sin_precio_ni_peso):\r\n",
        "    \r\n",
        "    import pandas as pd\r\n",
        "    \r\n",
        "    df_productos_esperado = pd.DataFrame(datos_productos, index=indice)\r\n",
        "    if not df_productos_esperado.equals(df_productos):\r\n",
        "        print(f'df_productos ha sido creado incorrectamente ... Favor de revisar')\r\n",
        "        return\r\n",
        "    \r\n",
        "    print(f'== Verificación de Modificaciones ==\\n')\r\n",
        "    columna_nueva_serie = pd.Series(columna_nueva, index=indice)\r\n",
        "    df_productos_mas_columna_nueva_2 = df_productos.copy()\r\n",
        "    df_productos_mas_columna_nueva_2['nivel de dolor'] = columna_nueva_serie\r\n",
        "    verificar_modificacion(df_productos_mas_columna_nueva_2, df_productos_mas_columna_nueva, 'Agrega por favor columna `columna_nueva` a `df_productos_mas_columna_nueva` con el nombre de columna \"nivel de dolor\"')\r\n",
        "    \r\n",
        "    precios_descuento_serie = pd.Series(precios_descuento, index=indice)\r\n",
        "    df_productos_descuento_2 = df_productos.copy()\r\n",
        "    df_productos_descuento_2['precio'] = precios_descuento_serie\r\n",
        "    verificar_modificacion(df_productos_descuento_2, df_productos_descuento, 'Cambia por favor el `DataFrame` `df_productos_descuento` cambiando la columna `precio` por la información contenida en `precios_descuento`')\r\n",
        "    \r\n",
        "    df_productos_sin_precio_ni_peso_2 = df_productos.drop(columns=['precio', 'peso'])\r\n",
        "    verificar_modificacion(df_productos_sin_precio_ni_peso_2, df_productos_sin_precio_ni_peso, 'Elimina por favor las columnas \"precio\" y \"peso\"')\r\n",
        "    \r\n",
        "def verificar_modificacion(esperada, recibida, descripcion):\r\n",
        "    es_correcta = \"Correcto\" if esperada.equals(recibida) else \"Incorrecto\"\r\n",
        "    respuesta = \"Muchas gracias!\" if es_correcta == \"Correcto\" else \"Favor de revisar\"\r\n",
        "    print(f\"\\n- Descripción de pedido: {descripcion}\")\r\n",
        "    print(f\"El pedido es {es_correcta} ... {respuesta}\")"
      ],
      "execution_count": null,
      "outputs": []
    },
    {
      "cell_type": "markdown",
      "metadata": {
        "id": "njGSP6WoZNYw"
      },
      "source": [
        "**Ejemplo 6**\r\n",
        "Lectura JSON\r\n",
        "\r\n",
        "- Aprender a leer archivos JSON y crear `DataFrames` con ellos"
      ]
    },
    {
      "cell_type": "markdown",
      "metadata": {
        "id": "D3kIwCUNZbxE"
      },
      "source": [
        "**Análisis Exploratorio**\r\n",
        "\r\n",
        "Leer archivo JSON en línea\r\n",
        "Zomato Reviews"
      ]
    },
    {
      "cell_type": "code",
      "metadata": {
        "id": "kYoqnRIEZoZL"
      },
      "source": [
        "import json\r\n",
        "import requests\r\n",
        "\r\n",
        "#Utilizando pandas\r\n",
        "#pd.read_json(\"LUGAR\")\r\n"
      ],
      "execution_count": 118,
      "outputs": []
    },
    {
      "cell_type": "code",
      "metadata": {
        "colab": {
          "base_uri": "https://localhost:8080/",
          "height": 553
        },
        "id": "lezf9jSqZuDB",
        "outputId": "878a9692-8b12-4056-ebb5-f0f8e452e9c4"
      },
      "source": [
        "#Utilizando request\r\n",
        "data = requests.get('https://raw.githubusercontent.com/beduExpert/Procesamiento-de-Datos-con-Python-Santander/master/Datasets/zomato_reviews-clean.json')\r\n",
        "json_data = json.loads(data.content)\r\n",
        "\r\n",
        "df = pd.DataFrame.from_dict(json_data)\r\n",
        "df"
      ],
      "execution_count": 121,
      "outputs": [
        {
          "output_type": "execute_result",
          "data": {
            "text/html": [
              "<div>\n",
              "<style scoped>\n",
              "    .dataframe tbody tr th:only-of-type {\n",
              "        vertical-align: middle;\n",
              "    }\n",
              "\n",
              "    .dataframe tbody tr th {\n",
              "        vertical-align: top;\n",
              "    }\n",
              "\n",
              "    .dataframe thead th {\n",
              "        text-align: right;\n",
              "    }\n",
              "</style>\n",
              "<table border=\"1\" class=\"dataframe\">\n",
              "  <thead>\n",
              "    <tr style=\"text-align: right;\">\n",
              "      <th></th>\n",
              "      <th>has_online_delivery</th>\n",
              "      <th>price_range</th>\n",
              "      <th>currency</th>\n",
              "      <th>name</th>\n",
              "      <th>cuisines</th>\n",
              "      <th>location.address</th>\n",
              "      <th>location.city</th>\n",
              "      <th>user_rating.rating_text</th>\n",
              "    </tr>\n",
              "  </thead>\n",
              "  <tbody>\n",
              "    <tr>\n",
              "      <th>0</th>\n",
              "      <td>1</td>\n",
              "      <td>3</td>\n",
              "      <td>Rs.</td>\n",
              "      <td>Hauz Khas Social</td>\n",
              "      <td>Continental, American, Asian, North Indian</td>\n",
              "      <td>9-A &amp; 12, Hauz Khas Village, New Delhi</td>\n",
              "      <td>New Delhi</td>\n",
              "      <td>Very Good</td>\n",
              "    </tr>\n",
              "    <tr>\n",
              "      <th>1</th>\n",
              "      <td>0</td>\n",
              "      <td>3</td>\n",
              "      <td>Rs.</td>\n",
              "      <td>Qubitos - The Terrace Cafe</td>\n",
              "      <td>Thai, European, Mexican, North Indian, Chinese...</td>\n",
              "      <td>C-7, Vishal Enclave, Opposite Metro Pillar 417...</td>\n",
              "      <td>New Delhi</td>\n",
              "      <td>Excellent</td>\n",
              "    </tr>\n",
              "    <tr>\n",
              "      <th>2</th>\n",
              "      <td>1</td>\n",
              "      <td>2</td>\n",
              "      <td>Rs.</td>\n",
              "      <td>The Hudson Cafe</td>\n",
              "      <td>Cafe, Italian, Continental, Chinese</td>\n",
              "      <td>2524, 1st Floor, Hudson Lane, Delhi University...</td>\n",
              "      <td>New Delhi</td>\n",
              "      <td>Very Good</td>\n",
              "    </tr>\n",
              "    <tr>\n",
              "      <th>3</th>\n",
              "      <td>0</td>\n",
              "      <td>3</td>\n",
              "      <td>Rs.</td>\n",
              "      <td>Summer House Cafe</td>\n",
              "      <td>Italian, Continental</td>\n",
              "      <td>1st Floor, DDA Shopping Complex, Aurobindo Pla...</td>\n",
              "      <td>New Delhi</td>\n",
              "      <td>Very Good</td>\n",
              "    </tr>\n",
              "    <tr>\n",
              "      <th>4</th>\n",
              "      <td>0</td>\n",
              "      <td>3</td>\n",
              "      <td>Rs.</td>\n",
              "      <td>38 Barracks</td>\n",
              "      <td>North Indian, Italian, Asian, American</td>\n",
              "      <td>M-38, Outer Circle, Connaught Place, New Delhi</td>\n",
              "      <td>New Delhi</td>\n",
              "      <td>Very Good</td>\n",
              "    </tr>\n",
              "    <tr>\n",
              "      <th>...</th>\n",
              "      <td>...</td>\n",
              "      <td>...</td>\n",
              "      <td>...</td>\n",
              "      <td>...</td>\n",
              "      <td>...</td>\n",
              "      <td>...</td>\n",
              "      <td>...</td>\n",
              "      <td>...</td>\n",
              "    </tr>\n",
              "    <tr>\n",
              "      <th>1175</th>\n",
              "      <td>0</td>\n",
              "      <td>3</td>\n",
              "      <td>£</td>\n",
              "      <td>The Boozy Cow</td>\n",
              "      <td>Burger, Grill</td>\n",
              "      <td>17 Frederick Street, New Town, Edinburgh EH2 2EY</td>\n",
              "      <td>Edinburgh</td>\n",
              "      <td>Very Good</td>\n",
              "    </tr>\n",
              "    <tr>\n",
              "      <th>1176</th>\n",
              "      <td>0</td>\n",
              "      <td>3</td>\n",
              "      <td>£</td>\n",
              "      <td>La Favorita</td>\n",
              "      <td>Italian</td>\n",
              "      <td>325-331 Leith Walk, Leith, Edinburgh EH6 8SA</td>\n",
              "      <td>Edinburgh</td>\n",
              "      <td>Excellent</td>\n",
              "    </tr>\n",
              "    <tr>\n",
              "      <th>1177</th>\n",
              "      <td>0</td>\n",
              "      <td>3</td>\n",
              "      <td>£</td>\n",
              "      <td>Roseleaf Bar Cafe</td>\n",
              "      <td>Scottish, Cafe</td>\n",
              "      <td>23-24 Sandport Place, Leith, Edinburgh EH6 6EW</td>\n",
              "      <td>Edinburgh</td>\n",
              "      <td>Excellent</td>\n",
              "    </tr>\n",
              "    <tr>\n",
              "      <th>1178</th>\n",
              "      <td>0</td>\n",
              "      <td>3</td>\n",
              "      <td>£</td>\n",
              "      <td>Civerinos</td>\n",
              "      <td>Pizza, Italian</td>\n",
              "      <td>5 Hunter Square, Royal Mile, Old Town, Edinbur...</td>\n",
              "      <td>Edinburgh</td>\n",
              "      <td>Good</td>\n",
              "    </tr>\n",
              "    <tr>\n",
              "      <th>1179</th>\n",
              "      <td>0</td>\n",
              "      <td>3</td>\n",
              "      <td>£</td>\n",
              "      <td>The Hanging Bat</td>\n",
              "      <td>American</td>\n",
              "      <td>133 Lothian Road, Old Town, Edinburgh EH3 9AD</td>\n",
              "      <td>Edinburgh</td>\n",
              "      <td>Good</td>\n",
              "    </tr>\n",
              "  </tbody>\n",
              "</table>\n",
              "<p>1180 rows × 8 columns</p>\n",
              "</div>"
            ],
            "text/plain": [
              "      has_online_delivery  price_range  ... location.city user_rating.rating_text\n",
              "0                       1            3  ...     New Delhi               Very Good\n",
              "1                       0            3  ...     New Delhi               Excellent\n",
              "2                       1            2  ...     New Delhi               Very Good\n",
              "3                       0            3  ...     New Delhi               Very Good\n",
              "4                       0            3  ...     New Delhi               Very Good\n",
              "...                   ...          ...  ...           ...                     ...\n",
              "1175                    0            3  ...     Edinburgh               Very Good\n",
              "1176                    0            3  ...     Edinburgh               Excellent\n",
              "1177                    0            3  ...     Edinburgh               Excellent\n",
              "1178                    0            3  ...     Edinburgh                    Good\n",
              "1179                    0            3  ...     Edinburgh                    Good\n",
              "\n",
              "[1180 rows x 8 columns]"
            ]
          },
          "metadata": {
            "tags": []
          },
          "execution_count": 121
        }
      ]
    },
    {
      "cell_type": "code",
      "metadata": {
        "colab": {
          "base_uri": "https://localhost:8080/"
        },
        "id": "ZbwNd4oXbkBi",
        "outputId": "1268109b-0cdd-474b-dcb6-c1b39c7bbd0a"
      },
      "source": [
        "#Tamaño de data frame\r\n",
        "df.shape"
      ],
      "execution_count": 122,
      "outputs": [
        {
          "output_type": "execute_result",
          "data": {
            "text/plain": [
              "(1180, 8)"
            ]
          },
          "metadata": {
            "tags": []
          },
          "execution_count": 122
        }
      ]
    },
    {
      "cell_type": "code",
      "metadata": {
        "colab": {
          "base_uri": "https://localhost:8080/"
        },
        "id": "pumN3uJKctML",
        "outputId": "a4d97cf4-5c3a-47df-a77a-2bce14182510"
      },
      "source": [
        "# Columnas\r\n",
        "df.columns"
      ],
      "execution_count": 123,
      "outputs": [
        {
          "output_type": "execute_result",
          "data": {
            "text/plain": [
              "Index(['has_online_delivery', 'price_range', 'currency', 'name', 'cuisines',\n",
              "       'location.address', 'location.city', 'user_rating.rating_text'],\n",
              "      dtype='object')"
            ]
          },
          "metadata": {
            "tags": []
          },
          "execution_count": 123
        }
      ]
    },
    {
      "cell_type": "code",
      "metadata": {
        "colab": {
          "base_uri": "https://localhost:8080/"
        },
        "id": "DCu05YkNdHxZ",
        "outputId": "923ca630-3972-4f94-9a25-fb0d086da4a7"
      },
      "source": [
        "#Tipos de datos\r\n",
        "df.info"
      ],
      "execution_count": 124,
      "outputs": [
        {
          "output_type": "execute_result",
          "data": {
            "text/plain": [
              "<bound method DataFrame.info of       has_online_delivery  price_range  ... location.city user_rating.rating_text\n",
              "0                       1            3  ...     New Delhi               Very Good\n",
              "1                       0            3  ...     New Delhi               Excellent\n",
              "2                       1            2  ...     New Delhi               Very Good\n",
              "3                       0            3  ...     New Delhi               Very Good\n",
              "4                       0            3  ...     New Delhi               Very Good\n",
              "...                   ...          ...  ...           ...                     ...\n",
              "1175                    0            3  ...     Edinburgh               Very Good\n",
              "1176                    0            3  ...     Edinburgh               Excellent\n",
              "1177                    0            3  ...     Edinburgh               Excellent\n",
              "1178                    0            3  ...     Edinburgh                    Good\n",
              "1179                    0            3  ...     Edinburgh                    Good\n",
              "\n",
              "[1180 rows x 8 columns]>"
            ]
          },
          "metadata": {
            "tags": []
          },
          "execution_count": 124
        }
      ]
    },
    {
      "cell_type": "code",
      "metadata": {
        "colab": {
          "base_uri": "https://localhost:8080/"
        },
        "id": "diIBF_oAdJhj",
        "outputId": "6087245e-9394-41e6-d7f8-7c07fcb8b5de"
      },
      "source": [
        "df.dtypes"
      ],
      "execution_count": 125,
      "outputs": [
        {
          "output_type": "execute_result",
          "data": {
            "text/plain": [
              "has_online_delivery         int64\n",
              "price_range                 int64\n",
              "currency                   object\n",
              "name                       object\n",
              "cuisines                   object\n",
              "location.address           object\n",
              "location.city              object\n",
              "user_rating.rating_text    object\n",
              "dtype: object"
            ]
          },
          "metadata": {
            "tags": []
          },
          "execution_count": 125
        }
      ]
    },
    {
      "cell_type": "markdown",
      "metadata": {
        "id": "o3lOZ4w6eCZJ"
      },
      "source": [
        "**Reto 5**\r\n",
        "Análisis exploratorio de datos\r\n",
        "\r\n",
        "Tenemos un conjunto de datos en formato JSON almacenado en '../../Datasets/new_york_times_bestsellers-clean.json' (en la carpeta /Datasets en el directorio raíz del módulo)."
      ]
    },
    {
      "cell_type": "code",
      "metadata": {
        "id": "br4s_JBsdMPo"
      },
      "source": [
        "#Qué tipo de preguntas se pueden resolver\r\n",
        "#Con datos numéricos: Mayores, menores, top\r\n",
        "#Con datos no numéricos: Número de autores con unique\r\n",
        "#URL api de Amazon"
      ],
      "execution_count": null,
      "outputs": []
    },
    {
      "cell_type": "markdown",
      "metadata": {
        "id": "v0zoUsU5e95I"
      },
      "source": [
        "Preguntas:\r\n",
        "Primero que nada, lee el archivo JSON y crea un DataFrame \r\n",
        "\r\n",
        "Qué tipo de preguntas se pueden resolver\r\n",
        "Con datos numéricos: Mayores, menores, top\r\n",
        "Con datos no numéricos: Número de autores con unique\r\n",
        "URL api de Amazon"
      ]
    }
  ]
}