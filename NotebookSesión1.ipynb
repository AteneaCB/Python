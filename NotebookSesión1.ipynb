{
  "nbformat": 4,
  "nbformat_minor": 0,
  "metadata": {
    "colab": {
      "name": "NotebookSesión1.ipynb",
      "provenance": [],
      "authorship_tag": "ABX9TyMiaSkTPpWFdmi6ds/Nt9Bx",
      "include_colab_link": true
    },
    "kernelspec": {
      "name": "python3",
      "display_name": "Python 3"
    }
  },
  "cells": [
    {
      "cell_type": "markdown",
      "metadata": {
        "id": "view-in-github",
        "colab_type": "text"
      },
      "source": [
        "<a href=\"https://colab.research.google.com/github/AteneaCB/Python/blob/main/NotebookSesi%C3%B3n1.ipynb\" target=\"_parent\"><img src=\"https://colab.research.google.com/assets/colab-badge.svg\" alt=\"Open In Colab\"/></a>"
      ]
    },
    {
      "cell_type": "code",
      "metadata": {
        "id": "TqsexYmXjUWk"
      },
      "source": [
        ""
      ],
      "execution_count": null,
      "outputs": []
    },
    {
      "cell_type": "markdown",
      "metadata": {
        "id": "y9pboduajYU6"
      },
      "source": [
        "Hola a todos"
      ]
    },
    {
      "cell_type": "markdown",
      "metadata": {
        "id": "TnEEnQfyok-t"
      },
      "source": [
        "**Ejemplo 1**"
      ]
    },
    {
      "cell_type": "code",
      "metadata": {
        "colab": {
          "base_uri": "https://localhost:8080/"
        },
        "id": "Kd4KeDAwjbHF",
        "outputId": "ce52af1c-2301-4dd1-ae3b-592fbc1b7e84"
      },
      "source": [
        "# Comentarios. Esto tiene formáto de código\r\n",
        "print(\"Hola a todos\")"
      ],
      "execution_count": 4,
      "outputs": [
        {
          "output_type": "stream",
          "text": [
            "Hola a todos\n"
          ],
          "name": "stdout"
        }
      ]
    },
    {
      "cell_type": "markdown",
      "metadata": {
        "id": "RI2OZrqFjwI7"
      },
      "source": [
        "Variables"
      ]
    },
    {
      "cell_type": "code",
      "metadata": {
        "colab": {
          "base_uri": "https://localhost:8080/"
        },
        "id": "sSvTwPF6jxqL",
        "outputId": "2978725c-9c4f-4e18-e9de-f1c6768ce9a6"
      },
      "source": [
        "variable_1 = 5\r\n",
        "variable_2 = 7\r\n",
        "variable_1 + variable_2"
      ],
      "execution_count": 2,
      "outputs": [
        {
          "output_type": "execute_result",
          "data": {
            "text/plain": [
              "12"
            ]
          },
          "metadata": {
            "tags": []
          },
          "execution_count": 2
        }
      ]
    },
    {
      "cell_type": "code",
      "metadata": {
        "colab": {
          "base_uri": "https://localhost:8080/"
        },
        "id": "gpbA_QtbkYtM",
        "outputId": "39d50450-9d0a-4753-b6d4-bdc8555ca1da"
      },
      "source": [
        "#Las variables anteriores se quedan en memoria, ejemplo:\r\n",
        "variable_1 * variable_2"
      ],
      "execution_count": 3,
      "outputs": [
        {
          "output_type": "execute_result",
          "data": {
            "text/plain": [
              "35"
            ]
          },
          "metadata": {
            "tags": []
          },
          "execution_count": 3
        }
      ]
    },
    {
      "cell_type": "markdown",
      "metadata": {
        "id": "j5Ste1JnkfpT"
      },
      "source": [
        "**Reto 1**"
      ]
    },
    {
      "cell_type": "code",
      "metadata": {
        "id": "vuuzxuvokiAZ"
      },
      "source": [
        "var_1 = 5\r\n",
        "#Nombre válido\r\n",
        "variable_nueva_2 = 10\r\n",
        "#Nombre válido pero no recomendable uso de mayúsculas\r\n",
        "Variable_nueva_3 = 11\r\n",
        "#Nombre válido pero no recomendable uso de mayúsculas\r\n",
        "var_3_1 = 14\r\n",
        "#Nombre válido\r\n",
        "varNueva4 = 44\r\n",
        "#Nombre válido pero no recomendable uso de mayúsculas\r\n",
        "var_nuevaNumero = 98\r\n",
        "#Nombre válido pero no recomendable uso de mayúsculas\r\n",
        "var_num = 22\r\n",
        "#Nombre válido\r\n",
        "VarNum = 11\r\n",
        "#Nombre válido pero no recomendable uso de mayúsculas\r\n",
        "soyUnaVariable = 14\r\n",
        "#Nombre válido pero no recomendable, esta forma es para clases u objetos"
      ],
      "execution_count": 5,
      "outputs": []
    },
    {
      "cell_type": "code",
      "metadata": {
        "id": "7xryAX-mnF7V"
      },
      "source": [
        "# Asigna el número 12345 a una variable llamada variable_locochona\r\n",
        "\r\n",
        "# Tu código va aquí...\r\n",
        "variable_locochona = 12345\r\n",
        "# Asigna el número 14.567 a una variable llamada var_decimal\r\n",
        "var_decimal = 14.567\r\n",
        "# ...\r\n",
        "\r\n",
        "# Asigna cualquier número a una varible que tenga 5 palabras en su nombre (recuerda las convenciones)\r\n",
        "var_new_any_number_five = 1984\r\n",
        "# ....\r\n",
        "\r\n",
        "# Asigna cualquier número a una variable que incluya palabras y números en su nombre\r\n",
        "var_2_new = 1986\r\n",
        "# ...\r\n",
        "\r\n",
        "# Asigna variables a discreción"
      ],
      "execution_count": 6,
      "outputs": []
    },
    {
      "cell_type": "markdown",
      "metadata": {
        "id": "8C1QMQT8oyww"
      },
      "source": [
        "**Ejemplo 3**"
      ]
    },
    {
      "cell_type": "markdown",
      "metadata": {
        "id": "9YO6hqR9o47E"
      },
      "source": [
        "Operaiones numéricas"
      ]
    },
    {
      "cell_type": "code",
      "metadata": {
        "id": "0EDoejxWo61L"
      },
      "source": [
        "var_1 = 4\r\n",
        "var_2 = 54\r\n",
        "var_3 = 23\r\n",
        "var_4 = 89"
      ],
      "execution_count": 7,
      "outputs": []
    },
    {
      "cell_type": "code",
      "metadata": {
        "colab": {
          "base_uri": "https://localhost:8080/"
        },
        "id": "KBC3mtKBo_Q4",
        "outputId": "17e9a218-2715-4c61-a9fb-86383b2d9141"
      },
      "source": [
        "var_1 + var_2"
      ],
      "execution_count": 8,
      "outputs": [
        {
          "output_type": "execute_result",
          "data": {
            "text/plain": [
              "58"
            ]
          },
          "metadata": {
            "tags": []
          },
          "execution_count": 8
        }
      ]
    },
    {
      "cell_type": "code",
      "metadata": {
        "colab": {
          "base_uri": "https://localhost:8080/"
        },
        "id": "QSLq-iwspCVe",
        "outputId": "b571e572-56dc-4fb0-ea6d-5241ae83457f"
      },
      "source": [
        "var_4 / var_2"
      ],
      "execution_count": 9,
      "outputs": [
        {
          "output_type": "execute_result",
          "data": {
            "text/plain": [
              "1.6481481481481481"
            ]
          },
          "metadata": {
            "tags": []
          },
          "execution_count": 9
        }
      ]
    },
    {
      "cell_type": "code",
      "metadata": {
        "colab": {
          "base_uri": "https://localhost:8080/"
        },
        "id": "k7s2PFfopORr",
        "outputId": "9b2fdfc6-72ec-4e90-a197-a34da79988b0"
      },
      "source": [
        "#Con dos diagonales // trunca el resultado de la división a enteros\r\n",
        "var_4 // var_2"
      ],
      "execution_count": 11,
      "outputs": [
        {
          "output_type": "execute_result",
          "data": {
            "text/plain": [
              "1"
            ]
          },
          "metadata": {
            "tags": []
          },
          "execution_count": 11
        }
      ]
    },
    {
      "cell_type": "code",
      "metadata": {
        "colab": {
          "base_uri": "https://localhost:8080/"
        },
        "id": "Lj-dTV1xpdHJ",
        "outputId": "81d91a40-d335-4497-8a2c-755f401df2af"
      },
      "source": [
        "#Elevar al cuadrado\r\n",
        "var_2 ** var_1"
      ],
      "execution_count": 12,
      "outputs": [
        {
          "output_type": "execute_result",
          "data": {
            "text/plain": [
              "8503056"
            ]
          },
          "metadata": {
            "tags": []
          },
          "execution_count": 12
        }
      ]
    },
    {
      "cell_type": "code",
      "metadata": {
        "colab": {
          "base_uri": "https://localhost:8080/"
        },
        "id": "ScWZQiQ6pk4F",
        "outputId": "896a9cc3-b068-447c-c374-c49574b697e2"
      },
      "source": [
        "#Con módulo o porcentaje % se obtiene resultado sin residuo\r\n",
        "var_3 % var_4"
      ],
      "execution_count": 13,
      "outputs": [
        {
          "output_type": "execute_result",
          "data": {
            "text/plain": [
              "23"
            ]
          },
          "metadata": {
            "tags": []
          },
          "execution_count": 13
        }
      ]
    },
    {
      "cell_type": "code",
      "metadata": {
        "id": "N_HS8wFfp0yN"
      },
      "source": [
        "#Para guardar un resultado en una variable\r\n",
        "var_5 = var_1 + var_2 + var_3"
      ],
      "execution_count": 14,
      "outputs": []
    },
    {
      "cell_type": "code",
      "metadata": {
        "colab": {
          "base_uri": "https://localhost:8080/"
        },
        "id": "rOtOMiAVqLnc",
        "outputId": "da60a93b-7e07-4ae2-9bbd-3884b6927a82"
      },
      "source": [
        "#Como no mustra el resultado, podemos mostrarlo con print\r\n",
        "print(var_5)"
      ],
      "execution_count": 15,
      "outputs": [
        {
          "output_type": "stream",
          "text": [
            "81\n"
          ],
          "name": "stdout"
        }
      ]
    },
    {
      "cell_type": "code",
      "metadata": {
        "colab": {
          "base_uri": "https://localhost:8080/"
        },
        "id": "_EB9Wo6gqT5m",
        "outputId": "07111345-b0d6-453f-9ab5-1c7c5ff94a3d"
      },
      "source": [
        "#Para raíz cuadrada, multiplicar por 1/2, o con la librería math\r\n",
        "5 ** (1/2)"
      ],
      "execution_count": 17,
      "outputs": [
        {
          "output_type": "execute_result",
          "data": {
            "text/plain": [
              "2.23606797749979"
            ]
          },
          "metadata": {
            "tags": []
          },
          "execution_count": 17
        }
      ]
    },
    {
      "cell_type": "code",
      "metadata": {
        "colab": {
          "base_uri": "https://localhost:8080/"
        },
        "id": "uhjFPhDLqmko",
        "outputId": "a382947f-29a7-4074-fc7b-5382d0704bcf"
      },
      "source": [
        "print(var_1 + var_2)\r\n",
        "print(var_3 - var_4)\r\n",
        "print(var_2 * var_2)"
      ],
      "execution_count": 18,
      "outputs": [
        {
          "output_type": "stream",
          "text": [
            "58\n",
            "-66\n",
            "2916\n"
          ],
          "name": "stdout"
        }
      ]
    },
    {
      "cell_type": "markdown",
      "metadata": {
        "id": "5ji3FRwmq02k"
      },
      "source": [
        "**Reto 2**"
      ]
    },
    {
      "cell_type": "markdown",
      "metadata": {
        "id": "-sxpyAgpq4U2"
      },
      "source": [
        "Asignación de números correctos:\r\n",
        "\r\n",
        "var_1 + var_2  # Resultado esperado: 14\r\n",
        "\r\n",
        "var_3 - var_2  # Resultado esperado: -4\r\n",
        "\r\n",
        "var_3 * var_1  # Resultado esperado: 24\r\n",
        "\r\n",
        "var_5 + var_3  # Resultado esperado: 8\r\n",
        "\r\n",
        "var_4 / var_5  # Resultado esperado: 4"
      ]
    },
    {
      "cell_type": "code",
      "metadata": {
        "id": "1sc3filbrZsw"
      },
      "source": [
        "var_1 = 4\r\n",
        "\r\n",
        "var_2 = 10\r\n",
        "\r\n",
        "var_3 = 6\r\n",
        "\r\n",
        "var_4 = 8\r\n",
        "\r\n",
        "var_5 = 2"
      ],
      "execution_count": 19,
      "outputs": []
    },
    {
      "cell_type": "code",
      "metadata": {
        "colab": {
          "base_uri": "https://localhost:8080/"
        },
        "id": "1UlY7Mawrui6",
        "outputId": "433e7217-b1d8-4716-ff90-8d5d3f493ea5"
      },
      "source": [
        "var_1 + var_2 # Resultado esperado: 14\r\n",
        "\r\n",
        "var_3 - var_2 # Resultado esperado: -4\r\n",
        "\r\n",
        "var_3 * var_1 # Resultado esperado: 24\r\n",
        "\r\n",
        "var_5 + var_3 # Resultado esperado: 8\r\n",
        "\r\n",
        "var_4 / var_5 # Resultado esperado: 4"
      ],
      "execution_count": 22,
      "outputs": [
        {
          "output_type": "execute_result",
          "data": {
            "text/plain": [
              "4.0"
            ]
          },
          "metadata": {
            "tags": []
          },
          "execution_count": 22
        }
      ]
    },
    {
      "cell_type": "markdown",
      "metadata": {
        "id": "IfSYMdnGuU9X"
      },
      "source": [
        "**Ejemplo 4**"
      ]
    },
    {
      "cell_type": "markdown",
      "metadata": {
        "id": "UFjto1S3uaNv"
      },
      "source": [
        "Tipos de datos:\r\n",
        "•\tint => números enteros\r\n",
        "•\tfloat => números decimales\r\n",
        "•\tstring => secuencias de caracteres (texto)\r\n",
        "•\tboolean => booleanos (True o False)"
      ]
    },
    {
      "cell_type": "code",
      "metadata": {
        "colab": {
          "base_uri": "https://localhost:8080/"
        },
        "id": "_TEnWDK0uue_",
        "outputId": "fb54d710-db48-4ed5-dc9c-419d53229ad9"
      },
      "source": [
        "#Con función type podemos saber el tipo de dato\r\n",
        "var_1 = 1\r\n",
        "type(var_1)"
      ],
      "execution_count": 23,
      "outputs": [
        {
          "output_type": "execute_result",
          "data": {
            "text/plain": [
              "int"
            ]
          },
          "metadata": {
            "tags": []
          },
          "execution_count": 23
        }
      ]
    },
    {
      "cell_type": "code",
      "metadata": {
        "colab": {
          "base_uri": "https://localhost:8080/"
        },
        "id": "LIFsRjBLu3pV",
        "outputId": "41be8f57-95c1-451e-eae3-eebad4016adb"
      },
      "source": [
        "var_2 = 2.0\r\n",
        "type(var_2)"
      ],
      "execution_count": 24,
      "outputs": [
        {
          "output_type": "execute_result",
          "data": {
            "text/plain": [
              "float"
            ]
          },
          "metadata": {
            "tags": []
          },
          "execution_count": 24
        }
      ]
    },
    {
      "cell_type": "code",
      "metadata": {
        "colab": {
          "base_uri": "https://localhost:8080/"
        },
        "id": "NVYP1mxQu99i",
        "outputId": "f6996c3c-d9cc-4746-d8d0-18ba325ef9c3"
      },
      "source": [
        "var_3 = \"Atenea\"\r\n",
        "type(var_3)"
      ],
      "execution_count": 25,
      "outputs": [
        {
          "output_type": "execute_result",
          "data": {
            "text/plain": [
              "str"
            ]
          },
          "metadata": {
            "tags": []
          },
          "execution_count": 25
        }
      ]
    },
    {
      "cell_type": "code",
      "metadata": {
        "colab": {
          "base_uri": "https://localhost:8080/"
        },
        "id": "3IyHlkXLvFp4",
        "outputId": "cdc12f16-c43a-47e5-cdb4-344438560fc3"
      },
      "source": [
        "#Boleano en mayúscula\r\n",
        "var_4 = True\r\n",
        "type(var_4)"
      ],
      "execution_count": 26,
      "outputs": [
        {
          "output_type": "execute_result",
          "data": {
            "text/plain": [
              "bool"
            ]
          },
          "metadata": {
            "tags": []
          },
          "execution_count": 26
        }
      ]
    },
    {
      "cell_type": "markdown",
      "metadata": {
        "id": "cNOi-YWNwpHe"
      },
      "source": [
        "Strings"
      ]
    },
    {
      "cell_type": "code",
      "metadata": {
        "colab": {
          "base_uri": "https://localhost:8080/"
        },
        "id": "WSvoxeHJwqQP",
        "outputId": "248f1bb8-b2e5-40c4-99cd-2f3c08a69ae9"
      },
      "source": [
        "#El print da salto de línea\r\n",
        "print(\"La suma de var_1 y var_2 es:\")\r\n",
        "print(var_1 + var_2)"
      ],
      "execution_count": 27,
      "outputs": [
        {
          "output_type": "stream",
          "text": [
            "La suma de var_1 y var_2 es:\n",
            "3.0\n"
          ],
          "name": "stdout"
        }
      ]
    },
    {
      "cell_type": "code",
      "metadata": {
        "colab": {
          "base_uri": "https://localhost:8080/"
        },
        "id": "LD2tmwk3w7j0",
        "outputId": "a84fa61d-2532-4712-d52a-a16069a7960e"
      },
      "source": [
        "#Para que se imprima junto, se ponen comas y se escribe seguido\r\n",
        "print(\"La suma de\", var_1, \"y\", var_2, \"es:\", var_1+var_2)"
      ],
      "execution_count": 28,
      "outputs": [
        {
          "output_type": "stream",
          "text": [
            "La suma de 1 y 2.0 es: 3.0\n"
          ],
          "name": "stdout"
        }
      ]
    },
    {
      "cell_type": "code",
      "metadata": {
        "colab": {
          "base_uri": "https://localhost:8080/"
        },
        "id": "1XbCRETbxO1j",
        "outputId": "842fb66f-a083-4bd9-933a-5abcb6d53a45"
      },
      "source": [
        "#De una forma más limpia se puede utilizar una variable donde se ponen los valores y emplear fstring\r\n",
        "#fstring para pasarle formato con diferentes tipos de variables {}\r\n",
        "suma = var_1 + var_2\r\n",
        "print(f\"La suma de {var_1} y {var_2} es: {suma}\")"
      ],
      "execution_count": 30,
      "outputs": [
        {
          "output_type": "stream",
          "text": [
            "La suma de 1 y 2.0 es: 3.0\n"
          ],
          "name": "stdout"
        }
      ]
    },
    {
      "cell_type": "markdown",
      "metadata": {
        "id": "DHUMUcmw1fGT"
      },
      "source": [
        "**Reto 3**\r\n",
        "Interpolación de strings"
      ]
    },
    {
      "cell_type": "markdown",
      "metadata": {
        "id": "glu0Hk3O1h8Q"
      },
      "source": [
        "Interpolación fstring. escribir la información con los lenguajes.\r\n",
        "\r\n",
        "nombre_1 = \"Jenny\"\r\n",
        "nombre_2 = \"Marco P.\"\r\n",
        "\r\n",
        "edad_1 = 110\r\n",
        "edad_2 = 42\r\n",
        "\r\n",
        "estrella_1 = \"Woopsie Doopsies\"\r\n",
        "estrella_2 = \"Omega-3\"\r\n",
        "estrella_3 = \"Justin Bieber\"\r\n",
        "estrella_4 = \"La Twinkle\"\r\n",
        "estrella_5 = \"Rosaberta\"\r\n",
        "\r\n",
        "total_de_nombres_de_estrellas_mencionados = 5\r\n",
        "numero_de_estrellas_deseadas = 325\r\n",
        "\r\n",
        "Imprimir:\r\n",
        "\"Marco P. y Jenny son grandes amigues. Les mejores. Van y vienen juntes desde hace décadas. Sí, décadas. Marco P. tiene 110 años y Jenny 42. Si sumas sus edades, obtienes 152, que curiosamente es el número de estrellas que Marco P. y Jenny han nombrado juntes. Sus estrellas son su mayor fascinación. Las compraron en Best Buy en una ganga de objetos celestes. Están 'Woopsie Doopsies', 'Omega-3', 'Justin Bieber', 'La Twinkle', 'Rosaberta' y otras 147 estrellas más. Marco P. y Jenny tienen planeado sobrevivir hasta el siglo XXII. ¡Cuántas estrellas más habrán de comprar y nombrar juntes! Su meta es 325. Sólo faltan 173. ¡Vamos Marco P. y Jenny! Marco P. y Jenny son les mejores amigues. No hay duda alguna.\"\r\n",
        "\r\n",
        "Recuerda utilizar TODAS las variables que hemos asignado. También, todos los números que aparezcan en el texto deben de ser variables interpoladas u operaciones aritméticas. Ningún número puede ser una string simple."
      ]
    },
    {
      "cell_type": "code",
      "metadata": {
        "colab": {
          "base_uri": "https://localhost:8080/"
        },
        "id": "B-PMPBLj2LGp",
        "outputId": "819b46f3-8c8b-42d1-8029-991e3a55b9c1"
      },
      "source": [
        "nom_1 = \"Jenny\"\r\n",
        "nom_2 = \"Marco P.\"\r\n",
        "edad_1 = 110\r\n",
        "edad_2 = 42\r\n",
        "star_1 = \"Woopsie Doopsies\"\r\n",
        "star_2 = \"Omega-3\"\r\n",
        "star_3 = \"Justin Bieber\"\r\n",
        "star_4 = \"La Twinkle\"\r\n",
        "star_5 = \"Rosaberta\"\r\n",
        "tot_names = 5\r\n",
        "num_stars = 325\r\n",
        "\r\n",
        "print(f\"{nom_2} y {nom_1} son grandes amigos. Los mejores. Van y vienen juntos desde décadas. {nom_1} tiene {edad_1} y {nom_2} {edad_2}. Si sumas sus edades obtienes {edad_1 + edad_2}, que curiosamente es el número de estrellas que {nom_1} y {nom_2} han nombrado juntos. Sus estrellas son su mayr fascinación. Las compraron en Best Buy. Están {star_1}, {star_2}, {star_3}, {star_4}, {star_5} y otras {edad_1+ edad_2 - tot_names}\")"
      ],
      "execution_count": 34,
      "outputs": [
        {
          "output_type": "stream",
          "text": [
            "Marco P. y Jenny son grandes amigos. Los mejores. Van y vienen juntos desde décadas. Jenny tiene 110 y Marco P. 42. Si sumas sus edades obtienes 152, que curiosamente es el número de estrellas que Jenny y Marco P. han nombrado juntos. Sus estrellas son su mayr fascinación. Las compraron en Best Buy. Están Woopsie Doopsies, Omega-3, Justin Bieber, La Twinkle, Rosaberta y otras 147\n"
          ],
          "name": "stdout"
        }
      ]
    },
    {
      "cell_type": "markdown",
      "metadata": {
        "id": "9aEvG1SJ6Vgy"
      },
      "source": [
        "**Ejemplo 6**\r\n",
        "Booleanos\r\n",
        "\r\n",
        "\r\n",
        "1.   \\>\r\n",
        "2.   \\<\r\n",
        "3.   \\<= o >=\r\n",
        "4.   ==\r\n",
        "\r\n",
        "\r\n",
        "\r\n"
      ]
    },
    {
      "cell_type": "code",
      "metadata": {
        "colab": {
          "base_uri": "https://localhost:8080/"
        },
        "id": "Y8u-BYp56vRi",
        "outputId": "0e31ef3e-ef27-4c12-f5c1-5595c8a89529"
      },
      "source": [
        "#Asignación\r\n",
        "edad = 18\r\n",
        "edad>= 18"
      ],
      "execution_count": 35,
      "outputs": [
        {
          "output_type": "execute_result",
          "data": {
            "text/plain": [
              "True"
            ]
          },
          "metadata": {
            "tags": []
          },
          "execution_count": 35
        }
      ]
    },
    {
      "cell_type": "code",
      "metadata": {
        "colab": {
          "base_uri": "https://localhost:8080/"
        },
        "id": "KxhC-TrE65F3",
        "outputId": "043c88a3-7eaa-44c0-a605-3ca80c803704"
      },
      "source": [
        "#Revisar condición\r\n",
        "edad == 18"
      ],
      "execution_count": 36,
      "outputs": [
        {
          "output_type": "execute_result",
          "data": {
            "text/plain": [
              "True"
            ]
          },
          "metadata": {
            "tags": []
          },
          "execution_count": 36
        }
      ]
    },
    {
      "cell_type": "code",
      "metadata": {
        "colab": {
          "base_uri": "https://localhost:8080/"
        },
        "id": "cTABk50369nn",
        "outputId": "5e752fef-5b9e-412c-f988-e0fb4570b29a"
      },
      "source": [
        "edad != 18"
      ],
      "execution_count": 37,
      "outputs": [
        {
          "output_type": "execute_result",
          "data": {
            "text/plain": [
              "False"
            ]
          },
          "metadata": {
            "tags": []
          },
          "execution_count": 37
        }
      ]
    },
    {
      "cell_type": "code",
      "metadata": {
        "colab": {
          "base_uri": "https://localhost:8080/"
        },
        "id": "hR_zmCbB7Aat",
        "outputId": "2bbb50e4-9689-40ab-b782-0fa4c87cc498"
      },
      "source": [
        "#Probar con strings\r\n",
        "nombre = \"Atenea\"\r\n",
        "nombre == \"Maria\""
      ],
      "execution_count": 38,
      "outputs": [
        {
          "output_type": "execute_result",
          "data": {
            "text/plain": [
              "False"
            ]
          },
          "metadata": {
            "tags": []
          },
          "execution_count": 38
        }
      ]
    },
    {
      "cell_type": "code",
      "metadata": {
        "colab": {
          "base_uri": "https://localhost:8080/"
        },
        "id": "Ol2ILk1o7Iax",
        "outputId": "cde87c5f-42e5-41ae-c20f-e521e76c2463"
      },
      "source": [
        "#Diferencia entre tipos de datos\r\n",
        "\"18\" == 18"
      ],
      "execution_count": 39,
      "outputs": [
        {
          "output_type": "execute_result",
          "data": {
            "text/plain": [
              "False"
            ]
          },
          "metadata": {
            "tags": []
          },
          "execution_count": 39
        }
      ]
    },
    {
      "cell_type": "code",
      "metadata": {
        "colab": {
          "base_uri": "https://localhost:8080/"
        },
        "id": "eev6_MUw7ufE",
        "outputId": "d4982a1f-37bc-4b54-cf2d-a2e013d7c6a7"
      },
      "source": [
        "#Convertir a número entero para comparar\r\n",
        "int(\"18\") == 18"
      ],
      "execution_count": 41,
      "outputs": [
        {
          "output_type": "execute_result",
          "data": {
            "text/plain": [
              "True"
            ]
          },
          "metadata": {
            "tags": []
          },
          "execution_count": 41
        }
      ]
    },
    {
      "cell_type": "markdown",
      "metadata": {
        "id": "RU4jrWiQ779G"
      },
      "source": [
        "**Reto 4**\r\n",
        "Operadores de comparación\r\n",
        "\r\n",
        "A continuación tienes algunas comparaciones que se encuentran incompletas, junto con el resultado que se espera de dicha comparación. Agrega los operadores de comparación adecuados, en medio de las variables, para que al correr las celdas se obtengan los Resultados esperados. Para este reto, los operadores == y != no están permitidos.\r\n",
        "\r\n",
        "var_1 var_3  # Resultado esperado: False\r\n",
        "\r\n",
        "var_1 var_4 # Resultado esperado: True\r\n",
        "\r\n",
        "var_2 var_7  # Resultado esperado: True\r\n",
        "\r\n",
        "var_8 var_6  # Resultado esperado: True\r\n",
        "\r\n",
        "var_3 var_5  # Resultado esperado: False\r\n",
        "\r\n",
        "var_1 var_3  # Resultado esperado: True\r\n",
        "\r\n",
        "var_5 var_4  # Resultado esperado: False\r\n",
        "\r\n",
        "var_3 var_5  # Resultado esperado: True"
      ]
    },
    {
      "cell_type": "code",
      "metadata": {
        "id": "rEr9ct7B8QfE"
      },
      "source": [
        "var_1 = 3\r\n",
        "var_2 = 5\r\n",
        "var_3 = 9\r\n",
        "var_4 = 1\r\n",
        "var_5 = 9\r\n",
        "var_6 = -6\r\n",
        "var_7 = 5\r\n",
        "var_8 = 4"
      ],
      "execution_count": 43,
      "outputs": []
    },
    {
      "cell_type": "code",
      "metadata": {
        "colab": {
          "base_uri": "https://localhost:8080/"
        },
        "id": "OIb2sNJo82FC",
        "outputId": "80af88a9-a69b-47a6-a392-3f83cc5b9db6"
      },
      "source": [
        "var_1 > var_4"
      ],
      "execution_count": 44,
      "outputs": [
        {
          "output_type": "execute_result",
          "data": {
            "text/plain": [
              "True"
            ]
          },
          "metadata": {
            "tags": []
          },
          "execution_count": 44
        }
      ]
    },
    {
      "cell_type": "code",
      "metadata": {
        "colab": {
          "base_uri": "https://localhost:8080/"
        },
        "id": "jfIKYoS489lr",
        "outputId": "eaeb57d6-85b5-40a0-b100-047792ec33b1"
      },
      "source": [
        "var_2 < var_5"
      ],
      "execution_count": 46,
      "outputs": [
        {
          "output_type": "execute_result",
          "data": {
            "text/plain": [
              "True"
            ]
          },
          "metadata": {
            "tags": []
          },
          "execution_count": 46
        }
      ]
    },
    {
      "cell_type": "code",
      "metadata": {
        "colab": {
          "base_uri": "https://localhost:8080/"
        },
        "id": "QQf-KmCv9CWy",
        "outputId": "065763d6-382d-4d27-f3cd-15453db46554"
      },
      "source": [
        "var_2 >= var_7"
      ],
      "execution_count": 50,
      "outputs": [
        {
          "output_type": "execute_result",
          "data": {
            "text/plain": [
              "True"
            ]
          },
          "metadata": {
            "tags": []
          },
          "execution_count": 50
        }
      ]
    },
    {
      "cell_type": "code",
      "metadata": {
        "colab": {
          "base_uri": "https://localhost:8080/"
        },
        "id": "V82HIaEN9Vp7",
        "outputId": "cd01d0e0-176f-4788-f643-13ef5271a2ec"
      },
      "source": [
        "var_8 > var_6"
      ],
      "execution_count": 48,
      "outputs": [
        {
          "output_type": "execute_result",
          "data": {
            "text/plain": [
              "True"
            ]
          },
          "metadata": {
            "tags": []
          },
          "execution_count": 48
        }
      ]
    },
    {
      "cell_type": "code",
      "metadata": {
        "colab": {
          "base_uri": "https://localhost:8080/"
        },
        "id": "xPqgdTNK9dpN",
        "outputId": "9b5f0faf-bb3c-4f7b-906d-6634667ed7db"
      },
      "source": [
        "var_3 > var_5"
      ],
      "execution_count": 51,
      "outputs": [
        {
          "output_type": "execute_result",
          "data": {
            "text/plain": [
              "False"
            ]
          },
          "metadata": {
            "tags": []
          },
          "execution_count": 51
        }
      ]
    },
    {
      "cell_type": "code",
      "metadata": {
        "colab": {
          "base_uri": "https://localhost:8080/"
        },
        "id": "uyPbydKN9lvw",
        "outputId": "07ebdd94-53a6-48dd-92fd-5e0f29ef357a"
      },
      "source": [
        "var_1 < var_3"
      ],
      "execution_count": 52,
      "outputs": [
        {
          "output_type": "execute_result",
          "data": {
            "text/plain": [
              "True"
            ]
          },
          "metadata": {
            "tags": []
          },
          "execution_count": 52
        }
      ]
    },
    {
      "cell_type": "code",
      "metadata": {
        "colab": {
          "base_uri": "https://localhost:8080/"
        },
        "id": "laPBHd0r-VwU",
        "outputId": "6c78ac39-4e6a-4cf6-b3fa-b96532d70953"
      },
      "source": [
        "var_5 < var_4"
      ],
      "execution_count": 54,
      "outputs": [
        {
          "output_type": "execute_result",
          "data": {
            "text/plain": [
              "False"
            ]
          },
          "metadata": {
            "tags": []
          },
          "execution_count": 54
        }
      ]
    },
    {
      "cell_type": "code",
      "metadata": {
        "colab": {
          "base_uri": "https://localhost:8080/"
        },
        "id": "ghg9jL3X-jID",
        "outputId": "d64540b2-a6d1-483d-f359-52e3df026381"
      },
      "source": [
        "var_3 == var_5"
      ],
      "execution_count": 55,
      "outputs": [
        {
          "output_type": "execute_result",
          "data": {
            "text/plain": [
              "True"
            ]
          },
          "metadata": {
            "tags": []
          },
          "execution_count": 55
        }
      ]
    },
    {
      "cell_type": "markdown",
      "metadata": {
        "id": "uMC2qdcM-mwT"
      },
      "source": [
        "**Ejemplo 7**\r\n",
        "Estructuras de control\r\n",
        "\r\n",
        "(I) Palabras reservadas"
      ]
    },
    {
      "cell_type": "code",
      "metadata": {
        "colab": {
          "base_uri": "https://localhost:8080/"
        },
        "id": "bNPQhmbf_LT_",
        "outputId": "db71d6b8-39fb-4bc2-b8df-1d612e260cd1"
      },
      "source": [
        "edad = 20\r\n",
        "if edad >= 18:\r\n",
        "  print(\"Puedes votar\")\r\n",
        "elif edad == 17:\r\n",
        "  print(\"tramita tu credencial para votar\")\r\n",
        "else:\r\n",
        "  print(\"No puedes votar\")\r\n",
        "\r\n",
        "print(\"Adios\")\r\n",
        "#También se pueden utilizar and/or\r\n",
        "# elif edad >=16 and edad < 18:\r\n",
        "#De igual forma, se puede expresar de manera más matemática, aunque no lo acepta en otros lenguajes\r\n",
        "# elif 16 < edad < 18:"
      ],
      "execution_count": 57,
      "outputs": [
        {
          "output_type": "stream",
          "text": [
            "Puedes votar\n",
            "Adios\n"
          ],
          "name": "stdout"
        }
      ]
    },
    {
      "cell_type": "markdown",
      "metadata": {
        "id": "_oxGX-i0ByYw"
      },
      "source": [
        "**Reto 5**\r\n",
        "Estructuras de control\r\n",
        "\r\n",
        "Total de ventas anuales en pesos y lo tenemos asignado a la variable ventas_anuales_totales\r\n",
        "\r\n",
        "Ventas mayores a \\$1,000,000 el bono será de 20% del sueldo; \r\n",
        "\r\n",
        "si son entre \\$700,000 y \\$1,000,000 el bono será de 15% del sueldo; \r\n",
        "\r\n",
        "entre \\$400,000 y \\$700,000 el bono será de 10% del sueldo; \r\n",
        "\r\n",
        "entre \\$100,00 y \\400,000 el bono será de 5% del sueldo; \r\n",
        "\r\n",
        "y debajo de \\$100,000 el bono será del 1% del sueldo."
      ]
    },
    {
      "cell_type": "code",
      "metadata": {
        "colab": {
          "base_uri": "https://localhost:8080/"
        },
        "id": "T7Pgi0srCMLp",
        "outputId": "54d65627-ca72-4ff3-afd1-5b8ef3468d16"
      },
      "source": [
        "ventas_anuales_totales = 5000000\r\n",
        "sueldo = 5000\r\n",
        "if ventas_anuales_totales >= 1000000:\r\n",
        "  bono = .20\r\n",
        "elif ventas_anuales_totales >= 700000 and ventas_anuales_totales < 1000000:\r\n",
        "  bono = .15\r\n",
        "elif ventas_anuales_totales >= 400000 and ventas_anuales_totales < 700000:\r\n",
        "  bono = .10\r\n",
        "elif ventas_anuales_totales >= 100000 and ventas_anuales_totales < 400000:\r\n",
        "  bono = .05\r\n",
        "else: \r\n",
        "  bono = .01\r\n",
        "sueldo_bono = sueldo + sueldo * bono \r\n",
        "\r\n",
        "print(f\"Felicidades, tu sueldo es {sueldo}, tu bono es de {bono}, y el total de sueldo con el bono incluido es de {sueldo_bono}\")"
      ],
      "execution_count": 66,
      "outputs": [
        {
          "output_type": "stream",
          "text": [
            "Felicidades, tu sueldo es 5000, tu bono es de 0.2, y el total de sueldo con el bono incluido es de 6000.0\n"
          ],
          "name": "stdout"
        }
      ]
    }
  ]
}