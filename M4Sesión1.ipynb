{
  "nbformat": 4,
  "nbformat_minor": 0,
  "metadata": {
    "colab": {
      "name": "M4Sesión1.ipynb",
      "provenance": [],
      "mount_file_id": "19NSmUru0G7iFBWcRGlrkpWtHzVTPVyUT",
      "authorship_tag": "ABX9TyPQW4G4iOzAiZ0Zl2AhSpLb",
      "include_colab_link": true
    },
    "kernelspec": {
      "name": "python3",
      "display_name": "Python 3"
    },
    "language_info": {
      "name": "python"
    }
  },
  "cells": [
    {
      "cell_type": "markdown",
      "metadata": {
        "id": "view-in-github",
        "colab_type": "text"
      },
      "source": [
        "<a href=\"https://colab.research.google.com/github/AteneaCB/Python/blob/main/M4Sesi%C3%B3n1.ipynb\" target=\"_parent\"><img src=\"https://colab.research.google.com/assets/colab-badge.svg\" alt=\"Open In Colab\"/></a>"
      ]
    },
    {
      "cell_type": "markdown",
      "metadata": {
        "id": "79IsXTTEA1zJ"
      },
      "source": [
        "## **Módulo 4**\n",
        "\n",
        "**Sesión 1**\n",
        "Estimados de Locación y Variabilidad\n",
        "\n",
        "1. Datos estructurados:\n",
        "- Numéricos\n",
        "  - Discretos: enteros\n",
        "  - Contínuos: intervalos\n",
        "- Categóricos\n",
        "  - Binarios : Y/N, True/False, etc.\n",
        "  - Ordinales: mayor-menor, mejor-peor, etc.\n",
        "\n",
        "\n",
        "2. Datos no estructurados"
      ]
    },
    {
      "cell_type": "markdown",
      "metadata": {
        "id": "ThMXlNIbDXwE"
      },
      "source": [
        "**Reto 1**\n",
        "Datos estructurados\n",
        "\n",
        "**a) Identificando datos estructurados**\n",
        "A continuación verás varias muestras de datos y sus descripciones. Asígnales una de las categorías de datos estructurados que acabas de aprender. Después, comparte tus hipótesis con la experta y con tus compañeros.\n"
      ]
    },
    {
      "cell_type": "code",
      "metadata": {
        "id": "7JrUDDuPAy6Q"
      },
      "source": [
        "#Muestra 1. Extraída de un conjunto de datos que contiene edades de personas\n",
        "edades = pd.Series([23, 34, 4, 45, 52, 59, 23, 48, 50, 49, 3, 4, 6, 8, 79, 6, 40, 17, 34, 4, 67, 97, 87, 65, 24, 4, 46])\n",
        "\n",
        "#Muestra 2. Extraída de un conjunto de datos que contiene evaluaciones de restaurantes hechas por usuarios de una app\n",
        "evaluaciones = pd.Series([1, 4, 2, 2, 3, 5, 4, 4, 4, 5, 1, 2, 2, 3, 5, 2, 4, 3, 3, 1, 5, 5, 2, 4, 3, 3, 4, 4, 5, 1, 2])\n",
        "\n",
        "#Muestra 3. Extraída de un conjunto de datos que contiene códigos de respuesta HTTP obtenidos al realizar llamadas constantes a una API\n",
        "codigos = pd.Series([400, 400, 200, 200, 201, 200, 201, 400, 201, 404, 400, 200, 200, 201, 200, 201, 201, 500, 400, 200])\n",
        "\n",
        "#Muestra 4. Extraída de un conjunto de datos que contiene mediciones precisas de temperaturas ambientales hechas durante un verano de la CDMX\n",
        "temperaturas = pd.Series([22.45, 21.34, 20.23, 20.34, 25.54, 24.34, 18.23, 19.35, 18.24, 25.5, 24.33, 20.19, 21.45, 22.45])\n",
        "\n",
        "#Muestra 5. Extraída de un conjunto de datos que contiene resultados de una encuesta cuyas únicas posibles respuestas eran \"sí\" y \"no\"\n",
        "encuesta = pd.Series([0, 0, 1, 1, 1, 0, 1, 0, 0, 0, 1, 1, 1, 0, 0, 0, 1, 0, 1, 1, 1, 1, 0, 0, 0, 1, 0, 1, 0, 1, 0, 0])"
      ],
      "execution_count": null,
      "outputs": []
    },
    {
      "cell_type": "markdown",
      "metadata": {
        "id": "gbSFOMxmEHds"
      },
      "source": [
        "Muestra 1: edades\n",
        "Numérico discreto\n",
        "\n",
        "Muestra 2: calificaciones\n",
        "Categórico ordinal\n",
        "\n",
        "Muestra 3: códigos de error\n",
        "Categórico ordinal: tiene orden explícito.\n",
        "Nota: si calculáramos la media, aunque es posible hacerlo, la respuesta no tendría sentido.\n",
        "\n",
        "Muestra 4: temperaturas\n",
        "Numérico contínuo\n",
        "\n",
        "Muestra 5: respuestas sí o no\n",
        "Catgórico binario"
      ]
    },
    {
      "cell_type": "markdown",
      "metadata": {
        "id": "DExPWFwJGZWV"
      },
      "source": [
        "**Ejemplo 1**\n",
        "Estimados de Locación\n",
        "\n",
        "- Aprender a calcular estimados de locación utilizando `pandas`."
      ]
    },
    {
      "cell_type": "code",
      "metadata": {
        "colab": {
          "base_uri": "https://localhost:8080/",
          "height": 333
        },
        "id": "YU0xhzRsG7KY",
        "outputId": "d0bf2890-c69e-4f9d-815b-f0232e0663c1"
      },
      "source": [
        "#Librerías\n",
        "import pandas as pd\n",
        "\n",
        "#DataFrame\n",
        "df = pd.read_csv('https://raw.githubusercontent.com/beduExpert/B2-Analisis-de-Datos-con-Python-2020-Santander/main/Datasets/melbourne_housing-clean.csv', index_col=0)\n",
        "\n",
        "df.head()"
      ],
      "execution_count": 2,
      "outputs": [
        {
          "output_type": "execute_result",
          "data": {
            "text/html": [
              "<div>\n",
              "<style scoped>\n",
              "    .dataframe tbody tr th:only-of-type {\n",
              "        vertical-align: middle;\n",
              "    }\n",
              "\n",
              "    .dataframe tbody tr th {\n",
              "        vertical-align: top;\n",
              "    }\n",
              "\n",
              "    .dataframe thead th {\n",
              "        text-align: right;\n",
              "    }\n",
              "</style>\n",
              "<table border=\"1\" class=\"dataframe\">\n",
              "  <thead>\n",
              "    <tr style=\"text-align: right;\">\n",
              "      <th></th>\n",
              "      <th>suburb</th>\n",
              "      <th>address</th>\n",
              "      <th>rooms</th>\n",
              "      <th>type</th>\n",
              "      <th>price</th>\n",
              "      <th>method</th>\n",
              "      <th>seller_g</th>\n",
              "      <th>date</th>\n",
              "      <th>distance</th>\n",
              "      <th>postcode</th>\n",
              "      <th>bedroom_2</th>\n",
              "      <th>bathroom</th>\n",
              "      <th>car</th>\n",
              "      <th>land_size</th>\n",
              "      <th>council_area</th>\n",
              "      <th>latitude</th>\n",
              "      <th>longitude</th>\n",
              "      <th>region_name</th>\n",
              "      <th>property_count</th>\n",
              "    </tr>\n",
              "  </thead>\n",
              "  <tbody>\n",
              "    <tr>\n",
              "      <th>0</th>\n",
              "      <td>Abbotsford</td>\n",
              "      <td>85 Turner St</td>\n",
              "      <td>2</td>\n",
              "      <td>h</td>\n",
              "      <td>1480000.0</td>\n",
              "      <td>S</td>\n",
              "      <td>Biggin</td>\n",
              "      <td>3/12/2016</td>\n",
              "      <td>2.5</td>\n",
              "      <td>3067.0</td>\n",
              "      <td>2.0</td>\n",
              "      <td>1.0</td>\n",
              "      <td>1.0</td>\n",
              "      <td>202.0</td>\n",
              "      <td>Yarra</td>\n",
              "      <td>-37.7996</td>\n",
              "      <td>144.9984</td>\n",
              "      <td>Northern Metropolitan</td>\n",
              "      <td>4019.0</td>\n",
              "    </tr>\n",
              "    <tr>\n",
              "      <th>1</th>\n",
              "      <td>Abbotsford</td>\n",
              "      <td>25 Bloomburg St</td>\n",
              "      <td>2</td>\n",
              "      <td>h</td>\n",
              "      <td>1035000.0</td>\n",
              "      <td>S</td>\n",
              "      <td>Biggin</td>\n",
              "      <td>4/02/2016</td>\n",
              "      <td>2.5</td>\n",
              "      <td>3067.0</td>\n",
              "      <td>2.0</td>\n",
              "      <td>1.0</td>\n",
              "      <td>0.0</td>\n",
              "      <td>156.0</td>\n",
              "      <td>Yarra</td>\n",
              "      <td>-37.8079</td>\n",
              "      <td>144.9934</td>\n",
              "      <td>Northern Metropolitan</td>\n",
              "      <td>4019.0</td>\n",
              "    </tr>\n",
              "    <tr>\n",
              "      <th>2</th>\n",
              "      <td>Abbotsford</td>\n",
              "      <td>5 Charles St</td>\n",
              "      <td>3</td>\n",
              "      <td>h</td>\n",
              "      <td>1465000.0</td>\n",
              "      <td>SP</td>\n",
              "      <td>Biggin</td>\n",
              "      <td>4/03/2017</td>\n",
              "      <td>2.5</td>\n",
              "      <td>3067.0</td>\n",
              "      <td>3.0</td>\n",
              "      <td>2.0</td>\n",
              "      <td>0.0</td>\n",
              "      <td>134.0</td>\n",
              "      <td>Yarra</td>\n",
              "      <td>-37.8093</td>\n",
              "      <td>144.9944</td>\n",
              "      <td>Northern Metropolitan</td>\n",
              "      <td>4019.0</td>\n",
              "    </tr>\n",
              "    <tr>\n",
              "      <th>3</th>\n",
              "      <td>Abbotsford</td>\n",
              "      <td>40 Federation La</td>\n",
              "      <td>3</td>\n",
              "      <td>h</td>\n",
              "      <td>850000.0</td>\n",
              "      <td>PI</td>\n",
              "      <td>Biggin</td>\n",
              "      <td>4/03/2017</td>\n",
              "      <td>2.5</td>\n",
              "      <td>3067.0</td>\n",
              "      <td>3.0</td>\n",
              "      <td>2.0</td>\n",
              "      <td>1.0</td>\n",
              "      <td>94.0</td>\n",
              "      <td>Yarra</td>\n",
              "      <td>-37.7969</td>\n",
              "      <td>144.9969</td>\n",
              "      <td>Northern Metropolitan</td>\n",
              "      <td>4019.0</td>\n",
              "    </tr>\n",
              "    <tr>\n",
              "      <th>4</th>\n",
              "      <td>Abbotsford</td>\n",
              "      <td>55a Park St</td>\n",
              "      <td>4</td>\n",
              "      <td>h</td>\n",
              "      <td>1600000.0</td>\n",
              "      <td>VB</td>\n",
              "      <td>Nelson</td>\n",
              "      <td>4/06/2016</td>\n",
              "      <td>2.5</td>\n",
              "      <td>3067.0</td>\n",
              "      <td>3.0</td>\n",
              "      <td>1.0</td>\n",
              "      <td>2.0</td>\n",
              "      <td>120.0</td>\n",
              "      <td>Yarra</td>\n",
              "      <td>-37.8072</td>\n",
              "      <td>144.9941</td>\n",
              "      <td>Northern Metropolitan</td>\n",
              "      <td>4019.0</td>\n",
              "    </tr>\n",
              "  </tbody>\n",
              "</table>\n",
              "</div>"
            ],
            "text/plain": [
              "       suburb           address  ...            region_name property_count\n",
              "0  Abbotsford      85 Turner St  ...  Northern Metropolitan         4019.0\n",
              "1  Abbotsford   25 Bloomburg St  ...  Northern Metropolitan         4019.0\n",
              "2  Abbotsford      5 Charles St  ...  Northern Metropolitan         4019.0\n",
              "3  Abbotsford  40 Federation La  ...  Northern Metropolitan         4019.0\n",
              "4  Abbotsford       55a Park St  ...  Northern Metropolitan         4019.0\n",
              "\n",
              "[5 rows x 19 columns]"
            ]
          },
          "metadata": {
            "tags": []
          },
          "execution_count": 2
        }
      ]
    },
    {
      "cell_type": "code",
      "metadata": {
        "colab": {
          "base_uri": "https://localhost:8080/"
        },
        "id": "Prm23L9qHMu9",
        "outputId": "0eb58f93-0bff-44a8-e886-bd43b9d65ecf"
      },
      "source": [
        "#Valor típico o media\n",
        "df['price'].mean()"
      ],
      "execution_count": 3,
      "outputs": [
        {
          "output_type": "execute_result",
          "data": {
            "text/plain": [
              "1068141.895071269"
            ]
          },
          "metadata": {
            "tags": []
          },
          "execution_count": 3
        }
      ]
    },
    {
      "cell_type": "code",
      "metadata": {
        "colab": {
          "base_uri": "https://localhost:8080/"
        },
        "id": "wp8QFIAPMJxq",
        "outputId": "96abd6c1-6e2c-4258-a8d1-b528928abc92"
      },
      "source": [
        "promedio = sum(df['price'])/df['price'].count()\n",
        "promedio"
      ],
      "execution_count": 8,
      "outputs": [
        {
          "output_type": "execute_result",
          "data": {
            "text/plain": [
              "1068141.895071269"
            ]
          },
          "metadata": {
            "tags": []
          },
          "execution_count": 8
        }
      ]
    },
    {
      "cell_type": "code",
      "metadata": {
        "colab": {
          "base_uri": "https://localhost:8080/"
        },
        "id": "pNYWJnNPIJnF",
        "outputId": "6bac3ec9-9004-4e4a-a5d0-0ac501c898e5"
      },
      "source": [
        "df.dtypes"
      ],
      "execution_count": 4,
      "outputs": [
        {
          "output_type": "execute_result",
          "data": {
            "text/plain": [
              "suburb             object\n",
              "address            object\n",
              "rooms               int64\n",
              "type               object\n",
              "price             float64\n",
              "method             object\n",
              "seller_g           object\n",
              "date               object\n",
              "distance          float64\n",
              "postcode          float64\n",
              "bedroom_2         float64\n",
              "bathroom          float64\n",
              "car               float64\n",
              "land_size         float64\n",
              "council_area       object\n",
              "latitude          float64\n",
              "longitude         float64\n",
              "region_name        object\n",
              "property_count    float64\n",
              "dtype: object"
            ]
          },
          "metadata": {
            "tags": []
          },
          "execution_count": 4
        }
      ]
    },
    {
      "cell_type": "code",
      "metadata": {
        "colab": {
          "base_uri": "https://localhost:8080/"
        },
        "id": "ItGsJHTBJSIU",
        "outputId": "44f5a28b-2220-429c-8870-376974a6f4d7"
      },
      "source": [
        "#Mediana\n",
        "df['price'].median()"
      ],
      "execution_count": 5,
      "outputs": [
        {
          "output_type": "execute_result",
          "data": {
            "text/plain": [
              "895500.0"
            ]
          },
          "metadata": {
            "tags": []
          },
          "execution_count": 5
        }
      ]
    },
    {
      "cell_type": "code",
      "metadata": {
        "colab": {
          "base_uri": "https://localhost:8080/"
        },
        "id": "AVwGWe28OTd9",
        "outputId": "8da4b3f3-270b-4828-c764-90fb6d9fd2d2"
      },
      "source": [
        "mediana = df['price'].count()/2\n",
        "mediana"
      ],
      "execution_count": 13,
      "outputs": [
        {
          "output_type": "execute_result",
          "data": {
            "text/plain": [
              "5823.0"
            ]
          },
          "metadata": {
            "tags": []
          },
          "execution_count": 13
        }
      ]
    },
    {
      "cell_type": "markdown",
      "metadata": {
        "id": "WxeBZRPiKC8N"
      },
      "source": [
        "**Reto 2**\n",
        "Estimados de locación\n",
        "\n",
        "- Implementar los algoritmos para obtener estimados de locación sin utilizar los métodos builtin de pandas."
      ]
    },
    {
      "cell_type": "markdown",
      "metadata": {
        "id": "HMvnyvaIKYF3"
      },
      "source": [
        "**a) Implementando estimados de locación**\n",
        "\n",
        "Este Reto va a consistir en implementar el promedio y la mediana sin utilizar los métodos mean y median que vienen incluidos en pandas. Implementar algoritmos desde 0 es una excelente práctica que nos ayuda a entenderlos mejor y recordarlos con más precisión.\n",
        "\n",
        "Puedes utilizar pandas y otras funciones vectorizadas o de reducción. Las únicas funciones que no están permitidas son mean y median. Las dos funciones que vas a crear deben recibir una serie de pandas y regresar un solo número."
      ]
    },
    {
      "cell_type": "code",
      "metadata": {
        "id": "Lt25g0BsKbvW"
      },
      "source": [
        "def promedio_custom(serie):\n",
        "    return serie.sum() / serie.count()\n",
        "    pass"
      ],
      "execution_count": 31,
      "outputs": []
    },
    {
      "cell_type": "code",
      "metadata": {
        "id": "Q1oBWabQKy00"
      },
      "source": [
        "def mediana_custom(serie):\n",
        "    #Ordenar\n",
        "    serie_sort = serie.sort_values(ascending=True)\n",
        "    serie_sort.count()\n",
        "    if serie_sort.count() % 2 == 0:\n",
        "        bottom = int(serie_sort.count()/ 2)\n",
        "        top = bottom + 1\n",
        "        return (serie_sort.iloc[bottom]+ serie_sort[top])/ 2\n",
        "    else:\n",
        "        m = serie_sort.count()//2\n",
        "        return serie_sort.iloc[m]\n",
        "    pass"
      ],
      "execution_count": 40,
      "outputs": []
    },
    {
      "cell_type": "markdown",
      "metadata": {
        "id": "nUqiDmQnKccj"
      },
      "source": [
        "**b) Estimados de locación de diámetros de meteoritos**\n",
        "\n",
        "Dataset: 'near_earth_objects-jan_feb_1995-clean.csv'\n",
        "Columna: 'estimated_diameter.meters.estimated_diameter_max'. Esta columna contiene el diámetro máximo estimado de cada objeto.\n",
        "\n",
        "El reto es el siguiente:\n",
        "1. Lee el dataset usando pandas.\n",
        "1. Obtén el promedio y la mediana usando tus funciones custom y asígnalas a promedio_diametro y mediana_diametro.\n",
        "1. Corre la celda que contiene el código para verificar tus resultados.\n",
        "1. Responde la pregunta que te regresa la función de verificación."
      ]
    },
    {
      "cell_type": "code",
      "metadata": {
        "id": "Zz4EVykoK2YM"
      },
      "source": [
        "# Lee el dataset y asígnalo a esta variable\n",
        "\n",
        "df_meteoritos = pd.read_csv('https://raw.githubusercontent.com/beduExpert/B2-Analisis-de-Datos-con-Python-2020-Santander/main/Datasets/near_earth_objects-jan_feb_1995-clean.csv')"
      ],
      "execution_count": 25,
      "outputs": []
    },
    {
      "cell_type": "code",
      "metadata": {
        "colab": {
          "base_uri": "https://localhost:8080/",
          "height": 333
        },
        "id": "G1_y28G4NdYO",
        "outputId": "6909c1e2-245e-4ecb-87c9-7c7cc5cb8a3b"
      },
      "source": [
        "df_meteoritos.head()"
      ],
      "execution_count": 26,
      "outputs": [
        {
          "output_type": "execute_result",
          "data": {
            "text/html": [
              "<div>\n",
              "<style scoped>\n",
              "    .dataframe tbody tr th:only-of-type {\n",
              "        vertical-align: middle;\n",
              "    }\n",
              "\n",
              "    .dataframe tbody tr th {\n",
              "        vertical-align: top;\n",
              "    }\n",
              "\n",
              "    .dataframe thead th {\n",
              "        text-align: right;\n",
              "    }\n",
              "</style>\n",
              "<table border=\"1\" class=\"dataframe\">\n",
              "  <thead>\n",
              "    <tr style=\"text-align: right;\">\n",
              "      <th></th>\n",
              "      <th>Unnamed: 0</th>\n",
              "      <th>id</th>\n",
              "      <th>name</th>\n",
              "      <th>is_potentially_hazardous_asteroid</th>\n",
              "      <th>estimated_diameter.meters.estimated_diameter_min</th>\n",
              "      <th>estimated_diameter.meters.estimated_diameter_max</th>\n",
              "      <th>close_approach_date</th>\n",
              "      <th>epoch_date_close_approach</th>\n",
              "      <th>orbiting_body</th>\n",
              "      <th>relative_velocity.kilometers_per_second</th>\n",
              "      <th>relative_velocity.kilometers_per_hour</th>\n",
              "    </tr>\n",
              "  </thead>\n",
              "  <tbody>\n",
              "    <tr>\n",
              "      <th>0</th>\n",
              "      <td>0</td>\n",
              "      <td>2154652</td>\n",
              "      <td>154652 (2004 EP20)</td>\n",
              "      <td>False</td>\n",
              "      <td>483.676488</td>\n",
              "      <td>1081.533507</td>\n",
              "      <td>1995-01-07</td>\n",
              "      <td>789467580000</td>\n",
              "      <td>Earth</td>\n",
              "      <td>16.142864</td>\n",
              "      <td>58114.308667</td>\n",
              "    </tr>\n",
              "    <tr>\n",
              "      <th>1</th>\n",
              "      <td>1</td>\n",
              "      <td>3153509</td>\n",
              "      <td>(2003 HM)</td>\n",
              "      <td>True</td>\n",
              "      <td>96.506147</td>\n",
              "      <td>215.794305</td>\n",
              "      <td>1995-01-07</td>\n",
              "      <td>789491340000</td>\n",
              "      <td>Earth</td>\n",
              "      <td>12.351044</td>\n",
              "      <td>44463.757734</td>\n",
              "    </tr>\n",
              "    <tr>\n",
              "      <th>2</th>\n",
              "      <td>2</td>\n",
              "      <td>3516633</td>\n",
              "      <td>(2010 HA)</td>\n",
              "      <td>False</td>\n",
              "      <td>44.111820</td>\n",
              "      <td>98.637028</td>\n",
              "      <td>1995-01-07</td>\n",
              "      <td>789446820000</td>\n",
              "      <td>Earth</td>\n",
              "      <td>6.220435</td>\n",
              "      <td>22393.567277</td>\n",
              "    </tr>\n",
              "    <tr>\n",
              "      <th>3</th>\n",
              "      <td>3</td>\n",
              "      <td>3837644</td>\n",
              "      <td>(2019 AY3)</td>\n",
              "      <td>False</td>\n",
              "      <td>46.190746</td>\n",
              "      <td>103.285648</td>\n",
              "      <td>1995-01-07</td>\n",
              "      <td>789513900000</td>\n",
              "      <td>Earth</td>\n",
              "      <td>22.478615</td>\n",
              "      <td>80923.015021</td>\n",
              "    </tr>\n",
              "    <tr>\n",
              "      <th>4</th>\n",
              "      <td>4</td>\n",
              "      <td>3843493</td>\n",
              "      <td>(2019 PY)</td>\n",
              "      <td>False</td>\n",
              "      <td>22.108281</td>\n",
              "      <td>49.435619</td>\n",
              "      <td>1995-01-07</td>\n",
              "      <td>789446700000</td>\n",
              "      <td>Earth</td>\n",
              "      <td>4.998691</td>\n",
              "      <td>17995.288355</td>\n",
              "    </tr>\n",
              "  </tbody>\n",
              "</table>\n",
              "</div>"
            ],
            "text/plain": [
              "   Unnamed: 0  ...  relative_velocity.kilometers_per_hour\n",
              "0           0  ...                           58114.308667\n",
              "1           1  ...                           44463.757734\n",
              "2           2  ...                           22393.567277\n",
              "3           3  ...                           80923.015021\n",
              "4           4  ...                           17995.288355\n",
              "\n",
              "[5 rows x 11 columns]"
            ]
          },
          "metadata": {
            "tags": []
          },
          "execution_count": 26
        }
      ]
    },
    {
      "cell_type": "code",
      "metadata": {
        "id": "r9gx4oWCK4lv"
      },
      "source": [
        "promedio_diametro = promedio_custom(df_meteoritos['estimated_diameter.meters.estimated_diameter_max'])"
      ],
      "execution_count": 32,
      "outputs": []
    },
    {
      "cell_type": "code",
      "metadata": {
        "id": "wJkZCWoKK8G8"
      },
      "source": [
        "mediana_diametro = mediana_custom(df_meteoritos['estimated_diameter.meters.estimated_diameter_max'])"
      ],
      "execution_count": 41,
      "outputs": []
    },
    {
      "cell_type": "code",
      "metadata": {
        "colab": {
          "base_uri": "https://localhost:8080/"
        },
        "id": "S6fydPhHLjqt",
        "outputId": "f51fd8eb-bd86-437f-af43-4edad76b6437"
      },
      "source": [
        "# Pídele al experto la función `verificar_resultados` para que puedas correr la siguiente verificación\n",
        "\n",
        "def verificar_resultados(df_meteoritos, promedio_diametro, mediana_diametro):\n",
        "    promedio = df_meteoritos['estimated_diameter.meters.estimated_diameter_max'].mean()\n",
        "    if round(promedio_diametro, 6) != round(promedio, 6):\n",
        "        print(f'El promedio no fue calculado correctamente.')\n",
        "        print(f'Promedio esperado: {promedio}; Promedio recibido: {promedio_diametro}')\n",
        "        return\n",
        "        \n",
        "\n",
        "    mediana = df_meteoritos['estimated_diameter.meters.estimated_diameter_max'].median()\n",
        "    if mediana_diametro != mediana:\n",
        "        print(f'La mediana no fue calculada correctamente.')\n",
        "        print(f'Mediana esperada: {mediana}; Mediana recibida: {mediana_diametro}')\n",
        "        return\n",
        "        \n",
        "    print(f'Los estimados fueron calcualados correctamente.\\n')\n",
        "    print(f'El promedio calculado fue de {promedio_diametro} mientras que la mediana fue de {mediana_diametro}.')\n",
        "    print(f'¿A qué le atribuyes tú la diferencia?')\n",
        "\n",
        "verificar_resultados(df_meteoritos, promedio_diametro, mediana_diametro)"
      ],
      "execution_count": 42,
      "outputs": [
        {
          "output_type": "stream",
          "text": [
            "Los estimados fueron calcualados correctamente.\n",
            "\n",
            "El promedio calculado fue de 410.08604223976545 mientras que la mediana fue de 215.7943048444.\n",
            "¿A qué le atribuyes tú la diferencia?\n"
          ],
          "name": "stdout"
        }
      ]
    },
    {
      "cell_type": "markdown",
      "metadata": {
        "id": "bjN2-eSEPKGt"
      },
      "source": [
        "**Ejemplo 2**\n",
        "Media Truncada\n",
        "\n",
        "- Aprender a estimar la media truncada usando scipy: Scientific Python\n",
        "\n",
        "La media truncada es un estimado de locación más robusto que el promedio y la mediana. Esto significa que es menos sensible a valores atípicos. La media truncada se obtiene de la siguiente manera:\n",
        "\n",
        "11. Primero ordenamos nuestro conjunto de manera ascendente.\n",
        "1. Después decidimos qué porcentaje de nuestros datos vamos a truncar. Los valores más comunes suelen variar entre 5% y 25%.\n",
        "1. Divide el porcentaje acordado entre dos y elimina esa fracción de tus datos del inicio y del final de tu secuencia. Por ejemplo, si decides truncar un 5%, elimina el 2.5% de tus datos del inicio de tu secuencia y el otro 2.5% del final de tu secuencia.\n",
        "1. Obtén el promedio de los valores restantes."
      ]
    },
    {
      "cell_type": "code",
      "metadata": {
        "id": "Rdp85R9YQD89"
      },
      "source": [
        "#Librería scipy\n",
        "from scipy import stats"
      ],
      "execution_count": 14,
      "outputs": []
    },
    {
      "cell_type": "code",
      "metadata": {
        "colab": {
          "base_uri": "https://localhost:8080/"
        },
        "id": "JZ-ZVjhuQKxw",
        "outputId": "16afae15-28e8-4886-f738-8f593cf40143"
      },
      "source": [
        "#Duck typyng: En Python aplican el \"teorema del pato\".\n",
        "#Es decir, si un \"dato\" parece un tipo de dato y si se le pueden aplicar funciones como ese \"tipo de dato\", se toma como \"ese tipo de dato\".\n",
        "\n",
        "#Media truncada\n",
        "stats.trim_mean(df['price'], 0.1)"
      ],
      "execution_count": 15,
      "outputs": [
        {
          "output_type": "execute_result",
          "data": {
            "text/plain": [
              "973653.7960935823"
            ]
          },
          "metadata": {
            "tags": []
          },
          "execution_count": 15
        }
      ]
    },
    {
      "cell_type": "code",
      "metadata": {
        "colab": {
          "base_uri": "https://localhost:8080/"
        },
        "id": "-Qj4gOXYVwQP",
        "outputId": "fe608a79-bdba-4989-d165-537a5a3ba138"
      },
      "source": [
        "#Comparando la media típica con la truncada\n",
        "df['price'].mean()"
      ],
      "execution_count": 16,
      "outputs": [
        {
          "output_type": "execute_result",
          "data": {
            "text/plain": [
              "1068141.895071269"
            ]
          },
          "metadata": {
            "tags": []
          },
          "execution_count": 16
        }
      ]
    },
    {
      "cell_type": "code",
      "metadata": {
        "id": "bamDYOdkQtvZ"
      },
      "source": [
        "#PENDIENTE, conectar drive datasets del curso\n",
        "from google.colab import drive\n",
        "drivedrive.mount['']"
      ],
      "execution_count": null,
      "outputs": []
    },
    {
      "cell_type": "markdown",
      "metadata": {
        "id": "6nrdtMeAZRGT"
      },
      "source": [
        "**Ejemplo 3**\n",
        "Estimados de variabilidad\n",
        "\n",
        "- Aprender cómo se calcula la desviación estándar\n",
        "- Aprender a usar `pandas` para calcularla\n",
        "\n",
        "1. Primero se obtiene el promedio de nuestros datos.\n",
        "1. Después sacamos todas las diferencias entre cada valor de nuesrto conjunto y nuestro valor típico.\n",
        "1. Después elevamos todos los resultados al cuadrado.\n",
        "1. Luego se suman todos estos valores.\n",
        "1. Luego se dividen entre la cantidad de valores - 1.\n",
        "1. Finalmente se saca la raíz cuadrada del valor resultante.\n",
        "\n",
        "pandas tiene un método con el que podemos calcular la desviación estándar rápidamente:"
      ]
    },
    {
      "cell_type": "code",
      "metadata": {
        "colab": {
          "base_uri": "https://localhost:8080/"
        },
        "id": "_ZWPm94ZaRbs",
        "outputId": "4ee39c95-3c76-4063-9c86-64f2f384b13a"
      },
      "source": [
        "#Nota: Siempre revisar en la documentación de la librería que utilicemos, si el cálculo de la desviación estandar es de la muestra o la población\n",
        "#Es decir, si después de dividir los valores les resta 1\n",
        "\n",
        "df['price'].std()"
      ],
      "execution_count": 17,
      "outputs": [
        {
          "output_type": "execute_result",
          "data": {
            "text/plain": [
              "643728.1914372866"
            ]
          },
          "metadata": {
            "tags": []
          },
          "execution_count": 17
        }
      ]
    },
    {
      "cell_type": "code",
      "metadata": {
        "colab": {
          "base_uri": "https://localhost:8080/"
        },
        "id": "ATbB9XKEbcoD",
        "outputId": "1bd4109f-4296-4b23-c06d-083eea00eae4"
      },
      "source": [
        "#COmparar con mínimos y máximos para apreciar si la desviación estándar es grande o pequeña.\n",
        "df['price'].min()"
      ],
      "execution_count": 18,
      "outputs": [
        {
          "output_type": "execute_result",
          "data": {
            "text/plain": [
              "85000.0"
            ]
          },
          "metadata": {
            "tags": []
          },
          "execution_count": 18
        }
      ]
    },
    {
      "cell_type": "code",
      "metadata": {
        "colab": {
          "base_uri": "https://localhost:8080/"
        },
        "id": "b1Pzr5nPbgXY",
        "outputId": "553edc95-d30e-4ff6-fa64-b83f1bb299cf"
      },
      "source": [
        "df['price'].max()"
      ],
      "execution_count": 19,
      "outputs": [
        {
          "output_type": "execute_result",
          "data": {
            "text/plain": [
              "9000000.0"
            ]
          },
          "metadata": {
            "tags": []
          },
          "execution_count": 19
        }
      ]
    },
    {
      "cell_type": "markdown",
      "metadata": {
        "id": "NCTlWFfNb4hX"
      },
      "source": [
        "**Reto 3**\n",
        "Desviación estándar\n",
        "\n",
        "- Utilizar la desviación estándar para realizar un análisis de dispersión de nuestros datos"
      ]
    },
    {
      "cell_type": "markdown",
      "metadata": {
        "id": "ve0z726jcJPf"
      },
      "source": [
        "**a) Desviación estándar y distribución de los datos**\n",
        "\n",
        "1. Crea un DataFrame con el dataset 'near_earth_objects-jan_feb_1995-clean.csv'.\n",
        "1. Obtén la cantidad total de muestras en tu DataFrame.\n",
        "1. Obtén la desviación estándar de la columna 'estimated_diameter.meters.estimated_diameter_max'. Los siguientes pasos realízalos todos utilizando esta columna.\n",
        "1. Obtén el porcentaje de muestras que están a una distancia de 1 desviación estándar del promedio.\n",
        "1. Obtén el porcentaje de muestras que están a una distancia de 2 desviaciones estándares del promedio.\n",
        "1. Obtén el porcentaje de muestras que están a una distancia de 3 desviaciones estándares del promedio.\n",
        "1. Compara los porcentajes obtenidos y comenta con tus compañeros y la experta tus hallazgos.\n",
        "\n",
        "¿Qué significa esto? ¿La definición de desviación estándar tiene sentido? ¿Qué puedo inferir acerca de la dispersión de mis datos a partir de los valores obtenidos?"
      ]
    },
    {
      "cell_type": "code",
      "metadata": {
        "colab": {
          "base_uri": "https://localhost:8080/"
        },
        "id": "xglFqN24cIpA",
        "outputId": "9a966532-ffc7-49bb-efd4-5e650b8c9c6d"
      },
      "source": [
        "df_meteoritos.count()"
      ],
      "execution_count": 20,
      "outputs": [
        {
          "output_type": "execute_result",
          "data": {
            "text/plain": [
              "Unnamed: 0                                          333\n",
              "id                                                  333\n",
              "name                                                333\n",
              "is_potentially_hazardous_asteroid                   333\n",
              "estimated_diameter.meters.estimated_diameter_min    333\n",
              "estimated_diameter.meters.estimated_diameter_max    333\n",
              "close_approach_date                                 333\n",
              "epoch_date_close_approach                           333\n",
              "orbiting_body                                       333\n",
              "relative_velocity.kilometers_per_second             333\n",
              "relative_velocity.kilometers_per_hour               333\n",
              "dtype: int64"
            ]
          },
          "metadata": {
            "tags": []
          },
          "execution_count": 20
        }
      ]
    },
    {
      "cell_type": "code",
      "metadata": {
        "colab": {
          "base_uri": "https://localhost:8080/"
        },
        "id": "oOCoJuz4dVU7",
        "outputId": "93649004-aaca-4c47-c5d6-e707b97a5892"
      },
      "source": [
        "#3. Obtén la desviación estándar de la columna 'estimated_diameter.meters.estimated_diameter_max'\n",
        "df_meteoritos['estimated_diameter.meters.estimated_diameter_max'].std()"
      ],
      "execution_count": 22,
      "outputs": [
        {
          "output_type": "execute_result",
          "data": {
            "text/plain": [
              "614.691591855223"
            ]
          },
          "metadata": {
            "tags": []
          },
          "execution_count": 22
        }
      ]
    },
    {
      "cell_type": "code",
      "metadata": {
        "id": "LJHfhsrZjDLb"
      },
      "source": [
        "total = len(df_meteoritos)  #También puede calcularse con shape[0]\n",
        "media_tipica = df_meteoritos['estimated_diameter.meters.estimated_diameter_max'].mean()\n",
        "std = df_meteoritos['estimated_diameter.meters.estimated_diameter_max'].std()"
      ],
      "execution_count": 45,
      "outputs": []
    },
    {
      "cell_type": "code",
      "metadata": {
        "id": "CMGgPjS7dkQI"
      },
      "source": [
        "#4. Obtén el porcentaje de muestras que están a una distancia de 1 desviación estándar del promedio\n",
        "df_meteoritos()"
      ],
      "execution_count": null,
      "outputs": []
    },
    {
      "cell_type": "code",
      "metadata": {
        "id": "uOtDZ5IYd5F9"
      },
      "source": [
        "#5. Obtén el porcentaje de muestras que están a una distancia de 2 desviaciones estándar del promedio\n",
        "df_meteoritos()"
      ],
      "execution_count": null,
      "outputs": []
    },
    {
      "cell_type": "code",
      "metadata": {
        "id": "gF2MYPsAlRT0"
      },
      "source": [
        "#6. Obtén el porcentaje de muestras que están a una distancia de 2 desviaciones estándar del promedio\n",
        "df_meteoritos()"
      ],
      "execution_count": null,
      "outputs": []
    },
    {
      "cell_type": "markdown",
      "metadata": {
        "id": "QrPX9Qv2lTF4"
      },
      "source": [
        "**Ejemplo 4**\n",
        "Estadísticos de orden\n",
        "\n",
        "- Rango: valor mayor - valor menor\n",
        "- Percentiles: \n",
        "- Rango intercuartil"
      ]
    },
    {
      "cell_type": "code",
      "metadata": {
        "colab": {
          "base_uri": "https://localhost:8080/"
        },
        "id": "UwKegjfUljnn",
        "outputId": "aeb429f9-b372-4e3f-c9f6-5cdfd81d3601"
      },
      "source": [
        "#Rango\n",
        "df['price'].max() - df['price'].min()"
      ],
      "execution_count": 46,
      "outputs": [
        {
          "output_type": "execute_result",
          "data": {
            "text/plain": [
              "8915000.0"
            ]
          },
          "metadata": {
            "tags": []
          },
          "execution_count": 46
        }
      ]
    },
    {
      "cell_type": "code",
      "metadata": {
        "colab": {
          "base_uri": "https://localhost:8080/"
        },
        "id": "CzoNDyZvlu3B",
        "outputId": "d6dffd24-f893-4176-f9f6-164406278242"
      },
      "source": [
        "#Percentiles\n",
        "df['price'].quantile(.25)\n",
        "#Con pandas se señala el porcentaje que representa el cuantile que se busca.\n",
        "# 0.25 = cuartil 1"
      ],
      "execution_count": 47,
      "outputs": [
        {
          "output_type": "execute_result",
          "data": {
            "text/plain": [
              "640000.0"
            ]
          },
          "metadata": {
            "tags": []
          },
          "execution_count": 47
        }
      ]
    },
    {
      "cell_type": "code",
      "metadata": {
        "colab": {
          "base_uri": "https://localhost:8080/"
        },
        "id": "dPXayiSumQCV",
        "outputId": "e2936662-b96c-4d29-9964-a23ffea51640"
      },
      "source": [
        "#Rango intercuartil\n",
        "df['price'].quantile(0.75) - df['price'].quantile(0.25)"
      ],
      "execution_count": 49,
      "outputs": [
        {
          "output_type": "execute_result",
          "data": {
            "text/plain": [
              "685000.0"
            ]
          },
          "metadata": {
            "tags": []
          },
          "execution_count": 49
        }
      ]
    },
    {
      "cell_type": "markdown",
      "metadata": {
        "id": "tpscg4MDnrj_"
      },
      "source": [
        "Reto 4\n",
        "\n"
      ]
    },
    {
      "cell_type": "markdown",
      "metadata": {
        "id": "MmCw2-Z5nzlE"
      },
      "source": [
        "**a) Percentiles para evaluar la dispersión de nuestros datos**\n",
        "\n",
        "Usando percentiles, obtén información acerca de cuál es el valor donde están concentrados nuestros datos y cómo está configurada su dispersión. Entre más percentiles utilices, obtienes una descripción más detallada, pero como el dataset es muy pequeño, no necesitas tanta granularidad."
      ]
    },
    {
      "cell_type": "code",
      "metadata": {
        "id": "XnzMIsp8ny7Q"
      },
      "source": [
        "#Series\n",
        "serie_1 = pd.Series([1, 1, 1, 1, 1, 2, 2, 2, 2, 2, 2, 3, 3, 3, 3, 3, 3, 3, 4, 4, 4, 4, 4, 4, 4, 4, 5, 5, 5, 5, 5, 5, 5, 5, 5, 5, 5, 6, 6, 6, 6, 6, 6, 6, 6, 7, 7, 7, 7, 7, 7, 7, 7, 7, 8, 8, 8, 8, 8, 8, 8, 9, 9, 9, 9, 9, 9, 10, 10, 10, 10, 10])\n",
        "serie_2 = pd.Series([1, 1, 1, 2, 2, 2, 2, 2, 3, 3, 3, 3, 4, 4, 4, 4, 4, 4, 5, 5, 5, 5, 5, 5, 6, 6, 6, 6, 6, 6, 6, 6, 6, 6, 6, 6, 7, 7, 7, 7, 7, 7, 7, 7, 7, 7, 7, 7, 7, 7, 7, 7, 7, 7, 8, 8, 8, 8, 8, 8, 8, 8, 8, 8, 8, 8, 8, 8, 8, 8, 8, 8, 8, 8, 8, 8, 8, 8, 8, 9, 9, 9, 9, 9, 9, 9, 9, 9, 9, 10, 10, 10, 10, 10, 10, 10, 10, 10, 10])\n",
        "serie_3 = pd.Series([1, 1, 2, 2, 2, 3, 3, 3, 4, 4, 4, 4, 4, 4, 4, 4, 4, 4, 4, 4, 4, 4, 4, 5, 5, 5, 5, 5, 5, 5, 5, 5, 5, 5, 5, 5, 5, 5, 5, 5, 5, 5, 5, 5, 5, 5, 5, 5, 5, 5, 5, 5, 5, 5, 5, 5, 5, 5, 5, 5, 5, 5, 5, 5, 5, 5, 5, 5, 6, 6, 6, 6, 6, 6, 6, 6, 6, 6, 6, 6, 6, 6, 6, 6, 6, 6, 6, 6, 6, 6, 6, 6, 6, 6, 6, 6, 6, 6, 6, 6, 6, 6, 6, 6, 7, 7, 7, 7, 7, 7, 7, 7, 7, 7, 7, 7, 7, 7, 7, 7, 7, 7, 8, 8, 8, 8, 9, 9, 9, 10, 10])\n",
        "serie_4 = pd.Series([1, 1, 1, 1, 1, 1, 1, 2, 2, 2, 2, 2, 2, 2, 2, 2, 2, 2, 2, 2, 2, 2, 2, 2, 2, 3, 3, 3, 3, 3, 3, 3, 3, 3, 3, 3, 3, 3, 3, 3, 3, 3, 3, 3, 3, 3, 3, 3, 3, 3, 3, 3, 4, 4, 4, 4, 4, 4, 4, 4, 4, 4, 4, 4, 4, 4, 5, 5, 5, 5, 5, 5, 5, 5, 5, 6, 6, 6, 6, 6, 6, 6, 7, 7, 7, 7, 7, 8, 8, 8, 8, 8, 9, 9, 9, 9, 10, 10, 10])"
      ],
      "execution_count": 50,
      "outputs": []
    },
    {
      "cell_type": "code",
      "metadata": {
        "colab": {
          "base_uri": "https://localhost:8080/"
        },
        "id": "W2AzkxW9pIqX",
        "outputId": "950e2911-1984-4d3b-87c5-5d4f69d1e9e2"
      },
      "source": [
        "#Serie 1\n",
        "print(\"Serie 1\")\n",
        "print(f'Valor mínimo, percentil 0: {serie_1.min()} ')\n",
        "print(f'Percentil 25: {serie_1.quantile(.25)}')\n",
        "print(f'Media, percentil 50: {serie_1.mean()}')\n",
        "print(f'Percentil 75: {serie_1.quantile(.75)}')\n",
        "print(f'Valor máximo, percentil 100: {serie_1.max()}')\n",
        "print(f'Rango intercuartílico: {serie_1.quantile(0.75) - serie_1.quantile(0.25)}')"
      ],
      "execution_count": 52,
      "outputs": [
        {
          "output_type": "stream",
          "text": [
            "Serie 1\n",
            "Valor mínimo, percentil 0: 1 \n",
            "Percentil 25: 3.75\n",
            "Media, percentil 50: 5.5\n",
            "Percentil 75: 7.25\n",
            "Valor máximo, percentil 100: 10\n",
            "Rango intercuartílico: 3.5\n"
          ],
          "name": "stdout"
        }
      ]
    },
    {
      "cell_type": "code",
      "metadata": {
        "colab": {
          "base_uri": "https://localhost:8080/"
        },
        "id": "VxEku_EBu1Jz",
        "outputId": "1a593aa3-2610-4303-c6b7-d0db26ed6194"
      },
      "source": [
        "#Serie 2\n",
        "print(\"Serie 2\")\n",
        "print(f'Valor mínimo, percentil 0: {serie_2.min()} ')\n",
        "print(f'Percentil 25: {serie_2.quantile(.25)}')\n",
        "print(f'Media, percentil 50: {serie_2.mean()}')\n",
        "print(f'Percentil 75: {serie_2.quantile(.75)}')\n",
        "print(f'Valor máximo, percentil 100: {serie_2.max()}')\n",
        "print(f'Rango intercuartílico: {serie_2.quantile(0.75) - serie_2.quantile(0.25)}')"
      ],
      "execution_count": 53,
      "outputs": [
        {
          "output_type": "stream",
          "text": [
            "Serie 2\n",
            "Valor mínimo, percentil 0: 1 \n",
            "Percentil 25: 6.0\n",
            "Media, percentil 50: 6.737373737373737\n",
            "Percentil 75: 8.0\n",
            "Valor máximo, percentil 100: 10\n",
            "Rango intercuartílico: 2.0\n"
          ],
          "name": "stdout"
        }
      ]
    },
    {
      "cell_type": "code",
      "metadata": {
        "colab": {
          "base_uri": "https://localhost:8080/"
        },
        "id": "uvdNRa5-vBgl",
        "outputId": "3ead1b2f-b23e-4ae2-ed8a-f4870d6ce110"
      },
      "source": [
        "#Serie 3\n",
        "print(\"Serie 3\")\n",
        "print(f'Valor mínimo, percentil 0: {serie_3.min()} ')\n",
        "print(f'Percentil 25: {serie_3.quantile(.25)}')\n",
        "print(f'Media, percentil 50: {serie_3.mean()}')\n",
        "print(f'Percentil 75: {serie_3.quantile(.75)}')\n",
        "print(f'Valor máximo, percentil 100: {serie_3.max()}')\n",
        "print(f'Rango intercuartílico: {serie_3.quantile(0.75) - serie_3.quantile(0.25)}')"
      ],
      "execution_count": 54,
      "outputs": [
        {
          "output_type": "stream",
          "text": [
            "Serie 3\n",
            "Valor mínimo, percentil 0: 1 \n",
            "Percentil 25: 5.0\n",
            "Media, percentil 50: 5.519083969465649\n",
            "Percentil 75: 6.0\n",
            "Valor máximo, percentil 100: 10\n",
            "Rango intercuartílico: 1.0\n"
          ],
          "name": "stdout"
        }
      ]
    },
    {
      "cell_type": "code",
      "metadata": {
        "colab": {
          "base_uri": "https://localhost:8080/"
        },
        "id": "0QvqGmKNojfc",
        "outputId": "1775a339-e9b9-47a4-df1c-552a394ce0b0"
      },
      "source": [
        "#Serie 4\n",
        "print(\"Serie 4\")\n",
        "print(f'Valor mínimo, percentil 0: {serie_4.min()} ')\n",
        "print(f'Percentil 25: {serie_4.quantile(.25)}')\n",
        "print(f'Media, percentil 50: {serie_4.mean()}')\n",
        "print(f'Percentil 75: {serie_4.quantile(.75)}')\n",
        "print(f'Valor máximo, percentil 100: {serie_4.max()}')\n",
        "print(f'Rango intercuartílico: {serie_4.quantile(0.75) - serie_4.quantile(0.25)}')"
      ],
      "execution_count": 55,
      "outputs": [
        {
          "output_type": "stream",
          "text": [
            "Serie 4\n",
            "Valor mínimo, percentil 0: 1 \n",
            "Percentil 25: 2.5\n",
            "Media, percentil 50: 4.121212121212121\n",
            "Percentil 75: 5.0\n",
            "Valor máximo, percentil 100: 10\n",
            "Rango intercuartílico: 2.5\n"
          ],
          "name": "stdout"
        }
      ]
    },
    {
      "cell_type": "markdown",
      "metadata": {
        "id": "vq18rQ1_oIIy"
      },
      "source": [
        "**b) Percentiles para evaluar nuestro dataset de meteoritos**\n",
        "\n",
        "Lee el dataset 'near_earth_objects-jan_feb_1995-clean.csv' y obtén percentiles de la columna 'estimated_diameter.meters.estimated_diameter_max'. Comenta con tus compañeros y con la experta tus hallazgos y tus hipótesis acerca de qué podemos aprender sobre la organización de nuestros datos usando los percentiles."
      ]
    }
  ]
}